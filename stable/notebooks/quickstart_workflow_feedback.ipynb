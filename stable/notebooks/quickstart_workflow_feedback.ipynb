{
 "cells": [
  {
   "cell_type": "markdown",
   "id": "9ba716c0",
   "metadata": {},
   "source": [
    "<div class=\"alert alert-info\">\n",
    "\n",
    "Note\n",
    "    \n",
    "This tutorial demonstrates a sample usage for `FeedbackDataset`, which offers implementations different from the old `TextClassificationDataset`, `Text2TextDataset` and `TokenClassificationDataset`. To have info about old datasets, you can have a look at them [here]([../getting_started/quickstart_workflow.html](https://docs.argilla.io/en/latest/getting_started/quickstart_workflow.html)). Not sure which dataset to use? Check out our section on [choosing a dataset](https://docs.argilla.io/en/latest/practical_guides/choose_dataset.html).\n",
    "    \n",
    "</div>"
   ]
  },
  {
   "cell_type": "markdown",
   "id": "8b1cd645",
   "metadata": {
    "id": "8b1cd645"
   },
   "source": [
    "# Extralit Quickstart Workflow\n",
    "\n",
    "This notebook demonstrates the key steps in using Extralit for scientific literature review and data extraction."
   ]
  },
  {
   "cell_type": "markdown",
   "id": "fbc7acc7",
   "metadata": {},
   "source": [
    "## Install Libraries\n",
    "\n",
    "Install the latest version of Argilla in Colab, along with other libraries and models used in this notebook."
   ]
  },
  {
   "cell_type": "code",
   "execution_count": 5,
   "id": "f808bb22",
   "metadata": {},
   "outputs": [
    {
     "name": "stdout",
     "output_type": "stream",
     "text": [
      "Requirement already satisfied: extralit in /Users/jonny/micromamba/envs/extralit/lib/python3.9/site-packages (0.2.0)\n",
      "Requirement already satisfied: pandas in /Users/jonny/micromamba/envs/extralit/lib/python3.9/site-packages (2.2.2)\n",
      "Requirement already satisfied: plotly in /Users/jonny/micromamba/envs/extralit/lib/python3.9/site-packages (5.23.0)\n",
      "Requirement already satisfied: tqdm in /Users/jonny/micromamba/envs/extralit/lib/python3.9/site-packages (4.66.4)\n",
      "Requirement already satisfied: weaviate-client in /Users/jonny/micromamba/envs/extralit/lib/python3.9/site-packages (4.7.1)\n",
      "Requirement already satisfied: langfuse in /Users/jonny/micromamba/envs/extralit/lib/python3.9/site-packages (2.39.3)\n",
      "Requirement already satisfied: httpx<=0.26,>=0.15 in /Users/jonny/micromamba/envs/extralit/lib/python3.9/site-packages (from extralit) (0.26.0)\n",
      "Requirement already satisfied: deprecated~=1.2.0 in /Users/jonny/micromamba/envs/extralit/lib/python3.9/site-packages (from extralit) (1.2.14)\n",
      "Requirement already satisfied: packaging>=20.0 in /Users/jonny/micromamba/envs/extralit/lib/python3.9/site-packages (from extralit) (23.2)\n",
      "Requirement already satisfied: pydantic>=1.10.7 in /Users/jonny/micromamba/envs/extralit/lib/python3.9/site-packages (from extralit) (2.8.2)\n",
      "Requirement already satisfied: wrapt<1.15,>=1.14 in /Users/jonny/micromamba/envs/extralit/lib/python3.9/site-packages (from extralit) (1.14.1)\n",
      "Requirement already satisfied: numpy<1.27.0 in /Users/jonny/micromamba/envs/extralit/lib/python3.9/site-packages (from extralit) (1.26.4)\n",
      "Requirement already satisfied: backoff in /Users/jonny/micromamba/envs/extralit/lib/python3.9/site-packages (from extralit) (2.2.1)\n",
      "Requirement already satisfied: monotonic in /Users/jonny/micromamba/envs/extralit/lib/python3.9/site-packages (from extralit) (1.6)\n",
      "Requirement already satisfied: rich!=13.1.0 in /Users/jonny/micromamba/envs/extralit/lib/python3.9/site-packages (from extralit) (12.6.0)\n",
      "Requirement already satisfied: typer<0.10.0,>=0.6.0 in /Users/jonny/micromamba/envs/extralit/lib/python3.9/site-packages (from extralit) (0.7.0)\n",
      "Requirement already satisfied: python-dotenv in /Users/jonny/micromamba/envs/extralit/lib/python3.9/site-packages (from extralit) (1.0.1)\n",
      "Requirement already satisfied: minio in /Users/jonny/micromamba/envs/extralit/lib/python3.9/site-packages (from extralit) (7.2.7)\n",
      "Requirement already satisfied: html5lib in /Users/jonny/micromamba/envs/extralit/lib/python3.9/site-packages (from extralit) (1.1)\n",
      "Requirement already satisfied: fastapi<1.0.0 in /Users/jonny/micromamba/envs/extralit/lib/python3.9/site-packages (from extralit) (0.110.3)\n",
      "Requirement already satisfied: pypandoc~=1.13 in /Users/jonny/micromamba/envs/extralit/lib/python3.9/site-packages (from extralit) (1.13)\n",
      "Requirement already satisfied: beautifulsoup4~=4.12.2 in /Users/jonny/micromamba/envs/extralit/lib/python3.9/site-packages (from extralit) (4.12.3)\n",
      "Collecting pandera~=0.19.3 (from pandera[io]~=0.19.3->extralit)\n",
      "  Using cached pandera-0.19.3-py3-none-any.whl.metadata (15 kB)\n",
      "Requirement already satisfied: spacy~=3.7.2 in /Users/jonny/micromamba/envs/extralit/lib/python3.9/site-packages (from extralit) (3.7.5)\n",
      "Requirement already satisfied: pyarrow==14.* in /Users/jonny/micromamba/envs/extralit/lib/python3.9/site-packages (from extralit) (14.0.2)\n",
      "Requirement already satisfied: natsort~=8.4.0 in /Users/jonny/micromamba/envs/extralit/lib/python3.9/site-packages (from extralit) (8.4.0)\n",
      "Requirement already satisfied: rapidfuzz~=3.8.1 in /Users/jonny/micromamba/envs/extralit/lib/python3.9/site-packages (from extralit) (3.8.1)\n",
      "Requirement already satisfied: dill~=0.3.8 in /Users/jonny/micromamba/envs/extralit/lib/python3.9/site-packages (from extralit) (0.3.8)\n",
      "Requirement already satisfied: json-repair~=0.19.2 in /Users/jonny/micromamba/envs/extralit/lib/python3.9/site-packages (from extralit) (0.19.2)\n",
      "Requirement already satisfied: fastparquet in /Users/jonny/micromamba/envs/extralit/lib/python3.9/site-packages (from extralit) (2024.5.0)\n",
      "Requirement already satisfied: tiktoken in /Users/jonny/micromamba/envs/extralit/lib/python3.9/site-packages (from extralit) (0.7.0)\n",
      "Requirement already satisfied: pymupdf in /Users/jonny/micromamba/envs/extralit/lib/python3.9/site-packages (from extralit) (1.24.9)\n",
      "Requirement already satisfied: llama-index~=0.10.40 in /Users/jonny/micromamba/envs/extralit/lib/python3.9/site-packages (from extralit) (0.10.58)\n",
      "Requirement already satisfied: llama-index-core~=0.10.40 in /Users/jonny/micromamba/envs/extralit/lib/python3.9/site-packages (from extralit) (0.10.58)\n",
      "Requirement already satisfied: llama-index-callbacks-langfuse~=0.1.4 in /Users/jonny/micromamba/envs/extralit/lib/python3.9/site-packages (from extralit) (0.1.4)\n",
      "Requirement already satisfied: llama-index-llms-openai in /Users/jonny/micromamba/envs/extralit/lib/python3.9/site-packages (from extralit) (0.1.27)\n",
      "Requirement already satisfied: llama-index-embeddings-openai in /Users/jonny/micromamba/envs/extralit/lib/python3.9/site-packages (from extralit) (0.1.11)\n",
      "Requirement already satisfied: llama-index-multi-modal-llms-openai in /Users/jonny/micromamba/envs/extralit/lib/python3.9/site-packages (from extralit) (0.1.8)\n",
      "Requirement already satisfied: llama-index-vector-stores-weaviate~=1.0.0 in /Users/jonny/micromamba/envs/extralit/lib/python3.9/site-packages (from extralit) (1.0.2)\n",
      "Requirement already satisfied: python-dateutil>=2.8.2 in /Users/jonny/micromamba/envs/extralit/lib/python3.9/site-packages (from pandas) (2.9.0)\n",
      "Requirement already satisfied: pytz>=2020.1 in /Users/jonny/micromamba/envs/extralit/lib/python3.9/site-packages (from pandas) (2024.1)\n",
      "Requirement already satisfied: tzdata>=2022.7 in /Users/jonny/micromamba/envs/extralit/lib/python3.9/site-packages (from pandas) (2024.1)\n",
      "Requirement already satisfied: tenacity>=6.2.0 in /Users/jonny/micromamba/envs/extralit/lib/python3.9/site-packages (from plotly) (8.5.0)\n",
      "Requirement already satisfied: requests<3.0.0,>=2.30.0 in /Users/jonny/micromamba/envs/extralit/lib/python3.9/site-packages (from weaviate-client) (2.32.3)\n",
      "Requirement already satisfied: validators==0.33.0 in /Users/jonny/micromamba/envs/extralit/lib/python3.9/site-packages (from weaviate-client) (0.33.0)\n",
      "Requirement already satisfied: authlib<2.0.0,>=1.2.1 in /Users/jonny/micromamba/envs/extralit/lib/python3.9/site-packages (from weaviate-client) (1.3.1)\n",
      "Requirement already satisfied: grpcio<2.0.0,>=1.57.0 in /Users/jonny/micromamba/envs/extralit/lib/python3.9/site-packages (from weaviate-client) (1.65.1)\n",
      "Requirement already satisfied: grpcio-tools<2.0.0,>=1.57.0 in /Users/jonny/micromamba/envs/extralit/lib/python3.9/site-packages (from weaviate-client) (1.62.2)\n",
      "Requirement already satisfied: grpcio-health-checking<2.0.0,>=1.57.0 in /Users/jonny/micromamba/envs/extralit/lib/python3.9/site-packages (from weaviate-client) (1.62.2)\n",
      "Requirement already satisfied: anyio<5.0.0,>=4.4.0 in /Users/jonny/micromamba/envs/extralit/lib/python3.9/site-packages (from langfuse) (4.4.0)\n",
      "Requirement already satisfied: idna<4.0,>=3.7 in /Users/jonny/micromamba/envs/extralit/lib/python3.9/site-packages (from langfuse) (3.7)\n",
      "Requirement already satisfied: sniffio>=1.1 in /Users/jonny/micromamba/envs/extralit/lib/python3.9/site-packages (from anyio<5.0.0,>=4.4.0->langfuse) (1.3.1)\n",
      "Requirement already satisfied: exceptiongroup>=1.0.2 in /Users/jonny/micromamba/envs/extralit/lib/python3.9/site-packages (from anyio<5.0.0,>=4.4.0->langfuse) (1.2.2)\n",
      "Requirement already satisfied: typing-extensions>=4.1 in /Users/jonny/micromamba/envs/extralit/lib/python3.9/site-packages (from anyio<5.0.0,>=4.4.0->langfuse) (4.12.2)\n",
      "Requirement already satisfied: cryptography in /Users/jonny/micromamba/envs/extralit/lib/python3.9/site-packages (from authlib<2.0.0,>=1.2.1->weaviate-client) (43.0.0)\n",
      "Requirement already satisfied: soupsieve>1.2 in /Users/jonny/micromamba/envs/extralit/lib/python3.9/site-packages (from beautifulsoup4~=4.12.2->extralit) (2.5)\n",
      "Requirement already satisfied: starlette<0.38.0,>=0.37.2 in /Users/jonny/micromamba/envs/extralit/lib/python3.9/site-packages (from fastapi<1.0.0->extralit) (0.37.2)\n",
      "Requirement already satisfied: protobuf>=4.21.6 in /Users/jonny/micromamba/envs/extralit/lib/python3.9/site-packages (from grpcio-health-checking<2.0.0,>=1.57.0->weaviate-client) (4.25.4)\n",
      "Requirement already satisfied: setuptools in /Users/jonny/micromamba/envs/extralit/lib/python3.9/site-packages (from grpcio-tools<2.0.0,>=1.57.0->weaviate-client) (71.0.4)\n",
      "Requirement already satisfied: certifi in /Users/jonny/micromamba/envs/extralit/lib/python3.9/site-packages (from httpx<=0.26,>=0.15->extralit) (2024.7.4)\n",
      "Requirement already satisfied: httpcore==1.* in /Users/jonny/micromamba/envs/extralit/lib/python3.9/site-packages (from httpx<=0.26,>=0.15->extralit) (1.0.5)\n",
      "Requirement already satisfied: h11<0.15,>=0.13 in /Users/jonny/micromamba/envs/extralit/lib/python3.9/site-packages (from httpcore==1.*->httpx<=0.26,>=0.15->extralit) (0.14.0)\n",
      "Requirement already satisfied: llama-index-agent-openai<0.3.0,>=0.1.4 in /Users/jonny/micromamba/envs/extralit/lib/python3.9/site-packages (from llama-index~=0.10.40->extralit) (0.2.9)\n",
      "Requirement already satisfied: llama-index-cli<0.2.0,>=0.1.2 in /Users/jonny/micromamba/envs/extralit/lib/python3.9/site-packages (from llama-index~=0.10.40->extralit) (0.1.13)\n",
      "Requirement already satisfied: llama-index-indices-managed-llama-cloud>=0.2.0 in /Users/jonny/micromamba/envs/extralit/lib/python3.9/site-packages (from llama-index~=0.10.40->extralit) (0.2.7)\n",
      "Requirement already satisfied: llama-index-legacy<0.10.0,>=0.9.48 in /Users/jonny/micromamba/envs/extralit/lib/python3.9/site-packages (from llama-index~=0.10.40->extralit) (0.9.48)\n",
      "Requirement already satisfied: llama-index-program-openai<0.2.0,>=0.1.3 in /Users/jonny/micromamba/envs/extralit/lib/python3.9/site-packages (from llama-index~=0.10.40->extralit) (0.1.7)\n",
      "Requirement already satisfied: llama-index-question-gen-openai<0.2.0,>=0.1.2 in /Users/jonny/micromamba/envs/extralit/lib/python3.9/site-packages (from llama-index~=0.10.40->extralit) (0.1.3)\n",
      "Requirement already satisfied: llama-index-readers-file<0.2.0,>=0.1.4 in /Users/jonny/micromamba/envs/extralit/lib/python3.9/site-packages (from llama-index~=0.10.40->extralit) (0.1.31)\n",
      "Requirement already satisfied: llama-index-readers-llama-parse>=0.1.2 in /Users/jonny/micromamba/envs/extralit/lib/python3.9/site-packages (from llama-index~=0.10.40->extralit) (0.1.6)\n",
      "Requirement already satisfied: PyYAML>=6.0.1 in /Users/jonny/micromamba/envs/extralit/lib/python3.9/site-packages (from llama-index-core~=0.10.40->extralit) (6.0.1)\n",
      "Requirement already satisfied: SQLAlchemy>=1.4.49 in /Users/jonny/micromamba/envs/extralit/lib/python3.9/site-packages (from SQLAlchemy[asyncio]>=1.4.49->llama-index-core~=0.10.40->extralit) (2.0.31)\n",
      "Requirement already satisfied: aiohttp<4.0.0,>=3.8.6 in /Users/jonny/micromamba/envs/extralit/lib/python3.9/site-packages (from llama-index-core~=0.10.40->extralit) (3.9.5)\n",
      "Requirement already satisfied: dataclasses-json in /Users/jonny/micromamba/envs/extralit/lib/python3.9/site-packages (from llama-index-core~=0.10.40->extralit) (0.6.7)\n",
      "Requirement already satisfied: dirtyjson<2.0.0,>=1.0.8 in /Users/jonny/micromamba/envs/extralit/lib/python3.9/site-packages (from llama-index-core~=0.10.40->extralit) (1.0.8)\n",
      "Requirement already satisfied: fsspec>=2023.5.0 in /Users/jonny/micromamba/envs/extralit/lib/python3.9/site-packages (from llama-index-core~=0.10.40->extralit) (2024.3.1)\n",
      "Requirement already satisfied: nest-asyncio<2.0.0,>=1.5.8 in /Users/jonny/micromamba/envs/extralit/lib/python3.9/site-packages (from llama-index-core~=0.10.40->extralit) (1.6.0)\n",
      "Requirement already satisfied: networkx>=3.0 in /Users/jonny/micromamba/envs/extralit/lib/python3.9/site-packages (from llama-index-core~=0.10.40->extralit) (3.2.1)\n",
      "Requirement already satisfied: nltk<4.0.0,>=3.8.1 in /Users/jonny/micromamba/envs/extralit/lib/python3.9/site-packages (from llama-index-core~=0.10.40->extralit) (3.8.1)\n",
      "Requirement already satisfied: openai>=1.1.0 in /Users/jonny/micromamba/envs/extralit/lib/python3.9/site-packages (from llama-index-core~=0.10.40->extralit) (1.37.1)\n",
      "Requirement already satisfied: pillow>=9.0.0 in /Users/jonny/micromamba/envs/extralit/lib/python3.9/site-packages (from llama-index-core~=0.10.40->extralit) (10.4.0)\n",
      "Requirement already satisfied: typing-inspect>=0.8.0 in /Users/jonny/micromamba/envs/extralit/lib/python3.9/site-packages (from llama-index-core~=0.10.40->extralit) (0.9.0)\n",
      "Requirement already satisfied: multimethod<=1.10.0 in /Users/jonny/micromamba/envs/extralit/lib/python3.9/site-packages (from pandera~=0.19.3->pandera[io]~=0.19.3->extralit) (1.10)\n",
      "Requirement already satisfied: typeguard in /Users/jonny/micromamba/envs/extralit/lib/python3.9/site-packages (from pandera~=0.19.3->pandera[io]~=0.19.3->extralit) (4.3.0)\n",
      "Requirement already satisfied: black in /Users/jonny/micromamba/envs/extralit/lib/python3.9/site-packages (from pandera[io]~=0.19.3->extralit) (24.4.2)\n",
      "Requirement already satisfied: frictionless<=4.40.8 in /Users/jonny/micromamba/envs/extralit/lib/python3.9/site-packages (from pandera[io]~=0.19.3->extralit) (4.40.8)\n",
      "Requirement already satisfied: annotated-types>=0.4.0 in /Users/jonny/micromamba/envs/extralit/lib/python3.9/site-packages (from pydantic>=1.10.7->extralit) (0.7.0)\n",
      "Requirement already satisfied: pydantic-core==2.20.1 in /Users/jonny/micromamba/envs/extralit/lib/python3.9/site-packages (from pydantic>=1.10.7->extralit) (2.20.1)\n",
      "Requirement already satisfied: six>=1.5 in /Users/jonny/micromamba/envs/extralit/lib/python3.9/site-packages (from python-dateutil>=2.8.2->pandas) (1.16.0)\n",
      "Requirement already satisfied: charset-normalizer<4,>=2 in /Users/jonny/micromamba/envs/extralit/lib/python3.9/site-packages (from requests<3.0.0,>=2.30.0->weaviate-client) (3.3.2)\n",
      "Requirement already satisfied: urllib3<3,>=1.21.1 in /Users/jonny/micromamba/envs/extralit/lib/python3.9/site-packages (from requests<3.0.0,>=2.30.0->weaviate-client) (1.26.19)\n",
      "Requirement already satisfied: commonmark<0.10.0,>=0.9.0 in /Users/jonny/micromamba/envs/extralit/lib/python3.9/site-packages (from rich!=13.1.0->extralit) (0.9.1)\n",
      "Requirement already satisfied: pygments<3.0.0,>=2.6.0 in /Users/jonny/micromamba/envs/extralit/lib/python3.9/site-packages (from rich!=13.1.0->extralit) (2.18.0)\n",
      "Requirement already satisfied: spacy-legacy<3.1.0,>=3.0.11 in /Users/jonny/micromamba/envs/extralit/lib/python3.9/site-packages (from spacy~=3.7.2->extralit) (3.0.12)\n",
      "Requirement already satisfied: spacy-loggers<2.0.0,>=1.0.0 in /Users/jonny/micromamba/envs/extralit/lib/python3.9/site-packages (from spacy~=3.7.2->extralit) (1.0.5)\n",
      "Requirement already satisfied: murmurhash<1.1.0,>=0.28.0 in /Users/jonny/micromamba/envs/extralit/lib/python3.9/site-packages (from spacy~=3.7.2->extralit) (1.0.10)\n",
      "Requirement already satisfied: cymem<2.1.0,>=2.0.2 in /Users/jonny/micromamba/envs/extralit/lib/python3.9/site-packages (from spacy~=3.7.2->extralit) (2.0.8)\n",
      "Requirement already satisfied: preshed<3.1.0,>=3.0.2 in /Users/jonny/micromamba/envs/extralit/lib/python3.9/site-packages (from spacy~=3.7.2->extralit) (3.0.9)\n",
      "Requirement already satisfied: thinc<8.3.0,>=8.2.2 in /Users/jonny/micromamba/envs/extralit/lib/python3.9/site-packages (from spacy~=3.7.2->extralit) (8.2.5)\n",
      "Requirement already satisfied: wasabi<1.2.0,>=0.9.1 in /Users/jonny/micromamba/envs/extralit/lib/python3.9/site-packages (from spacy~=3.7.2->extralit) (1.1.3)\n",
      "Requirement already satisfied: srsly<3.0.0,>=2.4.3 in /Users/jonny/micromamba/envs/extralit/lib/python3.9/site-packages (from spacy~=3.7.2->extralit) (2.4.8)\n",
      "Requirement already satisfied: catalogue<2.1.0,>=2.0.6 in /Users/jonny/micromamba/envs/extralit/lib/python3.9/site-packages (from spacy~=3.7.2->extralit) (2.0.10)\n",
      "Requirement already satisfied: weasel<0.5.0,>=0.1.0 in /Users/jonny/micromamba/envs/extralit/lib/python3.9/site-packages (from spacy~=3.7.2->extralit) (0.4.1)\n",
      "Requirement already satisfied: jinja2 in /Users/jonny/micromamba/envs/extralit/lib/python3.9/site-packages (from spacy~=3.7.2->extralit) (3.1.4)\n",
      "Requirement already satisfied: langcodes<4.0.0,>=3.2.0 in /Users/jonny/micromamba/envs/extralit/lib/python3.9/site-packages (from spacy~=3.7.2->extralit) (3.4.0)\n",
      "Requirement already satisfied: regex>=2022.1.18 in /Users/jonny/micromamba/envs/extralit/lib/python3.9/site-packages (from tiktoken->extralit) (2024.7.24)\n",
      "Requirement already satisfied: click<9.0.0,>=7.1.1 in /Users/jonny/micromamba/envs/extralit/lib/python3.9/site-packages (from typer<0.10.0,>=0.6.0->extralit) (8.1.7)\n",
      "Requirement already satisfied: cramjam>=2.3 in /Users/jonny/micromamba/envs/extralit/lib/python3.9/site-packages (from fastparquet->extralit) (2.8.3)\n",
      "Requirement already satisfied: webencodings in /Users/jonny/micromamba/envs/extralit/lib/python3.9/site-packages (from html5lib->extralit) (0.5.1)\n",
      "Requirement already satisfied: argon2-cffi in /Users/jonny/micromamba/envs/extralit/lib/python3.9/site-packages (from minio->extralit) (23.1.0)\n",
      "Requirement already satisfied: pycryptodome in /Users/jonny/micromamba/envs/extralit/lib/python3.9/site-packages (from minio->extralit) (3.20.0)\n",
      "Requirement already satisfied: PyMuPDFb==1.24.9 in /Users/jonny/micromamba/envs/extralit/lib/python3.9/site-packages (from pymupdf->extralit) (1.24.9)\n",
      "Requirement already satisfied: aiosignal>=1.1.2 in /Users/jonny/micromamba/envs/extralit/lib/python3.9/site-packages (from aiohttp<4.0.0,>=3.8.6->llama-index-core~=0.10.40->extralit) (1.3.1)\n",
      "Requirement already satisfied: attrs>=17.3.0 in /Users/jonny/micromamba/envs/extralit/lib/python3.9/site-packages (from aiohttp<4.0.0,>=3.8.6->llama-index-core~=0.10.40->extralit) (23.2.0)\n",
      "Requirement already satisfied: frozenlist>=1.1.1 in /Users/jonny/micromamba/envs/extralit/lib/python3.9/site-packages (from aiohttp<4.0.0,>=3.8.6->llama-index-core~=0.10.40->extralit) (1.4.1)\n",
      "Requirement already satisfied: multidict<7.0,>=4.5 in /Users/jonny/micromamba/envs/extralit/lib/python3.9/site-packages (from aiohttp<4.0.0,>=3.8.6->llama-index-core~=0.10.40->extralit) (6.0.5)\n",
      "Requirement already satisfied: yarl<2.0,>=1.0 in /Users/jonny/micromamba/envs/extralit/lib/python3.9/site-packages (from aiohttp<4.0.0,>=3.8.6->llama-index-core~=0.10.40->extralit) (1.9.4)\n",
      "Requirement already satisfied: async-timeout<5.0,>=4.0 in /Users/jonny/micromamba/envs/extralit/lib/python3.9/site-packages (from aiohttp<4.0.0,>=3.8.6->llama-index-core~=0.10.40->extralit) (4.0.3)\n",
      "Requirement already satisfied: petl>=1.6 in /Users/jonny/micromamba/envs/extralit/lib/python3.9/site-packages (from frictionless<=4.40.8->pandera[io]~=0.19.3->extralit) (1.7.15)\n",
      "Requirement already satisfied: marko>=1.0 in /Users/jonny/micromamba/envs/extralit/lib/python3.9/site-packages (from frictionless<=4.40.8->pandera[io]~=0.19.3->extralit) (2.1.2)\n",
      "Requirement already satisfied: isodate>=0.6 in /Users/jonny/micromamba/envs/extralit/lib/python3.9/site-packages (from frictionless<=4.40.8->pandera[io]~=0.19.3->extralit) (0.6.1)\n",
      "Requirement already satisfied: rfc3986>=1.4 in /Users/jonny/micromamba/envs/extralit/lib/python3.9/site-packages (from frictionless<=4.40.8->pandera[io]~=0.19.3->extralit) (2.0.0)\n",
      "Requirement already satisfied: chardet>=3.0 in /Users/jonny/micromamba/envs/extralit/lib/python3.9/site-packages (from frictionless<=4.40.8->pandera[io]~=0.19.3->extralit) (5.2.0)\n",
      "Requirement already satisfied: jsonschema>=2.5 in /Users/jonny/micromamba/envs/extralit/lib/python3.9/site-packages (from frictionless<=4.40.8->pandera[io]~=0.19.3->extralit) (4.23.0)\n",
      "Requirement already satisfied: simpleeval>=0.9.11 in /Users/jonny/micromamba/envs/extralit/lib/python3.9/site-packages (from frictionless<=4.40.8->pandera[io]~=0.19.3->extralit) (0.9.13)\n",
      "Requirement already satisfied: stringcase>=1.2 in /Users/jonny/micromamba/envs/extralit/lib/python3.9/site-packages (from frictionless<=4.40.8->pandera[io]~=0.19.3->extralit) (1.2.0)\n",
      "Requirement already satisfied: python-slugify>=1.2 in /Users/jonny/micromamba/envs/extralit/lib/python3.9/site-packages (from frictionless<=4.40.8->pandera[io]~=0.19.3->extralit) (8.0.4)\n",
      "Requirement already satisfied: tabulate>=0.8.10 in /Users/jonny/micromamba/envs/extralit/lib/python3.9/site-packages (from frictionless<=4.40.8->pandera[io]~=0.19.3->extralit) (0.9.0)\n",
      "Requirement already satisfied: MarkupSafe>=2.0 in /Users/jonny/micromamba/envs/extralit/lib/python3.9/site-packages (from jinja2->spacy~=3.7.2->extralit) (2.1.5)\n",
      "Requirement already satisfied: language-data>=1.2 in /Users/jonny/micromamba/envs/extralit/lib/python3.9/site-packages (from langcodes<4.0.0,>=3.2.0->spacy~=3.7.2->extralit) (1.2.0)\n",
      "Requirement already satisfied: llama-cloud>=0.0.11 in /Users/jonny/micromamba/envs/extralit/lib/python3.9/site-packages (from llama-index-indices-managed-llama-cloud>=0.2.0->llama-index~=0.10.40->extralit) (0.0.11)\n",
      "Requirement already satisfied: pypdf<5.0.0,>=4.0.1 in /Users/jonny/micromamba/envs/extralit/lib/python3.9/site-packages (from llama-index-readers-file<0.2.0,>=0.1.4->llama-index~=0.10.40->extralit) (4.3.1)\n",
      "Requirement already satisfied: striprtf<0.0.27,>=0.0.26 in /Users/jonny/micromamba/envs/extralit/lib/python3.9/site-packages (from llama-index-readers-file<0.2.0,>=0.1.4->llama-index~=0.10.40->extralit) (0.0.26)\n",
      "Requirement already satisfied: llama-parse>=0.4.0 in /Users/jonny/micromamba/envs/extralit/lib/python3.9/site-packages (from llama-index-readers-llama-parse>=0.1.2->llama-index~=0.10.40->extralit) (0.4.9)\n",
      "Requirement already satisfied: joblib in /Users/jonny/micromamba/envs/extralit/lib/python3.9/site-packages (from nltk<4.0.0,>=3.8.1->llama-index-core~=0.10.40->extralit) (1.4.2)\n",
      "Requirement already satisfied: distro<2,>=1.7.0 in /Users/jonny/micromamba/envs/extralit/lib/python3.9/site-packages (from openai>=1.1.0->llama-index-core~=0.10.40->extralit) (1.9.0)\n",
      "Requirement already satisfied: greenlet!=0.4.17 in /Users/jonny/micromamba/envs/extralit/lib/python3.9/site-packages (from SQLAlchemy[asyncio]>=1.4.49->llama-index-core~=0.10.40->extralit) (3.0.3)\n",
      "Requirement already satisfied: blis<0.8.0,>=0.7.8 in /Users/jonny/micromamba/envs/extralit/lib/python3.9/site-packages (from thinc<8.3.0,>=8.2.2->spacy~=3.7.2->extralit) (0.7.11)\n",
      "Requirement already satisfied: confection<1.0.0,>=0.0.1 in /Users/jonny/micromamba/envs/extralit/lib/python3.9/site-packages (from thinc<8.3.0,>=8.2.2->spacy~=3.7.2->extralit) (0.1.5)\n",
      "Requirement already satisfied: mypy-extensions>=0.3.0 in /Users/jonny/micromamba/envs/extralit/lib/python3.9/site-packages (from typing-inspect>=0.8.0->llama-index-core~=0.10.40->extralit) (1.0.0)\n",
      "Requirement already satisfied: cloudpathlib<1.0.0,>=0.7.0 in /Users/jonny/micromamba/envs/extralit/lib/python3.9/site-packages (from weasel<0.5.0,>=0.1.0->spacy~=3.7.2->extralit) (0.18.1)\n",
      "Requirement already satisfied: smart-open<8.0.0,>=5.2.1 in /Users/jonny/micromamba/envs/extralit/lib/python3.9/site-packages (from weasel<0.5.0,>=0.1.0->spacy~=3.7.2->extralit) (7.0.4)\n",
      "Requirement already satisfied: argon2-cffi-bindings in /Users/jonny/micromamba/envs/extralit/lib/python3.9/site-packages (from argon2-cffi->minio->extralit) (21.2.0)\n",
      "Requirement already satisfied: pathspec>=0.9.0 in /Users/jonny/micromamba/envs/extralit/lib/python3.9/site-packages (from black->pandera[io]~=0.19.3->extralit) (0.12.1)\n",
      "Requirement already satisfied: platformdirs>=2 in /Users/jonny/micromamba/envs/extralit/lib/python3.9/site-packages (from black->pandera[io]~=0.19.3->extralit) (4.2.2)\n",
      "Requirement already satisfied: tomli>=1.1.0 in /Users/jonny/micromamba/envs/extralit/lib/python3.9/site-packages (from black->pandera[io]~=0.19.3->extralit) (2.0.1)\n",
      "Requirement already satisfied: cffi>=1.12 in /Users/jonny/micromamba/envs/extralit/lib/python3.9/site-packages (from cryptography->authlib<2.0.0,>=1.2.1->weaviate-client) (1.16.0)\n",
      "Requirement already satisfied: marshmallow<4.0.0,>=3.18.0 in /Users/jonny/micromamba/envs/extralit/lib/python3.9/site-packages (from dataclasses-json->llama-index-core~=0.10.40->extralit) (3.21.3)\n",
      "Requirement already satisfied: importlib-metadata>=3.6 in /Users/jonny/micromamba/envs/extralit/lib/python3.9/site-packages (from typeguard->pandera~=0.19.3->pandera[io]~=0.19.3->extralit) (8.2.0)\n",
      "Requirement already satisfied: pycparser in /Users/jonny/micromamba/envs/extralit/lib/python3.9/site-packages (from cffi>=1.12->cryptography->authlib<2.0.0,>=1.2.1->weaviate-client) (2.22)\n",
      "Requirement already satisfied: zipp>=0.5 in /Users/jonny/micromamba/envs/extralit/lib/python3.9/site-packages (from importlib-metadata>=3.6->typeguard->pandera~=0.19.3->pandera[io]~=0.19.3->extralit) (3.19.2)\n",
      "Requirement already satisfied: jsonschema-specifications>=2023.03.6 in /Users/jonny/micromamba/envs/extralit/lib/python3.9/site-packages (from jsonschema>=2.5->frictionless<=4.40.8->pandera[io]~=0.19.3->extralit) (2023.12.1)\n",
      "Requirement already satisfied: referencing>=0.28.4 in /Users/jonny/micromamba/envs/extralit/lib/python3.9/site-packages (from jsonschema>=2.5->frictionless<=4.40.8->pandera[io]~=0.19.3->extralit) (0.35.1)\n",
      "Requirement already satisfied: rpds-py>=0.7.1 in /Users/jonny/micromamba/envs/extralit/lib/python3.9/site-packages (from jsonschema>=2.5->frictionless<=4.40.8->pandera[io]~=0.19.3->extralit) (0.19.1)\n",
      "Requirement already satisfied: marisa-trie>=0.7.7 in /Users/jonny/micromamba/envs/extralit/lib/python3.9/site-packages (from language-data>=1.2->langcodes<4.0.0,>=3.2.0->spacy~=3.7.2->extralit) (1.2.0)\n",
      "Requirement already satisfied: text-unidecode>=1.3 in /Users/jonny/micromamba/envs/extralit/lib/python3.9/site-packages (from python-slugify>=1.2->frictionless<=4.40.8->pandera[io]~=0.19.3->extralit) (1.3)\n",
      "Requirement already satisfied: colorama<0.5.0,>=0.4.3 in /Users/jonny/micromamba/envs/extralit/lib/python3.9/site-packages (from typer[all]>=0.5->frictionless<=4.40.8->pandera[io]~=0.19.3->extralit) (0.4.6)\n",
      "Requirement already satisfied: shellingham<2.0.0,>=1.3.0 in /Users/jonny/micromamba/envs/extralit/lib/python3.9/site-packages (from typer[all]>=0.5->frictionless<=4.40.8->pandera[io]~=0.19.3->extralit) (1.5.4)\n",
      "Using cached pandera-0.19.3-py3-none-any.whl (251 kB)\n",
      "^C\n",
      "\u001b[31mERROR: Operation cancelled by user\u001b[0m\u001b[31m\n",
      "\u001b[0m"
     ]
    }
   ],
   "source": [
    "!pip install extralit pandas plotly tqdm weaviate-client langfuse"
   ]
  },
  {
   "cell_type": "markdown",
   "id": "EwDfn8E7W7jD",
   "metadata": {
    "id": "EwDfn8E7W7jD"
   },
   "source": [
    "## Set Up Argilla\n",
    "\n",
    "If you have already deployed Argilla Server, then you can skip this step. Otherwise, you can quickly deploy it in two different ways:\n",
    "\n",
    "* You can deploy Argilla Server on [HF Spaces](https://huggingface.co/new-space?template=argilla/argilla-template-space).\n",
    "\n",
    "* Alternatively, if you want to run Argilla locally on your own computer, the easiest way to get Argilla UI up and running is to deploy on Docker:\n",
    "\n",
    "    ```\n",
    "    docker run -d --name quickstart -p 6900:6900 argilla/argilla-quickstart:latest\n",
    "    ```\n",
    "\n",
    "More info on Installation [here](../getting_started/installation/deployments/deployments.html)."
   ]
  },
  {
   "cell_type": "markdown",
   "id": "00b2e199",
   "metadata": {
    "id": "00b2e199"
   },
   "source": [
    "## Connect to Argilla\n",
    "\n"
   ]
  },
  {
   "cell_type": "markdown",
   "id": "a93bc742",
   "metadata": {},
   "source": [
    "It is possible to connect to our Argilla instance by simply importing the Argilla library and using the environment variables and `rg.init()`.\n",
    "\n",
    "* `ARGILLA_API_URL`: It is the url of the Argilla Server.\n",
    "  * If you're using Docker, it is `http://localhost:6900` by default.\n",
    "  * If you're using HF Spaces, it is constructed as `https://[your-owner-name]-[your_space_name].hf.space`.\n",
    "* `ARGILLA_API_KEY`: It is the API key of the Argilla Server. It is `owner` by default.\n",
    "* `HF_TOKEN`: It is the Hugging Face API token. It is only needed if you're using a [private HF Space](https://docs.argilla.io/en/latest/getting_started/installation/deployments/huggingface-spaces.html#deploy-argilla-on-spaces). You can configure it in your profile: [Setting > Access Tokens](https://huggingface.co/settings/tokens).\n",
    "* `workspace`: It is a “space” inside your Argilla instance where authorized users can collaborate. It's `argilla` by default.\n",
    "\n",
    "For more info about custom configurations like headers, workspace separation or access credentials, check our [config page](https://docs.argilla.io/en/latest/getting_started/installation/configurations/configurations.html)."
   ]
  },
  {
   "cell_type": "code",
   "execution_count": null,
   "id": "215b5b39",
   "metadata": {},
   "outputs": [],
   "source": [
    "import argilla as rg"
   ]
  },
  {
   "cell_type": "code",
   "execution_count": null,
   "id": "d3609e0a",
   "metadata": {
    "tags": [
     "parameters"
    ]
   },
   "outputs": [],
   "source": [
    "# Argilla credentials\n",
    "api_url = \"http://localhost:6900\"  # \"https://<YOUR-HF-SPACE>.hf.space\"\n",
    "api_key = \"admin.apikey\"  # Get your API key from the Argilla web interface at My settings > API key\n",
    "# Huggingface credentials\n",
    "hf_token = \"hf_...\" # Needed if using a private HF Space"
   ]
  },
  {
   "cell_type": "code",
   "execution_count": null,
   "id": "19c56015",
   "metadata": {},
   "outputs": [
    {
     "name": "stderr",
     "output_type": "stream",
     "text": [
      "C:\\Users\\sarah\\Documents\\argilla\\src\\argilla\\client\\client.py:154: UserWarning: Default user was detected and no workspace configuration was provided, so the default 'argilla' workspace will be used. If you want to setup another workspace, use the `rg.set_workspace` function or provide a different one on `rg.init`\n",
      "  warnings.warn(\n"
     ]
    }
   ],
   "source": [
    "import argilla as rg\n",
    "rg.init(\n",
    "    api_url=api_url, \n",
    "    api_key=api_key,\n",
    "    # If you want to use your private HF Space\n",
    "    # extra_headers={\"Authorization\": f\"Bearer {\"HF_TOKEN\"}\"}\n",
    ")"
   ]
  },
  {
   "cell_type": "markdown",
   "metadata": {},
   "source": [
    "### Create Schemas"
   ]
  },
  {
   "cell_type": "code",
   "execution_count": 9,
   "metadata": {},
   "outputs": [],
   "source": [
    "import pandas as pd\n",
    "import pandera as pa\n",
    "from pandera.typing import Index, DataFrame, Series\n",
    "import json\n",
    "from extralit.schema.checks import register_check_methods\n",
    "register_check_methods()\n",
    "\n",
    "class Publication(pa.DataFrameModel):\n",
    "    \"\"\"\n",
    "    General information about the publication, extracted once per paper.\n",
    "    \"\"\"\n",
    "    reference: Index[str] = pa.Field(check_name=True)\n",
    "    title: Series[str] = pa.Field()\n",
    "    authors: Series[str] = pa.Field()\n",
    "    journal: Series[str] = pa.Field()\n",
    "    publication_year: Series[int] = pa.Field(ge=1900, le=2100)\n",
    "    doi: Series[str] = pa.Field(nullable=True)\n",
    "    \n",
    "    class Config:\n",
    "        singleton = False\n"
   ]
  },
  {
   "cell_type": "code",
   "execution_count": 10,
   "id": "156de2f0",
   "metadata": {},
   "outputs": [
    {
     "data": {
      "text/plain": [
       "<Schema DataFrameSchema(columns={'title': <Schema Column(name=title, type=DataType(str))>, 'authors': <Schema Column(name=authors, type=DataType(str))>, 'journal': <Schema Column(name=journal, type=DataType(str))>, 'publication_year': <Schema Column(name=publication_year, type=DataType(int64))>, 'doi': <Schema Column(name=doi, type=DataType(str))>}, checks=[<Check singleton: singleton(enabled=False)>], parsers=[], index=<Schema Index(name=reference, type=DataType(str))>, dtype=None, coerce=False, strict=False, name=Publication, ordered=False, unique=None, report_duplicates=all, unique_column_names=False, add_missing_columns=False, title=None, description=\n",
       "    General information about the publication, extracted once per paper.\n",
       "    , metadata=None, drop_invalid_rows=False)>"
      ]
     },
     "execution_count": 10,
     "metadata": {},
     "output_type": "execute_result"
    }
   ],
   "source": [
    "Publication_schema = Publication.to_schema()\n",
    "Publication_schema"
   ]
  },
  {
   "cell_type": "code",
   "execution_count": 11,
   "id": "da9c26ba",
   "metadata": {},
   "outputs": [
    {
     "data": {
      "text/html": [
       "<div>\n",
       "<style scoped>\n",
       "    .dataframe tbody tr th:only-of-type {\n",
       "        vertical-align: middle;\n",
       "    }\n",
       "\n",
       "    .dataframe tbody tr th {\n",
       "        vertical-align: top;\n",
       "    }\n",
       "\n",
       "    .dataframe thead th {\n",
       "        text-align: right;\n",
       "    }\n",
       "</style>\n",
       "<table border=\"1\" class=\"dataframe\">\n",
       "  <thead>\n",
       "    <tr style=\"text-align: right;\">\n",
       "      <th></th>\n",
       "      <th>title</th>\n",
       "      <th>authors</th>\n",
       "      <th>journal</th>\n",
       "      <th>publication_year</th>\n",
       "      <th>doi</th>\n",
       "    </tr>\n",
       "    <tr>\n",
       "      <th>reference</th>\n",
       "      <th></th>\n",
       "      <th></th>\n",
       "      <th></th>\n",
       "      <th></th>\n",
       "      <th></th>\n",
       "    </tr>\n",
       "  </thead>\n",
       "  <tbody>\n",
       "    <tr>\n",
       "      <th>ref1</th>\n",
       "      <td>title1</td>\n",
       "      <td>author1</td>\n",
       "      <td>journal1</td>\n",
       "      <td>2021</td>\n",
       "      <td>doi1</td>\n",
       "    </tr>\n",
       "    <tr>\n",
       "      <th>ref1</th>\n",
       "      <td>title2</td>\n",
       "      <td>author2</td>\n",
       "      <td>journal2</td>\n",
       "      <td>2022</td>\n",
       "      <td>doi2</td>\n",
       "    </tr>\n",
       "  </tbody>\n",
       "</table>\n",
       "</div>"
      ],
      "text/plain": [
       "            title  authors   journal  publication_year   doi\n",
       "reference                                                   \n",
       "ref1       title1  author1  journal1              2021  doi1\n",
       "ref1       title2  author2  journal2              2022  doi2"
      ]
     },
     "execution_count": 11,
     "metadata": {},
     "output_type": "execute_result"
    }
   ],
   "source": [
    "df = pd.DataFrame({\n",
    "        \"title\": [\"title1\", \"title2\"],\n",
    "        \"authors\": [\"author1\", \"author2\"],\n",
    "        \"journal\": [\"journal1\", \"journal2\"],\n",
    "        \"publication_year\": [2021, 2022],\n",
    "        \"doi\": [\"doi1\", \"doi2\"]\n",
    "    }, \n",
    "    index=pd.Index([\"ref1\", \"ref1\"], name=\"reference\"))\n",
    "\n",
    "Publication_schema.validate(\n",
    "    df, lazy=True\n",
    ")"
   ]
  },
  {
   "cell_type": "code",
   "execution_count": 6,
   "id": "ecb904b6",
   "metadata": {},
   "outputs": [
    {
     "data": {
      "text/plain": [
       "SchemaStructure(schemas=['Publication'], singleton_schema=Publication)"
      ]
     },
     "execution_count": 6,
     "metadata": {},
     "output_type": "execute_result"
    }
   ],
   "source": [
    "from extralit.extraction.models import SchemaStructure\n",
    "\n",
    "ss = SchemaStructure(schemas=[Publication], singleton_schema=Publication)\n",
    "ss"
   ]
  },
  {
   "cell_type": "markdown",
   "id": "423d6483",
   "metadata": {},
   "source": [
    "## Create a Dataset\n",
    "\n",
    "FeedbackDataset is the container for Argilla Feedback structure. Argilla Feedback offers different components for FeedbackDatasets that you can employ for various aspects of your workflow. For a more detailed explanation, refer to the [documentation](https://docs.argilla.io/en/latest/practical_guides/practical_guides.html) and the [end-to-end tutorials](https://docs.argilla.io/en/latest/tutorials_and_integrations/tutorials/tutorials.html) for beginners.\n",
    "\n",
    "To start, we need to configure the FeedbackDatasest. To do so, there are two options: use a pre-defined template or create a custom one."
   ]
  },
  {
   "cell_type": "markdown",
   "id": "4146f0d7",
   "metadata": {},
   "source": [
    "### Use a Task Template\n",
    "\n",
    "Argilla offers a set of [pre-defined templates for different tasks](https://docs.argilla.io/en/latest/practical_guides/create_update_dataset/create_dataset.html#task-templates). You can use them to configure your dataset straightforward. For instance, if you want to create a dataset for simple text classification, you can use the following code:"
   ]
  },
  {
   "cell_type": "code",
   "execution_count": null,
   "id": "96b161c4",
   "metadata": {},
   "outputs": [
    {
     "data": {
      "text/plain": [
       "FeedbackDataset(\n",
       "   fields=[TextField(name='text', title='Text', required=True, type='text', use_markdown=True)]\n",
       "   questions=[LabelQuestion(name='label', title='Label', description='Classify the text by selecting the correct label from the given list of labels.', required=True, type='label_selection', labels=['joy', 'sadness'], visible_labels=None)]\n",
       "   guidelines=This is a text classification dataset that contains texts and labels. Given a set of texts and a predefined set of labels, the goal of text classification is to assign one label to each text based on its content. Please classify the texts by making the correct selection.)\n",
       "   metadata_properties=[])\n",
       ")"
      ]
     },
     "execution_count": 25,
     "metadata": {},
     "output_type": "execute_result"
    }
   ],
   "source": [
    "dataset = rg.FeedbackDataset.for_text_classification(\n",
    "    labels=[\"joy\", \"sadness\"],\n",
    "    multi_label=False,\n",
    "    use_markdown=True,\n",
    "    guidelines=None,\n",
    "    metadata_properties=None,\n",
    "    vectors_settings=None,\n",
    ")\n",
    "dataset"
   ]
  },
  {
   "cell_type": "markdown",
   "id": "4f9ca558",
   "metadata": {},
   "source": [
    "Now that we have our dataset, we can push the dataset to the Argilla space.\n",
    "\n",
    "<div class=\"alert alert-info\">\n",
    "\n",
    "Note\n",
    "    \n",
    "From Argilla 1.14.0, calling `push_to_argilla` will not just push the `FeedbackDataset` into Argilla, but will also return the remote `FeedbackDataset` instance, which implies that the additions, updates, and deletions of records will be pushed to Argilla as soon as they are made. This is a change from previous versions of Argilla, where you had to call `push_to_argilla` again to push the changes to Argilla.\n",
    "    \n",
    "</div>"
   ]
  },
  {
   "cell_type": "code",
   "execution_count": null,
   "id": "dc956805",
   "metadata": {},
   "outputs": [],
   "source": [
    "try:\n",
    "    dataset.push_to_argilla(name=\"my-first-dataset\", workspace=\"argilla\")\n",
    "except:\n",
    "    pass"
   ]
  },
  {
   "cell_type": "markdown",
   "id": "2847830f",
   "metadata": {},
   "source": [
    "### Configure a Custom Dataset\n",
    "\n",
    "If your dataset does not fit into one of the pre-defined templates, you [can create a custom dataset](https://docs.argilla.io/en/latest/practical_guides/create_update_dataset/create_dataset.html#define-questions) by defining the fields, the different question types, the metadata properties and the vectors settings."
   ]
  },
  {
   "cell_type": "markdown",
   "id": "4b099e23",
   "metadata": {},
   "source": [
    "## Add the Records\n",
    "\n",
    "A record refers to each of the data items that will be annotated by the annotator team. The records will be the pieces of information that will be shown to the user in the UI in order to complete the annotation task. In the current dataset sample, it can only consist of a text to be labeled."
   ]
  },
  {
   "cell_type": "code",
   "execution_count": null,
   "id": "36b9b719",
   "metadata": {},
   "outputs": [],
   "source": [
    "records = [\n",
    "    rg.FeedbackRecord(\n",
    "        fields={\n",
    "            \"text\": \"I am so happy today\",\n",
    "        },\n",
    "    ),\n",
    "    rg.FeedbackRecord(\n",
    "        fields={\n",
    "            \"text\": \"I feel sad today\",\n",
    "        },\n",
    "    )\n",
    "]\n",
    "dataset.add_records(records)"
   ]
  },
  {
   "cell_type": "code",
   "execution_count": null,
   "id": "df7d2540",
   "metadata": {},
   "outputs": [
    {
     "data": {
      "text/plain": [
       "[FeedbackRecord(fields={'text': 'I am so happy today'}, metadata={}, vectors={}, responses=[], suggestions=(), external_id=None),\n",
       " FeedbackRecord(fields={'text': 'I feel sad today'}, metadata={}, vectors={}, responses=[], suggestions=(), external_id=None)]"
      ]
     },
     "execution_count": 28,
     "metadata": {},
     "output_type": "execute_result"
    }
   ],
   "source": [
    "dataset.records"
   ]
  },
  {
   "cell_type": "markdown",
   "id": "850c8a0e",
   "metadata": {},
   "source": [
    "Argilla also offers a way to use suggestions and responses from other models as a starting point for annotators. This way, annotators can save time and effort by correcting the predictions or answers instead of annotating from scratch. "
   ]
  },
  {
   "cell_type": "markdown",
   "id": "5a5a3bf3",
   "metadata": {},
   "source": [
    "## Train a model\n",
    "\n",
    "As with other datasets, Feedback datasets also allow to create a training pipeline and make inferences with the resulting model. After you gather responses with Argilla Feedback, you can easily fine-tune an LLM. In this example, we will have to complete a text classification task.\n",
    "\n",
    "For fine-tuning, we will use setfit library and the [Argilla Trainer](https://docs.argilla.io/en/latest/practical_guides/fine_tune.html#the-argillatrainer), which is a powerful wrapper around many of our favorite NLP libraries. It provides a very intuitive abstract representation to facilitate simple training workflows using decent default pre-set configurations without having to worry about any data transformations from Argilla.\n",
    "\n",
    "Let us first create our dataset to train. For this example, we will use the [emotion](https://huggingface.co/datasets/argilla/emotion) dataset from Argilla, which was created using Argilla. Each text item has its responses as 6 different sentiments, which are Sadness, Joy, Love, Anger, Fear and Surprise."
   ]
  },
  {
   "cell_type": "code",
   "execution_count": null,
   "id": "586059d7",
   "metadata": {},
   "outputs": [],
   "source": [
    "# Besides Argilla, it can also be imported with load_dataset from datasets\n",
    "dataset_hf = rg.FeedbackDataset.from_huggingface(\"argilla/emotion\", split=\"train[1:101]\")"
   ]
  },
  {
   "cell_type": "code",
   "execution_count": null,
   "id": "9286b053",
   "metadata": {},
   "outputs": [
    {
     "data": {
      "text/plain": [
       "FeedbackDataset(\n",
       "   fields=[TextField(name='text', title='Text', required=True, type=<FieldTypes.text: 'text'>, use_markdown=False)]\n",
       "   questions=[LabelQuestion(name='label', title='Label', description=None, required=True, type=<QuestionTypes.label_selection: 'label_selection'>, labels={'0': 'sadness', '1': 'joy', '2': 'love', '3': 'anger', '4': 'fear', '5': 'surprise'}, visible_labels=6)]\n",
       "   guidelines=Argilla port of [dair-ai/emotion](https://huggingface.co/datasets/dair-ai/emotion).)\n",
       "   metadata_properties=[])\n",
       ")"
      ]
     },
     "execution_count": 17,
     "metadata": {},
     "output_type": "execute_result"
    }
   ],
   "source": [
    "dataset_hf"
   ]
  },
  {
   "cell_type": "markdown",
   "id": "861c3648",
   "metadata": {},
   "source": [
    "We can then start to create a training pipeline by first defining `TrainingTask`, which is used to define how the data should be processed and formatted according to the associated task and framework. Each task has its own classmethod and the data formatting can always be customized via `formatting_func`. You can visit [this page](https://docs.argilla.io/en/latest/practical_guides/fine_tune.html#tasks) for more info. Simpler tasks like text classification can be defined using default definitions, as we do in this example."
   ]
  },
  {
   "cell_type": "code",
   "execution_count": null,
   "id": "04537510",
   "metadata": {},
   "outputs": [],
   "source": [
    "from argilla.feedback import TrainingTask\n",
    "\n",
    "task = TrainingTask.for_text_classification(\n",
    "    text=dataset_hf.field_by_name(\"text\"),\n",
    "    label=dataset_hf.question_by_name(\"label\")\n",
    ")"
   ]
  },
  {
   "cell_type": "markdown",
   "id": "2492e2e2",
   "metadata": {},
   "source": [
    "We can then define our ArgillaTrainer for any of the supported frameworks and customize the training config using ArgillaTrainer.update_config.\n",
    "\n",
    "Let us define ArgillaTrainer with any of the supported frameworks. "
   ]
  },
  {
   "cell_type": "code",
   "execution_count": null,
   "id": "8187adc1",
   "metadata": {},
   "outputs": [],
   "source": [
    "from argilla.feedback import ArgillaTrainer\n",
    "\n",
    "trainer = ArgillaTrainer(\n",
    "    dataset=dataset_hf,\n",
    "    task=task,\n",
    "    framework=\"setfit\",\n",
    "    train_size=0.8\n",
    ")"
   ]
  },
  {
   "cell_type": "markdown",
   "id": "1bccf880",
   "metadata": {},
   "source": [
    "You can update the model config via `update_config`."
   ]
  },
  {
   "cell_type": "code",
   "execution_count": null,
   "id": "332a4f1d",
   "metadata": {},
   "outputs": [],
   "source": [
    "trainer.update_config(num_train_epochs=1, num_iterations=1)"
   ]
  },
  {
   "cell_type": "markdown",
   "id": "ca6d7dc3",
   "metadata": {},
   "source": [
    "We can now train the model with `train`"
   ]
  },
  {
   "cell_type": "code",
   "execution_count": null,
   "id": "a144a4a8",
   "metadata": {},
   "outputs": [],
   "source": [
    "trainer.train(output_dir=\"setfit_model\")"
   ]
  },
  {
   "cell_type": "markdown",
   "id": "8ae12a61",
   "metadata": {},
   "source": [
    "and make inferences with `predict`."
   ]
  },
  {
   "cell_type": "code",
   "execution_count": null,
   "id": "d7863b92",
   "metadata": {},
   "outputs": [],
   "source": [
    "trainer.predict(\"This is just perfect!\")"
   ]
  },
  {
   "cell_type": "markdown",
   "id": "85ad4ad2",
   "metadata": {},
   "source": [
    "We have trained a model with FeedbackDataset in this tutorial. For more info about concepts in Argilla Feedback and LLMs, look [here](https://docs.argilla.io/en/latest/conceptual_guides/llm/llm.html). For a more detailed explanation, refer to the [documentation](https://docs.argilla.io/en/latest/practical_guides/practical_guides.html) and the [end-to-end tutorials](https://docs.argilla.io/en/latest/tutorials_and_integrations/tutorials/tutorials.html) for beginners."
   ]
  },
  {
   "cell_type": "markdown",
   "id": "2ZyEUBBjbK7k",
   "metadata": {
    "id": "2ZyEUBBjbK7k"
   },
   "source": [
    "-------------\n",
    "\n"
   ]
  }
 ],
 "metadata": {
  "accelerator": "GPU",
  "colab": {
   "provenance": []
  },
  "kernelspec": {
   "display_name": "Python 3",
   "language": "python",
   "name": "python3"
  },
  "language_info": {
   "codemirror_mode": {
    "name": "ipython",
    "version": 3
   },
   "file_extension": ".py",
   "mimetype": "text/x-python",
   "name": "python",
   "nbconvert_exporter": "python",
   "pygments_lexer": "ipython3",
   "version": "3.9.19"
  },
  "vscode": {
   "interpreter": {
    "hash": "2584bca9d226488c39a669ff1ce19d7ca5f410e2d3aa9b82f20653edd0d96bfc"
   }
  },
  "widgets": {
   "application/vnd.jupyter.widget-state+json": {
    "007a11c0643c45ecbf50c92bb244170f": {
     "model_module": "@jupyter-widgets/base",
     "model_module_version": "1.2.0",
     "model_name": "LayoutModel",
     "state": {
      "_model_module": "@jupyter-widgets/base",
      "_model_module_version": "1.2.0",
      "_model_name": "LayoutModel",
      "_view_count": null,
      "_view_module": "@jupyter-widgets/base",
      "_view_module_version": "1.2.0",
      "_view_name": "LayoutView",
      "align_content": null,
      "align_items": null,
      "align_self": null,
      "border": null,
      "bottom": null,
      "display": null,
      "flex": null,
      "flex_flow": null,
      "grid_area": null,
      "grid_auto_columns": null,
      "grid_auto_flow": null,
      "grid_auto_rows": null,
      "grid_column": null,
      "grid_gap": null,
      "grid_row": null,
      "grid_template_areas": null,
      "grid_template_columns": null,
      "grid_template_rows": null,
      "height": null,
      "justify_content": null,
      "justify_items": null,
      "left": null,
      "margin": null,
      "max_height": null,
      "max_width": null,
      "min_height": null,
      "min_width": null,
      "object_fit": null,
      "object_position": null,
      "order": null,
      "overflow": null,
      "overflow_x": null,
      "overflow_y": null,
      "padding": null,
      "right": null,
      "top": null,
      "visibility": null,
      "width": null
     }
    },
    "0a54f0576a9347d5a546ff8b3e371121": {
     "model_module": "@jupyter-widgets/base",
     "model_module_version": "1.2.0",
     "model_name": "LayoutModel",
     "state": {
      "_model_module": "@jupyter-widgets/base",
      "_model_module_version": "1.2.0",
      "_model_name": "LayoutModel",
      "_view_count": null,
      "_view_module": "@jupyter-widgets/base",
      "_view_module_version": "1.2.0",
      "_view_name": "LayoutView",
      "align_content": null,
      "align_items": null,
      "align_self": null,
      "border": null,
      "bottom": null,
      "display": null,
      "flex": null,
      "flex_flow": null,
      "grid_area": null,
      "grid_auto_columns": null,
      "grid_auto_flow": null,
      "grid_auto_rows": null,
      "grid_column": null,
      "grid_gap": null,
      "grid_row": null,
      "grid_template_areas": null,
      "grid_template_columns": null,
      "grid_template_rows": null,
      "height": null,
      "justify_content": null,
      "justify_items": null,
      "left": null,
      "margin": null,
      "max_height": null,
      "max_width": null,
      "min_height": null,
      "min_width": null,
      "object_fit": null,
      "object_position": null,
      "order": null,
      "overflow": null,
      "overflow_x": null,
      "overflow_y": null,
      "padding": null,
      "right": null,
      "top": null,
      "visibility": "hidden",
      "width": null
     }
    },
    "13d0949b0cad4cee8f1aa691ebd43476": {
     "model_module": "@jupyter-widgets/controls",
     "model_module_version": "1.5.0",
     "model_name": "FloatProgressModel",
     "state": {
      "_dom_classes": [],
      "_model_module": "@jupyter-widgets/controls",
      "_model_module_version": "1.5.0",
      "_model_name": "FloatProgressModel",
      "_view_count": null,
      "_view_module": "@jupyter-widgets/controls",
      "_view_module_version": "1.5.0",
      "_view_name": "ProgressView",
      "bar_style": "",
      "description": "",
      "description_tooltip": null,
      "layout": "IPY_MODEL_e9f06d2e0ff645aea882a0958eda2820",
      "max": 464,
      "min": 0,
      "orientation": "horizontal",
      "style": "IPY_MODEL_15c7227ddf8946d7bdd9c5e076407300",
      "value": 464
     }
    },
    "15c7227ddf8946d7bdd9c5e076407300": {
     "model_module": "@jupyter-widgets/controls",
     "model_module_version": "1.5.0",
     "model_name": "ProgressStyleModel",
     "state": {
      "_model_module": "@jupyter-widgets/controls",
      "_model_module_version": "1.5.0",
      "_model_name": "ProgressStyleModel",
      "_view_count": null,
      "_view_module": "@jupyter-widgets/base",
      "_view_module_version": "1.2.0",
      "_view_name": "StyleView",
      "bar_color": null,
      "description_width": ""
     }
    },
    "19d173ba40134ea3ba4625977b924c83": {
     "model_module": "@jupyter-widgets/output",
     "model_module_version": "1.0.0",
     "model_name": "OutputModel",
     "state": {
      "_dom_classes": [],
      "_model_module": "@jupyter-widgets/output",
      "_model_module_version": "1.0.0",
      "_model_name": "OutputModel",
      "_view_count": null,
      "_view_module": "@jupyter-widgets/output",
      "_view_module_version": "1.0.0",
      "_view_name": "OutputView",
      "layout": "IPY_MODEL_24b90ef58e0e41cfb668144bc0adb815",
      "msg_id": "",
      "outputs": [
       {
        "data": {
         "text/html": "<pre style=\"white-space:pre;overflow-x:auto;line-height:normal;font-family:Menlo,'DejaVu Sans Mono',consolas,'Courier New',monospace\">Logging... <span style=\"color: #f92672; text-decoration-color: #f92672\">━━━━━━━━━━━━━━━━━━━━━━━━━━━━━━━━━━━━━━━</span><span style=\"color: #3a3a3a; text-decoration-color: #3a3a3a\">╺</span> <span style=\"color: #800080; text-decoration-color: #800080\"> 98%</span> <span style=\"color: #008080; text-decoration-color: #008080\">0:00:01</span>\n</pre>\n",
         "text/plain": "Logging... \u001b[38;2;249;38;114m━━━━━━━━━━━━━━━━━━━━━━━━━━━━━━━━━━━━━━━\u001b[0m\u001b[38;5;237m╺\u001b[0m \u001b[35m 98%\u001b[0m \u001b[36m0:00:01\u001b[0m\n"
        },
        "metadata": {},
        "output_type": "display_data"
       }
      ]
     }
    },
    "21a09c7691c64e088a74c08095df0057": {
     "model_module": "@jupyter-widgets/base",
     "model_module_version": "1.2.0",
     "model_name": "LayoutModel",
     "state": {
      "_model_module": "@jupyter-widgets/base",
      "_model_module_version": "1.2.0",
      "_model_name": "LayoutModel",
      "_view_count": null,
      "_view_module": "@jupyter-widgets/base",
      "_view_module_version": "1.2.0",
      "_view_name": "LayoutView",
      "align_content": null,
      "align_items": null,
      "align_self": null,
      "border": null,
      "bottom": null,
      "display": null,
      "flex": null,
      "flex_flow": null,
      "grid_area": null,
      "grid_auto_columns": null,
      "grid_auto_flow": null,
      "grid_auto_rows": null,
      "grid_column": null,
      "grid_gap": null,
      "grid_row": null,
      "grid_template_areas": null,
      "grid_template_columns": null,
      "grid_template_rows": null,
      "height": null,
      "justify_content": null,
      "justify_items": null,
      "left": null,
      "margin": null,
      "max_height": null,
      "max_width": null,
      "min_height": null,
      "min_width": null,
      "object_fit": null,
      "object_position": null,
      "order": null,
      "overflow": null,
      "overflow_x": null,
      "overflow_y": null,
      "padding": null,
      "right": null,
      "top": null,
      "visibility": null,
      "width": null
     }
    },
    "24b90ef58e0e41cfb668144bc0adb815": {
     "model_module": "@jupyter-widgets/base",
     "model_module_version": "1.2.0",
     "model_name": "LayoutModel",
     "state": {
      "_model_module": "@jupyter-widgets/base",
      "_model_module_version": "1.2.0",
      "_model_name": "LayoutModel",
      "_view_count": null,
      "_view_module": "@jupyter-widgets/base",
      "_view_module_version": "1.2.0",
      "_view_name": "LayoutView",
      "align_content": null,
      "align_items": null,
      "align_self": null,
      "border": null,
      "bottom": null,
      "display": null,
      "flex": null,
      "flex_flow": null,
      "grid_area": null,
      "grid_auto_columns": null,
      "grid_auto_flow": null,
      "grid_auto_rows": null,
      "grid_column": null,
      "grid_gap": null,
      "grid_row": null,
      "grid_template_areas": null,
      "grid_template_columns": null,
      "grid_template_rows": null,
      "height": null,
      "justify_content": null,
      "justify_items": null,
      "left": null,
      "margin": null,
      "max_height": null,
      "max_width": null,
      "min_height": null,
      "min_width": null,
      "object_fit": null,
      "object_position": null,
      "order": null,
      "overflow": null,
      "overflow_x": null,
      "overflow_y": null,
      "padding": null,
      "right": null,
      "top": null,
      "visibility": null,
      "width": null
     }
    },
    "2d9d836276674563893af311d7ceb5cf": {
     "model_module": "@jupyter-widgets/controls",
     "model_module_version": "1.5.0",
     "model_name": "DescriptionStyleModel",
     "state": {
      "_model_module": "@jupyter-widgets/controls",
      "_model_module_version": "1.5.0",
      "_model_name": "DescriptionStyleModel",
      "_view_count": null,
      "_view_module": "@jupyter-widgets/base",
      "_view_module_version": "1.2.0",
      "_view_name": "StyleView",
      "description_width": ""
     }
    },
    "452429879663485da881188f70d20ca5": {
     "model_module": "@jupyter-widgets/controls",
     "model_module_version": "1.5.0",
     "model_name": "HTMLModel",
     "state": {
      "_dom_classes": [],
      "_model_module": "@jupyter-widgets/controls",
      "_model_module_version": "1.5.0",
      "_model_name": "HTMLModel",
      "_view_count": null,
      "_view_module": "@jupyter-widgets/controls",
      "_view_module_version": "1.5.0",
      "_view_name": "HTMLView",
      "description": "",
      "description_tooltip": null,
      "layout": "IPY_MODEL_f47cb9c3e20e48acb6df9bed2f0cb7bf",
      "placeholder": "​",
      "style": "IPY_MODEL_2d9d836276674563893af311d7ceb5cf",
      "value": " 453/464 [00:04&lt;00:00, 112.79 examples/s]"
     }
    },
    "4635b9f0d42b4172b52b64de660082d1": {
     "model_module": "@jupyter-widgets/controls",
     "model_module_version": "1.5.0",
     "model_name": "FloatProgressModel",
     "state": {
      "_dom_classes": [],
      "_model_module": "@jupyter-widgets/controls",
      "_model_module_version": "1.5.0",
      "_model_name": "FloatProgressModel",
      "_view_count": null,
      "_view_module": "@jupyter-widgets/controls",
      "_view_module_version": "1.5.0",
      "_view_name": "ProgressView",
      "bar_style": "",
      "description": "",
      "description_tooltip": null,
      "layout": "IPY_MODEL_514672241dad488ca37a5e802553eb35",
      "max": 2561,
      "min": 0,
      "orientation": "horizontal",
      "style": "IPY_MODEL_48dbaf59d0be41a6a6d7c30cb621e9ef",
      "value": 2561
     }
    },
    "48dbaf59d0be41a6a6d7c30cb621e9ef": {
     "model_module": "@jupyter-widgets/controls",
     "model_module_version": "1.5.0",
     "model_name": "ProgressStyleModel",
     "state": {
      "_model_module": "@jupyter-widgets/controls",
      "_model_module_version": "1.5.0",
      "_model_name": "ProgressStyleModel",
      "_view_count": null,
      "_view_module": "@jupyter-widgets/base",
      "_view_module_version": "1.2.0",
      "_view_name": "StyleView",
      "bar_color": null,
      "description_width": ""
     }
    },
    "50edec55b45242d3a3bd0b3d9444710e": {
     "model_module": "@jupyter-widgets/base",
     "model_module_version": "1.2.0",
     "model_name": "LayoutModel",
     "state": {
      "_model_module": "@jupyter-widgets/base",
      "_model_module_version": "1.2.0",
      "_model_name": "LayoutModel",
      "_view_count": null,
      "_view_module": "@jupyter-widgets/base",
      "_view_module_version": "1.2.0",
      "_view_name": "LayoutView",
      "align_content": null,
      "align_items": null,
      "align_self": null,
      "border": null,
      "bottom": null,
      "display": null,
      "flex": null,
      "flex_flow": null,
      "grid_area": null,
      "grid_auto_columns": null,
      "grid_auto_flow": null,
      "grid_auto_rows": null,
      "grid_column": null,
      "grid_gap": null,
      "grid_row": null,
      "grid_template_areas": null,
      "grid_template_columns": null,
      "grid_template_rows": null,
      "height": null,
      "justify_content": null,
      "justify_items": null,
      "left": null,
      "margin": null,
      "max_height": null,
      "max_width": null,
      "min_height": null,
      "min_width": null,
      "object_fit": null,
      "object_position": null,
      "order": null,
      "overflow": null,
      "overflow_x": null,
      "overflow_y": null,
      "padding": null,
      "right": null,
      "top": null,
      "visibility": null,
      "width": null
     }
    },
    "514672241dad488ca37a5e802553eb35": {
     "model_module": "@jupyter-widgets/base",
     "model_module_version": "1.2.0",
     "model_name": "LayoutModel",
     "state": {
      "_model_module": "@jupyter-widgets/base",
      "_model_module_version": "1.2.0",
      "_model_name": "LayoutModel",
      "_view_count": null,
      "_view_module": "@jupyter-widgets/base",
      "_view_module_version": "1.2.0",
      "_view_name": "LayoutView",
      "align_content": null,
      "align_items": null,
      "align_self": null,
      "border": null,
      "bottom": null,
      "display": null,
      "flex": null,
      "flex_flow": null,
      "grid_area": null,
      "grid_auto_columns": null,
      "grid_auto_flow": null,
      "grid_auto_rows": null,
      "grid_column": null,
      "grid_gap": null,
      "grid_row": null,
      "grid_template_areas": null,
      "grid_template_columns": null,
      "grid_template_rows": null,
      "height": null,
      "justify_content": null,
      "justify_items": null,
      "left": null,
      "margin": null,
      "max_height": null,
      "max_width": null,
      "min_height": null,
      "min_width": null,
      "object_fit": null,
      "object_position": null,
      "order": null,
      "overflow": null,
      "overflow_x": null,
      "overflow_y": null,
      "padding": null,
      "right": null,
      "top": null,
      "visibility": null,
      "width": null
     }
    },
    "518e260b7d2f4f90b39668414389c166": {
     "model_module": "@jupyter-widgets/controls",
     "model_module_version": "1.5.0",
     "model_name": "HTMLModel",
     "state": {
      "_dom_classes": [],
      "_model_module": "@jupyter-widgets/controls",
      "_model_module_version": "1.5.0",
      "_model_name": "HTMLModel",
      "_view_count": null,
      "_view_module": "@jupyter-widgets/controls",
      "_view_module_version": "1.5.0",
      "_view_name": "HTMLView",
      "description": "",
      "description_tooltip": null,
      "layout": "IPY_MODEL_8f5ca2714e114119adb61c9122afffbb",
      "placeholder": "​",
      "style": "IPY_MODEL_c36638fb29cb4510bfdda737e03c4a0e",
      "value": "Map:  65%"
     }
    },
    "5406303479514972b3e5241ce40e3f70": {
     "model_module": "@jupyter-widgets/output",
     "model_module_version": "1.0.0",
     "model_name": "OutputModel",
     "state": {
      "_dom_classes": [],
      "_model_module": "@jupyter-widgets/output",
      "_model_module_version": "1.0.0",
      "_model_name": "OutputModel",
      "_view_count": null,
      "_view_module": "@jupyter-widgets/output",
      "_view_module_version": "1.0.0",
      "_view_name": "OutputView",
      "layout": "IPY_MODEL_21a09c7691c64e088a74c08095df0057",
      "msg_id": "",
      "outputs": [
       {
        "data": {
         "text/html": "<pre style=\"white-space:pre;overflow-x:auto;line-height:normal;font-family:Menlo,'DejaVu Sans Mono',consolas,'Courier New',monospace\">Logging... <span style=\"color: #3a3a3a; text-decoration-color: #3a3a3a\">━━━━━━━━━━━━━━━━━━━━━━━━━━━━━━━━━━━━━━━━</span> <span style=\"color: #800080; text-decoration-color: #800080\">  0%</span> <span style=\"color: #008080; text-decoration-color: #008080\">-:--:--</span>\n</pre>\n",
         "text/plain": "Logging... \u001b[38;5;237m━━━━━━━━━━━━━━━━━━━━━━━━━━━━━━━━━━━━━━━━\u001b[0m \u001b[35m  0%\u001b[0m \u001b[36m-:--:--\u001b[0m\n"
        },
        "metadata": {},
        "output_type": "display_data"
       }
      ]
     }
    },
    "706f8e4861904c33a9468216e3220d9b": {
     "model_module": "@jupyter-widgets/base",
     "model_module_version": "1.2.0",
     "model_name": "LayoutModel",
     "state": {
      "_model_module": "@jupyter-widgets/base",
      "_model_module_version": "1.2.0",
      "_model_name": "LayoutModel",
      "_view_count": null,
      "_view_module": "@jupyter-widgets/base",
      "_view_module_version": "1.2.0",
      "_view_name": "LayoutView",
      "align_content": null,
      "align_items": null,
      "align_self": null,
      "border": null,
      "bottom": null,
      "display": null,
      "flex": null,
      "flex_flow": null,
      "grid_area": null,
      "grid_auto_columns": null,
      "grid_auto_flow": null,
      "grid_auto_rows": null,
      "grid_column": null,
      "grid_gap": null,
      "grid_row": null,
      "grid_template_areas": null,
      "grid_template_columns": null,
      "grid_template_rows": null,
      "height": null,
      "justify_content": null,
      "justify_items": null,
      "left": null,
      "margin": null,
      "max_height": null,
      "max_width": null,
      "min_height": null,
      "min_width": null,
      "object_fit": null,
      "object_position": null,
      "order": null,
      "overflow": null,
      "overflow_x": null,
      "overflow_y": null,
      "padding": null,
      "right": null,
      "top": null,
      "visibility": null,
      "width": null
     }
    },
    "7605822dfe30439a8b53c117466e513f": {
     "model_module": "@jupyter-widgets/controls",
     "model_module_version": "1.5.0",
     "model_name": "HTMLModel",
     "state": {
      "_dom_classes": [],
      "_model_module": "@jupyter-widgets/controls",
      "_model_module_version": "1.5.0",
      "_model_name": "HTMLModel",
      "_view_count": null,
      "_view_module": "@jupyter-widgets/controls",
      "_view_module_version": "1.5.0",
      "_view_name": "HTMLView",
      "description": "",
      "description_tooltip": null,
      "layout": "IPY_MODEL_50edec55b45242d3a3bd0b3d9444710e",
      "placeholder": "​",
      "style": "IPY_MODEL_7d817c646854435686ab9b7e317b2f92",
      "value": "Map:  98%"
     }
    },
    "7d817c646854435686ab9b7e317b2f92": {
     "model_module": "@jupyter-widgets/controls",
     "model_module_version": "1.5.0",
     "model_name": "DescriptionStyleModel",
     "state": {
      "_model_module": "@jupyter-widgets/controls",
      "_model_module_version": "1.5.0",
      "_model_name": "DescriptionStyleModel",
      "_view_count": null,
      "_view_module": "@jupyter-widgets/base",
      "_view_module_version": "1.2.0",
      "_view_name": "StyleView",
      "description_width": ""
     }
    },
    "7e028b1a16394adcac90c011d14d3458": {
     "model_module": "@jupyter-widgets/controls",
     "model_module_version": "1.5.0",
     "model_name": "HBoxModel",
     "state": {
      "_dom_classes": [],
      "_model_module": "@jupyter-widgets/controls",
      "_model_module_version": "1.5.0",
      "_model_name": "HBoxModel",
      "_view_count": null,
      "_view_module": "@jupyter-widgets/controls",
      "_view_module_version": "1.5.0",
      "_view_name": "HBoxView",
      "box_style": "",
      "children": [
       "IPY_MODEL_7605822dfe30439a8b53c117466e513f",
       "IPY_MODEL_13d0949b0cad4cee8f1aa691ebd43476",
       "IPY_MODEL_452429879663485da881188f70d20ca5"
      ],
      "layout": "IPY_MODEL_d4bae643e36a4b258b137507d628399d"
     }
    },
    "81e07d9401bd40cc82240136a529be2d": {
     "model_module": "@jupyter-widgets/controls",
     "model_module_version": "1.5.0",
     "model_name": "DescriptionStyleModel",
     "state": {
      "_model_module": "@jupyter-widgets/controls",
      "_model_module_version": "1.5.0",
      "_model_name": "DescriptionStyleModel",
      "_view_count": null,
      "_view_module": "@jupyter-widgets/base",
      "_view_module_version": "1.2.0",
      "_view_name": "StyleView",
      "description_width": ""
     }
    },
    "83d7b92514e24e3d88f7207ec26a6b76": {
     "model_module": "@jupyter-widgets/output",
     "model_module_version": "1.0.0",
     "model_name": "OutputModel",
     "state": {
      "_dom_classes": [],
      "_model_module": "@jupyter-widgets/output",
      "_model_module_version": "1.0.0",
      "_model_name": "OutputModel",
      "_view_count": null,
      "_view_module": "@jupyter-widgets/output",
      "_view_module_version": "1.0.0",
      "_view_name": "OutputView",
      "layout": "IPY_MODEL_9146f98b81744bceb0083e98aa1c3af9",
      "msg_id": "",
      "outputs": [
       {
        "data": {
         "text/html": "<pre style=\"white-space:pre;overflow-x:auto;line-height:normal;font-family:Menlo,'DejaVu Sans Mono',consolas,'Courier New',monospace\">Logging... <span style=\"color: #3a3a3a; text-decoration-color: #3a3a3a\">━━━━━━━━━━━━━━━━━━━━━━━━━━━━━━━━━━━━━━━━</span> <span style=\"color: #800080; text-decoration-color: #800080\">  0%</span> <span style=\"color: #008080; text-decoration-color: #008080\">-:--:--</span>\n</pre>\n",
         "text/plain": "Logging... \u001b[38;5;237m━━━━━━━━━━━━━━━━━━━━━━━━━━━━━━━━━━━━━━━━\u001b[0m \u001b[35m  0%\u001b[0m \u001b[36m-:--:--\u001b[0m\n"
        },
        "metadata": {},
        "output_type": "display_data"
       }
      ]
     }
    },
    "8f5ca2714e114119adb61c9122afffbb": {
     "model_module": "@jupyter-widgets/base",
     "model_module_version": "1.2.0",
     "model_name": "LayoutModel",
     "state": {
      "_model_module": "@jupyter-widgets/base",
      "_model_module_version": "1.2.0",
      "_model_name": "LayoutModel",
      "_view_count": null,
      "_view_module": "@jupyter-widgets/base",
      "_view_module_version": "1.2.0",
      "_view_name": "LayoutView",
      "align_content": null,
      "align_items": null,
      "align_self": null,
      "border": null,
      "bottom": null,
      "display": null,
      "flex": null,
      "flex_flow": null,
      "grid_area": null,
      "grid_auto_columns": null,
      "grid_auto_flow": null,
      "grid_auto_rows": null,
      "grid_column": null,
      "grid_gap": null,
      "grid_row": null,
      "grid_template_areas": null,
      "grid_template_columns": null,
      "grid_template_rows": null,
      "height": null,
      "justify_content": null,
      "justify_items": null,
      "left": null,
      "margin": null,
      "max_height": null,
      "max_width": null,
      "min_height": null,
      "min_width": null,
      "object_fit": null,
      "object_position": null,
      "order": null,
      "overflow": null,
      "overflow_x": null,
      "overflow_y": null,
      "padding": null,
      "right": null,
      "top": null,
      "visibility": null,
      "width": null
     }
    },
    "9146f98b81744bceb0083e98aa1c3af9": {
     "model_module": "@jupyter-widgets/base",
     "model_module_version": "1.2.0",
     "model_name": "LayoutModel",
     "state": {
      "_model_module": "@jupyter-widgets/base",
      "_model_module_version": "1.2.0",
      "_model_name": "LayoutModel",
      "_view_count": null,
      "_view_module": "@jupyter-widgets/base",
      "_view_module_version": "1.2.0",
      "_view_name": "LayoutView",
      "align_content": null,
      "align_items": null,
      "align_self": null,
      "border": null,
      "bottom": null,
      "display": null,
      "flex": null,
      "flex_flow": null,
      "grid_area": null,
      "grid_auto_columns": null,
      "grid_auto_flow": null,
      "grid_auto_rows": null,
      "grid_column": null,
      "grid_gap": null,
      "grid_row": null,
      "grid_template_areas": null,
      "grid_template_columns": null,
      "grid_template_rows": null,
      "height": null,
      "justify_content": null,
      "justify_items": null,
      "left": null,
      "margin": null,
      "max_height": null,
      "max_width": null,
      "min_height": null,
      "min_width": null,
      "object_fit": null,
      "object_position": null,
      "order": null,
      "overflow": null,
      "overflow_x": null,
      "overflow_y": null,
      "padding": null,
      "right": null,
      "top": null,
      "visibility": null,
      "width": null
     }
    },
    "9217d6b5c2a0495bbb0724dd296b2af7": {
     "model_module": "@jupyter-widgets/controls",
     "model_module_version": "1.5.0",
     "model_name": "HBoxModel",
     "state": {
      "_dom_classes": [],
      "_model_module": "@jupyter-widgets/controls",
      "_model_module_version": "1.5.0",
      "_model_name": "HBoxModel",
      "_view_count": null,
      "_view_module": "@jupyter-widgets/controls",
      "_view_module_version": "1.5.0",
      "_view_name": "HBoxView",
      "box_style": "",
      "children": [
       "IPY_MODEL_518e260b7d2f4f90b39668414389c166",
       "IPY_MODEL_4635b9f0d42b4172b52b64de660082d1",
       "IPY_MODEL_b1df83e2ef6540bbb09098e12d707d6d"
      ],
      "layout": "IPY_MODEL_0a54f0576a9347d5a546ff8b3e371121"
     }
    },
    "b1df83e2ef6540bbb09098e12d707d6d": {
     "model_module": "@jupyter-widgets/controls",
     "model_module_version": "1.5.0",
     "model_name": "HTMLModel",
     "state": {
      "_dom_classes": [],
      "_model_module": "@jupyter-widgets/controls",
      "_model_module_version": "1.5.0",
      "_model_name": "HTMLModel",
      "_view_count": null,
      "_view_module": "@jupyter-widgets/controls",
      "_view_module_version": "1.5.0",
      "_view_name": "HTMLView",
      "description": "",
      "description_tooltip": null,
      "layout": "IPY_MODEL_007a11c0643c45ecbf50c92bb244170f",
      "placeholder": "​",
      "style": "IPY_MODEL_81e07d9401bd40cc82240136a529be2d",
      "value": " 1665/2561 [00:00&lt;00:00, 14760.53 examples/s]"
     }
    },
    "c36638fb29cb4510bfdda737e03c4a0e": {
     "model_module": "@jupyter-widgets/controls",
     "model_module_version": "1.5.0",
     "model_name": "DescriptionStyleModel",
     "state": {
      "_model_module": "@jupyter-widgets/controls",
      "_model_module_version": "1.5.0",
      "_model_name": "DescriptionStyleModel",
      "_view_count": null,
      "_view_module": "@jupyter-widgets/base",
      "_view_module_version": "1.2.0",
      "_view_name": "StyleView",
      "description_width": ""
     }
    },
    "cf5da266e6ad493da229cf05469b2fc4": {
     "model_module": "@jupyter-widgets/base",
     "model_module_version": "1.2.0",
     "model_name": "LayoutModel",
     "state": {
      "_model_module": "@jupyter-widgets/base",
      "_model_module_version": "1.2.0",
      "_model_name": "LayoutModel",
      "_view_count": null,
      "_view_module": "@jupyter-widgets/base",
      "_view_module_version": "1.2.0",
      "_view_name": "LayoutView",
      "align_content": null,
      "align_items": null,
      "align_self": null,
      "border": null,
      "bottom": null,
      "display": null,
      "flex": null,
      "flex_flow": null,
      "grid_area": null,
      "grid_auto_columns": null,
      "grid_auto_flow": null,
      "grid_auto_rows": null,
      "grid_column": null,
      "grid_gap": null,
      "grid_row": null,
      "grid_template_areas": null,
      "grid_template_columns": null,
      "grid_template_rows": null,
      "height": null,
      "justify_content": null,
      "justify_items": null,
      "left": null,
      "margin": null,
      "max_height": null,
      "max_width": null,
      "min_height": null,
      "min_width": null,
      "object_fit": null,
      "object_position": null,
      "order": null,
      "overflow": null,
      "overflow_x": null,
      "overflow_y": null,
      "padding": null,
      "right": null,
      "top": null,
      "visibility": null,
      "width": null
     }
    },
    "d4bae643e36a4b258b137507d628399d": {
     "model_module": "@jupyter-widgets/base",
     "model_module_version": "1.2.0",
     "model_name": "LayoutModel",
     "state": {
      "_model_module": "@jupyter-widgets/base",
      "_model_module_version": "1.2.0",
      "_model_name": "LayoutModel",
      "_view_count": null,
      "_view_module": "@jupyter-widgets/base",
      "_view_module_version": "1.2.0",
      "_view_name": "LayoutView",
      "align_content": null,
      "align_items": null,
      "align_self": null,
      "border": null,
      "bottom": null,
      "display": null,
      "flex": null,
      "flex_flow": null,
      "grid_area": null,
      "grid_auto_columns": null,
      "grid_auto_flow": null,
      "grid_auto_rows": null,
      "grid_column": null,
      "grid_gap": null,
      "grid_row": null,
      "grid_template_areas": null,
      "grid_template_columns": null,
      "grid_template_rows": null,
      "height": null,
      "justify_content": null,
      "justify_items": null,
      "left": null,
      "margin": null,
      "max_height": null,
      "max_width": null,
      "min_height": null,
      "min_width": null,
      "object_fit": null,
      "object_position": null,
      "order": null,
      "overflow": null,
      "overflow_x": null,
      "overflow_y": null,
      "padding": null,
      "right": null,
      "top": null,
      "visibility": "hidden",
      "width": null
     }
    },
    "d577c60f0dbe46c1be6fab55672c4f86": {
     "model_module": "@jupyter-widgets/output",
     "model_module_version": "1.0.0",
     "model_name": "OutputModel",
     "state": {
      "_dom_classes": [],
      "_model_module": "@jupyter-widgets/output",
      "_model_module_version": "1.0.0",
      "_model_name": "OutputModel",
      "_view_count": null,
      "_view_module": "@jupyter-widgets/output",
      "_view_module_version": "1.0.0",
      "_view_name": "OutputView",
      "layout": "IPY_MODEL_cf5da266e6ad493da229cf05469b2fc4",
      "msg_id": "",
      "outputs": [
       {
        "data": {
         "text/html": "<pre style=\"white-space:pre;overflow-x:auto;line-height:normal;font-family:Menlo,'DejaVu Sans Mono',consolas,'Courier New',monospace\">Logging... <span style=\"color: #3a3a3a; text-decoration-color: #3a3a3a\">━━━━━━━━━━━━━━━━━━━━━━━━━━━━━━━━━━━━━━━━</span> <span style=\"color: #800080; text-decoration-color: #800080\">  0%</span> <span style=\"color: #008080; text-decoration-color: #008080\">-:--:--</span>\n</pre>\n",
         "text/plain": "Logging... \u001b[38;5;237m━━━━━━━━━━━━━━━━━━━━━━━━━━━━━━━━━━━━━━━━\u001b[0m \u001b[35m  0%\u001b[0m \u001b[36m-:--:--\u001b[0m\n"
        },
        "metadata": {},
        "output_type": "display_data"
       }
      ]
     }
    },
    "db3e5db8fe3f42a8908e3cd2a029cf56": {
     "model_module": "@jupyter-widgets/output",
     "model_module_version": "1.0.0",
     "model_name": "OutputModel",
     "state": {
      "_dom_classes": [],
      "_model_module": "@jupyter-widgets/output",
      "_model_module_version": "1.0.0",
      "_model_name": "OutputModel",
      "_view_count": null,
      "_view_module": "@jupyter-widgets/output",
      "_view_module_version": "1.0.0",
      "_view_name": "OutputView",
      "layout": "IPY_MODEL_706f8e4861904c33a9468216e3220d9b",
      "msg_id": "",
      "outputs": [
       {
        "data": {
         "text/html": "<pre style=\"white-space:pre;overflow-x:auto;line-height:normal;font-family:Menlo,'DejaVu Sans Mono',consolas,'Courier New',monospace\">Logging... <span style=\"color: #f92672; text-decoration-color: #f92672\">━━━━━━━━━━━━━━━━━━━━━━━━━━━━━━━━━━</span><span style=\"color: #3a3a3a; text-decoration-color: #3a3a3a\">╺━━━━━</span> <span style=\"color: #800080; text-decoration-color: #800080\"> 86%</span> <span style=\"color: #008080; text-decoration-color: #008080\">0:00:01</span>\n</pre>\n",
         "text/plain": "Logging... \u001b[38;2;249;38;114m━━━━━━━━━━━━━━━━━━━━━━━━━━━━━━━━━━\u001b[0m\u001b[38;5;237m╺\u001b[0m\u001b[38;5;237m━━━━━\u001b[0m \u001b[35m 86%\u001b[0m \u001b[36m0:00:01\u001b[0m\n"
        },
        "metadata": {},
        "output_type": "display_data"
       }
      ]
     }
    },
    "e9f06d2e0ff645aea882a0958eda2820": {
     "model_module": "@jupyter-widgets/base",
     "model_module_version": "1.2.0",
     "model_name": "LayoutModel",
     "state": {
      "_model_module": "@jupyter-widgets/base",
      "_model_module_version": "1.2.0",
      "_model_name": "LayoutModel",
      "_view_count": null,
      "_view_module": "@jupyter-widgets/base",
      "_view_module_version": "1.2.0",
      "_view_name": "LayoutView",
      "align_content": null,
      "align_items": null,
      "align_self": null,
      "border": null,
      "bottom": null,
      "display": null,
      "flex": null,
      "flex_flow": null,
      "grid_area": null,
      "grid_auto_columns": null,
      "grid_auto_flow": null,
      "grid_auto_rows": null,
      "grid_column": null,
      "grid_gap": null,
      "grid_row": null,
      "grid_template_areas": null,
      "grid_template_columns": null,
      "grid_template_rows": null,
      "height": null,
      "justify_content": null,
      "justify_items": null,
      "left": null,
      "margin": null,
      "max_height": null,
      "max_width": null,
      "min_height": null,
      "min_width": null,
      "object_fit": null,
      "object_position": null,
      "order": null,
      "overflow": null,
      "overflow_x": null,
      "overflow_y": null,
      "padding": null,
      "right": null,
      "top": null,
      "visibility": null,
      "width": null
     }
    },
    "f47cb9c3e20e48acb6df9bed2f0cb7bf": {
     "model_module": "@jupyter-widgets/base",
     "model_module_version": "1.2.0",
     "model_name": "LayoutModel",
     "state": {
      "_model_module": "@jupyter-widgets/base",
      "_model_module_version": "1.2.0",
      "_model_name": "LayoutModel",
      "_view_count": null,
      "_view_module": "@jupyter-widgets/base",
      "_view_module_version": "1.2.0",
      "_view_name": "LayoutView",
      "align_content": null,
      "align_items": null,
      "align_self": null,
      "border": null,
      "bottom": null,
      "display": null,
      "flex": null,
      "flex_flow": null,
      "grid_area": null,
      "grid_auto_columns": null,
      "grid_auto_flow": null,
      "grid_auto_rows": null,
      "grid_column": null,
      "grid_gap": null,
      "grid_row": null,
      "grid_template_areas": null,
      "grid_template_columns": null,
      "grid_template_rows": null,
      "height": null,
      "justify_content": null,
      "justify_items": null,
      "left": null,
      "margin": null,
      "max_height": null,
      "max_width": null,
      "min_height": null,
      "min_width": null,
      "object_fit": null,
      "object_position": null,
      "order": null,
      "overflow": null,
      "overflow_x": null,
      "overflow_y": null,
      "padding": null,
      "right": null,
      "top": null,
      "visibility": null,
      "width": null
     }
    }
   }
  }
 },
 "nbformat": 4,
 "nbformat_minor": 5
}
