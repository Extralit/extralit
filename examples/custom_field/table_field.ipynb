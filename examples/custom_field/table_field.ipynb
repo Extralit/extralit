{
 "cells": [
  {
   "cell_type": "code",
   "execution_count": 2,
   "metadata": {
    "scrolled": true
   },
   "outputs": [
    {
     "name": "stdout",
     "output_type": "stream",
     "text": [
      "The autoreload extension is already loaded. To reload it, use:\n",
      "  %reload_ext autoreload\n"
     ]
    }
   ],
   "source": [
    "%load_ext autoreload\n",
    "%autoreload 2\n",
    "    \n",
    "from datetime import datetime\n",
    "import json\n",
    "\n",
    "import argilla as rg\n",
    "from datasets import load_dataset\n",
    "\n",
    "# client = rg.Argilla(api_url=\"http://localhost:6900/\", api_key='a14427ea-9197-11ec-b909-0242ac120002')\n",
    "client = rg.Argilla(api_url=\"https://extralit-public-demo.hf.space/\", api_key='a14427ea-9197-11ec-b909-0242ac120002')"
   ]
  },
  {
   "cell_type": "code",
   "execution_count": 3,
   "metadata": {},
   "outputs": [
    {
     "name": "stdout",
     "output_type": "stream",
     "text": [
      "Table-Preprocessing\n",
      "3-Integration-Validation\n",
      "2-Data-Extraction\n",
      "2-Data-Extraction\n",
      "Review-Evaluations\n",
      "Trial-Extraction-Compare\n",
      "Trial-Extraction-Compare-Consensus\n",
      "2-Data-Extractions\n",
      "1-Master-Paper-List\n",
      "interactive_chat\n"
     ]
    }
   ],
   "source": [
    "for dataset in client.datasets.list():\n",
    "    print(dataset.name)\n",
    "    # dataset.delete()"
   ]
  },
  {
   "cell_type": "markdown",
   "metadata": {},
   "source": [
    "# Load extraction dataset"
   ]
  },
  {
   "cell_type": "code",
   "execution_count": 14,
   "metadata": {},
   "outputs": [
    {
     "data": {
      "text/plain": [
       "Dataset(id=UUID('3a7abf40-a6b7-4cf6-ac09-d89a8b33ac67') inserted_at=datetime.datetime(2024, 4, 4, 5, 23, 44, 562080) updated_at=datetime.datetime(2024, 11, 15, 0, 35, 14, 753190) name='2-Data-Extractions' status='ready' guidelines=None allow_extra_metadata=True distribution=OverlapTaskDistributionModel(strategy='overlap', min_submitted=1) workspace_id=UUID('e9e4e699-a6f9-4482-b5dd-e45874bd87eb') last_activity_at=datetime.datetime(2024, 12, 4, 19, 24, 44, 830194))"
      ]
     },
     "execution_count": 14,
     "metadata": {},
     "output_type": "execute_result"
    }
   ],
   "source": [
    "dataset = client.datasets(\n",
    "    name=\"2-Data-Extractions\",\n",
    "    workspace=\"itn-recalibration\"\n",
    ")\n",
    "dataset"
   ]
  },
  {
   "cell_type": "code",
   "execution_count": 15,
   "metadata": {},
   "outputs": [
    {
     "data": {
      "text/plain": [
       "[DocumentModel(id=UUID('c6d1a4c2-734f-3c0e-a34d-7ebe0c6c9cc3'), inserted_at=None, updated_at=None, file_name='Adbella_et_al_2009_J_Community_Health.pdf', reference='abdella2009does', doi='10.1007/s10900-008-9132-6', pmid='18958607', url='/api/v1/file/itn-recalibration/pdf/c6d1a4c2-734f-3c0e-a34d-7ebe0c6c9cc3', file_path=None, workspace_id=UUID('e9e4e699-a6f9-4482-b5dd-e45874bd87eb')),\n",
       " DocumentModel(id=UUID('aa927ee8-879f-3179-8514-168510653753'), inserted_at=None, updated_at=None, file_name='2015-Impact_of_Insecticide_Resistance_on_the_Effectiveness_of_Pyrethroid-Based_Malaria_Vectors_Control_Tools_in_Benin_De.pdf', reference='agossa2015impact', doi='10.1371/journal.pone.0145207', pmid='26674643', url='/api/v1/file/itn-recalibration/pdf/aa927ee8-879f-3179-8514-168510653753', file_path=None, workspace_id=UUID('e9e4e699-a6f9-4482-b5dd-e45874bd87eb')),\n",
       " DocumentModel(id=UUID('604f2d86-c7af-3c18-a6bb-2a181dd293aa'), inserted_at=None, updated_at=None, file_name='Anshebo_et_al_2014_Mal_J.pdf', reference='anshebo2014estimation', doi='10.1186/1475-2875-13-80', pmid='24602340', url='/api/v1/file/itn-recalibration/pdf/604f2d86-c7af-3c18-a6bb-2a181dd293aa', file_path=None, workspace_id=UUID('e9e4e699-a6f9-4482-b5dd-e45874bd87eb')),\n",
       " DocumentModel(id=UUID('69098836-cfa5-3ac2-b876-442bd5c914a9'), inserted_at=None, updated_at=None, file_name='Atieli_et_al_2010_Mal_J.pdf', reference='atieli2010effect', doi='10.1186/1475-2875-9-304', pmid='21029477', url='/api/v1/file/itn-recalibration/pdf/69098836-cfa5-3ac2-b876-442bd5c914a9', file_path=None, workspace_id=UUID('e9e4e699-a6f9-4482-b5dd-e45874bd87eb')),\n",
       " DocumentModel(id=UUID('13b8dcab-8b78-317d-a5f6-08b953adddb7'), inserted_at=None, updated_at=None, file_name='Birhanu_et_al_2019_Mal_J.pdf', reference='birhanu2019bio', doi='10.1186/s12936-019-2641-1', pmid='31272452', url='/api/v1/file/itn-recalibration/pdf/13b8dcab-8b78-317d-a5f6-08b953adddb7', file_path=None, workspace_id=UUID('e9e4e699-a6f9-4482-b5dd-e45874bd87eb')),\n",
       " DocumentModel(id=UUID('e70bb442-61ff-3189-926e-3ced2b7f91a2'), inserted_at=None, updated_at=None, file_name='Field_efficacy_of_pyrethroid_treated_plastic_sheeting_durable_lining_in_combination_with_long_lasting_insecticidal_nets_.pdf', reference='chandre2010field', doi='10.1186/1756-3305-3-65', pmid='20682050', url='/api/v1/file/itn-recalibration/pdf/e70bb442-61ff-3189-926e-3ced2b7f91a2', file_path=None, workspace_id=UUID('e9e4e699-a6f9-4482-b5dd-e45874bd87eb')),\n",
       " DocumentModel(id=UUID('b68a3438-c3fc-364b-9e43-aab0a02fe692'), inserted_at=None, updated_at=None, file_name='curtis2000comparison.pdf', reference='curtis2000comparison', doi='10.1590/S0042-96862000001200006', pmid='11196486', url='/api/v1/file/itn-recalibration/pdf/b68a3438-c3fc-364b-9e43-aab0a02fe692', file_path=None, workspace_id=UUID('e9e4e699-a6f9-4482-b5dd-e45874bd87eb')),\n",
       " DocumentModel(id=UUID('2cb72a3a-8f30-306d-a57f-ee786397e16e'), inserted_at=None, updated_at=None, file_name='Abdulla_et_al___2001___Impact_on_malaria_morbidity_of_a_programme_supplying_insecticide_treated_nets_in_children_aged_un.pdf', reference='abdulla2001impact', doi='10.1136/bmj.322.7281.270', pmid='11157527', url='/api/v1/file/itn-recalibration/pdf/2cb72a3a-8f30-306d-a57f-ee786397e16e', file_path=None, workspace_id=UUID('e9e4e699-a6f9-4482-b5dd-e45874bd87eb')),\n",
       " DocumentModel(id=UUID('81449724-75a9-385c-a70e-24517cfeb045'), inserted_at=None, updated_at=None, file_name='Ahoua_Alou_et_al_2012_Parasites_and_Vectors.pdf', reference='ahoua2012status', doi='10.1186/1756-3305-5-289', pmid='23232083', url='/api/v1/file/itn-recalibration/pdf/81449724-75a9-385c-a70e-24517cfeb045', file_path=None, workspace_id=UUID('e9e4e699-a6f9-4482-b5dd-e45874bd87eb')),\n",
       " DocumentModel(id=UUID('7896c3be-a03e-3410-ac0d-9208afaaa381'), inserted_at=None, updated_at=None, file_name='Asale_et_al_2014_Parasites_and_Vectors.pdf', reference='asale2014evaluation', doi='10.1186/1756-3305-7-131', pmid='24678605', url='/api/v1/file/itn-recalibration/pdf/7896c3be-a03e-3410-ac0d-9208afaaa381', file_path=None, workspace_id=UUID('e9e4e699-a6f9-4482-b5dd-e45874bd87eb')),\n",
       " DocumentModel(id=UUID('f49ce774-7662-36b6-b15f-c169a9cf87e8'), inserted_at=None, updated_at=None, file_name='Awolola_et_al_2014_Parasites_and_Vectors.pdf', reference='awolola2014impact', doi='10.1186/1756-3305-7-236', pmid='24886399', url='/api/v1/file/itn-recalibration/pdf/f49ce774-7662-36b6-b15f-c169a9cf87e8', file_path=None, workspace_id=UUID('e9e4e699-a6f9-4482-b5dd-e45874bd87eb')),\n",
       " DocumentModel(id=UUID('a1961207-e08e-322f-8702-be7c2b0774aa'), inserted_at=None, updated_at=None, file_name='Bobanga_et_al_2012_J_Vector_Borne_Dis.pdf', reference='bobanga2013field', doi=None, pmid='24220080', url='/api/v1/file/itn-recalibration/pdf/a1961207-e08e-322f-8702-be7c2b0774aa', file_path=None, workspace_id=UUID('e9e4e699-a6f9-4482-b5dd-e45874bd87eb')),\n",
       " DocumentModel(id=UUID('9897ca42-2dee-3b14-88eb-c43ca8e1491c'), inserted_at=None, updated_at=None, file_name='Efficacy_of_bifenthrin_impregnated_bednets_against_Anopheles_funestus_and_pyrethroid_resistant_Anopheles_gambiae_in_Nort.pdf', reference='chouaibou2006efficacy', doi='10.1186/1475-2875-5-77', pmid='16961938', url='/api/v1/file/itn-recalibration/pdf/9897ca42-2dee-3b14-88eb-c43ca8e1491c', file_path=None, workspace_id=UUID('e9e4e699-a6f9-4482-b5dd-e45874bd87eb')),\n",
       " DocumentModel(id=UUID('6986971e-edc9-318c-8efa-466f55aa40cd'), inserted_at=None, updated_at=None, file_name='Personal_protection_of_long_lasting_insecticide_treated_nets_in_areas_of_Anopheles_gambiae_ss_resistance_to_pyrethroids.pdf', reference='dabire2006personal', doi='10.1186/1475-2875-5-12', pmid='16472385', url='/api/v1/file/itn-recalibration/pdf/6986971e-edc9-318c-8efa-466f55aa40cd', file_path=None, workspace_id=UUID('e9e4e699-a6f9-4482-b5dd-e45874bd87eb')),\n",
       " DocumentModel(id=UUID('63bfc274-32aa-35ca-b032-9ac9380c0dfa'), inserted_at=None, updated_at=None, file_name='pmi2018senegal.pdf', reference='pmi2018senegal', doi=None, pmid=None, url='/api/v1/file/itn-recalibration/pdf/63bfc274-32aa-35ca-b032-9ac9380c0dfa', file_path=None, workspace_id=UUID('e9e4e699-a6f9-4482-b5dd-e45874bd87eb')),\n",
       " DocumentModel(id=UUID('742a7a16-570b-3ad0-b218-c25b86e52dd0'), inserted_at=None, updated_at=None, file_name='Reduced_bio_efficacy_of_permethrin_EC_impregnated_bednets_against_an_Anopheles_gambiae_strain_with_oxidase_based_pyrethr.pdf', reference='etang2004reduced', doi='10.1186/1475-2875-3-46', pmid='15569394', url='/api/v1/file/itn-recalibration/pdf/742a7a16-570b-3ad0-b218-c25b86e52dd0', file_path=None, workspace_id=UUID('e9e4e699-a6f9-4482-b5dd-e45874bd87eb')),\n",
       " DocumentModel(id=UUID('d3930300-de99-3a6d-8679-79c3d6f24a4b'), inserted_at=None, updated_at=None, file_name='Guillet_et_al_2001_Med_Vet_Ento.pdf', reference='guillet2001combined', doi='10.1046/j.1365-2915.2001.00288.x', pmid='11297094', url='/api/v1/file/itn-recalibration/pdf/d3930300-de99-3a6d-8679-79c3d6f24a4b', file_path=None, workspace_id=UUID('e9e4e699-a6f9-4482-b5dd-e45874bd87eb')),\n",
       " DocumentModel(id=UUID('37db4192-7427-339d-98d3-21e45c85261a'), inserted_at=None, updated_at=None, file_name='Hawley_et_al___2003___Community_wide_effects_of_permethrin_treated_bed_nets_on_child_mortality_and_malaria_morbidity_in_.pdf', reference='hawley2003community', doi='10.4269/ajtmh.2003.68.121', pmid='12749495', url='/api/v1/file/itn-recalibration/pdf/37db4192-7427-339d-98d3-21e45c85261a', file_path=None, workspace_id=UUID('e9e4e699-a6f9-4482-b5dd-e45874bd87eb')),\n",
       " DocumentModel(id=UUID('d77039c3-e437-344a-bd70-b82964cc5fb5'), inserted_at=None, updated_at=None, file_name='Anopheles_gambiae_populations_from_Burkina_Faso_show_minimal_delayed_mortality_after_exposure_to_insecticide_treated_net.pdf', reference='hughes2020anopheles', doi='10.1186/s13071-019-3872-2', pmid='31924276', url='/api/v1/file/itn-recalibration/pdf/d77039c3-e437-344a-bd70-b82964cc5fb5', file_path=None, workspace_id=UUID('e9e4e699-a6f9-4482-b5dd-e45874bd87eb')),\n",
       " DocumentModel(id=UUID('9f5746dd-a815-31c6-a000-a686dd64bc21'), inserted_at=None, updated_at=None, file_name='Togo_2018_PBO.pdf', reference='ketoh2018efficacy', doi='10.1371/journal.pone.0192492', pmid='29995894', url='/api/v1/file/itn-recalibration/pdf/9f5746dd-a815-31c6-a000-a686dd64bc21', file_path=None, workspace_id=UUID('e9e4e699-a6f9-4482-b5dd-e45874bd87eb')),\n",
       " DocumentModel(id=UUID('a9e2c94c-c87d-3a84-8328-c4899e78e4e6'), inserted_at=None, updated_at=None, file_name='Kolaczinski_et_al_2000_Bull_Ento_Res.pdf', reference='kolaczinski2000experimental', doi='10.1017/s0007485300000237', pmid='10948372', url='/api/v1/file/itn-recalibration/pdf/a9e2c94c-c87d-3a84-8328-c4899e78e4e6', file_path=None, workspace_id=UUID('e9e4e699-a6f9-4482-b5dd-e45874bd87eb')),\n",
       " DocumentModel(id=UUID('8d8d8b59-8c12-3c2c-9290-d3d8eef707ae'), inserted_at=None, updated_at=None, file_name='Kweka_et_al_2019_Mal_J.pdf', reference='kweka2019bio', doi='10.1186/s12936-019-2973-x', pmid='31570107', url='/api/v1/file/itn-recalibration/pdf/8d8d8b59-8c12-3c2c-9290-d3d8eef707ae', file_path=None, workspace_id=UUID('e9e4e699-a6f9-4482-b5dd-e45874bd87eb')),\n",
       " DocumentModel(id=UUID('3f961e02-9a3a-3979-aa61-4d24542aea8e'), inserted_at=None, updated_at=None, file_name='malima2008experimental.pdf', reference='malima2008experimental', doi='10.1186/1475-2875-7-38', pmid=None, url='/api/v1/file/itn-recalibration/pdf/3f961e02-9a3a-3979-aa61-4d24542aea8e', file_path=None, workspace_id=UUID('e9e4e699-a6f9-4482-b5dd-e45874bd87eb')),\n",
       " DocumentModel(id=UUID('281b9350-03c1-34f2-94f0-c1602a7b221d'), inserted_at=None, updated_at=None, file_name='Durability_of_Olyset_campaign_nets_distributed_between_2009_and_2011_in_eight_districts_of_Tanzania.pdf', reference='massue2016durability', doi='10.1186/s12936-016-1225-6', pmid='26993981', url='/api/v1/file/itn-recalibration/pdf/281b9350-03c1-34f2-94f0-c1602a7b221d', file_path=None, workspace_id=UUID('e9e4e699-a6f9-4482-b5dd-e45874bd87eb')),\n",
       " DocumentModel(id=UUID('3f5a6271-5e0e-3e7f-b95e-5294b157769a'), inserted_at=None, updated_at=None, file_name='2014-Human_exposure_to_early_morning_Anopheles_funestus_biting_behavior_and_personal_protection_provided_by_long-lasting.pdf', reference='moiroux2014human', doi='10.1371/journal.pone.0104967', pmid='25115830', url='/api/v1/file/itn-recalibration/pdf/3f5a6271-5e0e-3e7f-b95e-5294b157769a', file_path=None, workspace_id=UUID('e9e4e699-a6f9-4482-b5dd-e45874bd87eb')),\n",
       " DocumentModel(id=UUID('5c9c5f29-ac79-3745-a96f-b557f939a0ce'), inserted_at=None, updated_at=None, file_name='Msuya_and_Curtis_1990_Acta_Tropica.pdf', reference='msuya1991trial', doi='10.1016/0001-706X(91)90035-I', pmid=None, url='/api/v1/file/itn-recalibration/pdf/5c9c5f29-ac79-3745-a96f-b557f939a0ce', file_path=None, workspace_id=UUID('e9e4e699-a6f9-4482-b5dd-e45874bd87eb')),\n",
       " DocumentModel(id=UUID('1b4a7885-724e-3dd3-a459-71c6f958cf7d'), inserted_at=None, updated_at=None, file_name='nevill1996insecticide.pdf', reference='nevill1996insecticide', doi='10.1111/j.1365-3156.1996.tb00019.x', pmid=None, url='/api/v1/file/itn-recalibration/pdf/1b4a7885-724e-3dd3-a459-71c6f958cf7d', file_path=None, workspace_id=UUID('e9e4e699-a6f9-4482-b5dd-e45874bd87eb')),\n",
       " DocumentModel(id=UUID('72761a97-e218-3d68-88ca-45811f5a9726'), inserted_at=None, updated_at=None, file_name='Efficacy_of_the_Olyset_Duo_net_against_insecticide_resistant_mosquito_vectors_of_malaria.pdf', reference='ngufor2016efficacy', doi='10.1126/scitranslmed.aad3270', pmid='27629488', url='/api/v1/file/itn-recalibration/pdf/72761a97-e218-3d68-88ca-45811f5a9726', file_path=None, workspace_id=UUID('e9e4e699-a6f9-4482-b5dd-e45874bd87eb')),\n",
       " DocumentModel(id=UUID('7dcce311-28b8-3938-96e1-16fe2ee75530'), inserted_at=None, updated_at=None, file_name='Okoyo_et_al_2015_Mal_J.pdf', reference='okoyo2015comparing', doi='10.1186/s12936-015-1031-6', pmid='26696416', url='/api/v1/file/itn-recalibration/pdf/7dcce311-28b8-3938-96e1-16fe2ee75530', file_path=None, workspace_id=UUID('e9e4e699-a6f9-4482-b5dd-e45874bd87eb')),\n",
       " DocumentModel(id=UUID('cf816cc8-d900-36ff-bbc2-df73f415b77a'), inserted_at=None, updated_at=None, file_name='Padonou_et_al_2012_Parasites_and_Vectors.pdf', reference='padonou2012decreased', doi='10.1186/1756-3305-5-262', pmid='23151270', url='/api/v1/file/itn-recalibration/pdf/cf816cc8-d900-36ff-bbc2-df73f415b77a', file_path=None, workspace_id=UUID('e9e4e699-a6f9-4482-b5dd-e45874bd87eb')),\n",
       " DocumentModel(id=UUID('6f50f538-55b5-3772-a108-4b8b8ac72f39'), inserted_at=None, updated_at=None, file_name='robert1991influence.pdf', reference='robert1991influence', doi=None, pmid='1786622', url='/api/v1/file/itn-recalibration/pdf/6f50f538-55b5-3772-a108-4b8b8ac72f39', file_path=None, workspace_id=UUID('e9e4e699-a6f9-4482-b5dd-e45874bd87eb')),\n",
       " DocumentModel(id=UUID('3ddeccdb-d559-3e71-9369-52d4394250f0'), inserted_at=None, updated_at=None, file_name='Spitzen_et_al_2017_Acta_Tropica.pdf', reference='spitzen2017effect', doi='10.1016/j.actatropica.2017.05.008', pmid='28495403', url='/api/v1/file/itn-recalibration/pdf/3ddeccdb-d559-3e71-9369-52d4394250f0', file_path=None, workspace_id=UUID('e9e4e699-a6f9-4482-b5dd-e45874bd87eb')),\n",
       " DocumentModel(id=UUID('f1c312b6-f1df-3033-ad9b-5597a307e60d'), inserted_at=None, updated_at=None, file_name='terlouw2010impact.pdf', reference='terlouw2010impact', doi='10.1186/1475-2875-9-199', pmid=None, url='/api/v1/file/itn-recalibration/pdf/f1c312b6-f1df-3033-ad9b-5597a307e60d', file_path=None, workspace_id=UUID('e9e4e699-a6f9-4482-b5dd-e45874bd87eb')),\n",
       " DocumentModel(id=UUID('09f85ff2-a9a3-3b13-a9ee-da39f0f10723'), inserted_at=None, updated_at=None, file_name='Comparative_study_on_the_efficacy_of_lambdacyhalothrin_and_bifenthrin_on_torn_nets_against_the_malaria_vector_Anopheles_.pdf', reference='vatandoost2006comparative', doi=None, pmid='17024863', url='/api/v1/file/itn-recalibration/pdf/09f85ff2-a9a3-3b13-a9ee-da39f0f10723', file_path=None, workspace_id=UUID('e9e4e699-a6f9-4482-b5dd-e45874bd87eb')),\n",
       " DocumentModel(id=UUID('9f4d1f39-2b18-3bd2-b8fd-680f03ccf12c'), inserted_at=None, updated_at=None, file_name='abdulla2005spatial.pdf', reference='abdulla2005spatial', doi='10.1111/j.1365-3156.2004.01354.x', pmid=None, url='/api/v1/file/itn-recalibration/pdf/9f4d1f39-2b18-3bd2-b8fd-680f03ccf12c', file_path=None, workspace_id=UUID('e9e4e699-a6f9-4482-b5dd-e45874bd87eb')),\n",
       " DocumentModel(id=UUID('8fdfdf21-8f90-3cca-954b-90998b65e882'), inserted_at=None, updated_at=None, file_name='Benin_2018_PBO.pdf', reference='akoton2018experimental', doi='10.12688/wellcomeopenres.14589.1', pmid=None, url='/api/v1/file/itn-recalibration/pdf/8fdfdf21-8f90-3cca-954b-90998b65e882', file_path=None, workspace_id=UUID('e9e4e699-a6f9-4482-b5dd-e45874bd87eb')),\n",
       " DocumentModel(id=UUID('296e5890-df66-37f6-b92f-785a0af318a1'), inserted_at=None, updated_at=None, file_name='Asidi_et_al_2004_Med_Vet_Ento.pdf', reference='asidi2004experimental', doi='10.1111/j.0269-283X.2004.00485.x', pmid=None, url='/api/v1/file/itn-recalibration/pdf/296e5890-df66-37f6-b92f-785a0af318a1', file_path=None, workspace_id=UUID('e9e4e699-a6f9-4482-b5dd-e45874bd87eb')),\n",
       " DocumentModel(id=UUID('afad1dd6-f382-3717-9992-79b52763f5f5'), inserted_at=None, updated_at=None, file_name='Badolo_et_al_2012_J_Vector_Borne_Dis.pdf', reference='badolo2012experimental', doi=None, pmid='23428523', url='/api/v1/file/itn-recalibration/pdf/afad1dd6-f382-3717-9992-79b52763f5f5', file_path=None, workspace_id=UUID('e9e4e699-a6f9-4482-b5dd-e45874bd87eb')),\n",
       " DocumentModel(id=UUID('676261c9-dae1-3f9a-8128-11e3a0e4f352'), inserted_at=None, updated_at=None, file_name='Bogh_et_al_1998_Med_Vet_Ento.pdf', reference='bogh1998permethrin', doi='10.1046/j.1365-2915.1998.00091.x', pmid=None, url='/api/v1/file/itn-recalibration/pdf/676261c9-dae1-3f9a-8128-11e3a0e4f352', file_path=None, workspace_id=UUID('e9e4e699-a6f9-4482-b5dd-e45874bd87eb')),\n",
       " DocumentModel(id=UUID('be8fb4b4-4d45-3c3e-b187-ee392eed6a15'), inserted_at=None, updated_at=None, file_name='Corbel_2010_Field_efficacy_of_a_new_mosaic_long.pdf', reference='corbel2010field', doi='10.1186/1475-2875-9-113', pmid='20423479', url='/api/v1/file/itn-recalibration/pdf/be8fb4b4-4d45-3c3e-b187-ee392eed6a15', file_path=None, workspace_id=UUID('e9e4e699-a6f9-4482-b5dd-e45874bd87eb')),\n",
       " DocumentModel(id=UUID('af07fa00-0f5b-3c44-b5c7-5d99ccdea263'), inserted_at=None, updated_at=None, file_name='DAllessandro_et_al_1995_Lancet.pdf', reference='dalessandro1995mortality', doi='10.1016/S0140-6736(95)90582-0', pmid=None, url='/api/v1/file/itn-recalibration/pdf/af07fa00-0f5b-3c44-b5c7-5d99ccdea263', file_path=None, workspace_id=UUID('e9e4e699-a6f9-4482-b5dd-e45874bd87eb')),\n",
       " DocumentModel(id=UUID('1df63cbb-4cfa-3067-bf33-8994dc1dc0f5'), inserted_at=None, updated_at=None, file_name='Managing_insecticide_resistance_in_malaria_vectors_by_combining_carbamate_treated_plastic_wall_sheeting_and_pyrethroid_t.pdf', reference='djenontin2009managing', doi='10.1186/1475-2875-8-233', pmid='19843332', url='/api/v1/file/itn-recalibration/pdf/1df63cbb-4cfa-3067-bf33-8994dc1dc0f5', file_path=None, workspace_id=UUID('e9e4e699-a6f9-4482-b5dd-e45874bd87eb')),\n",
       " DocumentModel(id=UUID('af25c98c-b6fd-3b5c-9d2b-dbf5882e423d'), inserted_at=None, updated_at=None, file_name='Etang_et_al_2007_Trans_RSTMH.pdf', reference='etang2007preliminary', doi='10.1016/j.trstmh.2007.05.012', pmid='17632192', url='/api/v1/file/itn-recalibration/pdf/af25c98c-b6fd-3b5c-9d2b-dbf5882e423d', file_path=None, workspace_id=UUID('e9e4e699-a6f9-4482-b5dd-e45874bd87eb')),\n",
       " DocumentModel(id=UUID('b23e2adf-e249-3424-8db4-cec48058a841'), inserted_at=None, updated_at=None, file_name='Hamel_et_al_2011_AJTMH.pdf', reference='hamel2011combination', doi='10.4269/ajtmh.2011.10-0684', pmid='22144448', url='/api/v1/file/itn-recalibration/pdf/b23e2adf-e249-3424-8db4-cec48058a841', file_path=None, workspace_id=UUID('e9e4e699-a6f9-4482-b5dd-e45874bd87eb')),\n",
       " DocumentModel(id=UUID('4c760837-0db2-38b9-aae2-a3b349dcdc74'), inserted_at=None, updated_at=None, file_name='Henry_et_al___2005___Protective_efficacy_of_lambda_cyhalothrin_treated_nets_in_Anopheles_gambiae_pyrethroid_resistance_a.pdf', reference='henry2005protective', doi='10.4269/ajtmh.2005.73.859', pmid='16282294', url='/api/v1/file/itn-recalibration/pdf/4c760837-0db2-38b9-aae2-a3b349dcdc74', file_path=None, workspace_id=UUID('e9e4e699-a6f9-4482-b5dd-e45874bd87eb')),\n",
       " DocumentModel(id=UUID('0736313e-dbb1-3f5b-9aea-09cd7faa54d4'), inserted_at=None, updated_at=None, file_name='Ibrahim_et_al_2019_Infect_Dis_Pov.pdf', reference='ibrahim2019high', doi='10.1186/s40249-019-0605-x', pmid='31796068', url='/api/v1/file/itn-recalibration/pdf/0736313e-dbb1-3f5b-9aea-09cd7faa54d4', file_path=None, workspace_id=UUID('e9e4e699-a6f9-4482-b5dd-e45874bd87eb')),\n",
       " DocumentModel(id=UUID('381ccfaa-db44-3546-8239-62017d16a611'), inserted_at=None, updated_at=None, file_name='Long_term_field_performance_of_a_polyester_based_long_lasting_insecticidal_mosquito_net_in_rural_Uganda.pdf', reference='kilian2008long', doi='10.1186/1475-2875-7-49', pmid='18355408', url='/api/v1/file/itn-recalibration/pdf/381ccfaa-db44-3546-8239-62017d16a611', file_path=None, workspace_id=UUID('e9e4e699-a6f9-4482-b5dd-e45874bd87eb')),\n",
       " DocumentModel(id=UUID('bf63aafc-ab4f-317b-9e5f-3cf94265d12a'), inserted_at=None, updated_at=None, file_name='Efficacy_of_PermaNetR_20_and_PermaNetR_30_against_insecticide_resistant_Anopheles_gambiae_in_experimental_huts_in_Cote_d.pdf', reference='koudou2011efficacy', doi='10.1186/1475-2875-10-172', pmid='21699703', url='/api/v1/file/itn-recalibration/pdf/bf63aafc-ab4f-317b-9e5f-3cf94265d12a', file_path=None, workspace_id=UUID('e9e4e699-a6f9-4482-b5dd-e45874bd87eb')),\n",
       " DocumentModel(id=UUID('e1c33e0f-6f9d-371c-90ad-c5bbbaf38d37'), inserted_at=None, updated_at=None, file_name='Lines_et_al_1987_Med_Vet_Ento.pdf', reference='lines1987experimental', doi='10.1111/j.1365-2915.1987.tb00321.x', pmid=None, url='/api/v1/file/itn-recalibration/pdf/e1c33e0f-6f9d-371c-90ad-c5bbbaf38d37', file_path=None, workspace_id=UUID('e9e4e699-a6f9-4482-b5dd-e45874bd87eb')),\n",
       " DocumentModel(id=UUID('51190398-a402-317f-9f08-dbe8c5268b8d'), inserted_at=None, updated_at=None, file_name='Malima_et_al_2009_Med_Vet_Ento.pdf', reference='malima2009behavioural', doi='10.1111/j.1365-2915.2009.00837.x', pmid='19941597', url='/api/v1/file/itn-recalibration/pdf/51190398-a402-317f-9f08-dbe8c5268b8d', file_path=None, workspace_id=UUID('e9e4e699-a6f9-4482-b5dd-e45874bd87eb')),\n",
       " DocumentModel(id=UUID('379e503c-af46-340c-ab2a-76160e2e1960'), inserted_at=None, updated_at=None, file_name='Maxwell_et_al_1999_Trans_RSTMH.pdf', reference='maxwell1999comparison', doi='10.1016/S0035-9203(99)90158-X', pmid=None, url='/api/v1/file/itn-recalibration/pdf/379e503c-af46-340c-ab2a-76160e2e1960', file_path=None, workspace_id=UUID('e9e4e699-a6f9-4482-b5dd-e45874bd87eb')),\n",
       " DocumentModel(id=UUID('acb893ad-b39d-3701-8853-a5502ce1429f'), inserted_at=None, updated_at=None, file_name='Experimental_hut_evaluation_of_the_pyrrole_insecticide_chlorfenapyr_on_bed_nets_for_the_control_of_Anopheles_arabiensis_.pdf', reference='mosha2008experimental', doi='10.1111/j.1365-3156.2008.02058.x', pmid='18419583', url='/api/v1/file/itn-recalibration/pdf/acb893ad-b39d-3701-8853-a5502ce1429f', file_path=None, workspace_id=UUID('e9e4e699-a6f9-4482-b5dd-e45874bd87eb')),\n",
       " DocumentModel(id=UUID('9ae13c40-fced-37d1-8ace-6ff36046559c'), inserted_at=None, updated_at=None, file_name='Prior_contact_with_permethrin_decreases_its_irritancy_at_the_following_exposure_among_a_pyrethroid_resistant_malaria_vec.pdf', reference='mulatier2019prior', doi='10.1038/s41598-019-44633-1', pmid='31160750', url='/api/v1/file/itn-recalibration/pdf/9ae13c40-fced-37d1-8ace-6ff36046559c', file_path=None, workspace_id=UUID('e9e4e699-a6f9-4482-b5dd-e45874bd87eb')),\n",
       " DocumentModel(id=UUID('0bc9498c-3fc3-3d42-bd31-8d0722432f1b'), inserted_at=None, updated_at=None, file_name='NGuessan_et_al___2007___Reduced_efficacy_of_insecticide_treated_nets_and_indoor_residual_spraying_for_malaria_control_in.pdf', reference='nguessan2007reduced', doi='10.3201/eid1302.060631', pmid='17479880', url='/api/v1/file/itn-recalibration/pdf/0bc9498c-3fc3-3d42-bd31-8d0722432f1b', file_path=None, workspace_id=UUID('e9e4e699-a6f9-4482-b5dd-e45874bd87eb')),\n",
       " DocumentModel(id=UUID('5281cb70-cf74-382b-974a-6507f5edcb13'), inserted_at=None, updated_at=None, file_name='Which_intervention_is_better_for_malaria_vector_control_insecticide_mixture_long_lasting_insecticidal_nets_or_standard_p.pdf', reference='ngufor2017which', doi='10.1186/s12936-017-1987-5', pmid='28814307', url='/api/v1/file/itn-recalibration/pdf/5281cb70-cf74-382b-974a-6507f5edcb13', file_path=None, workspace_id=UUID('e9e4e699-a6f9-4482-b5dd-e45874bd87eb')),\n",
       " DocumentModel(id=UUID('81309012-b340-3612-9fef-abad0d5bb6e2'), inserted_at=None, updated_at=None, file_name='Quantifying_the_intensity_of_permethrin_insecticide_resistance_in_Anopheles_mosquitoes_in_western_Kenya.pdf', reference='omondi2017quantifying', doi='10.1186/s13071-017-2489-6', pmid='29110724', url='/api/v1/file/itn-recalibration/pdf/81309012-b340-3612-9fef-abad0d5bb6e2', file_path=None, workspace_id=UUID('e9e4e699-a6f9-4482-b5dd-e45874bd87eb')),\n",
       " DocumentModel(id=UUID('9e3c7b17-cf41-37fa-b6b2-44a5d338d7db'), inserted_at=None, updated_at=None, file_name='2013-Efficacy_of_OlysetR_Plus_a_new_long-lasting_insecticidal_net_incorporating_permethrin_and_piperonyl-butoxide_agai.pdf', reference='pennetier2013efficacy', doi='10.1371/journal.pone.0075134', pmid='24116029', url='/api/v1/file/itn-recalibration/pdf/9e3c7b17-cf41-37fa-b6b2-44a5d338d7db', file_path=None, workspace_id=UUID('e9e4e699-a6f9-4482-b5dd-e45874bd87eb')),\n",
       " DocumentModel(id=UUID('58ff63bc-9105-3a3c-9281-d7e5aa504848'), inserted_at=None, updated_at=None, file_name='Schellenberg_et_al_2001_Lancet.pdf', reference='schellenberg2001effect', doi='10.1016/S0140-6736(00)04404-4', pmid='11418148', url='/api/v1/file/itn-recalibration/pdf/58ff63bc-9105-3a3c-9281-d7e5aa504848', file_path=None, workspace_id=UUID('e9e4e699-a6f9-4482-b5dd-e45874bd87eb')),\n",
       " DocumentModel(id=UUID('01c9370d-8626-34de-926c-fd05b37e8ecc'), inserted_at=None, updated_at=None, file_name='Wash_resistance_and_efficacy_of_three_long_lasting_insecticidal_nets_assessed_from_bioassays_on_Anopheles_culicifacies_a.pdf', reference='sreehari2009wash', doi='10.1111/j.1365-3156.2009.02252.x', pmid='19228347', url='/api/v1/file/itn-recalibration/pdf/01c9370d-8626-34de-926c-fd05b37e8ecc', file_path=None, workspace_id=UUID('e9e4e699-a6f9-4482-b5dd-e45874bd87eb')),\n",
       " DocumentModel(id=UUID('459e97e6-49ce-3091-8849-4d9ce06d1dfc'), inserted_at=None, updated_at=None, file_name='Tiono_Lancet_2018_Olyset_Duo_trial.pdf', reference='tiono2018efficacy', doi='10.1016/S0140-6736(18)31711-2', pmid='30104047', url='/api/v1/file/itn-recalibration/pdf/459e97e6-49ce-3091-8849-4d9ce06d1dfc', file_path=None, workspace_id=UUID('e9e4e699-a6f9-4482-b5dd-e45874bd87eb')),\n",
       " DocumentModel(id=UUID('a309593e-2335-3572-bbd3-8ec4f14f5bea'), inserted_at=None, updated_at=None, file_name='Wash_Resistance_and_Bioefficacy_of_Alpha_cypermethrin_Long_Lasting_Impregnated_Nets_LLIN_InterceptorR_against_Anopheles_.pdf', reference='vatandoost2013wash', doi=None, pmid='23785693', url='/api/v1/file/itn-recalibration/pdf/a309593e-2335-3572-bbd3-8ec4f14f5bea', file_path=None, workspace_id=UUID('e9e4e699-a6f9-4482-b5dd-e45874bd87eb')),\n",
       " DocumentModel(id=UUID('c05ea36b-25d7-3d0f-97d3-3f5a741c8cfc'), inserted_at=None, updated_at=None, file_name='Efficacy_of_ICONR_Maxx_in_the_laboratory_and_against_insecticide_resistant_Anopheles_gambiae_in_central_Cote_dIvoire.pdf', reference='winkler2012efficacy', doi='10.1186/1475-2875-11-167', pmid='22587687', url='/api/v1/file/itn-recalibration/pdf/c05ea36b-25d7-3d0f-97d3-3f5a741c8cfc', file_path=None, workspace_id=UUID('e9e4e699-a6f9-4482-b5dd-e45874bd87eb')),\n",
       " DocumentModel(id=UUID('b80dd159-468c-3e3f-b25f-929055930252'), inserted_at=None, updated_at=None, file_name='12936_2015_Article_885_pdf.pdf', reference='abilio2015bio', doi='10.1186/s12936-015-0885-y', pmid=None, url='/api/v1/file/itn-recalibration/pdf/b80dd159-468c-3e3f-b25f-929055930252', file_path=None, workspace_id=UUID('e9e4e699-a6f9-4482-b5dd-e45874bd87eb')),\n",
       " DocumentModel(id=UUID('32dede8a-c432-3adf-99e7-c4327fbdbb7a'), inserted_at=None, updated_at=None, file_name='Allossogbe_et_al_2017_Mal_J.pdf', reference='allossogbe2017who', doi='10.1186/s12936-017-1727-x', pmid='28202024', url='/api/v1/file/itn-recalibration/pdf/32dede8a-c432-3adf-99e7-c4327fbdbb7a', file_path=None, workspace_id=UUID('e9e4e699-a6f9-4482-b5dd-e45874bd87eb')),\n",
       " DocumentModel(id=UUID('3981aff4-7843-36d5-9962-1797638f86ae'), inserted_at=None, updated_at=None, file_name='Asidi_et_al___2005___Experimental_hut_evaluation_of_bednets_treated_with_an_organophosphate_chlorpyrifos_methyl_or_a_pyr.pdf', reference='asidi2005experimental', doi='10.1186/1475-2875-4-25', pmid='15918909', url='/api/v1/file/itn-recalibration/pdf/3981aff4-7843-36d5-9962-1797638f86ae', file_path=None, workspace_id=UUID('e9e4e699-a6f9-4482-b5dd-e45874bd87eb')),\n",
       " DocumentModel(id=UUID('e2de000f-f72f-3305-ad4c-955028e7292e'), inserted_at=None, updated_at=None, file_name='Bayili_2017_efficacy_of_G2.pdf', reference='bayili2017evaluation', doi='10.1186/s12936-017-1846-4', pmid=None, url='/api/v1/file/itn-recalibration/pdf/e2de000f-f72f-3305-ad4c-955028e7292e', file_path=None, workspace_id=UUID('e9e4e699-a6f9-4482-b5dd-e45874bd87eb')),\n",
       " DocumentModel(id=UUID('d9f9e03e-60ca-3b58-9b42-10d34ee9a813'), inserted_at=None, updated_at=None, file_name='Physical_integrity_and_residual_bio_efficacy_of_used_LLINs_in_three_cities_of_the_South_West_region_of_Cameroon_4_years_.pdf', reference='boussougou2017physical', doi='10.1186/s12936-017-1690-6', pmid='28095873', url='/api/v1/file/itn-recalibration/pdf/d9f9e03e-60ca-3b58-9b42-10d34ee9a813', file_path=None, workspace_id=UUID('e9e4e699-a6f9-4482-b5dd-e45874bd87eb')),\n",
       " DocumentModel(id=UUID('7255de17-25cb-3761-9dac-31156d60db7c'), inserted_at=None, updated_at=None, file_name='Curtis_et_al_2003_J_Vector_Borne_Dis.pdf', reference='curtis2003insecticide', doi=None, pmid='15119065', url='/api/v1/file/itn-recalibration/pdf/7255de17-25cb-3761-9dac-31156d60db7c', file_path=None, workspace_id=UUID('e9e4e699-a6f9-4482-b5dd-e45874bd87eb')),\n",
       " DocumentModel(id=UUID('b6325f5e-06ce-3094-b50b-ee492ad9e2cb'), inserted_at=None, updated_at=None, file_name='Darriet_et_al_2002_Bull_Soc_Path_Exot.pdf', reference='darriet2002experimental', doi=None, pmid='12596384', url='/api/v1/file/itn-recalibration/pdf/b6325f5e-06ce-3094-b50b-ee492ad9e2cb', file_path=None, workspace_id=UUID('e9e4e699-a6f9-4482-b5dd-e45874bd87eb')),\n",
       " DocumentModel(id=UUID('68f2820f-e284-35a6-bd10-f82056d5bcee'), inserted_at=None, updated_at=None, file_name='Djenontin_2010_carbamate.pdf', reference='djenontin2010indoor', doi='10.4269/ajtmh.2010.10-0012', pmid='20682865', url='/api/v1/file/itn-recalibration/pdf/68f2820f-e284-35a6-bd10-f82056d5bcee', file_path=None, workspace_id=UUID('e9e4e699-a6f9-4482-b5dd-e45874bd87eb')),\n",
       " DocumentModel(id=UUID('affa9281-ef4c-3c96-8ee8-9f1ccae88662'), inserted_at=None, updated_at=None, file_name='A_combination_of_metabolic_resistance_and_high_frequency_of_the_1014F_kdr_mutation_is_driving_pyrethroid_resistance_in_A.pdf', reference='fadel2019combination', doi='10.1186/s13071-019-3523-7', pmid='31133042', url='/api/v1/file/itn-recalibration/pdf/affa9281-ef4c-3c96-8ee8-9f1ccae88662', file_path=None, workspace_id=UUID('e9e4e699-a6f9-4482-b5dd-e45874bd87eb')),\n",
       " DocumentModel(id=UUID('5826ba65-9416-3525-a947-58d6feedcb32'), inserted_at=None, updated_at=None, file_name='Hassan_et_al_2008_Mal_J.pdf', reference='hassan2008retention', doi='10.1186/1475-2875-7-85', pmid='18492258', url='/api/v1/file/itn-recalibration/pdf/5826ba65-9416-3525-a947-58d6feedcb32', file_path=None, workspace_id=UUID('e9e4e699-a6f9-4482-b5dd-e45874bd87eb')),\n",
       " DocumentModel(id=UUID('6d292df4-42a5-33e3-8ba6-dbf8360a1001'), inserted_at=None, updated_at=None, file_name='Bifenthrin_a_useful_pyrethroid_insecticide_for_treatment_of_mosquito_nets.pdf', reference='hougard2002useful', doi='10.1603/0022-2585-39.3.526', pmid='12061451', url='/api/v1/file/itn-recalibration/pdf/6d292df4-42a5-33e3-8ba6-dbf8360a1001', file_path=None, workspace_id=UUID('e9e4e699-a6f9-4482-b5dd-e45874bd87eb')),\n",
       " DocumentModel(id=UUID('d7ff7b19-24e2-3f91-93b7-88bfa12c6ab2'), inserted_at=None, updated_at=None, file_name='Aging_partially_restores_the_efficacy_of_malaria_vector_control_in_insecticide_resistant_populations_of_Anopheles_gambia.pdf', reference='jones2012aging', doi='10.1186/1475-2875-11-24', pmid='22269002', url='/api/v1/file/itn-recalibration/pdf/d7ff7b19-24e2-3f91-93b7-88bfa12c6ab2', file_path=None, workspace_id=UUID('e9e4e699-a6f9-4482-b5dd-e45874bd87eb')),\n",
       " DocumentModel(id=UUID('fcae54e3-179f-38ec-ba34-cb4a6a4765d8'), inserted_at=None, updated_at=None, file_name='Kilian_et_al___2011___Evidence_for_a_useful_life_of_more_than_three_years_for_a_polyester_based_long_lasting_insecticida.pdf', reference='kilian2011evidence', doi='10.1186/1475-2875-10-299', pmid='21992483', url='/api/v1/file/itn-recalibration/pdf/fcae54e3-179f-38ec-ba34-cb4a6a4765d8', file_path=None, workspace_id=UUID('e9e4e699-a6f9-4482-b5dd-e45874bd87eb')),\n",
       " DocumentModel(id=UUID('849fce63-d498-3cf7-998f-5812f718855d'), inserted_at=None, updated_at=None, file_name='Efficacy_of_pyrethroid_treated_nets_against_malaria_vectors_and_nuisance_biting_mosquitoes_in_Tanzania_in_areas_with_lon.pdf', reference='kulkarni2007efficacy', doi='10.1111/j.1365-3156.2007.01883.x', pmid='17875017', url='/api/v1/file/itn-recalibration/pdf/849fce63-d498-3cf7-998f-5812f718855d', file_path=None, workspace_id=UUID('e9e4e699-a6f9-4482-b5dd-e45874bd87eb')),\n",
       " DocumentModel(id=UUID('3fbfdfc1-a45d-35c3-9d97-0bb2d8651a8a'), inserted_at=None, updated_at=None, file_name='Magbity_et_al_1997_Med_Vet_Ento.pdf', reference='magbity1997effects', doi='10.1111/j.1365-2915.1997.tb00293.x', pmid=None, url='/api/v1/file/itn-recalibration/pdf/3fbfdfc1-a45d-35c3-9d97-0bb2d8651a8a', file_path=None, workspace_id=UUID('e9e4e699-a6f9-4482-b5dd-e45874bd87eb')),\n",
       " DocumentModel(id=UUID('0553cb1b-f8b8-3d2d-b711-d4ddf0718faf'), inserted_at=None, updated_at=None, file_name='Evaluation_of_the_long_lasting_insecticidal_net_Interceptor_LN_laboratory_and_experimental_hut_studies_against_anophelin.pdf', reference='malima2013evaluation', doi='10.1186/1756-3305-6-296', pmid='24499488', url='/api/v1/file/itn-recalibration/pdf/0553cb1b-f8b8-3d2d-b711-d4ddf0718faf', file_path=None, workspace_id=UUID('e9e4e699-a6f9-4482-b5dd-e45874bd87eb')),\n",
       " DocumentModel(id=UUID('2cc7e9df-b7cb-38e5-9a71-1a69bb1c5411'), inserted_at=None, updated_at=None, file_name='Maxwell_et_al___2002___Effect_of_community_wide_use_of_insecticide_treated_nets_for_3_4_years_on_malarial_morbidity_in_T.pdf', reference='maxwell2002effect', doi='10.1046/j.1365-3156.2002.00966.x', pmid='12460390', url='/api/v1/file/itn-recalibration/pdf/2cc7e9df-b7cb-38e5-9a71-1a69bb1c5411', file_path=None, workspace_id=UUID('e9e4e699-a6f9-4482-b5dd-e45874bd87eb')),\n",
       " DocumentModel(id=UUID('4d38d37c-4ce2-34f9-95b0-5851aa7013c4'), inserted_at=None, updated_at=None, file_name='Mbogo_et_al_1996_Med_Vet_Ento.pdf', reference='mbogo1996impact', doi='10.1111/j.1365-2915.1996.tb00739.x', pmid=None, url='/api/v1/file/itn-recalibration/pdf/4d38d37c-4ce2-34f9-95b0-5851aa7013c4', file_path=None, workspace_id=UUID('e9e4e699-a6f9-4482-b5dd-e45874bd87eb')),\n",
       " DocumentModel(id=UUID('60ce82b8-d6e1-3239-9850-467631aa5ee3'), inserted_at=None, updated_at=None, file_name='Mosha_et_al_2013_Ann_Trop_Med_Parasitol.pdf', reference='mosha2008comparative', doi='10.1179/136485908X278829', pmid='18510817', url='/api/v1/file/itn-recalibration/pdf/60ce82b8-d6e1-3239-9850-467631aa5ee3', file_path=None, workspace_id=UUID('e9e4e699-a6f9-4482-b5dd-e45874bd87eb')),\n",
       " DocumentModel(id=UUID('4f0f9978-849c-3ad0-a7a7-df7069fe1098'), inserted_at=None, updated_at=None, file_name='Muller_et_al_2006_Bull_World_Health_Org.pdf', reference='muller2006effects', doi='10.2471/blt.05.023150', pmid='16501729', url='/api/v1/file/itn-recalibration/pdf/4f0f9978-849c-3ad0-a7a7-df7069fe1098', file_path=None, workspace_id=UUID('e9e4e699-a6f9-4482-b5dd-e45874bd87eb')),\n",
       " DocumentModel(id=UUID('13b11c67-3f13-38dd-9918-afe82124a952'), inserted_at=None, updated_at=None, file_name='A_Chlorfenapyr_Mixture_Net_InterceptorR_G2_Shows_High_Efficacy_and_Wash_Durability_against_Resistant_Mosquitoes_in_West_.pdf', reference='nguessan2016chlorfenapyr', doi='10.1371/journal.pone.0165925', pmid='27851828', url='/api/v1/file/itn-recalibration/pdf/13b11c67-3f13-38dd-9918-afe82124a952', file_path=None, workspace_id=UUID('e9e4e699-a6f9-4482-b5dd-e45874bd87eb')),\n",
       " DocumentModel(id=UUID('7e0cb30e-243e-328e-a3d9-558b5c7b2987'), inserted_at=None, updated_at=None, file_name='Monitoring_the_physical_and_insecticidal_durability_of_the_long_lasting_insecticidal_net_DawaPlusR_20_in_three_States_in.pdf', reference='obi2020monitoring', doi='10.1186/s12936-020-03194-9', pmid='32228592', url='/api/v1/file/itn-recalibration/pdf/7e0cb30e-243e-328e-a3d9-558b5c7b2987', file_path=None, workspace_id=UUID('e9e4e699-a6f9-4482-b5dd-e45874bd87eb')),\n",
       " DocumentModel(id=UUID('1a80a97d-b26b-3d41-9e61-7727b0fb6f34'), inserted_at=None, updated_at=None, file_name='Evaluation_of_an_alpha_cypermethrin__PBO_mixture_long_lasting_insecticidal_net_VEERALINR_LN_against_pyrethroid_resistant.pdf', reference='oumbouke2019evaluation', doi='10.1186/s13071-019-3796-x', pmid='31730481', url='/api/v1/file/itn-recalibration/pdf/1a80a97d-b26b-3d41-9e61-7727b0fb6f34', file_path=None, workspace_id=UUID('e9e4e699-a6f9-4482-b5dd-e45874bd87eb')),\n",
       " DocumentModel(id=UUID('7ad69874-bb4b-3673-87b7-53087a6a1bab'), inserted_at=None, updated_at=None, file_name='Pinder_et_al_2015_Lancet.pdf', reference='pinder2015efficacy', doi='10.1016/S0140-6736(14)61007-2', pmid='25498847', url='/api/v1/file/itn-recalibration/pdf/7ad69874-bb4b-3673-87b7-53087a6a1bab', file_path=None, workspace_id=UUID('e9e4e699-a6f9-4482-b5dd-e45874bd87eb')),\n",
       " DocumentModel(id=UUID('e9145ad9-1fab-3d8f-8fac-7dfc51c26686'), inserted_at=None, updated_at=None, file_name='High_insecticide_resistance_intensity_of_Anopheles_gambiae_sl_and_low_efficacy_of_pyrethroid_LLINs_in_Accra_Ghana.pdf', reference='pwalia2019high', doi='10.1186/s13071-019-3556-y', pmid='31196222', url='/api/v1/file/itn-recalibration/pdf/e9145ad9-1fab-3d8f-8fac-7dfc51c26686', file_path=None, workspace_id=UUID('e9e4e699-a6f9-4482-b5dd-e45874bd87eb')),\n",
       " DocumentModel(id=UUID('7b0230f8-0482-3cd9-b8a9-b8286effea56'), inserted_at=None, updated_at=None, file_name='Wash_resistance_and_bio_efficacy_of_OlysetR_Plus_a_long_lasting_insecticide_treated_mosquito_net_with_synergist_against_.pdf', reference='sheikhi2017wash', doi='10.1016/j.apjtm.2017.08.014', pmid='29080617', url='/api/v1/file/itn-recalibration/pdf/7b0230f8-0482-3cd9-b8a9-b8286effea56', file_path=None, workspace_id=UUID('e9e4e699-a6f9-4482-b5dd-e45874bd87eb')),\n",
       " DocumentModel(id=UUID('c23a4146-a02c-3e79-8fca-7f01df6467a3'), inserted_at=None, updated_at=None, file_name='Tami_et_al___2004___Evaluation_of_Olyset_insecticide_treated_nets_distributed_seven_years_previously_in_Tanzania.pdf', reference='tami2004evaluation', doi='10.1186/1475-2875-3-19', pmid='15225349', url='/api/v1/file/itn-recalibration/pdf/c23a4146-a02c-3e79-8fca-7f01df6467a3', file_path=None, workspace_id=UUID('e9e4e699-a6f9-4482-b5dd-e45874bd87eb')),\n",
       " DocumentModel(id=UUID('b3de4026-d18f-362f-875c-1c7a1fb6d3b4'), inserted_at=None, updated_at=None, file_name='Toe_et_al_2018_Medical_and_Veterinary_Entomology.pdf', reference='toe2018do', doi='10.1111/mve.12316', pmid=None, url='/api/v1/file/itn-recalibration/pdf/b3de4026-d18f-362f-875c-1c7a1fb6d3b4', file_path=None, workspace_id=UUID('e9e4e699-a6f9-4482-b5dd-e45874bd87eb')),\n",
       " DocumentModel(id=UUID('c1a1c0fc-b2c0-36b6-93e4-73152ac91b40'), inserted_at=None, updated_at=None, file_name='Agossa_et_al_2014_Mal_J.pdf', reference='agossa2014laboratory', doi='10.1186/1475-2875-13-193', pmid='24884502', url='/api/v1/file/itn-recalibration/pdf/c1a1c0fc-b2c0-36b6-93e4-73152ac91b40', file_path=None, workspace_id=UUID('e9e4e699-a6f9-4482-b5dd-e45874bd87eb')),\n",
       " DocumentModel(id=UUID('57ecae8c-0010-390d-865a-3c1e1c591692'), inserted_at=None, updated_at=None, file_name='Alonso_et_al_1993_Trans_Roy_Soc_Trop_Med_Hyg.pdf', reference='alonso1993malaria', doi='10.1016/0035-9203(93)90174-O', pmid=None, url='/api/v1/file/itn-recalibration/pdf/57ecae8c-0010-390d-865a-3c1e1c591692', file_path=None, workspace_id=UUID('e9e4e699-a6f9-4482-b5dd-e45874bd87eb')),\n",
       " DocumentModel(id=UUID('bea73ab3-00b3-3b63-bd2d-badbdf15c825'), inserted_at=None, updated_at=None, file_name='asidi2012loss.pdf', reference='asidi2012loss', doi='10.3201/eid1807.120218', pmid=None, url='/api/v1/file/itn-recalibration/pdf/bea73ab3-00b3-3b63-bd2d-badbdf15c825', file_path=None, workspace_id=UUID('e9e4e699-a6f9-4482-b5dd-e45874bd87eb')),\n",
       " DocumentModel(id=UUID('a429f984-c744-3b83-ac61-57407b93a7c1'), inserted_at=None, updated_at=None, file_name='Bayili_et_al_2019_PLoS_One.pdf', reference='bayili2019experimental', doi='10.1371/journal.pone.0226191', pmid='31869350', url='/api/v1/file/itn-recalibration/pdf/a429f984-c744-3b83-ac61-57407b93a7c1', file_path=None, workspace_id=UUID('e9e4e699-a6f9-4482-b5dd-e45874bd87eb')),\n",
       " DocumentModel(id=UUID('c76d2893-29cf-3097-bdcb-4bc48593bdcb'), inserted_at=None, updated_at=None, file_name='Camara_et_al_2018_Parasite.pdf', reference='camara2018efficacy', doi='10.1051/parasite/2018042', pmid='30088473', url='/api/v1/file/itn-recalibration/pdf/c76d2893-29cf-3097-bdcb-4bc48593bdcb', file_path=None, workspace_id=UUID('e9e4e699-a6f9-4482-b5dd-e45874bd87eb')),\n",
       " DocumentModel(id=UUID('1b8a3ecd-08aa-32b6-85f6-dc0216f05634'), inserted_at=None, updated_at=None, file_name='curtis1998comparison.pdf', reference='curtis1998comparison', doi='10.1046/j.1365-3156.1998.00281.x', pmid=None, url='/api/v1/file/itn-recalibration/pdf/1b8a3ecd-08aa-32b6-85f6-dc0216f05634', file_path=None, workspace_id=UUID('e9e4e699-a6f9-4482-b5dd-e45874bd87eb')),\n",
       " DocumentModel(id=UUID('9d86eb06-5309-36cd-84ab-7b47b58b5cd6'), inserted_at=None, updated_at=None, file_name='Darriet_et_al_2005_Bull_Soc_Path_Exot.pdf', reference='darriet2005pyrethoid', doi=None, pmid='16267961', url='/api/v1/file/itn-recalibration/pdf/9d86eb06-5309-36cd-84ab-7b47b58b5cd6', file_path=None, workspace_id=UUID('e9e4e699-a6f9-4482-b5dd-e45874bd87eb')),\n",
       " DocumentModel(id=UUID('18994f3b-bdab-38c5-9316-6590187a74f2'), inserted_at=None, updated_at=None, file_name='Djenontin_et_al_2015_Parasite.pdf', reference='djenontin2015insecticidal', doi='10.1051/parasite/2015027', pmid='26489479', url='/api/v1/file/itn-recalibration/pdf/18994f3b-bdab-38c5-9316-6590187a74f2', file_path=None, workspace_id=UUID('e9e4e699-a6f9-4482-b5dd-e45874bd87eb')),\n",
       " DocumentModel(id=UUID('2efea4db-eb47-37e2-9e7f-019bc9d96e78'), inserted_at=None, updated_at=None, file_name='Fane_et_al_2011_Acta_Tropica.pdf', reference='fane2012anopheles', doi='10.1016/j.actatropica.2011.11.013', pmid='22154879', url='/api/v1/file/itn-recalibration/pdf/2efea4db-eb47-37e2-9e7f-019bc9d96e78', file_path=None, workspace_id=UUID('e9e4e699-a6f9-4482-b5dd-e45874bd87eb')),\n",
       " DocumentModel(id=UUID('fa6b2fd8-7cd9-3020-a1c1-128abef5eefc'), inserted_at=None, updated_at=None, file_name='Hassan_et_al_2012_Asia_Pac_J_Trop_Med.pdf', reference='hassan2012bioassay', doi='10.1016/S1995-7645(12)60144-8', pmid='23043917', url='/api/v1/file/itn-recalibration/pdf/fa6b2fd8-7cd9-3020-a1c1-128abef5eefc', file_path=None, workspace_id=UUID('e9e4e699-a6f9-4482-b5dd-e45874bd87eb')),\n",
       " DocumentModel(id=UUID('84bc9cf0-57de-31b7-87fc-eea38083c12b'), inserted_at=None, updated_at=None, file_name='Efficacy_of_mosquito_nets_treated_with_insecticide_mixtures_or_mosaics_against_insecticide_resistant_Anopheles_gambiae_a.pdf', reference='hougard2003efficacy', doi='10.1079/ber2003261', pmid='14704095', url='/api/v1/file/itn-recalibration/pdf/84bc9cf0-57de-31b7-87fc-eea38083c12b', file_path=None, workspace_id=UUID('e9e4e699-a6f9-4482-b5dd-e45874bd87eb')),\n",
       " DocumentModel(id=UUID('82c0c3a9-1ff8-3e00-b5bf-97c6921c9f48'), inserted_at=None, updated_at=None, file_name='A_small_scale_field_trial_of_pyriproxyfen_impregnated_bed_nets_against_pyrethroid_resistant_Anopheles_gambiae_ss_in_west.pdf', reference='kawada2014small', doi='10.1371/journal.pone.0111195', pmid='25333785', url='/api/v1/file/itn-recalibration/pdf/82c0c3a9-1ff8-3e00-b5bf-97c6921c9f48', file_path=None, workspace_id=UUID('e9e4e699-a6f9-4482-b5dd-e45874bd87eb')),\n",
       " DocumentModel(id=UUID('c914d81c-227c-3394-afae-43963ee75baf'), inserted_at=None, updated_at=None, file_name='s12936_015_0640_4.pdf', reference='kilian2015field', doi='10.1186/s12936-015-0640-4', pmid=None, url='/api/v1/file/itn-recalibration/pdf/c914d81c-227c-3394-afae-43963ee75baf', file_path=None, workspace_id=UUID('e9e4e699-a6f9-4482-b5dd-e45874bd87eb')),\n",
       " DocumentModel(id=UUID('d3e408cc-84b9-39c3-81cc-8f918e371309'), inserted_at=None, updated_at=None, file_name='Durability_associated_efficacy_of_long_lasting_insecticidal_nets_after_five_years_of_household_use.pdf', reference='kweka2011durability', doi='10.1186/1756-3305-4-156', pmid='21819578', url='/api/v1/file/itn-recalibration/pdf/d3e408cc-84b9-39c3-81cc-8f918e371309', file_path=None, workspace_id=UUID('e9e4e699-a6f9-4482-b5dd-e45874bd87eb')),\n",
       " DocumentModel(id=UUID('e3c61ff9-688c-3e3f-8610-71f9af5d1f35'), inserted_at=None, updated_at=None, file_name='Magesa_et_al_1991_Acta_Tropica.pdf', reference='magesa1991trial', doi='10.1016/0001-706X(91)90057-Q', pmid=None, url='/api/v1/file/itn-recalibration/pdf/e3c61ff9-688c-3e3f-8610-71f9af5d1f35', file_path=None, workspace_id=UUID('e9e4e699-a6f9-4482-b5dd-e45874bd87eb')),\n",
       " DocumentModel(id=UUID('3583d6a8-4289-3f63-8e55-dadc509db832'), inserted_at=None, updated_at=None, file_name='Marchant_et_al_2002_Trop_Med_Int_Health.pdf', reference='marchant2002socially', doi='10.1046/j.1365-3156.2002.00840.x', pmid='11841705', url='/api/v1/file/itn-recalibration/pdf/3583d6a8-4289-3f63-8e55-dadc509db832', file_path=None, workspace_id=UUID('e9e4e699-a6f9-4482-b5dd-e45874bd87eb')),\n",
       " DocumentModel(id=UUID('40f4f548-2cf3-3826-80e0-d4c73386296c'), inserted_at=None, updated_at=None, file_name='maxwell2003variation.pdf', reference='maxwell2003variation', doi='10.1186/1475-2875-2-28', pmid=None, url='/api/v1/file/itn-recalibration/pdf/40f4f548-2cf3-3826-80e0-d4c73386296c', file_path=None, workspace_id=UUID('e9e4e699-a6f9-4482-b5dd-e45874bd87eb')),\n",
       " DocumentModel(id=UUID('8c24ec8a-43a1-33cb-ad07-cfd7de2fab9e'), inserted_at=None, updated_at=None, file_name='An_Experimental_Hut_Evaluation_of_PBO_Based_and_Pyrethroid_Only_Nets_against_the_Malaria_Vector_Anopheles_funestus_Revea.pdf', reference='menze2020experimental', doi='10.3390/genes11020143', pmid='32013227', url='/api/v1/file/itn-recalibration/pdf/8c24ec8a-43a1-33cb-ad07-cfd7de2fab9e', file_path=None, workspace_id=UUID('e9e4e699-a6f9-4482-b5dd-e45874bd87eb')),\n",
       " DocumentModel(id=UUID('a8f2d425-1990-39d0-9a79-cec78316deb1'), inserted_at=None, updated_at=None, file_name='Pilot_study_on_the_combination_of_an_organophosphate_based_insecticide_paint_and_pyrethroid_treated_long_lasting_nets_ag.pdf', reference='mosqueira2015pilot', doi='10.1016/j.actatropica.2015.04.010', pmid='25959771', url='/api/v1/file/itn-recalibration/pdf/a8f2d425-1990-39d0-9a79-cec78316deb1', file_path=None, workspace_id=UUID('e9e4e699-a6f9-4482-b5dd-e45874bd87eb')),\n",
       " DocumentModel(id=UUID('5558a891-ee51-37ef-9c5d-a46cd30be8d3'), inserted_at=None, updated_at=None, file_name='Murray_et_al_2020_Nature_Microbio.pdf', reference='murray2020barrier', doi='10.1038/s41564-019-0607-2', pmid='31792426', url='/api/v1/file/itn-recalibration/pdf/5558a891-ee51-37ef-9c5d-a46cd30be8d3', file_path=None, workspace_id=UUID('e9e4e699-a6f9-4482-b5dd-e45874bd87eb')),\n",
       " DocumentModel(id=UUID('efe5fcac-9726-3e2e-bca9-4018c5266ee8'), inserted_at=None, updated_at=None, file_name='Olyset_DuoR_a_pyriproxyfen_and_permethrin_mixture_net_an_experimental_hut_trial_against_pyrethroid_resistant_Anopheles_g.pdf', reference='ngufor2014olyset', doi='10.1371/journal.pone.0093603', pmid='24699827', url='/api/v1/file/itn-recalibration/pdf/efe5fcac-9726-3e2e-bca9-4018c5266ee8', file_path=None, workspace_id=UUID('e9e4e699-a6f9-4482-b5dd-e45874bd87eb')),\n",
       " DocumentModel(id=UUID('4596205c-6eba-39f5-bf08-c215ad6de28d'), inserted_at=None, updated_at=None, file_name='Ochomo_et_al_2017_Emerging_Infect_Dis.pdf', reference='ochomo2017insecticide', doi='10.3201/eid2305.161315', pmid='28418293', url='/api/v1/file/itn-recalibration/pdf/4596205c-6eba-39f5-bf08-c215ad6de28d', file_path=None, workspace_id=UUID('e9e4e699-a6f9-4482-b5dd-e45874bd87eb')),\n",
       " DocumentModel(id=UUID('9a2cc7f7-19b6-3a5e-af13-3c10ce5daffb'), inserted_at=None, updated_at=None, file_name='ITN_mixtures_of_chlorfenapyr_Pyrrole_and_alphacypermethrin_Pyrethroid_for_control_of_pyrethroid_resistant_Anopheles_arab.pdf', reference='oxborough2013itn', doi='10.1371/journal.pone.0055781', pmid='23409042', url='/api/v1/file/itn-recalibration/pdf/9a2cc7f7-19b6-3a5e-af13-3c10ce5daffb', file_path=None, workspace_id=UUID('e9e4e699-a6f9-4482-b5dd-e45874bd87eb')),\n",
       " DocumentModel(id=UUID('6db9cedc-9ded-3866-bb15-d6a101aba1b2'), inserted_at=None, updated_at=None, file_name='Quinones_et_al_1997_Med_Vet_Ento.pdf', reference='quinones1997anopheles', doi='10.1111/j.1365-2915.1997.tb00292.x', pmid=None, url='/api/v1/file/itn-recalibration/pdf/6db9cedc-9ded-3866-bb15-d6a101aba1b2', file_path=None, workspace_id=UUID('e9e4e699-a6f9-4482-b5dd-e45874bd87eb')),\n",
       " DocumentModel(id=UUID('e4ddd1ed-7873-39e8-938d-a87bf8538d0f'), inserted_at=None, updated_at=None, file_name='Do_holes_in_long_lasting_insecticidal_nets_compromise_their_efficacy_against_pyrethroid_resistant_Anopheles_gambiae_and_.pdf', reference='randriamaherijaona2015do', doi='10.1186/s12936-015-0836-7', pmid='26310788', url='/api/v1/file/itn-recalibration/pdf/e4ddd1ed-7873-39e8-938d-a87bf8538d0f', file_path=None, workspace_id=UUID('e9e4e699-a6f9-4482-b5dd-e45874bd87eb')),\n",
       " DocumentModel(id=UUID('78e7c932-fc36-3927-b216-e74a6d47c8f5'), inserted_at=None, updated_at=None, file_name='Bed_nets_used_to_protect_against_malaria_do_not_last_long_in_a_semi_arid_area_of_Ethiopia_a_cohort_study.pdf', reference='solomon2018bed', doi='10.1186/s12936-018-2391-5', pmid='29925371', url='/api/v1/file/itn-recalibration/pdf/78e7c932-fc36-3927-b216-e74a6d47c8f5', file_path=None, workspace_id=UUID('e9e4e699-a6f9-4482-b5dd-e45874bd87eb')),\n",
       " DocumentModel(id=UUID('ef1e73e2-ff9a-39ce-8683-65e942695801'), inserted_at=None, updated_at=None, file_name='tan2016longitudinal.pdf', reference='tan2016longitudinal', doi='10.1186/s12936-016-1154-4', pmid=None, url='/api/v1/file/itn-recalibration/pdf/ef1e73e2-ff9a-39ce-8683-65e942695801', file_path=None, workspace_id=UUID('e9e4e699-a6f9-4482-b5dd-e45874bd87eb')),\n",
       " DocumentModel(id=UUID('10807a8a-67b9-3aad-9d28-6b377b3b4efd'), inserted_at=None, updated_at=None, file_name='Tokponnon_et_al_2014_Mal_J.pdf', reference='tokponnon2014impact', doi='10.1186/1475-2875-13-76', pmid=None, url='/api/v1/file/itn-recalibration/pdf/10807a8a-67b9-3aad-9d28-6b377b3b4efd', file_path=None, workspace_id=UUID('e9e4e699-a6f9-4482-b5dd-e45874bd87eb')),\n",
       " DocumentModel(id=UUID('e9b81654-d709-3021-88f0-2de60987ddb4'), inserted_at=None, updated_at=None, file_name='When_intensity_of_deltamethrin_resistance_in_Anopheles_gambiae_sl_leads_to_loss_of_Long_Lasting_Insecticidal_Nets_bio_ef.pdf', reference='etang2016when', doi='10.1186/s13071-016-1420-x', pmid='26951758', url='/api/v1/file/itn-recalibration/pdf/e9b81654-d709-3021-88f0-2de60987ddb4', file_path=None, workspace_id=UUID('e9e4e699-a6f9-4482-b5dd-e45874bd87eb')),\n",
       " DocumentModel(id=UUID('3221f3af-0092-3855-ac35-bd1f724bc2c8'), inserted_at=None, updated_at=None, file_name='Combining_piperonyl_butoxide_and_dinotefuran_restores_the_efficacy_of_deltamethrin_mosquito_nets_against_resistant_Anoph.pdf', reference='darriet2011combining', doi='10.1603/me11022', pmid='21845961', url='/api/v1/file/itn-recalibration/pdf/3221f3af-0092-3855-ac35-bd1f724bc2c8', file_path=None, workspace_id=UUID('e9e4e699-a6f9-4482-b5dd-e45874bd87eb')),\n",
       " DocumentModel(id=UUID('a8665d7d-4fc1-3ae4-a5fb-16edcc741556'), inserted_at=None, updated_at=None, file_name='Field_efficacy_of_a_new_deltamethrin_long_lasting_insecticidal_net_LifeNetc_against_wild_pyrethroid_resistant_Anopheles_.pdf', reference='djenontin2018field', doi='10.1186/s12889-018-5876-9', pmid='30068334', url='/api/v1/file/itn-recalibration/pdf/a8665d7d-4fc1-3ae4-a5fb-16edcc741556', file_path=None, workspace_id=UUID('e9e4e699-a6f9-4482-b5dd-e45874bd87eb')),\n",
       " DocumentModel(id=UUID('91458588-9e48-3930-a2f7-ef07c51ef338'), inserted_at=None, updated_at=None, file_name='Glunt_et_al_2015_Mal_J.pdf', reference='glunt2015long', doi='10.1186/s12936-015-0807-z', pmid='26242977', url='/api/v1/file/itn-recalibration/pdf/91458588-9e48-3930-a2f7-ef07c51ef338', file_path=None, workspace_id=UUID('e9e4e699-a6f9-4482-b5dd-e45874bd87eb')),\n",
       " DocumentModel(id=UUID('0f051e42-2835-3ed3-a519-bf83a510c301'), inserted_at=None, updated_at=None, file_name='The_ability_of_Anopheles_gambiae_mosquitoes_to_bite_through_a_permethrin_treated_net_and_the_consequences_for_their_fitn.pdf', reference='hauser2019ability', doi='10.1038/s41598-019-44679-1', pmid='31148587', url='/api/v1/file/itn-recalibration/pdf/0f051e42-2835-3ed3-a519-bf83a510c301', file_path=None, workspace_id=UUID('e9e4e699-a6f9-4482-b5dd-e45874bd87eb')),\n",
       " DocumentModel(id=UUID('260feeff-a650-34ae-ad92-3bee6f36ccab'), inserted_at=None, updated_at=None, file_name='Howard_et_al_2000_Trans_RSTMH.pdf', reference='howard2000evidence', doi='10.1016/S0035-9203(00)90103-2', pmid=None, url='/api/v1/file/itn-recalibration/pdf/260feeff-a650-34ae-ad92-3bee6f36ccab', file_path=None, workspace_id=UUID('e9e4e699-a6f9-4482-b5dd-e45874bd87eb')),\n",
       " DocumentModel(id=UUID('547b899b-929d-3b51-8c8f-5f06cb5d104d'), inserted_at=None, updated_at=None, file_name='Preventive_effect_of_permethrin_impregnated_long_lasting_insecticidal_nets_on_the_blood_feeding_of_three_major_pyrethroi.pdf', reference='kawada2014preventive', doi='10.1186/1756-3305-7-383', pmid='25141947', url='/api/v1/file/itn-recalibration/pdf/547b899b-929d-3b51-8c8f-5f06cb5d104d', file_path=None, workspace_id=UUID('e9e4e699-a6f9-4482-b5dd-e45874bd87eb')),\n",
       " DocumentModel(id=UUID('520afc42-a15a-3f21-af70-69e9441ae475'), inserted_at=None, updated_at=None, file_name='Species_shifts_in_the_Anopheles_gambiae_complex_do_LLINs_successfully_control_Anopheles_arabiensis.pdf', reference='kitau2012species', doi='10.1371/journal.pone.0031481', pmid='22438864', url='/api/v1/file/itn-recalibration/pdf/520afc42-a15a-3f21-af70-69e9441ae475', file_path=None, workspace_id=UUID('e9e4e699-a6f9-4482-b5dd-e45874bd87eb')),\n",
       " DocumentModel(id=UUID('bf7ba424-39f0-3785-bad0-0a94f71d958f'), inserted_at=None, updated_at=None, file_name='Efficacy_of_PermaNetR_30_and_PermaNetR_20_nets_against_laboratory_reared_and_wild_Anopheles_gambiae_sensu_lato_populatio.pdf', reference='kweka2017efficacy', doi='10.1186/s40249-016-0220-z', pmid='28095897', url='/api/v1/file/itn-recalibration/pdf/bf7ba424-39f0-3785-bad0-0a94f71d958f', file_path=None, workspace_id=UUID('e9e4e699-a6f9-4482-b5dd-e45874bd87eb')),\n",
       " DocumentModel(id=UUID('cedd4307-7585-3ead-a35b-81a576d54f90'), inserted_at=None, updated_at=None, file_name='Bio_efficacy_of_DuraNetR_long_lasting_insecticidal_nets_against_wild_populations_of_Anopheles_arabiensis_in_experimental.pdf', reference='mahande2018bio', doi='10.1186/s41182-018-0118-5', pmid='30410416', url='/api/v1/file/itn-recalibration/pdf/cedd4307-7585-3ead-a35b-81a576d54f90', file_path=None, workspace_id=UUID('e9e4e699-a6f9-4482-b5dd-e45874bd87eb')),\n",
       " DocumentModel(id=UUID('7dda0323-fca1-380c-a43d-6551edb2a16c'), inserted_at=None, updated_at=None, file_name='Potential_benefits_of_combining_transfluthrin_treated_sisal_products_and_long_lasting_insecticidal_nets_for_controlling_.pdf', reference='masalu2018potential', doi='10.1186/s13071-018-2811-y', pmid='29631633', url='/api/v1/file/itn-recalibration/pdf/7dda0323-fca1-380c-a43d-6551edb2a16c', file_path=None, workspace_id=UUID('e9e4e699-a6f9-4482-b5dd-e45874bd87eb')),\n",
       " DocumentModel(id=UUID('bdd8b84d-39fb-3965-9671-6536d5056987'), inserted_at=None, updated_at=None, file_name='Mnzava_et_al_2001_South_African_Med_J.pdf', reference='mnzava2001malaria', doi=None, pmid='11847921', url='/api/v1/file/itn-recalibration/pdf/bdd8b84d-39fb-3965-9671-6536d5056987', file_path=None, workspace_id=UUID('e9e4e699-a6f9-4482-b5dd-e45874bd87eb')),\n",
       " DocumentModel(id=UUID('fb9f9a30-fff7-3209-8b96-dfe1415a161d'), inserted_at=None, updated_at=None, file_name='Msangi_et_al_2008_Acta_Tropica.pdf', reference='msangi2008effects', doi='10.1016/j.actatropica.2008.03.014', pmid='18502395', url='/api/v1/file/itn-recalibration/pdf/fb9f9a30-fff7-3209-8b96-dfe1415a161d', file_path=None, workspace_id=UUID('e9e4e699-a6f9-4482-b5dd-e45874bd87eb')),\n",
       " DocumentModel(id=UUID('139339de-9fef-38c4-a150-da27228f32ff'), inserted_at=None, updated_at=None, file_name='Long_lasting_insecticidal_nets_retain_bio_efficacy_after_5_years_of_storage_implications_for_malaria_control_programmes.pdf', reference='musa2020long', doi='10.1186/s12936-020-03183-y', pmid='32169081', url='/api/v1/file/itn-recalibration/pdf/139339de-9fef-38c4-a150-da27228f32ff', file_path=None, workspace_id=UUID('e9e4e699-a6f9-4482-b5dd-e45874bd87eb')),\n",
       " DocumentModel(id=UUID('70cfa543-b280-35be-94f4-581a5eed332e'), inserted_at=None, updated_at=None, file_name='2014-Combining_organophosphate_treated_wall_linings_and_long-lasting_insecticidal_nets_for_improved_control_of_pyrethroi.pdf', reference='ngufor2014combining', doi='10.1371/journal.pone.0083897', pmid='24409286', url='/api/v1/file/itn-recalibration/pdf/70cfa543-b280-35be-94f4-581a5eed332e', file_path=None, workspace_id=UUID('e9e4e699-a6f9-4482-b5dd-e45874bd87eb')),\n",
       " DocumentModel(id=UUID('9ec930d6-e955-36bf-8df1-f2aea5acf9a6'), inserted_at=None, updated_at=None, file_name='Bioefficacy_of_long_lasting_insecticidal_nets_against_pyrethroid_resistant_populations_of_Anopheles_gambiae_ss_from_diff.pdf', reference='okia2013bioefficacy', doi='10.1186/1756-3305-6-130', pmid='23634798', url='/api/v1/file/itn-recalibration/pdf/9ec930d6-e955-36bf-8df1-f2aea5acf9a6', file_path=None, workspace_id=UUID('e9e4e699-a6f9-4482-b5dd-e45874bd87eb')),\n",
       " DocumentModel(id=UUID('3c4e410c-0bfa-3252-89f5-cba24569264c'), inserted_at=None, updated_at=None, file_name='A_new_class_of_insecticide_for_malaria_vector_control_evaluation_of_mosquito_nets_treated_singly_with_indoxacarb_oxadiaz.pdf', reference='oxborough2015new', doi='10.1186/s12936-015-0890-1', pmid='26377930', url='/api/v1/file/itn-recalibration/pdf/3c4e410c-0bfa-3252-89f5-cba24569264c', file_path=None, workspace_id=UUID('e9e4e699-a6f9-4482-b5dd-e45874bd87eb')),\n",
       " DocumentModel(id=UUID('3c146d98-266d-338c-8142-beccb337d9e2'), inserted_at=None, updated_at=None, file_name='Quinones_et_al_1998_Trans_RSTMH.pdf', reference='quinones1998permethrin', doi='10.1016/S0035-9203(98)91053-7', pmid=None, url='/api/v1/file/itn-recalibration/pdf/3c146d98-266d-338c-8142-beccb337d9e2', file_path=None, workspace_id=UUID('e9e4e699-a6f9-4482-b5dd-e45874bd87eb')),\n",
       " DocumentModel(id=UUID('0cc4fe7e-ca67-3bc9-bc02-fea711d83847'), inserted_at=None, updated_at=None, file_name='Durability_monitoring_of_long_lasting_insecticidal_mosquito_nets_LLINs_in_Madagascar_physical_integrity_and_insecticidal.pdf', reference='randriamaherijaona2017durability', doi='10.1186/s13071-017-2419-7', pmid='29132421', url='/api/v1/file/itn-recalibration/pdf/0cc4fe7e-ca67-3bc9-bc02-fea711d83847', file_path=None, workspace_id=UUID('e9e4e699-a6f9-4482-b5dd-e45874bd87eb')),\n",
       " DocumentModel(id=UUID('2107d0a6-110a-3485-bc48-a21610908edd'), inserted_at=None, updated_at=None, file_name='Soremekun_et_al_2004_Trop_Med_Int_Health.pdf', reference='soremekun2004measuring', doi='10.1111/j.1365-3156.2004.01250.x', pmid='15189456', url='/api/v1/file/itn-recalibration/pdf/2107d0a6-110a-3485-bc48-a21610908edd', file_path=None, workspace_id=UUID('e9e4e699-a6f9-4482-b5dd-e45874bd87eb')),\n",
       " DocumentModel(id=UUID('420940a6-2405-375e-a635-2aeb00a29c2c'), inserted_at=None, updated_at=None, file_name='Ter_Kuille_et_al_2003_AJTMH.pdf', reference='ter2003impact', doi=None, pmid='12749492', url='/api/v1/file/itn-recalibration/pdf/420940a6-2405-375e-a635-2aeb00a29c2c', file_path=None, workspace_id=UUID('e9e4e699-a6f9-4482-b5dd-e45874bd87eb')),\n",
       " DocumentModel(id=UUID('de12054f-7f6a-3e18-a77d-9b4a5bd3c4d8'), inserted_at=None, updated_at=None, file_name='Evaluation_of_ICON_Maxx_a_long_lasting_treatment_kit_for_mosquito_nets_experimental_hut_trials_against_anopheline_mosqui.pdf', reference='tungu2015evaluation', doi='10.1186/s12936-015-0742-z', pmid='26025026', url='/api/v1/file/itn-recalibration/pdf/de12054f-7f6a-3e18-a77d-9b4a5bd3c4d8', file_path=None, workspace_id=UUID('e9e4e699-a6f9-4482-b5dd-e45874bd87eb')),\n",
       " DocumentModel(id=UUID('ad82523e-edcf-3518-968d-fb2704628a69'), inserted_at=None, updated_at=None, file_name='Duchon_et_al_2009_J_Med_Ento.pdf', reference='duchon2009mixture', doi='10.1603/033.046.0316', pmid='19496422', url='/api/v1/file/itn-recalibration/pdf/ad82523e-edcf-3518-968d-fb2704628a69', file_path=None, workspace_id=UUID('e9e4e699-a6f9-4482-b5dd-e45874bd87eb')),\n",
       " DocumentModel(id=UUID('5c8cb1a9-a4d7-3907-ac9d-e19e34c5580c'), inserted_at=None, updated_at=None, file_name='Kolaczinski_and_Curtis_2000_Bull_Ento_Res.pdf', reference='kolaczinski2000comparison', doi='10.1017/s0007485300000225', pmid='10948371', url='/api/v1/file/itn-recalibration/pdf/5c8cb1a9-a4d7-3907-ac9d-e19e34c5580c', file_path=None, workspace_id=UUID('e9e4e699-a6f9-4482-b5dd-e45874bd87eb')),\n",
       " DocumentModel(id=UUID('fadf8bb9-0a01-338f-8b56-6dde7c93990e'), inserted_at=None, updated_at=None, file_name='lindblade2005evaluation.pdf', reference='lindblade2005evaluation', doi='10.1111/j.1365-3156.2005.01501.x', pmid=None, url='/api/v1/file/itn-recalibration/pdf/fadf8bb9-0a01-338f-8b56-6dde7c93990e', file_path=None, workspace_id=UUID('e9e4e699-a6f9-4482-b5dd-e45874bd87eb')),\n",
       " DocumentModel(id=UUID('03806041-6865-3cdc-910e-7f28fa731376'), inserted_at=None, updated_at=None, file_name='High_Plasmodium_Infection_Rate_and_Reduced_Bed_Net_Efficacy_in_Multiple_Insecticide_Resistant_Malaria_Vectors_in_Kinshas.pdf', reference='riveron2018high', doi='10.1093/infdis/jix570', pmid='29087484', url='/api/v1/file/itn-recalibration/pdf/03806041-6865-3cdc-910e-7f28fa731376', file_path=None, workspace_id=UUID('e9e4e699-a6f9-4482-b5dd-e45874bd87eb')),\n",
       " DocumentModel(id=UUID('c00758e0-f335-3d1f-92f1-5d524dbc783e'), inserted_at=None, updated_at=None, file_name='Assessing_the_efficacy_of_two_dual_active_ingredients_long_lasting_insecticidal_.pdf', reference='accrombessi2021assessing', doi='10.1186/s12879-021-05879-1', pmid='33607958', url='/api/v1/file/itn-recalibration/pdf/c00758e0-f335-3d1f-92f1-5d524dbc783e', file_path=None, workspace_id=UUID('e9e4e699-a6f9-4482-b5dd-e45874bd87eb')),\n",
       " DocumentModel(id=UUID('f2e56a48-950a-3b04-ab95-c5c48d43f0af'), inserted_at=None, updated_at=None, file_name='Implementing_OECD_GLP_principles_for_the_evaluation_of_novel_vector_control__too.pdf', reference='azizi2022implementing', doi='10.1186/s12936-022-04208-4', pmid='35690824', url='/api/v1/file/itn-recalibration/pdf/f2e56a48-950a-3b04-ab95-c5c48d43f0af', file_path=None, workspace_id=UUID('e9e4e699-a6f9-4482-b5dd-e45874bd87eb')),\n",
       " DocumentModel(id=UUID('5d895156-1309-323c-af9f-13fa566ea6f9'), inserted_at=None, updated_at=None, file_name='wills2013physical.pdf', reference='wills2013physical', doi='10.1186/1475-2875-12-242', pmid=None, url='/api/v1/file/itn-recalibration/pdf/5d895156-1309-323c-af9f-13fa566ea6f9', file_path=None, workspace_id=UUID('e9e4e699-a6f9-4482-b5dd-e45874bd87eb')),\n",
       " DocumentModel(id=UUID('34fb25d0-4246-312b-949a-13eb13fc0381'), inserted_at=None, updated_at=None, file_name='Evaluation_of_new_tools_for_malaria_vector_control_in_Cameroon_focus_on_long_lasting_insecticidal_nets.pdf', reference='etang2013evaluation', doi='10.1371/journal.pone.0074929', pmid='24086399', url='/api/v1/file/itn-recalibration/pdf/34fb25d0-4246-312b-949a-13eb13fc0381', file_path=None, workspace_id=UUID('e9e4e699-a6f9-4482-b5dd-e45874bd87eb')),\n",
       " DocumentModel(id=UUID('2f6a3788-2799-3bc3-a9c2-95ec305b1343'), inserted_at=None, updated_at=None, file_name='Efficacy_of_long_lasting_insecticidal_nets_in_use_in_Macha_Zambia_against_the_local_Anopheles_arabiensis_population.pdf', reference='norris2011efficacy', doi='10.1186/1475-2875-10-254', pmid='21880143', url='/api/v1/file/itn-recalibration/pdf/2f6a3788-2799-3bc3-a9c2-95ec305b1343', file_path=None, workspace_id=UUID('e9e4e699-a6f9-4482-b5dd-e45874bd87eb')),\n",
       " DocumentModel(id=UUID('ea999c1b-e742-3eda-8c4d-1b21446519a2'), inserted_at=None, updated_at=None, file_name='Efficacy_of_pyriproxyfen_treated_nets_in_sterilizing_and_shortening_the_longevity_of_Anopheles_gambiae_Diptera_Culicidae.pdf', reference='ohashi2012efficacy', doi='10.1603/me12006', pmid='23025186', url='/api/v1/file/itn-recalibration/pdf/ea999c1b-e742-3eda-8c4d-1b21446519a2', file_path=None, workspace_id=UUID('e9e4e699-a6f9-4482-b5dd-e45874bd87eb')),\n",
       " DocumentModel(id=UUID('e5386539-bd6f-3c8b-ae43-13bceeba7522'), inserted_at=None, updated_at=None, file_name='PIIS0140673622023194.pdf', reference='accrombessi2023efficacy', doi='10.1016/S0140-6736(22)02319-4', pmid='36706778', url='/api/v1/file/itn-recalibration/pdf/e5386539-bd6f-3c8b-ae43-13bceeba7522', file_path=None, workspace_id=UUID('e9e4e699-a6f9-4482-b5dd-e45874bd87eb')),\n",
       " DocumentModel(id=UUID('c712b985-5651-326a-8a01-53b4487554a3'), inserted_at=None, updated_at=None, file_name='journalpone0275825.pdf', reference='adageba2022bio', doi='10.1371/journal.pone.0275825', pmid='36240161', url='/api/v1/file/itn-recalibration/pdf/c712b985-5651-326a-8a01-53b4487554a3', file_path=None, workspace_id=UUID('e9e4e699-a6f9-4482-b5dd-e45874bd87eb')),\n",
       " DocumentModel(id=UUID('98e20591-8aec-322a-9f47-43a2323ab486'), inserted_at=None, updated_at=None, file_name='Attrition_physical_integrity_and_insecticidal_activity_of_long_lasting__insecti.pdf', reference='briet2020physical', doi='10.1186/s12936-020-03383-6', pmid='32859210', url='/api/v1/file/itn-recalibration/pdf/98e20591-8aec-322a-9f47-43a2323ab486', file_path=None, workspace_id=UUID('e9e4e699-a6f9-4482-b5dd-e45874bd87eb')),\n",
       " DocumentModel(id=UUID('eeb51aa0-4e1a-3f3b-9ffa-acdb2f073b7d'), inserted_at=None, updated_at=None, file_name='Evaluation_of_the_residual_efficacy_and_physical_durability_of_five_long_lasting.pdf', reference='diouf2022evaluation', doi='10.1186/s12936-022-04230-6', pmid='35780153', url='/api/v1/file/itn-recalibration/pdf/eeb51aa0-4e1a-3f3b-9ffa-acdb2f073b7d', file_path=None, workspace_id=UUID('e9e4e699-a6f9-4482-b5dd-e45874bd87eb')),\n",
       " DocumentModel(id=UUID('4aad902e-7bc0-3d0d-b8d8-622a46a98a20'), inserted_at=None, updated_at=None, file_name='Bioefficacy_and_durability_of_Olyset_Plus_a_permethrin_and_piperonyl__butoxi.pdf', reference='gichuki2021bioefficacy', doi='10.1186/s40249-021-00916-2', pmid='34930459', url='/api/v1/file/itn-recalibration/pdf/4aad902e-7bc0-3d0d-b8d8-622a46a98a20', file_path=None, workspace_id=UUID('e9e4e699-a6f9-4482-b5dd-e45874bd87eb')),\n",
       " DocumentModel(id=UUID('70cea63d-dd54-34e2-8f53-c40359fe0522'), inserted_at=None, updated_at=None, file_name='JPR2020_9423682_pdf.pdf', reference='githinji2020impact', doi='10.1155/2020/9423682', pmid='32328298', url='/api/v1/file/itn-recalibration/pdf/70cea63d-dd54-34e2-8f53-c40359fe0522', file_path=None, workspace_id=UUID('e9e4e699-a6f9-4482-b5dd-e45874bd87eb')),\n",
       " DocumentModel(id=UUID('4b398a10-c65b-344e-b3be-06743c59a721'), inserted_at=None, updated_at=None, file_name='Pyriproxyfen_treated_bed_nets_reduce_reproductive_fitness_and_longevity_of__pyre.pdf', reference='grisales2021pyriproxyfen', doi='10.1186/s12936-021-03794-z', pmid='34158066', url='/api/v1/file/itn-recalibration/pdf/4b398a10-c65b-344e-b3be-06743c59a721', file_path=None, workspace_id=UUID('e9e4e699-a6f9-4482-b5dd-e45874bd87eb')),\n",
       " DocumentModel(id=UUID('986c31ab-a1d8-3384-8982-6d711a821b29'), inserted_at=None, updated_at=None, file_name='genes_11_00454_pdf.pdf', reference='ibrahim2020exploring', doi='10.3390/genes11040454', pmid='32331386', url='/api/v1/file/itn-recalibration/pdf/986c31ab-a1d8-3384-8982-6d711a821b29', file_path=None, workspace_id=UUID('e9e4e699-a6f9-4482-b5dd-e45874bd87eb')),\n",
       " DocumentModel(id=UUID('420b8983-dd49-3fa8-b774-e19e6b68671a'), inserted_at=None, updated_at=None, file_name='Influence_of_testing_modality_on_bioefficacy_for_the_evaluation_of_Interceptor.pdf', reference='kibondo2022influence', doi='10.1186/s13071-022-05207-9', pmid='35410250', url='/api/v1/file/itn-recalibration/pdf/420b8983-dd49-3fa8-b774-e19e6b68671a', file_path=None, workspace_id=UUID('e9e4e699-a6f9-4482-b5dd-e45874bd87eb')),\n",
       " DocumentModel(id=UUID('0b4e2bcd-2ac0-39cb-8f97-279209068b48'), inserted_at=None, updated_at=None, file_name='journalpmed1003248.pdf', reference='lorenz2020comparative', doi='10.1371/journal.pmed.1003248', pmid='32946451', url='/api/v1/file/itn-recalibration/pdf/0b4e2bcd-2ac0-39cb-8f97-279209068b48', file_path=None, workspace_id=UUID('e9e4e699-a6f9-4482-b5dd-e45874bd87eb')),\n",
       " DocumentModel(id=UUID('ce46d818-978e-3f40-bc7f-b71a4355c2e7'), inserted_at=None, updated_at=None, file_name='pathogens_11_00638_v2.pdf', reference='menze2022experimental', doi='10.3390/pathogens11060638', pmid='35745492', url='/api/v1/file/itn-recalibration/pdf/ce46d818-978e-3f40-bc7f-b71a4355c2e7', file_path=None, workspace_id=UUID('e9e4e699-a6f9-4482-b5dd-e45874bd87eb')),\n",
       " DocumentModel(id=UUID('12c15bac-bc45-3a23-8e0a-ae1ff85c073b'), inserted_at=None, updated_at=None, file_name='Reduced_performance_of_community_bednets_against_pyrethroid_resistant_Anopheles_.pdf', reference='ngongang2022reduced', doi='10.1186/s13071-022-05335-2', pmid='35754045', url='/api/v1/file/itn-recalibration/pdf/12c15bac-bc45-3a23-8e0a-ae1ff85c073b', file_path=None, workspace_id=UUID('e9e4e699-a6f9-4482-b5dd-e45874bd87eb')),\n",
       " DocumentModel(id=UUID('2e96d82c-884f-3e63-b4fe-af05afee06a1'), inserted_at=None, updated_at=None, file_name='1_s20_S2667114X21000418_main.pdf', reference='nash2021systematic', doi='10.1016/j.crpvbd.2021.100047', pmid='35284856', url='/api/v1/file/itn-recalibration/pdf/2e96d82c-884f-3e63-b4fe-af05afee06a1', file_path=None, workspace_id=UUID('e9e4e699-a6f9-4482-b5dd-e45874bd87eb')),\n",
       " DocumentModel(id=UUID('5f8d4493-ba86-3757-9bce-0ae59d1831f4'), inserted_at=None, updated_at=None, file_name='Comparative_efficacy_of_two_pyrethroid_piperonyl_butoxide_nets_Olyset_Plus_and_.pdf', reference='ngufor2022comparative', doi='10.1186/s12936-022-04041-9', pmid='35016676', url='/api/v1/file/itn-recalibration/pdf/5f8d4493-ba86-3757-9bce-0ae59d1831f4', file_path=None, workspace_id=UUID('e9e4e699-a6f9-4482-b5dd-e45874bd87eb')),\n",
       " DocumentModel(id=UUID('939ba049-2f71-3fb0-8645-7e938fa1f8e3'), inserted_at=None, updated_at=None, file_name='s41598_021_96759_w.pdf', reference='sanou2021insecticide', doi='10.1038/s41598-021-96759-w', pmid='34475470', url='/api/v1/file/itn-recalibration/pdf/939ba049-2f71-3fb0-8645-7e938fa1f8e3', file_path=None, workspace_id=UUID('e9e4e699-a6f9-4482-b5dd-e45874bd87eb')),\n",
       " DocumentModel(id=UUID('5f74e356-d54f-343e-a1b7-2cf0c3b0be7c'), inserted_at=None, updated_at=None, file_name='pone_0245804_pdf.pdf', reference='syme2021which', doi='10.1371/journal.pone.0245804', pmid='33507978', url='/api/v1/file/itn-recalibration/pdf/5f74e356-d54f-343e-a1b7-2cf0c3b0be7c', file_path=None, workspace_id=UUID('e9e4e699-a6f9-4482-b5dd-e45874bd87eb')),\n",
       " DocumentModel(id=UUID('a667037a-6e82-393d-acbc-b04e995d55b9'), inserted_at=None, updated_at=None, file_name='Protective_effects_of_Olyset_Net_on_Plasmodium_falciparum_infection_after_three.pdf', reference='tamari2020protective', doi='10.1186/s12936-020-03444-w', pmid='33076928', url='/api/v1/file/itn-recalibration/pdf/a667037a-6e82-393d-acbc-b04e995d55b9', file_path=None, workspace_id=UUID('e9e4e699-a6f9-4482-b5dd-e45874bd87eb')),\n",
       " DocumentModel(id=UUID('2ac0ccc8-7121-32d0-88cf-d0963a96bbc4'), inserted_at=None, updated_at=None, file_name='s12936_021_03716_z.pdf', reference='tungu2021efficacy', doi='10.1186/s12936-021-03716-z', pmid='33836778', url='/api/v1/file/itn-recalibration/pdf/2ac0ccc8-7121-32d0-88cf-d0963a96bbc4', file_path=None, workspace_id=UUID('e9e4e699-a6f9-4482-b5dd-e45874bd87eb')),\n",
       " DocumentModel(id=UUID('0cd516ce-f7da-3dc7-8862-679ef797f6e2'), inserted_at=None, updated_at=None, file_name='s12936_021_03871_3.pdf', reference='tungu2021effectiveness', doi='10.1186/s12936-021-03871-3', pmid='34412651', url='/api/v1/file/itn-recalibration/pdf/0cd516ce-f7da-3dc7-8862-679ef797f6e2', file_path=None, workspace_id=UUID('e9e4e699-a6f9-4482-b5dd-e45874bd87eb')),\n",
       " DocumentModel(id=UUID('649b6547-0d23-30f2-93cc-3471e09b3a92'), inserted_at=None, updated_at=None, file_name='LLINPhaseIVV2022.pdf', reference='verma2022laboratory', doi='10.1007/s00436-022-07604-6', pmid='35876911', url='/api/v1/file/itn-recalibration/pdf/649b6547-0d23-30f2-93cc-3471e09b3a92', file_path=None, workspace_id=UUID('e9e4e699-a6f9-4482-b5dd-e45874bd87eb')),\n",
       " DocumentModel(id=UUID('fbbd582e-2e1e-33d1-bee7-c21641f2027f'), inserted_at=None, updated_at=None, file_name='An_experimental_hut_study_evaluating_the_impact_of_pyrethroid_only_and_PBO_nets_.pdf', reference='yewhalaw2022experimental', doi='10.1186/s12936-022-04263-x', pmid='35987650', url='/api/v1/file/itn-recalibration/pdf/fbbd582e-2e1e-33d1-bee7-c21641f2027f', file_path=None, workspace_id=UUID('e9e4e699-a6f9-4482-b5dd-e45874bd87eb')),\n",
       " DocumentModel(id=UUID('300efd97-9a03-3820-a1c7-d23f9121759e'), inserted_at=None, updated_at=None, file_name='Zhou_et_al_2016_Front_Pub_Health.pdf', reference='zhou2016insecticide', doi='10.3389/fpubh.2016.00153', pmid='27574601', url='/api/v1/file/itn-recalibration/pdf/300efd97-9a03-3820-a1c7-d23f9121759e', file_path=None, workspace_id=UUID('e9e4e699-a6f9-4482-b5dd-e45874bd87eb')),\n",
       " DocumentModel(id=UUID('f4c9fbc0-a2fa-3b43-813f-6dd97ee23686'), inserted_at=None, updated_at=None, file_name='Kayedi_et_al_2015_Path_Glob_Health.pdf', reference='kayedi2015entomological', doi='10.1179/2047773215Y.0000000010', pmid='25978624', url='/api/v1/file/itn-recalibration/pdf/f4c9fbc0-a2fa-3b43-813f-6dd97ee23686', file_path=None, workspace_id=UUID('e9e4e699-a6f9-4482-b5dd-e45874bd87eb')),\n",
       " DocumentModel(id=UUID('34622710-680f-3378-9b81-5a808ad47868'), inserted_at=None, updated_at=None, file_name='Implications_of_bio_efficacy_and_persistence_of_insecticides_when_indoor_residual_spraying_and_long_lasting_insecticide_.pdf', reference='okumu2012implications', doi='10.1186/1475-2875-11-378', pmid='23164062', url='/api/v1/file/itn-recalibration/pdf/34622710-680f-3378-9b81-5a808ad47868', file_path=None, workspace_id=UUID('e9e4e699-a6f9-4482-b5dd-e45874bd87eb')),\n",
       " DocumentModel(id=UUID('c860cd2f-7b20-36e9-9d8b-86b394d15a41'), inserted_at=None, updated_at=None, file_name='Insecticide_resistance_intensity_and_efficacy_of_synergists_with_pyrethroids_in_.pdf', reference='apetogbo2022insecticide', doi='10.1186/s12936-022-04377-2', pmid='36437444', url='/api/v1/file/itn-recalibration/pdf/c860cd2f-7b20-36e9-9d8b-86b394d15a41', file_path=None, workspace_id=UUID('e9e4e699-a6f9-4482-b5dd-e45874bd87eb')),\n",
       " DocumentModel(id=UUID('f9bdd760-66fb-3d81-958d-fa66bd4faeb3'), inserted_at=None, updated_at=None, file_name='parasite_28_8_pdf.pdf', reference='bamou2021increased', doi='10.1051/parasite/2021003', pmid='33528357', url='/api/v1/file/itn-recalibration/pdf/f9bdd760-66fb-3d81-958d-fa66bd4faeb3', file_path=None, workspace_id=UUID('e9e4e699-a6f9-4482-b5dd-e45874bd87eb')),\n",
       " DocumentModel(id=UUID('2dbb7b98-2843-3d42-b511-4ce6c8b053ea'), inserted_at=None, updated_at=None, file_name='Evaluation_of_Yahe_and_Panda_20_long_lasting_insecticidal_nets_against__w.pdf', reference='clegban2021evaluation', doi='10.1186/s13071-021-04843-x', pmid='34210362', url='/api/v1/file/itn-recalibration/pdf/2dbb7b98-2843-3d42-b511-4ce6c8b053ea', file_path=None, workspace_id=UUID('e9e4e699-a6f9-4482-b5dd-e45874bd87eb')),\n",
       " DocumentModel(id=UUID('fdda2d65-54ee-3345-8502-941bccb1dba7'), inserted_at=None, updated_at=None, file_name='gebremariam_et_al_2021_evaluation_of_long_lasting_insecticidal_nets_duranetr_under_laboratory_and_semi_field.pdf', reference='gebremariam2021evaluation', doi='10.1177/1178630220974730', pmid='33488090', url='/api/v1/file/itn-recalibration/pdf/fdda2d65-54ee-3345-8502-941bccb1dba7', file_path=None, workspace_id=UUID('e9e4e699-a6f9-4482-b5dd-e45874bd87eb')),\n",
       " DocumentModel(id=UUID('c62344b4-3e5d-3430-a254-d11693c2880d'), inserted_at=None, updated_at=None, file_name='CD012776.pdf', reference='gleave2021piperonyl', doi='10.1002/14651858.CD012776.pub3', pmid='34027998', url='/api/v1/file/itn-recalibration/pdf/c62344b4-3e5d-3430-a254-d11693c2880d', file_path=None, workspace_id=UUID('e9e4e699-a6f9-4482-b5dd-e45874bd87eb')),\n",
       " DocumentModel(id=UUID('df4148db-a4ba-38ad-993e-1dac81ce9cf3'), inserted_at=None, updated_at=None, file_name='Evidence_supporting_deployment_of_next_generation_insecticide_treated_nets_in__B.pdf', reference='hien2021evidence', doi='10.1186/s12936-021-03936-3', pmid='34663348', url='/api/v1/file/itn-recalibration/pdf/df4148db-a4ba-38ad-993e-1dac81ce9cf3', file_path=None, workspace_id=UUID('e9e4e699-a6f9-4482-b5dd-e45874bd87eb')),\n",
       " DocumentModel(id=UUID('fe093ee9-7804-309b-adce-c1be8a402ca0'), inserted_at=None, updated_at=None, file_name='s12936_020_03523_y.pdf', reference='kouassi2020susceptibility', doi='10.1186/s12936-020-03523-y', pmid='33298071', url='/api/v1/file/itn-recalibration/pdf/fe093ee9-7804-309b-adce-c1be8a402ca0', file_path=None, workspace_id=UUID('e9e4e699-a6f9-4482-b5dd-e45874bd87eb')),\n",
       " DocumentModel(id=UUID('bfb47409-3c77-3c03-b9ec-1e89186f3484'), inserted_at=None, updated_at=None, file_name='jiaa699.pdf', reference='meiwald2022association', doi='10.1093/infdis/jiaa699', pmid='33175129', url='/api/v1/file/itn-recalibration/pdf/bfb47409-3c77-3c03-b9ec-1e89186f3484', file_path=None, workspace_id=UUID('e9e4e699-a6f9-4482-b5dd-e45874bd87eb')),\n",
       " DocumentModel(id=UUID('1713f6db-c0fc-31cf-8b0b-7f2484f81187'), inserted_at=None, updated_at=None, file_name='Insights_into_factors_sustaining_persistence_of_high_malaria_transmission_in__fo.pdf', reference='mieguim2021insights', doi='10.1186/s13071-020-04525-0', pmid='33388082', url='/api/v1/file/itn-recalibration/pdf/1713f6db-c0fc-31cf-8b0b-7f2484f81187', file_path=None, workspace_id=UUID('e9e4e699-a6f9-4482-b5dd-e45874bd87eb')),\n",
       " DocumentModel(id=UUID('8977669c-afaf-3b50-9b96-b280e6086b9e'), inserted_at=None, updated_at=None, file_name='s41598_020_69109_5.pdf', reference='ngufor2020efficacy', doi='10.1038/s41598-020-69109-5', pmid='32699237', url='/api/v1/file/itn-recalibration/pdf/8977669c-afaf-3b50-9b96-b280e6086b9e', file_path=None, workspace_id=UUID('e9e4e699-a6f9-4482-b5dd-e45874bd87eb')),\n",
       " DocumentModel(id=UUID('ff58d87a-e534-34f4-a1c2-7ab0b6481805'), inserted_at=None, updated_at=None, file_name='Sovietal20211.pdf', reference='sovi2022physical', doi='10.1093/jme/tjab190', pmid='34791327', url='/api/v1/file/itn-recalibration/pdf/ff58d87a-e534-34f4-a1c2-7ab0b6481805', file_path=None, workspace_id=UUID('e9e4e699-a6f9-4482-b5dd-e45874bd87eb')),\n",
       " DocumentModel(id=UUID('075adb8e-9994-3cee-af44-523e580e2cea'), inserted_at=None, updated_at=None, file_name='s41598_022_10953_y.pdf', reference='syme2022pyrethroid', doi='10.1038/s41598-022-10953-y', pmid='35478216', url='/api/v1/file/itn-recalibration/pdf/075adb8e-9994-3cee-af44-523e580e2cea', file_path=None, workspace_id=UUID('e9e4e699-a6f9-4482-b5dd-e45874bd87eb')),\n",
       " DocumentModel(id=UUID('b66150bd-dc19-3a53-946a-f337e887e2f3'), inserted_at=None, updated_at=None, file_name='Bio_efficacy_and_wash_fastness_of_a_lambda_cyhalothrin_long_lasting_insecticide_.pdf', reference='tungu2021bio', doi='10.1186/s12936-021-03909-6', pmid='34583682', url='/api/v1/file/itn-recalibration/pdf/b66150bd-dc19-3a53-946a-f337e887e2f3', file_path=None, workspace_id=UUID('e9e4e699-a6f9-4482-b5dd-e45874bd87eb')),\n",
       " DocumentModel(id=UUID('516ca2df-9099-39a8-9b1a-5359fc0bccf3'), inserted_at=None, updated_at=None, file_name='1_s20_S2667114X21000248_main.pdf', reference='tungu2021field', doi='10.1016/j.crpvbd.2021.100030', pmid='35284898', url='/api/v1/file/itn-recalibration/pdf/516ca2df-9099-39a8-9b1a-5359fc0bccf3', file_path=None, workspace_id=UUID('e9e4e699-a6f9-4482-b5dd-e45874bd87eb')),\n",
       " DocumentModel(id=UUID('5210dc37-a785-375a-b6bb-47b45bc0b993'), inserted_at=None, updated_at=None, file_name='Small_scale_field_evaluation_of_PermaNet_Dual_a_long_lasting_net_coated_with.pdf', reference='zahouli2023small', doi='10.1186/s12936-023-04455-z', pmid='36726160', url='/api/v1/file/itn-recalibration/pdf/5210dc37-a785-375a-b6bb-47b45bc0b993', file_path=None, workspace_id=UUID('e9e4e699-a6f9-4482-b5dd-e45874bd87eb'))]"
      ]
     },
     "execution_count": 15,
     "metadata": {},
     "output_type": "execute_result"
    }
   ],
   "source": [
    "dataset.workspace.documents.list()"
   ]
  },
  {
   "cell_type": "code",
   "execution_count": 21,
   "metadata": {},
   "outputs": [
    {
     "name": "stdout",
     "output_type": "stream",
     "text": [
      "be311e57-f967-4f47-80bc-d561f28ef253\n"
     ]
    },
    {
     "ename": "TypeError",
     "evalue": "argilla._models._document.DocumentModel() argument after ** must be a mapping, not str",
     "output_type": "error",
     "traceback": [
      "\u001b[0;31m---------------------------------------------------------------------------\u001b[0m",
      "\u001b[0;31mTypeError\u001b[0m                                 Traceback (most recent call last)",
      "Cell \u001b[0;32mIn[21], line 1\u001b[0m\n\u001b[0;32m----> 1\u001b[0m \u001b[43mdataset\u001b[49m\u001b[38;5;241;43m.\u001b[39;49m\u001b[43mworkspace\u001b[49m\u001b[38;5;241;43m.\u001b[39;49m\u001b[43mdocuments\u001b[49m\u001b[38;5;241;43m.\u001b[39;49m\u001b[43madd\u001b[49m\u001b[43m(\u001b[49m\u001b[38;5;124;43m\"\u001b[39;49m\u001b[38;5;124;43m/Users/jonny/Downloads/s41592-021-01252-x.pdf\u001b[39;49m\u001b[38;5;124;43m\"\u001b[39;49m\u001b[43m,\u001b[49m\u001b[43m \u001b[49m\u001b[43mreference\u001b[49m\u001b[38;5;241;43m=\u001b[39;49m\u001b[38;5;124;43m\"\u001b[39;49m\u001b[38;5;124;43mtest\u001b[39;49m\u001b[38;5;124;43m\"\u001b[39;49m\u001b[43m)\u001b[49m\n",
      "File \u001b[0;32m~/Projects/extralit/argilla/src/argilla/workspaces/_resource.py:234\u001b[0m, in \u001b[0;36mWorkspaceDocuments.add\u001b[0;34m(self, file_path, reference, pmid, doi, id)\u001b[0m\n\u001b[1;32m    214\u001b[0m \u001b[38;5;250m\u001b[39m\u001b[38;5;124;03m\"\"\"Add a document to the workspace.\u001b[39;00m\n\u001b[1;32m    215\u001b[0m \n\u001b[1;32m    216\u001b[0m \u001b[38;5;124;03mArgs:\u001b[39;00m\n\u001b[0;32m   (...)\u001b[0m\n\u001b[1;32m    223\u001b[0m \u001b[38;5;124;03m    DocumentModel: The created document\u001b[39;00m\n\u001b[1;32m    224\u001b[0m \u001b[38;5;124;03m\"\"\"\u001b[39;00m\n\u001b[1;32m    225\u001b[0m doc \u001b[38;5;241m=\u001b[39m DocumentModel\u001b[38;5;241m.\u001b[39mfrom_file(\n\u001b[1;32m    226\u001b[0m     \u001b[38;5;28mstr\u001b[39m(file_path),\n\u001b[1;32m    227\u001b[0m     reference\u001b[38;5;241m=\u001b[39mreference,\n\u001b[0;32m   (...)\u001b[0m\n\u001b[1;32m    231\u001b[0m     \u001b[38;5;28mid\u001b[39m\u001b[38;5;241m=\u001b[39m\u001b[38;5;28mid\u001b[39m\n\u001b[1;32m    232\u001b[0m )\n\u001b[0;32m--> 234\u001b[0m created_doc \u001b[38;5;241m=\u001b[39m \u001b[38;5;28;43mself\u001b[39;49m\u001b[38;5;241;43m.\u001b[39;49m\u001b[43m_workspace\u001b[49m\u001b[38;5;241;43m.\u001b[39;49m\u001b[43m_client\u001b[49m\u001b[38;5;241;43m.\u001b[39;49m\u001b[43mapi\u001b[49m\u001b[38;5;241;43m.\u001b[39;49m\u001b[43mdocuments\u001b[49m\u001b[38;5;241;43m.\u001b[39;49m\u001b[43mcreate\u001b[49m\u001b[43m(\u001b[49m\u001b[43mdoc\u001b[49m\u001b[43m)\u001b[49m\n\u001b[1;32m    235\u001b[0m \u001b[38;5;28mself\u001b[39m\u001b[38;5;241m.\u001b[39m_log_message(\u001b[38;5;124mf\u001b[39m\u001b[38;5;124m\"\u001b[39m\u001b[38;5;124mAdded document \u001b[39m\u001b[38;5;132;01m{\u001b[39;00mcreated_doc\u001b[38;5;241m.\u001b[39mfile_name\u001b[38;5;132;01m}\u001b[39;00m\u001b[38;5;124m to workspace \u001b[39m\u001b[38;5;132;01m{\u001b[39;00m\u001b[38;5;28mself\u001b[39m\u001b[38;5;241m.\u001b[39m_workspace\u001b[38;5;241m.\u001b[39mname\u001b[38;5;132;01m}\u001b[39;00m\u001b[38;5;124m\"\u001b[39m)\n\u001b[1;32m    236\u001b[0m \u001b[38;5;28;01mreturn\u001b[39;00m created_doc\n",
      "File \u001b[0;32m~/Projects/extralit/argilla/src/argilla/_exceptions/_api.py:91\u001b[0m, in \u001b[0;36mapi_error_handler.<locals>._handler_wrapper\u001b[0;34m(*args, **kwargs)\u001b[0m\n\u001b[1;32m     89\u001b[0m \u001b[38;5;28;01mdef\u001b[39;00m \u001b[38;5;21m_handler_wrapper\u001b[39m(\u001b[38;5;241m*\u001b[39margs, \u001b[38;5;241m*\u001b[39m\u001b[38;5;241m*\u001b[39mkwargs):\n\u001b[1;32m     90\u001b[0m     \u001b[38;5;28;01mtry\u001b[39;00m:\n\u001b[0;32m---> 91\u001b[0m         \u001b[38;5;28;01mreturn\u001b[39;00m \u001b[43mfunc\u001b[49m\u001b[43m(\u001b[49m\u001b[38;5;241;43m*\u001b[39;49m\u001b[43margs\u001b[49m\u001b[43m,\u001b[49m\u001b[43m \u001b[49m\u001b[38;5;241;43m*\u001b[39;49m\u001b[38;5;241;43m*\u001b[39;49m\u001b[43mkwargs\u001b[49m\u001b[43m)\u001b[49m\n\u001b[1;32m     92\u001b[0m     \u001b[38;5;28;01mexcept\u001b[39;00m HTTPStatusError \u001b[38;5;28;01mas\u001b[39;00m e:\n\u001b[1;32m     93\u001b[0m         _error_switch(status_code\u001b[38;5;241m=\u001b[39me\u001b[38;5;241m.\u001b[39mresponse\u001b[38;5;241m.\u001b[39mstatus_code, error_detail\u001b[38;5;241m=\u001b[39me\u001b[38;5;241m.\u001b[39mresponse\u001b[38;5;241m.\u001b[39mtext)\n",
      "File \u001b[0;32m~/Projects/extralit/argilla/src/argilla/_api/_document.py:47\u001b[0m, in \u001b[0;36mDocumentsAPI.create\u001b[0;34m(self, document)\u001b[0m\n\u001b[1;32m     45\u001b[0m response_json \u001b[38;5;241m=\u001b[39m response\u001b[38;5;241m.\u001b[39mjson()\n\u001b[1;32m     46\u001b[0m \u001b[38;5;28mprint\u001b[39m(response_json)\n\u001b[0;32m---> 47\u001b[0m doc \u001b[38;5;241m=\u001b[39m \u001b[38;5;28;43mself\u001b[39;49m\u001b[38;5;241;43m.\u001b[39;49m\u001b[43m_model_from_json\u001b[49m\u001b[43m(\u001b[49m\u001b[43mresponse_json\u001b[49m\u001b[43m)\u001b[49m\n\u001b[1;32m     48\u001b[0m \u001b[38;5;28mself\u001b[39m\u001b[38;5;241m.\u001b[39m_log_message(\u001b[38;5;124mf\u001b[39m\u001b[38;5;124m\"\u001b[39m\u001b[38;5;124mCreated document \u001b[39m\u001b[38;5;132;01m{\u001b[39;00mdoc\u001b[38;5;241m.\u001b[39mid\u001b[38;5;132;01m}\u001b[39;00m\u001b[38;5;124m\"\u001b[39m)\n\u001b[1;32m     49\u001b[0m \u001b[38;5;28;01mreturn\u001b[39;00m doc\n",
      "File \u001b[0;32m~/Projects/extralit/argilla/src/argilla/_api/_document.py:74\u001b[0m, in \u001b[0;36mDocumentsAPI._model_from_json\u001b[0;34m(self, json_doc)\u001b[0m\n\u001b[1;32m     72\u001b[0m \u001b[38;5;28;01mdef\u001b[39;00m \u001b[38;5;21m_model_from_json\u001b[39m(\u001b[38;5;28mself\u001b[39m, json_doc: Dict) \u001b[38;5;241m-\u001b[39m\u001b[38;5;241m>\u001b[39m DocumentModel:\n\u001b[1;32m     73\u001b[0m \u001b[38;5;250m    \u001b[39m\u001b[38;5;124;03m\"\"\"Convert JSON response to DocumentModel.\"\"\"\u001b[39;00m\n\u001b[0;32m---> 74\u001b[0m     \u001b[38;5;28;01mreturn\u001b[39;00m DocumentModel(\u001b[38;5;241m*\u001b[39m\u001b[38;5;241m*\u001b[39mjson_doc)\n",
      "\u001b[0;31mTypeError\u001b[0m: argilla._models._document.DocumentModel() argument after ** must be a mapping, not str"
     ]
    }
   ],
   "source": [
    "dataset.workspace.documents.add(\"/Users/jonny/Downloads/s41592-021-01252-x.pdf\", reference=\"test\")"
   ]
  },
  {
   "cell_type": "code",
   "execution_count": 20,
   "metadata": {},
   "outputs": [
    {
     "data": {
      "text/plain": [
       "DocumentModel(id=UUID('be311e57-f967-4f47-80bc-d561f28ef253'), inserted_at=None, updated_at=None, file_name='s41592-021-01252-x.pdf', reference='test', doi='', pmid='', url='', file_path=None, workspace_id=UUID('e9e4e699-a6f9-4482-b5dd-e45874bd87eb'))"
      ]
     },
     "execution_count": 20,
     "metadata": {},
     "output_type": "execute_result"
    }
   ],
   "source": [
    "dataset.workspace.documents.get(\"be311e57-f967-4f47-80bc-d561f28ef253\")"
   ]
  },
  {
   "cell_type": "markdown",
   "metadata": {
    "jp-MarkdownHeadingCollapsed": true
   },
   "source": [
    "## Update field"
   ]
  },
  {
   "cell_type": "code",
   "execution_count": 4,
   "metadata": {
    "scrolled": true
   },
   "outputs": [
    {
     "name": "stdout",
     "output_type": "stream",
     "text": [
      "{'reference': 'mosqueira2015pilot', 'pmid': '25959771', 'doc_id': '276c32ef-26d2-40cb-b808-b764018cd2ea', 'type': 'Observation'}\n",
      "<class 'str'>\n",
      "<class 'dict'>\n",
      "{'reference': 'mosqueira2015pilot', 'pmid': '25959771', 'doc_id': '276c32ef-26d2-40cb-b808-b764018cd2ea', 'type': 'ITNCondition'}\n",
      "<class 'str'>\n",
      "<class 'dict'>\n",
      "{'reference': 'mosqueira2015pilot', 'pmid': '25959771', 'doc_id': '276c32ef-26d2-40cb-b808-b764018cd2ea', 'type': 'EntomologicalOutcome'}\n",
      "<class 'str'>\n",
      "<class 'dict'>\n",
      "{'reference': 'mosqueira2015pilot', 'pmid': '25959771', 'doc_id': '276c32ef-26d2-40cb-b808-b764018cd2ea', 'type': 'ClinicalOutcome'}\n",
      "<class 'str'>\n",
      "<class 'dict'>\n"
     ]
    },
    {
     "data": {
      "text/plain": [
       "4"
      ]
     },
     "execution_count": 4,
     "metadata": {},
     "output_type": "execute_result"
    }
   ],
   "source": [
    "# Find the record with the specific metadata\n",
    "records = dataset.records(query=rg.Query(filter=(\"metadata.reference\", \"==\", \"mosqueira2015pilot\")))\n",
    "\n",
    "# Update the record's extraction field\n",
    "updated_records = []\n",
    "for record in records:\n",
    "    print(record.metadata)\n",
    "    print(type(record.fields[\"extraction\"]))\n",
    "    record.fields[\"extraction\"] = json.loads(record.fields[\"extraction\"])\n",
    "    print(type(record.fields[\"extraction\"]))\n",
    "    updated_records.append(record)\n",
    "\n",
    "len(updated_records)"
   ]
  },
  {
   "cell_type": "code",
   "execution_count": 12,
   "metadata": {},
   "outputs": [
    {
     "data": {
      "text/html": [
       "<pre style=\"white-space:pre;overflow-x:auto;line-height:normal;font-family:Menlo,'DejaVu Sans Mono',consolas,'Courier New',monospace\">DatasetRecords: The provided batch size <span style=\"color: #008080; text-decoration-color: #008080; font-weight: bold\">256</span> was normalized. Using value <span style=\"color: #008080; text-decoration-color: #008080; font-weight: bold\">4</span>.\n",
       "</pre>\n"
      ],
      "text/plain": [
       "DatasetRecords: The provided batch size \u001b[1;36m256\u001b[0m was normalized. Using value \u001b[1;36m4\u001b[0m.\n"
      ]
     },
     "metadata": {},
     "output_type": "display_data"
    },
    {
     "name": "stderr",
     "output_type": "stream",
     "text": [
      "Sending records...: 100%|███████████████████████████████████████████████████████████████████████████████████████████████████████████████████████████████| 1/1 [00:04<00:00,  4.41s/batch]\n"
     ]
    },
    {
     "data": {
      "text/plain": [
       "DatasetRecords(Dataset(id=UUID('3a7abf40-a6b7-4cf6-ac09-d89a8b33ac67') inserted_at=datetime.datetime(2024, 4, 4, 5, 23, 44, 562080) updated_at=datetime.datetime(2024, 11, 15, 0, 35, 14, 753190) name='2-Data-Extractions' status='ready' guidelines=None allow_extra_metadata=True distribution=OverlapTaskDistributionModel(strategy='overlap', min_submitted=1) workspace_id=UUID('e9e4e699-a6f9-4482-b5dd-e45874bd87eb') last_activity_at=datetime.datetime(2024, 11, 21, 18, 7, 47, 105497)))"
      ]
     },
     "execution_count": 12,
     "metadata": {},
     "output_type": "execute_result"
    }
   ],
   "source": [
    "dataset.records.log(updated_records)"
   ]
  },
  {
   "cell_type": "code",
   "execution_count": 10,
   "metadata": {
    "scrolled": true
   },
   "outputs": [
    {
     "data": {
      "text/plain": [
       "{'reference': 'mosqueira2015pilot',\n",
       " 'schema': {'fields': [{'name': 'observation_ref',\n",
       "    'type': 'any',\n",
       "    'extDtype': 'string'},\n",
       "   {'name': 'itncondition_ref', 'type': 'any', 'extDtype': 'string'},\n",
       "   {'name': 'N_people', 'type': 'integer'},\n",
       "   {'name': 'Age_lower', 'type': 'number'},\n",
       "   {'name': 'Age_upper', 'type': 'number'}],\n",
       "  'primaryKey': ['observation_ref', 'itncondition_ref'],\n",
       "  'pandas_version': '1.4.0'},\n",
       " 'data': [{'observation_ref': 'S01',\n",
       "   'itncondition_ref': 'N01',\n",
       "   'N_people': 3903,\n",
       "   'Age_lower': 0.5,\n",
       "   'Age_upper': 14.0},\n",
       "  {'observation_ref': 'S02',\n",
       "   'itncondition_ref': 'N01',\n",
       "   'N_people': 3903,\n",
       "   'Age_lower': 0.5,\n",
       "   'Age_upper': 14.0}],\n",
       " 'validation': {'schema_type': 'dataframe',\n",
       "  'version': '0.18.3',\n",
       "  'columns': {'N_people': {'title': None,\n",
       "    'description': 'Number of people in the study arm of the net in question',\n",
       "    'dtype': 'int64',\n",
       "    'nullable': True,\n",
       "    'checks': None,\n",
       "    'unique': False,\n",
       "    'coerce': False,\n",
       "    'required': True,\n",
       "    'regex': False},\n",
       "   'Age_lower': {'title': None,\n",
       "    'description': 'Lower limit of age group in years. For children <1, enter age as a decimal.',\n",
       "    'dtype': 'float64',\n",
       "    'nullable': True,\n",
       "    'checks': {'greater_than_or_equal_to': 0},\n",
       "    'unique': False,\n",
       "    'coerce': False,\n",
       "    'required': True,\n",
       "    'regex': False},\n",
       "   'Age_upper': {'title': None,\n",
       "    'description': 'Upper limit of age group in years. For children <1, enter age as a decimal.',\n",
       "    'dtype': 'float64',\n",
       "    'nullable': True,\n",
       "    'checks': {'greater_than_or_equal_to': 0},\n",
       "    'unique': False,\n",
       "    'coerce': False,\n",
       "    'required': True,\n",
       "    'regex': False},\n",
       "   'N_pos': {'title': None,\n",
       "    'description': 'Number of people tested to be parasite positive',\n",
       "    'dtype': 'int64',\n",
       "    'nullable': True,\n",
       "    'checks': {'greater_than_or_equal_to': 0},\n",
       "    'unique': False,\n",
       "    'coerce': False,\n",
       "    'required': True,\n",
       "    'regex': False},\n",
       "   'PR': {'title': None,\n",
       "    'description': 'Definition: (N_pos/N_people)*100',\n",
       "    'dtype': 'float64',\n",
       "    'nullable': True,\n",
       "    'checks': {'greater_than_or_equal_to': 0, 'less_than_or_equal_to': 100},\n",
       "    'unique': False,\n",
       "    'coerce': False,\n",
       "    'required': True,\n",
       "    'regex': False},\n",
       "   'PR_rate_lower': {'title': None,\n",
       "    'description': 'Lower bound of parasite positivity rate',\n",
       "    'dtype': 'float64',\n",
       "    'nullable': True,\n",
       "    'checks': {'greater_than_or_equal_to': 0, 'less_than_or_equal_to': 100},\n",
       "    'unique': False,\n",
       "    'coerce': False,\n",
       "    'required': True,\n",
       "    'regex': False},\n",
       "   'PR_rate_upper': {'title': None,\n",
       "    'description': 'Upper bound of parasite positivity rate',\n",
       "    'dtype': 'float64',\n",
       "    'nullable': True,\n",
       "    'checks': {'greater_than_or_equal_to': 0, 'less_than_or_equal_to': 100},\n",
       "    'unique': False,\n",
       "    'coerce': False,\n",
       "    'required': True,\n",
       "    'regex': False},\n",
       "   'CM': {'title': None,\n",
       "    'description': 'Number of people with clinical malaria',\n",
       "    'dtype': 'int64',\n",
       "    'nullable': True,\n",
       "    'checks': None,\n",
       "    'unique': False,\n",
       "    'coerce': False,\n",
       "    'required': True,\n",
       "    'regex': False},\n",
       "   'CM_rate': {'title': None,\n",
       "    'description': 'Definition: (CM/N_people)*100',\n",
       "    'dtype': 'float64',\n",
       "    'nullable': True,\n",
       "    'checks': {'greater_than_or_equal_to': 0, 'less_than_or_equal_to': 100},\n",
       "    'unique': False,\n",
       "    'coerce': False,\n",
       "    'required': True,\n",
       "    'regex': False},\n",
       "   'CM_rate_lower': {'title': None,\n",
       "    'description': 'Lower bound of clinical malaria rate',\n",
       "    'dtype': 'float64',\n",
       "    'nullable': True,\n",
       "    'checks': {'greater_than_or_equal_to': 0, 'less_than_or_equal_to': 100},\n",
       "    'unique': False,\n",
       "    'coerce': False,\n",
       "    'required': True,\n",
       "    'regex': False},\n",
       "   'CM_rate_upper': {'title': None,\n",
       "    'description': 'Upper bound of clinical malaria rate',\n",
       "    'dtype': 'float64',\n",
       "    'nullable': True,\n",
       "    'checks': {'greater_than_or_equal_to': 0, 'less_than_or_equal_to': 100},\n",
       "    'unique': False,\n",
       "    'coerce': False,\n",
       "    'required': True,\n",
       "    'regex': False},\n",
       "   'Net_retention': {'title': None,\n",
       "    'description': 'Number of nets still owned divided by a number of nets previously distributed',\n",
       "    'dtype': 'float64',\n",
       "    'nullable': True,\n",
       "    'checks': {'greater_than_or_equal_to': 0, 'less_than_or_equal_to': 100},\n",
       "    'unique': False,\n",
       "    'coerce': False,\n",
       "    'required': True,\n",
       "    'regex': False},\n",
       "   'N_nets': {'title': None,\n",
       "    'description': 'Number of nets found in household or community study arm',\n",
       "    'dtype': 'int64',\n",
       "    'nullable': True,\n",
       "    'checks': {'greater_than_or_equal_to': 0},\n",
       "    'unique': False,\n",
       "    'coerce': False,\n",
       "    'required': True,\n",
       "    'regex': False},\n",
       "   'N_sleep_nets': {'title': None,\n",
       "    'description': 'Number of people that slept under a net the previous night',\n",
       "    'dtype': 'int64',\n",
       "    'nullable': True,\n",
       "    'checks': {'greater_than_or_equal_to': 0},\n",
       "    'unique': False,\n",
       "    'coerce': False,\n",
       "    'required': True,\n",
       "    'regex': False},\n",
       "   'Perc_sleep_nets': {'title': None,\n",
       "    'description': 'Percent of people that slept under a net the previous night',\n",
       "    'dtype': 'float64',\n",
       "    'nullable': True,\n",
       "    'checks': {'greater_than_or_equal_to': 0, 'less_than_or_equal_to': 100},\n",
       "    'unique': False,\n",
       "    'coerce': False,\n",
       "    'required': True,\n",
       "    'regex': False}},\n",
       "  'checks': {'check_less_than': {'columns_a': ['Age_lower'],\n",
       "    'columns_b': ['Age_upper'],\n",
       "    'or_equal': True},\n",
       "   'check_greater_than': {'columns_a': 'N_people',\n",
       "    'columns_b': ['N_pos', 'CM', 'N_sleep_nets'],\n",
       "    'or_equal': True},\n",
       "   'check_between': {'columns_target': ['PR', 'CM_rate'],\n",
       "    'columns_lower': ['PR_rate_lower', 'CM_rate_lower'],\n",
       "    'columns_upper': ['PR_rate_upper', 'CM_rate_upper'],\n",
       "    'or_equal': True}},\n",
       "  'index': [{'title': 'Observation reference',\n",
       "    'description': None,\n",
       "    'dtype': 'str',\n",
       "    'nullable': False,\n",
       "    'checks': {'str_startswith': 'S'},\n",
       "    'name': 'observation_ref',\n",
       "    'unique': False,\n",
       "    'coerce': False},\n",
       "   {'title': 'ITNCondition reference',\n",
       "    'description': None,\n",
       "    'dtype': 'str',\n",
       "    'nullable': False,\n",
       "    'checks': {'str_startswith': 'N'},\n",
       "    'name': 'itncondition_ref',\n",
       "    'unique': False,\n",
       "    'coerce': False}],\n",
       "  'dtype': None,\n",
       "  'coerce': True,\n",
       "  'strict': True,\n",
       "  'name': 'ClinicalOutcome',\n",
       "  'ordered': False,\n",
       "  'unique': None,\n",
       "  'report_duplicates': 'all',\n",
       "  'unique_column_names': False,\n",
       "  'add_missing_columns': False,\n",
       "  'title': None,\n",
       "  'description': '\\nEpidemiological and clinical outcomes on humans collected from a clinical trial or village trial, if reported in the study.\\nEach clinical outcome should have unique `observation_ref`, `itn_condition_ref`, `Group`, `Age_lower`, and `Age_upper` (if reported).\\n    '}}"
      ]
     },
     "execution_count": 10,
     "metadata": {},
     "output_type": "execute_result"
    }
   ],
   "source": [
    "json.loads(record.fields[\"extraction\"])"
   ]
  },
  {
   "cell_type": "markdown",
   "metadata": {},
   "source": [
    "# Test dataset"
   ]
  },
  {
   "cell_type": "markdown",
   "metadata": {},
   "source": [
    "## Custom Field"
   ]
  },
  {
   "cell_type": "code",
   "execution_count": 5,
   "metadata": {},
   "outputs": [
    {
     "name": "stderr",
     "output_type": "stream",
     "text": [
      "/Users/jonny/Projects/extralit/argilla/src/argilla/client.py:354: UserWarning: Dataset with name 'interactive_chat' not found in workspace 'itn-recalibration'\n",
      "  warnings.warn(f\"Dataset with name {name!r} not found in workspace {workspace.name!r}\")\n"
     ]
    },
    {
     "ename": "AttributeError",
     "evalue": "'NoneType' object has no attribute 'delete'",
     "output_type": "error",
     "traceback": [
      "\u001b[0;31m---------------------------------------------------------------------------\u001b[0m",
      "\u001b[0;31mAttributeError\u001b[0m                            Traceback (most recent call last)",
      "Cell \u001b[0;32mIn[5], line 5\u001b[0m\n\u001b[1;32m      1\u001b[0m dataset \u001b[38;5;241m=\u001b[39m client\u001b[38;5;241m.\u001b[39mdatasets(\n\u001b[1;32m      2\u001b[0m     name\u001b[38;5;241m=\u001b[39m\u001b[38;5;124m\"\u001b[39m\u001b[38;5;124minteractive_chat\u001b[39m\u001b[38;5;124m\"\u001b[39m,\n\u001b[1;32m      3\u001b[0m     \u001b[38;5;66;03m# workspace=\"itn-recalibration\"\u001b[39;00m\n\u001b[1;32m      4\u001b[0m )\n\u001b[0;32m----> 5\u001b[0m \u001b[43mdataset\u001b[49m\u001b[38;5;241;43m.\u001b[39;49m\u001b[43mdelete\u001b[49m()\n",
      "\u001b[0;31mAttributeError\u001b[0m: 'NoneType' object has no attribute 'delete'"
     ]
    }
   ],
   "source": [
    "dataset = client.datasets(\n",
    "    name=\"interactive_chat\",\n",
    "    # workspace=\"itn-recalibration\"\n",
    ")\n",
    "dataset.delete()"
   ]
  },
  {
   "cell_type": "code",
   "execution_count": 9,
   "metadata": {
    "scrolled": true
   },
   "outputs": [
    {
     "data": {
      "text/plain": [
       "Dataset(id=UUID('92b559e7-8eff-4d4c-85bf-817fd73570e4') inserted_at=datetime.datetime(2024, 12, 2, 21, 33, 33, 529345) updated_at=datetime.datetime(2024, 12, 2, 21, 33, 39, 111530) name='interactive_chat' status='ready' guidelines=None allow_extra_metadata=False distribution=OverlapTaskDistributionModel(strategy='overlap', min_submitted=1) workspace_id=UUID('e9e4e699-a6f9-4482-b5dd-e45874bd87eb') last_activity_at=datetime.datetime(2024, 12, 2, 21, 33, 39, 111530))"
      ]
     },
     "execution_count": 9,
     "metadata": {},
     "output_type": "execute_result"
    }
   ],
   "source": [
    "settings = rg.Settings(\n",
    "    fields=[\n",
    "        rg.TableField(name=\"chosen\", required=False),\n",
    "    ],\n",
    "    questions=[\n",
    "        rg.TableQuestion(\n",
    "            \"extraction\", title=\"Correct the table\", required=True\n",
    "        ),\n",
    "    ],\n",
    ")\n",
    "\n",
    "dataset = rg.Dataset(\n",
    "    settings=settings,\n",
    "    name=f\"interactive_chat\",\n",
    ")\n",
    "\n",
    "dataset.create()"
   ]
  },
  {
   "cell_type": "code",
   "execution_count": 11,
   "metadata": {
    "scrolled": true
   },
   "outputs": [
    {
     "data": {
      "text/plain": [
       "{'reference': 'mosqueira2015pilot',\n",
       " 'schema': {'fields': [{'name': 'observation_ref',\n",
       "    'type': 'any',\n",
       "    'extDtype': 'string'},\n",
       "   {'name': 'itncondition_ref', 'type': 'any', 'extDtype': 'string'},\n",
       "   {'name': 'N_people', 'type': 'integer'},\n",
       "   {'name': 'Age_lower', 'type': 'number'},\n",
       "   {'name': 'Age_upper', 'type': 'number'}],\n",
       "  'primaryKey': ['observation_ref', 'itncondition_ref'],\n",
       "  'pandas_version': '1.4.0'},\n",
       " 'data': [{'observation_ref': 'S01',\n",
       "   'itncondition_ref': 'N01',\n",
       "   'N_people': 3903,\n",
       "   'Age_lower': 0.5,\n",
       "   'Age_upper': 14.0},\n",
       "  {'observation_ref': 'S02',\n",
       "   'itncondition_ref': 'N01',\n",
       "   'N_people': 3903,\n",
       "   'Age_lower': 0.5,\n",
       "   'Age_upper': 14.0}],\n",
       " 'validation': {'schema_type': 'dataframe',\n",
       "  'version': '0.18.3',\n",
       "  'columns': {'N_people': {'title': None,\n",
       "    'description': 'Number of people in the study arm of the net in question',\n",
       "    'dtype': 'int64',\n",
       "    'nullable': True,\n",
       "    'checks': None,\n",
       "    'unique': False,\n",
       "    'coerce': False,\n",
       "    'required': True,\n",
       "    'regex': False},\n",
       "   'Age_lower': {'title': None,\n",
       "    'description': 'Lower limit of age group in years. For children <1, enter age as a decimal.',\n",
       "    'dtype': 'float64',\n",
       "    'nullable': True,\n",
       "    'checks': {'greater_than_or_equal_to': 0},\n",
       "    'unique': False,\n",
       "    'coerce': False,\n",
       "    'required': True,\n",
       "    'regex': False},\n",
       "   'Age_upper': {'title': None,\n",
       "    'description': 'Upper limit of age group in years. For children <1, enter age as a decimal.',\n",
       "    'dtype': 'float64',\n",
       "    'nullable': True,\n",
       "    'checks': {'greater_than_or_equal_to': 0},\n",
       "    'unique': False,\n",
       "    'coerce': False,\n",
       "    'required': True,\n",
       "    'regex': False},\n",
       "   'N_pos': {'title': None,\n",
       "    'description': 'Number of people tested to be parasite positive',\n",
       "    'dtype': 'int64',\n",
       "    'nullable': True,\n",
       "    'checks': {'greater_than_or_equal_to': 0},\n",
       "    'unique': False,\n",
       "    'coerce': False,\n",
       "    'required': True,\n",
       "    'regex': False},\n",
       "   'PR': {'title': None,\n",
       "    'description': 'Definition: (N_pos/N_people)*100',\n",
       "    'dtype': 'float64',\n",
       "    'nullable': True,\n",
       "    'checks': {'greater_than_or_equal_to': 0, 'less_than_or_equal_to': 100},\n",
       "    'unique': False,\n",
       "    'coerce': False,\n",
       "    'required': True,\n",
       "    'regex': False},\n",
       "   'PR_rate_lower': {'title': None,\n",
       "    'description': 'Lower bound of parasite positivity rate',\n",
       "    'dtype': 'float64',\n",
       "    'nullable': True,\n",
       "    'checks': {'greater_than_or_equal_to': 0, 'less_than_or_equal_to': 100},\n",
       "    'unique': False,\n",
       "    'coerce': False,\n",
       "    'required': True,\n",
       "    'regex': False},\n",
       "   'PR_rate_upper': {'title': None,\n",
       "    'description': 'Upper bound of parasite positivity rate',\n",
       "    'dtype': 'float64',\n",
       "    'nullable': True,\n",
       "    'checks': {'greater_than_or_equal_to': 0, 'less_than_or_equal_to': 100},\n",
       "    'unique': False,\n",
       "    'coerce': False,\n",
       "    'required': True,\n",
       "    'regex': False},\n",
       "   'CM': {'title': None,\n",
       "    'description': 'Number of people with clinical malaria',\n",
       "    'dtype': 'int64',\n",
       "    'nullable': True,\n",
       "    'checks': None,\n",
       "    'unique': False,\n",
       "    'coerce': False,\n",
       "    'required': True,\n",
       "    'regex': False},\n",
       "   'CM_rate': {'title': None,\n",
       "    'description': 'Definition: (CM/N_people)*100',\n",
       "    'dtype': 'float64',\n",
       "    'nullable': True,\n",
       "    'checks': {'greater_than_or_equal_to': 0, 'less_than_or_equal_to': 100},\n",
       "    'unique': False,\n",
       "    'coerce': False,\n",
       "    'required': True,\n",
       "    'regex': False},\n",
       "   'CM_rate_lower': {'title': None,\n",
       "    'description': 'Lower bound of clinical malaria rate',\n",
       "    'dtype': 'float64',\n",
       "    'nullable': True,\n",
       "    'checks': {'greater_than_or_equal_to': 0, 'less_than_or_equal_to': 100},\n",
       "    'unique': False,\n",
       "    'coerce': False,\n",
       "    'required': True,\n",
       "    'regex': False},\n",
       "   'CM_rate_upper': {'title': None,\n",
       "    'description': 'Upper bound of clinical malaria rate',\n",
       "    'dtype': 'float64',\n",
       "    'nullable': True,\n",
       "    'checks': {'greater_than_or_equal_to': 0, 'less_than_or_equal_to': 100},\n",
       "    'unique': False,\n",
       "    'coerce': False,\n",
       "    'required': True,\n",
       "    'regex': False},\n",
       "   'Net_retention': {'title': None,\n",
       "    'description': 'Number of nets still owned divided by a number of nets previously distributed',\n",
       "    'dtype': 'float64',\n",
       "    'nullable': True,\n",
       "    'checks': {'greater_than_or_equal_to': 0, 'less_than_or_equal_to': 100},\n",
       "    'unique': False,\n",
       "    'coerce': False,\n",
       "    'required': True,\n",
       "    'regex': False},\n",
       "   'N_nets': {'title': None,\n",
       "    'description': 'Number of nets found in household or community study arm',\n",
       "    'dtype': 'int64',\n",
       "    'nullable': True,\n",
       "    'checks': {'greater_than_or_equal_to': 0},\n",
       "    'unique': False,\n",
       "    'coerce': False,\n",
       "    'required': True,\n",
       "    'regex': False},\n",
       "   'N_sleep_nets': {'title': None,\n",
       "    'description': 'Number of people that slept under a net the previous night',\n",
       "    'dtype': 'int64',\n",
       "    'nullable': True,\n",
       "    'checks': {'greater_than_or_equal_to': 0},\n",
       "    'unique': False,\n",
       "    'coerce': False,\n",
       "    'required': True,\n",
       "    'regex': False},\n",
       "   'Perc_sleep_nets': {'title': None,\n",
       "    'description': 'Percent of people that slept under a net the previous night',\n",
       "    'dtype': 'float64',\n",
       "    'nullable': True,\n",
       "    'checks': {'greater_than_or_equal_to': 0, 'less_than_or_equal_to': 100},\n",
       "    'unique': False,\n",
       "    'coerce': False,\n",
       "    'required': True,\n",
       "    'regex': False}},\n",
       "  'checks': {'check_less_than': {'columns_a': ['Age_lower'],\n",
       "    'columns_b': ['Age_upper'],\n",
       "    'or_equal': True},\n",
       "   'check_greater_than': {'columns_a': 'N_people',\n",
       "    'columns_b': ['N_pos', 'CM', 'N_sleep_nets'],\n",
       "    'or_equal': True},\n",
       "   'check_between': {'columns_target': ['PR', 'CM_rate'],\n",
       "    'columns_lower': ['PR_rate_lower', 'CM_rate_lower'],\n",
       "    'columns_upper': ['PR_rate_upper', 'CM_rate_upper'],\n",
       "    'or_equal': True}},\n",
       "  'index': [{'title': 'Observation reference',\n",
       "    'description': None,\n",
       "    'dtype': 'str',\n",
       "    'nullable': False,\n",
       "    'checks': {'str_startswith': 'S'},\n",
       "    'name': 'observation_ref',\n",
       "    'unique': False,\n",
       "    'coerce': False},\n",
       "   {'title': 'ITNCondition reference',\n",
       "    'description': None,\n",
       "    'dtype': 'str',\n",
       "    'nullable': False,\n",
       "    'checks': {'str_startswith': 'N'},\n",
       "    'name': 'itncondition_ref',\n",
       "    'unique': False,\n",
       "    'coerce': False}],\n",
       "  'dtype': None,\n",
       "  'coerce': True,\n",
       "  'strict': True,\n",
       "  'name': 'ClinicalOutcome',\n",
       "  'ordered': False,\n",
       "  'unique': None,\n",
       "  'report_duplicates': 'all',\n",
       "  'unique_column_names': False,\n",
       "  'add_missing_columns': False,\n",
       "  'title': None,\n",
       "  'description': '\\nEpidemiological and clinical outcomes on humans collected from a clinical trial or village trial, if reported in the study.\\nEach clinical outcome should have unique `observation_ref`, `itn_condition_ref`, `Group`, `Age_lower`, and `Age_upper` (if reported).\\n    '}}"
      ]
     },
     "execution_count": 11,
     "metadata": {},
     "output_type": "execute_result"
    }
   ],
   "source": [
    "sample_table = record.fields['extraction']\n",
    "sample_table"
   ]
  },
  {
   "cell_type": "code",
   "execution_count": 8,
   "metadata": {},
   "outputs": [
    {
     "data": {
      "text/html": [
       "<pre style=\"white-space:pre;overflow-x:auto;line-height:normal;font-family:Menlo,'DejaVu Sans Mono',consolas,'Courier New',monospace\">DatasetRecords: The provided batch size <span style=\"color: #008080; text-decoration-color: #008080; font-weight: bold\">256</span> was normalized. Using value <span style=\"color: #008080; text-decoration-color: #008080; font-weight: bold\">4</span>.\n",
       "</pre>\n"
      ],
      "text/plain": [
       "DatasetRecords: The provided batch size \u001b[1;36m256\u001b[0m was normalized. Using value \u001b[1;36m4\u001b[0m.\n"
      ]
     },
     "metadata": {},
     "output_type": "display_data"
    },
    {
     "name": "stderr",
     "output_type": "stream",
     "text": [
      "Sending records...: 100%|███████| 1/1 [00:02<00:00,  2.54s/batch]\n"
     ]
    },
    {
     "data": {
      "text/plain": [
       "DatasetRecords(Dataset(id=UUID('a64a827c-f962-417a-a771-ce53f61c0756') inserted_at=datetime.datetime(2024, 11, 29, 23, 9, 55, 104623) updated_at=datetime.datetime(2024, 11, 29, 23, 9, 58, 696913) name='interactive_chat' status='ready' guidelines=None allow_extra_metadata=False distribution=OverlapTaskDistributionModel(strategy='overlap', min_submitted=1) workspace_id=UUID('e9e4e699-a6f9-4482-b5dd-e45874bd87eb') last_activity_at=datetime.datetime(2024, 11, 29, 23, 9, 58, 696913)))"
      ]
     },
     "execution_count": 8,
     "metadata": {},
     "output_type": "execute_result"
    }
   ],
   "source": [
    "dataset.records.log([\n",
    "    {'chosen': sample_table} \\\n",
    "    for r in updated_records\n",
    "])"
   ]
  },
  {
   "cell_type": "code",
   "execution_count": 9,
   "metadata": {
    "scrolled": true
   },
   "outputs": [],
   "source": [
    "# ds = load_dataset(\"argilla/Capybara-Preferences\", split=\"train[:100]\")\n",
    "# ds = ds.map(lambda x: {\"messages\": x[\"chosen\"]})\n",
    "# dataset.records.log(ds)"
   ]
  },
  {
   "cell_type": "code",
   "execution_count": null,
   "metadata": {},
   "outputs": [],
   "source": []
  }
 ],
 "metadata": {
  "kernelspec": {
   "display_name": "Python 3",
   "language": "python",
   "name": "python3"
  },
  "language_info": {
   "codemirror_mode": {
    "name": "ipython",
    "version": 3
   },
   "file_extension": ".py",
   "mimetype": "text/x-python",
   "name": "python",
   "nbconvert_exporter": "python",
   "pygments_lexer": "ipython3",
   "version": "3.9.19"
  }
 },
 "nbformat": 4,
 "nbformat_minor": 4
}
