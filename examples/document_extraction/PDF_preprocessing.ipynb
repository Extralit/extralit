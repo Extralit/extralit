{
 "cells": [
  {
   "cell_type": "code",
   "execution_count": 1,
   "id": "f089250a-b770-4cd2-a7ac-9dcc4a42775b",
   "metadata": {
    "editable": true,
    "scrolled": true,
    "slideshow": {
     "slide_type": ""
    },
    "tags": []
   },
   "outputs": [],
   "source": [
    "%load_ext autoreload\n",
    "%autoreload 2\n",
    "# %load_ext heat"
   ]
  },
  {
   "cell_type": "code",
   "execution_count": 8,
   "id": "e21edbd0-c479-48db-b53d-becdf0cd060b",
   "metadata": {
    "scrolled": true
   },
   "outputs": [],
   "source": [
    "# %%heat\n",
    "from collections import defaultdict, Counter\n",
    "import requests, json, rich, re, os, sys, unicodedata, io, hashlib, glob, collections\n",
    "from IPython.display import IFrame, HTML, Image, JSON\n",
    "from functools import partial\n",
    "from tqdm.auto import tqdm\n",
    "from pathlib import Path\n",
    "from dotenv import load_dotenv\n",
    "load_dotenv()\n",
    "# sys.path.insert(0, 'src')\n",
    "\n",
    "import plotly.express as px\n",
    "import pandas as pd\n",
    "import numpy as np\n",
    "\n",
    "import argilla as rg\n",
    "from argilla.client.feedback.schemas.enums import ResponseStatusFilter\n",
    "from argilla.client.feedback.integrations.textdescriptives import TextDescriptivesExtractor\n",
    "from argilla.client.feedback.utils import create_token_highlights, audio_to_html, image_to_html, video_to_html\n",
    "from argilla.client.feedback.utils import assign_records, assign_workspaces\n",
    "\n",
    "from pdf2image import convert_from_path\n",
    "\n",
    "import deepdoctection as dd\n",
    "from unstructured.staging.argilla import stage_for_argilla\n",
    "from llmsherpa.readers import LayoutPDFReader\n",
    "\n",
    "from extralit.extraction.models.paper import PaperExtraction, SchemaStructure\n",
    "from extralit.preprocessing.methods import unstructured as unstructured \n",
    "from extralit.preprocessing.methods import llmsherpa as llmsherpa\n",
    "from extralit.preprocessing.methods import nougat as nougat\n",
    "from extralit.preprocessing.segment import Segments, FigureSegment\n",
    "from extralit.preprocessing.merge_segments import merge_extractions\n",
    "from extralit.preprocessing.document import *\n",
    "from extralit.convert.json_table import json_to_df, df_to_json\n",
    "from extralit.convert.html_table import html_table_to_json\n",
    "from extralit.convert.text import remove_markdown_from_string\n",
    "from extralit.pipeline.ingest.record import get_record_data\n",
    "from extralit.metrics.extraction import grits_from_pandas, grits_multi_tables\n",
    "\n",
    "from extralit.server.context.vectordb import get_weaviate_client\n",
    "\n",
    "os.environ[\"PYTORCH_MPS_HIGH_WATERMARK_RATIO\"] = \"0.0\"\n",
    "pd.set_option('display.max_rows', 100)\n",
    "pd.set_option('display.width', 1500)\n",
    "pd.set_option('max_colwidth', 100)"
   ]
  },
  {
   "cell_type": "code",
   "execution_count": 9,
   "id": "cb9cbd73-436b-4a54-8d20-4fa8bc6abc22",
   "metadata": {},
   "outputs": [
    {
     "name": "stderr",
     "output_type": "stream",
     "text": [
      "/var/folders/yg/6jm_z4c91d30k5l7hm3s7h580000gp/T/ipykernel_75182/2468869230.py:9: ResourceWarning: unclosed <socket.socket fd=78, family=AddressFamily.AF_INET, type=SocketKind.SOCK_STREAM, proto=6, laddr=('172.16.0.2', 64655), raddr=('10.24.49.73', 80)>\n",
      "  weaviate_client = get_weaviate_client()\n",
      "ResourceWarning: Enable tracemalloc to get the object allocation traceback\n"
     ]
    }
   ],
   "source": [
    "import weaviate\n",
    "from extralit.extraction.vector_store import WeaviateVectorStore\n",
    "from llama_index.core.vector_stores import (\n",
    "    MetadataFilter,\n",
    "    MetadataFilters,\n",
    "    FilterOperator, ExactMatchFilter,\n",
    ")\n",
    "\n",
    "weaviate_client = get_weaviate_client()"
   ]
  },
  {
   "cell_type": "code",
   "execution_count": 10,
   "id": "9797f734-e7cc-4dd7-87ef-7c66172d31e9",
   "metadata": {},
   "outputs": [],
   "source": [
    "from llama_index.core import set_global_handler, Settings, callbacks, PromptTemplate\n",
    "### comment out langfuse code \n",
    "# import langfuse\n",
    "# from langfuse.llama_index import LlamaIndexCallbackHandler\n",
    "\n",
    "# langfuse_callback_handler = LlamaIndexCallbackHandler(\n",
    "#     public_key=os.environ['LANGFUSE_PUBLIC_KEY'],\n",
    "#     secret_key=os.environ['LANGFUSE_SECRET_KEY'],\n",
    "#     host=os.environ['LANGFUSE_HOST'],\n",
    "# )\n",
    "# if not Settings.callback_manager.handlers:\n",
    "#     Settings.callback_manager.add_handler(langfuse_callback_handler)\n",
    "# set_global_handler(\"langfuse\")\n",
    "\n",
    "# Ensure the global handler is NOT set to langfuse\n",
    "set_global_handler(\"simple\")"
   ]
  },
  {
   "cell_type": "code",
   "execution_count": 11,
   "id": "7a4383b3-540a-4080-88ba-216cbccd9282",
   "metadata": {},
   "outputs": [],
   "source": [
    "client = rg.init(\n",
    "    api_url='http://10.24.49.60/',\n",
    "    api_key=\"386a5806-0182-41f6-8076-f4b557818f0b\",\n",
    "    workspace='preprocessing',\n",
    ")"
   ]
  },
  {
   "cell_type": "code",
   "execution_count": 20,
   "id": "bcd39e63-cf3d-400a-a450-2701c4e15832",
   "metadata": {
    "editable": true,
    "scrolled": true,
    "slideshow": {
     "slide_type": ""
    },
    "tags": []
   },
   "outputs": [
    {
     "data": {
      "text/plain": [
       "[UserModel(id=6d8ee721-49b7-4d1f-bf4c-d6b0eb187c62, first_name=Jonny, last_name=Tran, full_name=Jonny Tran, username=jonnytr, role=admin, workspaces=['jonnytr', 'itn-recalibration', 'gold-standard', 'test-extraction', 'preprocessing', 'itn-recalibration-scratch'], inserted_at=2024-01-11 01:48:44.477722, updated_at=2024-03-22 06:56:39.809768),\n",
       " UserModel(id=e96c9d89-36f4-4240-a592-9734087371d3, first_name=Amelia, last_name=Bertozzi-Villa, full_name=Amelia Bertozzi-Villa, username=ameliabv, role=admin, workspaces=['ameliabv', 'itn-recalibration', 'gold-standard', 'test-extraction', 'preprocessing', 'itn-recalibration-scratch'], inserted_at=2024-01-11 01:48:44.549157, updated_at=2024-03-22 06:56:39.815293),\n",
       " UserModel(id=91b12ed4-2aff-46d6-9eb3-c15d44e00e2a, first_name=Kate, last_name=Battle, full_name=Kate Battle, username=kateb, role=admin, workspaces=['kateb', 'itn-recalibration', 'gold-standard', 'test-extraction', 'preprocessing', 'itn-recalibration-scratch'], inserted_at=2024-01-11 01:48:44.553978, updated_at=2024-03-22 06:56:39.820769)]"
      ]
     },
     "execution_count": 20,
     "metadata": {},
     "output_type": "execute_result"
    }
   ],
   "source": [
    "remote_dataset = rg.FeedbackDataset.from_argilla(name=\"Table-Preprocessing\", workspace=\"itn-recalibration\")\n",
    "\n",
    "users = rg.Workspace.from_name('itn-recalibration').users\n",
    "users_id_to_username = {u.id: u.username for u in users}\n",
    "users"
   ]
  },
  {
   "cell_type": "markdown",
   "id": "17374647-df33-4aab-9827-0162e5b522ae",
   "metadata": {},
   "source": [
    "# Load papers"
   ]
  },
  {
   "cell_type": "code",
   "execution_count": 13,
   "id": "219e6dd1-cae3-461c-bdad-78a50ca38cac",
   "metadata": {
    "scrolled": true
   },
   "outputs": [
    {
     "data": {
      "text/plain": [
       "(197, 32)"
      ]
     },
     "execution_count": 13,
     "metadata": {},
     "output_type": "execute_result"
    }
   ],
   "source": [
    "papers = pd.read_parquet('config/extraction_queue_197papers_2024-04-03.parquet')\n",
    "extractions = pd.read_csv('data/processed/extractions_preJonny_cleaned.csv', index_col='reference')\n",
    "\n",
    "papers = papers.assign(collections=papers['collections'].map(', '.join))\n",
    "\n",
    "papers.shape"
   ]
  },
  {
   "cell_type": "code",
   "execution_count": 14,
   "id": "3155d4ed-b741-4c93-9c35-eeb428f189b3",
   "metadata": {
    "scrolled": true
   },
   "outputs": [],
   "source": [
    "# Upload PDFs if not already exist in the Argilla database\n",
    "# for ref, paper in tqdm(papers.iterrows()):\n",
    "#     doc = remote_dataset.add_document(rg.Document.from_file(\n",
    "#         paper.file_path, reference=ref, pmid=paper.pmid, doi=paper.doi, id=paper.get('id')))"
   ]
  },
  {
   "cell_type": "code",
   "execution_count": 19,
   "id": "bda4d8fc-8814-4ae0-9145-7dc490ffe11c",
   "metadata": {},
   "outputs": [
    {
     "data": {
      "application/vnd.jupyter.widget-view+json": {
       "model_id": "bc52eb13e2f54ec1978013affd468883",
       "version_major": 2,
       "version_minor": 0
      },
      "text/plain": [
       "  0%|          | 0/670 [00:00<?, ?it/s]"
      ]
     },
     "metadata": {},
     "output_type": "display_data"
    },
    {
     "data": {
      "text/plain": [
       "111"
      ]
     },
     "execution_count": 19,
     "metadata": {},
     "output_type": "execute_result"
    }
   ],
   "source": [
    "papers_uploaded = {r.metadata['reference'] \\\n",
    "                   for r in tqdm(remote_dataset.filter_by(\n",
    "                       metadata_filters=rg.TermsMetadataFilter(name='type', values=['table'])).records)}\n",
    "len(papers_uploaded)"
   ]
  },
  {
   "cell_type": "markdown",
   "id": "76af3e87-93ee-42ef-a2c8-1caee119b151",
   "metadata": {},
   "source": [
    "# Push to Argilla"
   ]
  },
  {
   "cell_type": "markdown",
   "id": "a456dffb-e5f9-4b9b-adfa-8cbb1e847556",
   "metadata": {
    "jp-MarkdownHeadingCollapsed": true
   },
   "source": [
    "## Create dataset"
   ]
  },
  {
   "cell_type": "code",
   "execution_count": 6,
   "id": "cfd9e1be-2268-4df3-adb6-062aad21bcb4",
   "metadata": {
    "scrolled": true
   },
   "outputs": [
    {
     "data": {
      "text/plain": [
       "FeedbackDataset(\n",
       "   fields=[TextField(name='metadata', title='Metadata:', required=True, type='text', use_markdown=True, use_table=False), TextField(name='header', title='Title:', required=True, type='text', use_markdown=True, use_table=False), TextField(name='image', title='Image:', required=False, type='text', use_markdown=True, use_table=False), TextField(name='text-1', title='Method 1:', required=False, type='text', use_markdown=True, use_table=False), TextField(name='text-2', title='Method 2:', required=False, type='text', use_markdown=True, use_table=False), TextField(name='text-3', title='Method 3:', required=False, type='text', use_markdown=True, use_table=False), TextField(name='text-4', title='Method 4:', required=False, type='text', use_markdown=True, use_table=False), TextField(name='text-5', title='Method 5:', required=False, type='text', use_markdown=True, use_table=False)]\n",
       "   questions=[LabelQuestion(name='ranking', title='Which method extracted the most complete and accurate information?', description=None, required=True, type=<QuestionTypes.dynamic_label_selection: 'dynamic_label_selection'>, labels={'text-1': 'Method 1', 'text-2': 'Method 2', 'text-3': 'Method 3', 'text-4': 'Method 4', 'text-5': 'Method 5', 'none': 'None'}, visible_labels=None), MultiLabelQuestion(name='mismatched', title='Which of the method(s) extracted the wrong table/figure? (if any)', description='This indication helps in evaluating these models accuracy', required=False, type=<QuestionTypes.dynamic_multi_label_selection: 'dynamic_multi_label_selection'>, labels={'text-1': 'Method 1', 'text-2': 'Method 2', 'text-3': 'Method 3', 'text-4': 'Method 4', 'text-5': 'Method 5'}, visible_labels=None, labels_order=<LabelsOrder.natural: 'natural'>), TextQuestion(name='header-correction', title='Correct the table or figure title:', description=None, required=False, type='text', use_markdown=False, use_table=False), TextQuestion(name='text-correction', title='Correct the extracted data:', description=None, required=False, type='text', use_markdown=True, use_table=True), TextQuestion(name='notes', title='Mention any notes here', description=None, required=False, type='text', use_markdown=False, use_table=False)]\n",
       "   guidelines=None)\n",
       "   metadata_properties=[TermsMetadataProperty(name='reference', title='Reference', visible_for_annotators=True, type='terms', values=None), TermsMetadataProperty(name='page_number', title='Page Number', visible_for_annotators=True, type='terms', values=None), TermsMetadataProperty(name='number', title='Table/Figure Number', visible_for_annotators=True, type='terms', values=None), TermsMetadataProperty(name='type', title='Element type', visible_for_annotators=True, type='terms', values=None), TermsMetadataProperty(name='pmid', title='Document Pubmed ID', visible_for_annotators=True, type='terms', values=None), TermsMetadataProperty(name='doc_id', title='Document ID', visible_for_annotators=False, type='terms', values=None), FloatMetadataProperty(name='probability', title='Detection probability', visible_for_annotators=True, type='float', min=None, max=None), TermsMetadataProperty(name='annotators', title='annotators', visible_for_annotators=True, type='terms', values=None)])\n",
       "   vectors_settings=[])\n",
       ")"
      ]
     },
     "execution_count": 6,
     "metadata": {},
     "output_type": "execute_result"
    }
   ],
   "source": [
    "from extralit.pipeline.export.dataset import create_preprocessing_dataset\n",
    "\n",
    "dataset = create_preprocessing_dataset()\n",
    "\n",
    "remote_dataset = dataset.push_to_argilla(name=\"Table-Preprocessing\", workspace=\"itn-recalibration-scratch\")\n",
    "\n",
    "# Initialize the TextDescriptivesExtractor\n",
    "# tde = TextDescriptivesExtractor(\n",
    "#     model=\"en\",\n",
    "#     metrics=['descriptive_stats'],\n",
    "#     fields=[\"text-1\"],\n",
    "#     visible_for_annotators=True,\n",
    "#     show_progress=True,\n",
    "# )\n",
    "\n",
    "# pdf_reader = LayoutPDFReader(\"https://readers.llmsherpa.com/api/document/developer/parseDocument?renderFormat=all\")"
   ]
  },
  {
   "cell_type": "code",
   "execution_count": 7,
   "id": "049797df-0875-4c79-9cf3-71ceaa05a2ba",
   "metadata": {
    "editable": true,
    "scrolled": true,
    "slideshow": {
     "slide_type": ""
    },
    "tags": []
   },
   "outputs": [],
   "source": []
  },
  {
   "cell_type": "markdown",
   "id": "ac0ecee1-12ed-4e00-8f6f-b08e4716ccc5",
   "metadata": {},
   "source": [
    "# Update dataset"
   ]
  },
  {
   "cell_type": "markdown",
   "id": "7fa5953a-be37-44b5-bcb4-3050c93c0f3f",
   "metadata": {
    "editable": true,
    "slideshow": {
     "slide_type": ""
    },
    "tags": []
   },
   "source": [
    "## Choose papers queue"
   ]
  },
  {
   "cell_type": "code",
   "execution_count": 21,
   "id": "79eb1486-bc8a-4de8-82c0-ff72bfa155e1",
   "metadata": {
    "editable": true,
    "slideshow": {
     "slide_type": ""
    },
    "tags": []
   },
   "outputs": [
    {
     "data": {
      "text/plain": [
       "'verma2022laboratory.accrombessi2021assessing.ngufor2022comparative.gleave2021piperonyl.diouf2022evaluation.syme2021which.meiwald2022association.gichuki2021bioefficacy.kibondo2022influence.zahouli2023small.toe2018do.nash2021systematic.accrombessi2023efficacy.syme2022pyrethroid.menze2022experimental.gebremariam2021evaluation.briet2020physical.ibrahim2020exploring.mieguim2021insights'"
      ]
     },
     "execution_count": 21,
     "metadata": {},
     "output_type": "execute_result"
    }
   ],
   "source": [
    "# papers_subset = ['Atieli2010effectgambiaeMalaria', Dabire2006personalpyrethroidsMalaria', 'Ochomo2017insecticidekenyaEmerging', 'Vatandoost2013washtestArthropod']\n",
    "# papers_subset = ['Canning2023unwantedcountriesStudies', 'Tiruneh2020prevalencemetaanalysisPlos', 'Daley2018addressingintervention', 'Goodson2011changingafricaInfectious']\n",
    "# papers_subset = ['ketoh2018efficacy', 'darriet2005pyrethoid', 'magesa1991trial', 'whopes2008report', 'quinones1998permethrin', 'kawada2014small', 'kawada2014preventive', 'randriamaherijaona2015do', 'kilian2011evidence',]\n",
    "# papers_subset = ['mbogo1996impact', 'menze2020experimental', 'kitau2012species', 'kilian2008long', 'mnzava2001malaria', 'pmi2018senegal', 'hougard2003efficacy', 'pennetier2013efficacy',]\n",
    "# papers_subset = ['whopes2007report', 'ngufor2016efficacy', 'okia2013bioefficacy', 'mosha2008comparative', 'quinones1997anopheles', 'ahoua2012status', 'sreehari2009wash', 'abdulla2005spatial', 'pmi2019nigeria', 'tan2016longitudinal',]\n",
    "# papers_subset = ['pmi2019myanmar', 'wills2013physical', 'tokponnon2014impact', 'marchant2002socially', 'pinder2015efficacy', 'nevill1996insecticide', 'muller2006effects', 'terlouw2010impact', 'msuya1991trial', 'tungu2021efficacy',]\n",
    "papers_subset = ['hamel2011combination', 'ter2003impact', 'moiroux2014human', 'schellenberg2001effect', 'tamari2020protective', 'yewhalaw2022experimental', 'tungu2021field', 'sanou2021insecticide', 'kouassi2020susceptibility', 'mulatier2019prior', \n",
    "                  'ngongang2022reduced', 'lorenz2020comparative', 'hien2021evidence', 'ngufor2020efficacy', 'sovi2022physical', 'adageba2022bio', 'githinji2020impact', 'grisales2021pyriproxyfen', 'tungu2021bio', 'tungu2021effectiveness',]\n",
    "papers_subset = ['verma2022laboratory', 'accrombessi2021assessing', 'ngufor2022comparative', 'gleave2021piperonyl', 'diouf2022evaluation', 'syme2021which', 'meiwald2022association', 'gichuki2021bioefficacy', 'kibondo2022influence', 'zahouli2023small', 'toe2018do', 'nash2021systematic', 'accrombessi2023efficacy', 'syme2022pyrethroid', 'menze2022experimental', 'gebremariam2021evaluation', 'briet2020physical', 'ibrahim2020exploring', 'mieguim2021insights',]\n",
    "'.'.join(papers_subset)"
   ]
  },
  {
   "cell_type": "code",
   "execution_count": 22,
   "id": "decef88a-4506-4d65-8629-c5fc6e1921e2",
   "metadata": {
    "scrolled": true
   },
   "outputs": [
    {
     "data": {
      "text/plain": [
       "Index(['verma2022laboratory', 'accrombessi2021assessing', 'ngufor2022comparative', 'gleave2021piperonyl', 'diouf2022evaluation', 'syme2021which', 'meiwald2022association', 'gichuki2021bioefficacy', 'kibondo2022influence', 'zahouli2023small', 'toe2018do', 'nash2021systematic', 'accrombessi2023efficacy', 'syme2022pyrethroid', 'menze2022experimental', 'gebremariam2021evaluation', 'briet2020physical', 'ibrahim2020exploring', 'mieguim2021insights'], dtype='object', name='reference')"
      ]
     },
     "execution_count": 22,
     "metadata": {},
     "output_type": "execute_result"
    }
   ],
   "source": [
    "papers_subset = papers.loc[papers_subset]\n",
    "papers_subset.index"
   ]
  },
  {
   "cell_type": "code",
   "execution_count": 18,
   "id": "443939fc-8d9c-4c67-9ce2-79246b467b44",
   "metadata": {},
   "outputs": [
    {
     "data": {
      "text/plain": [
       "(120, 32)"
      ]
     },
     "execution_count": 18,
     "metadata": {},
     "output_type": "execute_result"
    }
   ],
   "source": [
    "papers_subset = papers.loc[papers.index.difference(papers_uploaded)]\n",
    "papers_subset.shape"
   ]
  },
  {
   "cell_type": "code",
   "execution_count": 17,
   "id": "85aee0d5-70a3-4892-9947-3655a49506d6",
   "metadata": {
    "scrolled": true
   },
   "outputs": [
    {
     "data": {
      "text/plain": [
       "['abdella2009does',\n",
       " 'abdulla2001impact',\n",
       " 'abilio2015bio',\n",
       " 'accrombessi2021assessing',\n",
       " 'accrombessi2023efficacy',\n",
       " 'agossa2014laboratory',\n",
       " 'agossa2015impact',\n",
       " 'akoton2018experimental',\n",
       " 'allossogbe2017who',\n",
       " 'alonso1993malaria',\n",
       " 'anshebo2014estimation',\n",
       " 'asidi2004experimental',\n",
       " 'asidi2005experimental',\n",
       " 'asidi2012loss',\n",
       " 'awolola2014impact',\n",
       " 'badolo2012experimental',\n",
       " 'bayili2017evaluation',\n",
       " 'bayili2019experimental',\n",
       " 'birhanu2019bio',\n",
       " 'bobanga2013field',\n",
       " 'bogh1998permethrin',\n",
       " 'boussougou2017physical',\n",
       " 'briet2020physical',\n",
       " 'camara2018efficacy',\n",
       " 'chandre2010field',\n",
       " 'chouaibou2006efficacy',\n",
       " 'corbel2010field',\n",
       " 'curtis2003insecticide',\n",
       " 'dalessandro1995mortality',\n",
       " 'darriet2011combining',\n",
       " 'diouf2022evaluation',\n",
       " 'djenontin2009managing',\n",
       " 'djenontin2010indoor',\n",
       " 'etang2004reduced',\n",
       " 'etang2007preliminary',\n",
       " 'etang2013evaluation',\n",
       " 'etang2016when',\n",
       " 'fadel2019combination',\n",
       " 'fane2012anopheles',\n",
       " 'gebremariam2021evaluation',\n",
       " 'gichuki2021bioefficacy',\n",
       " 'gleave2021piperonyl',\n",
       " 'guillet2001combined',\n",
       " 'hassan2008retention',\n",
       " 'hauser2019ability',\n",
       " 'hawley2003community',\n",
       " 'henry2005protective',\n",
       " 'hougard2002useful',\n",
       " 'howard2000evidence',\n",
       " 'hughes2020anopheles',\n",
       " 'ibrahim2019high',\n",
       " 'ibrahim2020exploring',\n",
       " 'jones2012aging',\n",
       " 'kawada2014small',\n",
       " 'kibondo2022influence',\n",
       " 'kilian2015field',\n",
       " 'kolaczinski2000comparison',\n",
       " 'kouassi2020susceptibility',\n",
       " 'koudou2011efficacy',\n",
       " 'kulkarni2007efficacy',\n",
       " 'kweka2011durability',\n",
       " 'kweka2017efficacy',\n",
       " 'kweka2019bio',\n",
       " 'lindblade2005evaluation',\n",
       " 'lines1987experimental',\n",
       " 'magbity1997effects',\n",
       " 'mahande2018bio',\n",
       " 'malima2009behavioural',\n",
       " 'malima2013evaluation',\n",
       " 'masalu2018potential',\n",
       " 'massue2016durability',\n",
       " 'maxwell2002effect',\n",
       " 'maxwell2006tests',\n",
       " 'meiwald2022association',\n",
       " 'menze2022experimental',\n",
       " 'mieguim2021insights',\n",
       " 'mosha2008experimental',\n",
       " 'msangi2008effects',\n",
       " 'msuya1991trial',\n",
       " 'mulatier2019prior',\n",
       " 'murray2020barrier',\n",
       " 'musa2020long',\n",
       " 'nash2021systematic',\n",
       " 'nguessan2016chlorfenapyr',\n",
       " 'ngufor2014combining',\n",
       " 'ngufor2014olyset',\n",
       " 'ngufor2017which',\n",
       " 'ngufor2022comparative',\n",
       " 'obi2020monitoring',\n",
       " 'ohashi2012efficacy',\n",
       " 'okoyo2015comparing',\n",
       " 'okumu2012implications',\n",
       " 'omondi2017quantifying',\n",
       " 'oumbouke2019evaluation',\n",
       " 'oxborough2013itn',\n",
       " 'oxborough2015new',\n",
       " 'pmi2017madagascar',\n",
       " 'pmi2018mozambique',\n",
       " 'pmi2018senegal',\n",
       " 'pmi2019myanmar',\n",
       " 'pmi2019nigeria',\n",
       " 'pmi2019tanzania',\n",
       " 'randriamaherijaona2017durability',\n",
       " 'riveron2018high',\n",
       " 'solomon2018bed',\n",
       " 'spitzen2017effect',\n",
       " 'syme2021which',\n",
       " 'syme2022pyrethroid',\n",
       " 'tami2004evaluation',\n",
       " 'tiono2018efficacy',\n",
       " 'toe2018do',\n",
       " 'tungu2015evaluation',\n",
       " 'vatandoost2006comparative',\n",
       " 'verma2022laboratory',\n",
       " 'whopes2007report',\n",
       " 'whopes2008report',\n",
       " 'winkler2012efficacy',\n",
       " 'yewhalaw2022experimental',\n",
       " 'zahouli2023small',\n",
       " 'zhou2016insecticide']"
      ]
     },
     "execution_count": 17,
     "metadata": {},
     "output_type": "execute_result"
    }
   ],
   "source": [
    "papers_subset.index.tolist()"
   ]
  },
  {
   "cell_type": "markdown",
   "id": "075b961c-2d35-4317-b48a-f5afb638c236",
   "metadata": {
    "scrolled": true
   },
   "source": [
    "## Extract segments"
   ]
  },
  {
   "cell_type": "code",
   "execution_count": 24,
   "id": "8389d02d-7321-4308-be10-ea17d91b37b1",
   "metadata": {},
   "outputs": [],
   "source": [
    "# nougat_model = nougat.NougatOCR()\n",
    "# nougat_model.batch_size = 1\n",
    "nougat_model = None"
   ]
  },
  {
   "cell_type": "code",
   "execution_count": 25,
   "id": "57cd8e2e-4e76-4581-a813-33e83057fe72",
   "metadata": {
    "editable": true,
    "scrolled": true,
    "slideshow": {
     "slide_type": ""
    },
    "tags": []
   },
   "outputs": [
    {
     "data": {
      "application/vnd.jupyter.widget-view+json": {
       "model_id": "b708665ba6fc4a37814360a3aac592ab",
       "version_major": 2,
       "version_minor": 0
      },
      "text/plain": [
       "  0%|          | 0/19 [00:00<?, ?it/s]"
      ]
     },
     "metadata": {},
     "output_type": "display_data"
    },
    {
     "name": "stdout",
     "output_type": "stream",
     "text": [
      "### verma2022laboratory: data/pdf/LLINPhaseIVV2022.pdf ###\n",
      "### accrombessi2021assessing: data/pdf/Assessing_the_efficacy_of_two_dual_active_ingredients_long_lasting_insecticidal_.pdf ###\n",
      "### ngufor2022comparative: data/pdf/Comparative_efficacy_of_two_pyrethroid_piperonyl_butoxide_nets_Olyset_Plus_and_.pdf ###\n",
      "### gleave2021piperonyl: data/pdf/CD012776.pdf ###\n",
      "### diouf2022evaluation: data/pdf/Evaluation_of_the_residual_efficacy_and_physical_durability_of_five_long_lasting.pdf ###\n",
      "### syme2021which: data/pdf/pone_0245804_pdf.pdf ###\n",
      "### meiwald2022association: data/pdf/jiaa699.pdf ###\n",
      "### gichuki2021bioefficacy: data/pdf/Bioefficacy_and_durability_of_Olyset_Plus_a_permethrin_and_piperonyl__butoxi.pdf ###\n",
      "### kibondo2022influence: data/pdf/Influence_of_testing_modality_on_bioefficacy_for_the_evaluation_of_Interceptor.pdf ###\n",
      "### zahouli2023small: data/pdf/Small_scale_field_evaluation_of_PermaNet_Dual_a_long_lasting_net_coated_with.pdf ###\n",
      "### toe2018do: data/pdf/Toe_et_al_2018_Medical_and_Veterinary_Entomology.pdf ###\n",
      "### nash2021systematic: data/pdf/1_s20_S2667114X21000418_main.pdf ###\n",
      "### accrombessi2023efficacy: data/pdf/PIIS0140673622023194.pdf ###\n",
      "### syme2022pyrethroid: data/pdf/s41598_022_10953_y.pdf ###\n",
      "### menze2022experimental: data/pdf/pathogens_11_00638_v2.pdf ###\n",
      "### gebremariam2021evaluation: data/pdf/gebremariam_et_al_2021_evaluation_of_long_lasting_insecticidal_nets_duranetr_under_laboratory_and_semi_field.pdf ###\n",
      "### briet2020physical: data/pdf/Attrition_physical_integrity_and_insecticidal_activity_of_long_lasting__insecti.pdf ###\n",
      "### ibrahim2020exploring: data/pdf/genes_11_00454_pdf.pdf ###\n",
      "### mieguim2021insights: data/pdf/Insights_into_factors_sustaining_persistence_of_high_malaria_transmission_in__fo.pdf ###\n"
     ]
    },
    {
     "data": {
      "text/plain": [
       "19"
      ]
     },
     "execution_count": 25,
     "metadata": {},
     "output_type": "execute_result"
    }
   ],
   "source": [
    "outputs = defaultdict(lambda: {})\n",
    "texts = defaultdict(lambda: {})\n",
    "tables = defaultdict(lambda: {})\n",
    "figures = defaultdict(lambda: {})\n",
    "\n",
    "for id, paper in tqdm(papers_subset.iterrows(), total=len(papers_subset)):\n",
    "    print(f'### {id}: {papers.loc[id, \"file_path\"]} ###', flush=True)\n",
    "    \n",
    "    ## Unstructured.io ##\n",
    "    text_segs, table_segs, figure_segs = create_or_load_unstructured_segments(paper, load_only=True, redo=False)\n",
    "    texts[id]['unstructured'] = text_segs\n",
    "    tables[id]['unstructured'] = table_segs\n",
    "    figures[id]['unstructured'] = figure_segs\n",
    "\n",
    "    # llmsherpa ##\n",
    "    text_segs, table_segs, _ = create_or_load_llmsherpa_segments(paper, load_only=True, redo=False)\n",
    "    texts[id]['llmsherpa'] = text_segs\n",
    "    tables[id]['llmsherpa'] = table_segs\n",
    "\n",
    "    ## Nougat ##\n",
    "    text_segs, table_segs, _ = create_or_load_nougat_segments(paper, nougat_model=nougat_model, load_only=True)\n",
    "    texts[id]['nougat'] = text_segs\n",
    "    tables[id]['nougat'] = table_segs\n",
    "\n",
    "    ## pdffigures2 ##\n",
    "    _, table_segs, figure_segs = create_or_load_pdffigures2_segments(paper, load_only=True, redo=False,\n",
    "                                                                    jar_path='bin/pdffigures2.jar',)\n",
    "    tables[id]['pdffigures2'] = table_segs\n",
    "    figures[id]['pdffigures2'] = figure_segs\n",
    "\n",
    "    ## deepdoctection ##\n",
    "    _, table_segs, _ = create_or_load_deepdoctection_segments(paper, load_only=True, redo=False)\n",
    "    tables[id]['deepdoctection'] = table_segs\n",
    "\n",
    "len(tables)"
   ]
  },
  {
   "cell_type": "markdown",
   "id": "e8f92a66-fda2-4f94-b54e-d5cb3c6d3a0e",
   "metadata": {
    "jp-MarkdownHeadingCollapsed": true
   },
   "source": [
    "### Figure digitalization (experiments)"
   ]
  },
  {
   "cell_type": "code",
   "execution_count": 21,
   "id": "86319d94-44fe-42f8-a788-fd8de3e58255",
   "metadata": {
    "scrolled": true
   },
   "outputs": [
    {
     "name": "stdout",
     "output_type": "stream",
     "text": [
      "data/pdf/tan2016longitudinal.pdf\n",
      " None\n"
     ]
    },
    {
     "data": {
      "text/html": [
       "<table><thead><th><th colspan=\"1\"></th><th colspan=\"1\">PermaNet® (n) %, 95 % CI</th><th colspan=\"1\">Olyset® (n) %, 95 % CI</th><th colspan=\"1\">All nets (n) %, 95 % CI</th></th></thead><tbody><tr><td colspan=\"1\">LLIN age 12 months</td><td colspan=\"1\">(14) 77.8, 58.6–96.7†</td><td colspan=\"1\">(6) 33.3, 11.6–55.1</td><td colspan=\"1\">(20) 55.6, 39.3–71.8</td></tr><tr><td colspan=\"1\">24 months</td><td colspan=\"1\">(7) 38.9, 16.4–61.4</td><td colspan=\"1\">(6) 30.0, 9.9–50.1</td><td colspan=\"1\">(13) 34.2, 19.1–51.4</td></tr><tr><td colspan=\"1\">Minimal effectiveness 12 months</td><td colspan=\"1\">(18) 100.0, 100.0–100.0†</td><td colspan=\"1\">(14) 77.8, 58.6–97.0</td><td colspan=\"1\">(32) 88.9, 78.6–96.9</td></tr><tr><td colspan=\"1\">24 months</td><td colspan=\"1\">(11) 61.1, 38.6–83.6</td><td colspan=\"1\">(14) 70.0, 49.9–88.1</td><td colspan=\"1\">(25) 65.8, 50.7–80.9*</td></tr></tbody></table>"
      ],
      "text/plain": [
       "<IPython.core.display.HTML object>"
      ]
     },
     "execution_count": 21,
     "metadata": {},
     "output_type": "execute_result"
    }
   ],
   "source": [
    "id = 'tan2016longitudinal'\n",
    "i = -1\n",
    "table = tables[id]['llmsherpa'].items[i]\n",
    "\n",
    "print(papers.loc[id, 'file_path'])\n",
    "print(table.header, table.number)\n",
    "HTML(table.html)"
   ]
  },
  {
   "cell_type": "code",
   "execution_count": 23,
   "id": "d422ee41-a29e-436c-bf51-cb664f2ceaf3",
   "metadata": {},
   "outputs": [
    {
     "data": {
      "text/plain": [
       "FigureSegment(header='Fig. 2 Correlation of chemical and bioassay results (95 % confidence intervals shown in shaded area)', page_number=10, number=2)"
      ]
     },
     "execution_count": 23,
     "metadata": {},
     "output_type": "execute_result"
    }
   ],
   "source": [
    "fig = figures['tan2016longitudinal']['pdffigures2'][0]\n",
    "fig"
   ]
  },
  {
   "cell_type": "code",
   "execution_count": 24,
   "id": "e6e8c343-39c6-4c77-bd14-111a8a2084c8",
   "metadata": {
    "scrolled": true
   },
   "outputs": [
    {
     "data": {
      "text/html": [
       "<img src=\"data:image/png;base64,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\">"
      ],
      "text/plain": [
       "<IPython.core.display.HTML object>"
      ]
     },
     "execution_count": 24,
     "metadata": {},
     "output_type": "execute_result"
    }
   ],
   "source": [
    "HTML(image_to_html(fig.image))"
   ]
  },
  {
   "cell_type": "code",
   "execution_count": 26,
   "id": "fc490766-1f29-4591-be82-1180f2521de5",
   "metadata": {
    "scrolled": true
   },
   "outputs": [
    {
     "name": "stderr",
     "output_type": "stream",
     "text": [
      "/Users/jonnytr/micromamba/lib/python3.10/site-packages/llama_index/core/readers/file/base.py:416: ResourceWarning: unclosed file <_io.BufferedReader name='/Users/jonnytr/Projects/ITN-recal-data-extraction/data/preprocessing/pdffigure2/tan2016longitudinal/tan2016longitudinal-Figure2-1.png'>\n",
      "  docs = reader.load_data(input_file, **kwargs)\n",
      "ResourceWarning: Enable tracemalloc to get the object allocation traceback\n",
      "\u001b[32m[0520 13:54.02 @segment.py:246]\u001b[0m  \u001b[32mINF\u001b[0m  \u001b[97mExtracting figure table: Fig. 2 Correlation of chemical and bioassay results (95 % confidence intervals shown in shaded area)\u001b[0m\n",
      "/Users/jonnytr/micromamba/lib/python3.10/site-packages/pydantic/main.py:1311: PydanticDeprecatedSince20: The `schema` method is deprecated; use `model_json_schema` instead. Deprecated in Pydantic V2.0 to be removed in V3.0. See Pydantic V2 Migration Guide at https://errors.pydantic.dev/2.7/migration/\n",
      "  warnings.warn(\n"
     ]
    },
    {
     "data": {
      "text/plain": [
       "FigureExtractionResponse(summary='The figure shows the correlation between chemical concentrations (Deltamethrin and Permethrin) and bioassay results (Knock down and Mortality) in mosquitoes. The shaded areas represent 95% confidence intervals.', html='<table>\\n<thead>\\n<tr>\\n<th></th>\\n<th>Deltamethrin</th>\\n<th>Permethrin</th>\\n</tr>\\n</thead>\\n<tbody>\\n<tr>\\n<td>Knock down (% mosquitoes)</td>\\n<td></td>\\n<td></td>\\n</tr>\\n<tr>\\n<td>Mortality (% mosquitoes)</td>\\n<td></td>\\n<td></td>\\n</tr>\\n<tr>\\n<td>Mean insecticide concentration in mg/m²</td>\\n<td></td>\\n<td></td>\\n</tr>\\n</tbody>\\n</table>')"
      ]
     },
     "execution_count": 26,
     "metadata": {},
     "output_type": "execute_result"
    }
   ],
   "source": [
    "_figure_extraction_response = fig.extract_html_table()"
   ]
  },
  {
   "cell_type": "code",
   "execution_count": 27,
   "id": "6b5c2d46-8a0d-473d-b605-dc2bbac57f6b",
   "metadata": {},
   "outputs": [
    {
     "data": {
      "text/html": [
       "<table>\n",
       "<thead>\n",
       "<tr>\n",
       "<th></th>\n",
       "<th>Deltamethrin</th>\n",
       "<th>Permethrin</th>\n",
       "</tr>\n",
       "</thead>\n",
       "<tbody>\n",
       "<tr>\n",
       "<td>Knock down (% mosquitoes)</td>\n",
       "<td></td>\n",
       "<td></td>\n",
       "</tr>\n",
       "<tr>\n",
       "<td>Mortality (% mosquitoes)</td>\n",
       "<td></td>\n",
       "<td></td>\n",
       "</tr>\n",
       "<tr>\n",
       "<td>Mean insecticide concentration in mg/m²</td>\n",
       "<td></td>\n",
       "<td></td>\n",
       "</tr>\n",
       "</tbody>\n",
       "</table>"
      ],
      "text/plain": [
       "<IPython.core.display.HTML object>"
      ]
     },
     "execution_count": 27,
     "metadata": {},
     "output_type": "execute_result"
    }
   ],
   "source": [
    "HTML(fig.html)"
   ]
  },
  {
   "cell_type": "markdown",
   "id": "97efd4ef-c6d3-4cd5-a9dd-044c6ee08339",
   "metadata": {
    "jp-MarkdownHeadingCollapsed": true
   },
   "source": [
    "### deepdoctection (experiments)"
   ]
  },
  {
   "cell_type": "code",
   "execution_count": null,
   "id": "e92c5fe3-486e-4296-b636-c144879b1ebf",
   "metadata": {
    "scrolled": true
   },
   "outputs": [],
   "source": [
    "analyzer =dd.get_dd_analyzer(config_overwrite=[\n",
    "    \"PT.LAYOUT.WEIGHTS=microsoft/table-transformer-detection/pytorch_model.bin\",   # TATR table detection model\n",
    "    \"PT.ITEM.WEIGHTS=microsoft/table-transformer-structure-recognition/pytorch_model.bin\",  # TATR table segmentation model\n",
    "    \"PT.ITEM.FILTER=['table']\",\n",
    "    \"OCR.USE_DOCTR=True\",  # we disable Tesseract and use DocTr as OCR engine\n",
    "    \"OCR.USE_TESSERACT=False\",\n",
    "])\n",
    "\n",
    "df = analyzer.analyze(path='data/pdf/Etang_et_al_2007_Trans_RSTMH.pdf')\n",
    "df.reset_state()"
   ]
  },
  {
   "cell_type": "code",
   "execution_count": null,
   "id": "9577cb2e-d4cb-4d01-903d-526dc3d4f8b1",
   "metadata": {},
   "outputs": [],
   "source": [
    "# doc = iter(df)\n",
    "page = next(doc)"
   ]
  },
  {
   "cell_type": "code",
   "execution_count": null,
   "id": "f3f98599-3c68-4087-bef5-220bc5cc5ae7",
   "metadata": {
    "scrolled": true
   },
   "outputs": [],
   "source": [
    "page.annotations[1]._category_name"
   ]
  },
  {
   "cell_type": "code",
   "execution_count": null,
   "id": "74b33bd9-ae32-411e-b51c-2c25ac792be6",
   "metadata": {
    "scrolled": true
   },
   "outputs": [],
   "source": [
    "page.annotations[0]._annotation_id"
   ]
  },
  {
   "cell_type": "code",
   "execution_count": null,
   "id": "ae277688-0848-4c83-9b59-aa7e7605022f",
   "metadata": {},
   "outputs": [],
   "source": [
    "table.annotation_id"
   ]
  },
  {
   "cell_type": "code",
   "execution_count": null,
   "id": "f898123d-ea83-4ed4-b065-8e5228ee67cc",
   "metadata": {
    "scrolled": true
   },
   "outputs": [],
   "source": [
    "table = page.tables[0]\n",
    "print(table.html)"
   ]
  },
  {
   "cell_type": "code",
   "execution_count": null,
   "id": "9fe8d5d9-ebd8-4b55-bf98-4a8b6f431270",
   "metadata": {
    "scrolled": true
   },
   "outputs": [],
   "source": [
    "table.cells"
   ]
  },
  {
   "cell_type": "code",
   "execution_count": null,
   "id": "f9181c56-6802-40bd-9cdd-bac79bbde616",
   "metadata": {},
   "outputs": [],
   "source": [
    "page.viz(ignore_default_token_class=True, interactive=True)"
   ]
  },
  {
   "cell_type": "markdown",
   "id": "d7235e69-eddd-45f9-bdd8-ec34cbaf479a",
   "metadata": {
    "editable": true,
    "slideshow": {
     "slide_type": ""
    },
    "tags": []
   },
   "source": [
    "#### Evaluate tables extracted"
   ]
  },
  {
   "cell_type": "code",
   "execution_count": null,
   "id": "4e940570-fac7-4f80-a329-da823d51e778",
   "metadata": {
    "editable": true,
    "scrolled": true,
    "slideshow": {
     "slide_type": ""
    },
    "tags": []
   },
   "outputs": [],
   "source": [
    "df = tables['Etang2007']['unstructured'][0].to_df()\n",
    "df = df.dropna(axis=0, how='all').dropna(axis=1, how='all')\n",
    "df"
   ]
  },
  {
   "cell_type": "code",
   "execution_count": null,
   "id": "fa7e5bea-93dd-4ac6-bb93-a892ebc9d538",
   "metadata": {
    "scrolled": true
   },
   "outputs": [],
   "source": [
    "# for id, paper in tqdm(papers_subset.iterrows(), total=len(papers_subset)):\n",
    "#     text_segs, table_segs, _ = create_or_load_nougat_segments(paper, nougat_model=nougat_model, load_only=False, save=True)"
   ]
  },
  {
   "cell_type": "markdown",
   "id": "203095af-75db-4d00-ab94-3df87c157fb0",
   "metadata": {},
   "source": [
    "## Create records"
   ]
  },
  {
   "cell_type": "code",
   "execution_count": 26,
   "id": "1817cbdf-b1cb-4be7-ae95-9b5ede7bcf78",
   "metadata": {
    "editable": true,
    "scrolled": true,
    "slideshow": {
     "slide_type": ""
    },
    "tags": []
   },
   "outputs": [
    {
     "data": {
      "application/vnd.jupyter.widget-view+json": {
       "model_id": "95396ae97c1841ce9e59eea7e67699ba",
       "version_major": 2,
       "version_minor": 0
      },
      "text/plain": [
       "0it [00:00, ?it/s]"
      ]
     },
     "metadata": {},
     "output_type": "display_data"
    },
    {
     "name": "stderr",
     "output_type": "stream",
     "text": [
      "/Users/jonnytr/micromamba/lib/python3.10/site-packages/llama_index/core/readers/file/base.py:535: ResourceWarning: unclosed file <_io.BufferedReader name='/Users/jonnytr/Projects/ITN-recal-data-extraction/data/preprocessing/pdffigure2/verma2022laboratory/LLINPhaseIVV2022-Figure2-1.png'>\n",
      "  docs = reader.load_data(input_file, **kwargs)\n",
      "ResourceWarning: Enable tracemalloc to get the object allocation traceback\n",
      "\u001b[32m[0621 00:04.51 @segment.py:251]\u001b[0m  \u001b[32mINF\u001b[0m  \u001b[97mExtracting figure table: Fig. 2 Schematic flow of work plan\u001b[0m\n",
      "/Users/jonnytr/micromamba/lib/python3.10/site-packages/pydantic/main.py:1311: PydanticDeprecatedSince20: The `schema` method is deprecated; use `model_json_schema` instead. Deprecated in Pydantic V2.0 to be removed in V3.0. See Pydantic V2 Migration Guide at https://errors.pydantic.dev/2.7/migration/\n",
      "  warnings.warn(\n",
      "/Users/jonnytr/micromamba/lib/python3.10/site-packages/pydantic/main.py:1135: PydanticDeprecatedSince20: The `parse_raw` method is deprecated; if your data is JSON use `model_validate_json`, otherwise load the data then use `model_validate` instead. Deprecated in Pydantic V2.0 to be removed in V3.0. See Pydantic V2 Migration Guide at https://errors.pydantic.dev/2.7/migration/\n",
      "  warnings.warn(\n",
      "/Users/jonnytr/micromamba/lib/python3.10/site-packages/pydantic/main.py:1143: PydanticDeprecatedSince20: `load_str_bytes` is deprecated. Deprecated in Pydantic V2.0 to be removed in V3.0. See Pydantic V2 Migration Guide at https://errors.pydantic.dev/2.7/migration/\n",
      "  obj = parse.load_str_bytes(\n",
      "/Users/jonnytr/micromamba/lib/python3.10/site-packages/llama_index/core/readers/file/base.py:535: ResourceWarning: unclosed file <_io.BufferedReader name='/Users/jonnytr/Projects/ITN-recal-data-extraction/data/preprocessing/pdffigure2/verma2022laboratory/LLINPhaseIVV2022-Figure3-1.png'>\n",
      "  docs = reader.load_data(input_file, **kwargs)\n",
      "ResourceWarning: Enable tracemalloc to get the object allocation traceback\n",
      "\u001b[32m[0621 00:04.58 @segment.py:251]\u001b[0m  \u001b[32mINF\u001b[0m  \u001b[97mExtracting figure table: Fig. 3 Graph showing % KnockDown (%KD) and % Mortality in cone bioassays to determine the regeneration time of HILNet\u001b[0m\n",
      "/Users/jonnytr/micromamba/lib/python3.10/site-packages/pydantic/main.py:1311: PydanticDeprecatedSince20: The `schema` method is deprecated; use `model_json_schema` instead. Deprecated in Pydantic V2.0 to be removed in V3.0. See Pydantic V2 Migration Guide at https://errors.pydantic.dev/2.7/migration/\n",
      "  warnings.warn(\n",
      "/Users/jonnytr/micromamba/lib/python3.10/site-packages/llama_index/core/readers/file/base.py:535: ResourceWarning: unclosed file <_io.BufferedReader name='/Users/jonnytr/Projects/ITN-recal-data-extraction/data/preprocessing/pdffigure2/verma2022laboratory/LLINPhaseIVV2022-Figure4-1.png'>\n",
      "  docs = reader.load_data(input_file, **kwargs)\n",
      "ResourceWarning: Enable tracemalloc to get the object allocation traceback\n",
      "\u001b[32m[0621 00:05.02 @segment.py:251]\u001b[0m  \u001b[32mINF\u001b[0m  \u001b[97mExtracting figure table: Fig. 4 Graph showing % KnockDown and % Mortality in wash resistance studies\u001b[0m\n",
      "/Users/jonnytr/micromamba/lib/python3.10/site-packages/llama_index/core/readers/file/base.py:535: ResourceWarning: unclosed file <_io.BufferedReader name='/Users/jonnytr/Projects/ITN-recal-data-extraction/data/preprocessing/unstructured/accrombessi2021assessing/figures/figure-4-4.jpg'>\n",
      "  docs = reader.load_data(input_file, **kwargs)\n",
      "ResourceWarning: Enable tracemalloc to get the object allocation traceback\n",
      "\u001b[32m[0621 00:05.07 @segment.py:251]\u001b[0m  \u001b[32mINF\u001b[0m  \u001b[97mExtracting figure table: Fig. 1 Study area. Map showing Cove, Zagnanado and Ouinhi Districts, located in Zou department, central Benin, West Africa (Panel a); the 60 study clusters identified with core and buffer area and intervention allocation (Panel b); a minimum of 1000 m area was created between households in adjacent clusters (Panel c). Source of map: Own from the study investigators (CT, JC, MA, ED).\u001b[0m\n"
     ]
    },
    {
     "name": "stdout",
     "output_type": "stream",
     "text": [
      "verma2022laboratory 3 tables 3 figures\n"
     ]
    },
    {
     "name": "stderr",
     "output_type": "stream",
     "text": [
      "/Users/jonnytr/micromamba/lib/python3.10/site-packages/pydantic/main.py:1311: PydanticDeprecatedSince20: The `schema` method is deprecated; use `model_json_schema` instead. Deprecated in Pydantic V2.0 to be removed in V3.0. See Pydantic V2 Migration Guide at https://errors.pydantic.dev/2.7/migration/\n",
      "  warnings.warn(\n",
      "/Users/jonnytr/micromamba/lib/python3.10/site-packages/pydantic/main.py:1135: PydanticDeprecatedSince20: The `parse_raw` method is deprecated; if your data is JSON use `model_validate_json`, otherwise load the data then use `model_validate` instead. Deprecated in Pydantic V2.0 to be removed in V3.0. See Pydantic V2 Migration Guide at https://errors.pydantic.dev/2.7/migration/\n",
      "  warnings.warn(\n",
      "/Users/jonnytr/micromamba/lib/python3.10/site-packages/pydantic/main.py:1143: PydanticDeprecatedSince20: `load_str_bytes` is deprecated. Deprecated in Pydantic V2.0 to be removed in V3.0. See Pydantic V2 Migration Guide at https://errors.pydantic.dev/2.7/migration/\n",
      "  obj = parse.load_str_bytes(\n",
      "/Users/jonnytr/micromamba/lib/python3.10/site-packages/llama_index/core/readers/file/base.py:535: ResourceWarning: unclosed file <_io.BufferedReader name='/Users/jonnytr/Projects/ITN-recal-data-extraction/data/preprocessing/pdffigure2/accrombessi2021assessing/Assessing_the_efficacy_of_two_dual_active_ingredients_long_lasting_insecticidal_-Figure1-1.png'>\n",
      "  docs = reader.load_data(input_file, **kwargs)\n",
      "ResourceWarning: Enable tracemalloc to get the object allocation traceback\n",
      "\u001b[32m[0621 00:05.14 @segment.py:251]\u001b[0m  \u001b[32mINF\u001b[0m  \u001b[97mExtracting figure table: Fig. 1 Study area. Map showing Cove, Zagnanado and Ouinhi Districts, located in Zou department, central Benin, West Africa (Panel a); the 60 study clusters identified with core and buffer area and intervention allocation (Panel b); a minimum of 1000m area was created between households in adjacent clusters (Panel c). Source of map: Own from the study investigators (CT, JC, MA, ED).\u001b[0m\n",
      "\u001b[32m[0621 00:05.22 @staging.py:69]\u001b[0m  \u001b[5m\u001b[35mWRN\u001b[0m  \u001b[97mAttempting to fix broken JSON: ... 46, 47, 48, 49, 50, 51, 52, 53, 54, 55, 56, 57, 58, 59, 60</td>\\n    </tr>\\n  </tbody>\\n</table>\"}\u001b[0m\n"
     ]
    },
    {
     "name": "stdout",
     "output_type": "stream",
     "text": [
      "accrombessi2021assessing 2 tables 1 figures\n"
     ]
    },
    {
     "name": "stderr",
     "output_type": "stream",
     "text": [
      "/Users/jonnytr/micromamba/lib/python3.10/site-packages/llama_index/core/readers/file/base.py:535: ResourceWarning: unclosed file <_io.BufferedReader name='/Users/jonnytr/Projects/ITN-recal-data-extraction/data/preprocessing/unstructured/ngufor2022comparative/figures/figure-6-7.jpg'>\n",
      "  docs = reader.load_data(input_file, **kwargs)\n",
      "ResourceWarning: Enable tracemalloc to get the object allocation traceback\n",
      "\u001b[32m[0621 00:05.23 @segment.py:251]\u001b[0m  \u001b[32mINF\u001b[0m  \u001b[97mExtracting figure table: Fig. 1 Mortality of wild pyrethroid-resistant Anopheles gambiae s.l. in experimental huts in Cove, Benin evaluating different net types. Vertical lines indicate 95% confidence interval estimates whilst bars with the same letter label are not significantly different (P > 0.05)\u001b[0m\n",
      "/Users/jonnytr/micromamba/lib/python3.10/site-packages/pydantic/main.py:1311: PydanticDeprecatedSince20: The `schema` method is deprecated; use `model_json_schema` instead. Deprecated in Pydantic V2.0 to be removed in V3.0. See Pydantic V2 Migration Guide at https://errors.pydantic.dev/2.7/migration/\n",
      "  warnings.warn(\n",
      "/Users/jonnytr/micromamba/lib/python3.10/site-packages/pydantic/main.py:1135: PydanticDeprecatedSince20: The `parse_raw` method is deprecated; if your data is JSON use `model_validate_json`, otherwise load the data then use `model_validate` instead. Deprecated in Pydantic V2.0 to be removed in V3.0. See Pydantic V2 Migration Guide at https://errors.pydantic.dev/2.7/migration/\n",
      "  warnings.warn(\n",
      "/Users/jonnytr/micromamba/lib/python3.10/site-packages/pydantic/main.py:1143: PydanticDeprecatedSince20: `load_str_bytes` is deprecated. Deprecated in Pydantic V2.0 to be removed in V3.0. See Pydantic V2 Migration Guide at https://errors.pydantic.dev/2.7/migration/\n",
      "  obj = parse.load_str_bytes(\n",
      "/Users/jonnytr/micromamba/lib/python3.10/site-packages/llama_index/core/readers/file/base.py:535: ResourceWarning: unclosed file <_io.BufferedReader name='/Users/jonnytr/Projects/ITN-recal-data-extraction/data/preprocessing/pdffigure2/ngufor2022comparative/Comparative_efficacy_of_two_pyrethroid_piperonyl_butoxide_nets_Olyset_Plus_and_-Figure1-1.png'>\n",
      "  docs = reader.load_data(input_file, **kwargs)\n",
      "ResourceWarning: Enable tracemalloc to get the object allocation traceback\n",
      "\u001b[32m[0621 00:05.28 @segment.py:251]\u001b[0m  \u001b[32mINF\u001b[0m  \u001b[97mExtracting figure table: Fig. 1 Mortality of wild pyrethroid-resistant Anopheles gambiae s.l. in experimental huts in Cove, Benin evaluating different net types. Vertical lines indicate 95% confidence interval estimates whilst bars with the same letter label are not significantly different (P > 0.05)\u001b[0m\n",
      "/Users/jonnytr/micromamba/lib/python3.10/site-packages/llama_index/core/readers/file/base.py:535: ResourceWarning: unclosed file <_io.BufferedReader name='/Users/jonnytr/Projects/ITN-recal-data-extraction/data/preprocessing/unstructured/ngufor2022comparative/figures/figure-7-8.jpg'>\n",
      "  docs = reader.load_data(input_file, **kwargs)\n",
      "ResourceWarning: Enable tracemalloc to get the object allocation traceback\n",
      "\u001b[32m[0621 00:05.33 @segment.py:251]\u001b[0m  \u001b[32mINF\u001b[0m  \u001b[97mExtracting figure table: Fig. 2 Blood-feeding rates of wild pyrethroid-resistant Anopheles gambiae s.l. in experimental huts in Cove, Benin evaluating different net types. Vertical lines indicate 95% confidence interval estimates whilst bars with the same letter label are not significantly different (P > 0.05)\u001b[0m\n",
      "/Users/jonnytr/micromamba/lib/python3.10/site-packages/llama_index/core/readers/file/base.py:535: ResourceWarning: unclosed file <_io.BufferedReader name='/Users/jonnytr/Projects/ITN-recal-data-extraction/data/preprocessing/pdffigure2/ngufor2022comparative/Comparative_efficacy_of_two_pyrethroid_piperonyl_butoxide_nets_Olyset_Plus_and_-Figure2-1.png'>\n",
      "  docs = reader.load_data(input_file, **kwargs)\n",
      "ResourceWarning: Enable tracemalloc to get the object allocation traceback\n",
      "\u001b[32m[0621 00:05.39 @segment.py:251]\u001b[0m  \u001b[32mINF\u001b[0m  \u001b[97mExtracting figure table: Fig. 2 Blood-feeding rates of wild pyrethroid-resistant Anopheles gambiae s.l. in experimental huts in Cove, Benin evaluating different net types. Vertical lines indicate 95% confidence interval estimates whilst bars with the same letter label are not significantly different (P > 0.05)\u001b[0m\n",
      "/Users/jonnytr/micromamba/lib/python3.10/site-packages/llama_index/core/readers/file/base.py:535: ResourceWarning: unclosed file <_io.BufferedReader name='/Users/jonnytr/Projects/ITN-recal-data-extraction/data/preprocessing/unstructured/ngufor2022comparative/figures/figure-9-9.jpg'>\n",
      "  docs = reader.load_data(input_file, **kwargs)\n",
      "ResourceWarning: Enable tracemalloc to get the object allocation traceback\n",
      "\u001b[32m[0621 00:05.44 @segment.py:251]\u001b[0m  \u001b[32mINF\u001b[0m  \u001b[97mExtracting figure table: Fig. 3 Mortality (%) of susceptible and resistant strains of An. gambiae s.l. in cone bioassays with Olyset Plus and Olyset Net. S R\u001b[0m\n",
      "/Users/jonnytr/micromamba/lib/python3.10/site-packages/llama_index/core/readers/file/base.py:535: ResourceWarning: unclosed file <_io.BufferedReader name='/Users/jonnytr/Projects/ITN-recal-data-extraction/data/preprocessing/pdffigure2/ngufor2022comparative/Comparative_efficacy_of_two_pyrethroid_piperonyl_butoxide_nets_Olyset_Plus_and_-Figure3-1.png'>\n",
      "  docs = reader.load_data(input_file, **kwargs)\n",
      "ResourceWarning: Enable tracemalloc to get the object allocation traceback\n",
      "\u001b[32m[0621 00:05.49 @segment.py:251]\u001b[0m  \u001b[32mINF\u001b[0m  \u001b[97mExtracting figure table: Fig. 3 Mortality (%) of susceptible and resistant strains of An. gambiae s.l. in cone bioassays with Olyset Plus and Olyset Net. S = susceptible, R = resistant\u001b[0m\n",
      "/Users/jonnytr/micromamba/lib/python3.10/site-packages/llama_index/core/readers/file/base.py:535: ResourceWarning: unclosed file <_io.BufferedReader name='/Users/jonnytr/Projects/ITN-recal-data-extraction/data/preprocessing/unstructured/ngufor2022comparative/figures/figure-9-10.jpg'>\n",
      "  docs = reader.load_data(input_file, **kwargs)\n",
      "ResourceWarning: Enable tracemalloc to get the object allocation traceback\n",
      "\u001b[32m[0621 00:05.57 @segment.py:251]\u001b[0m  \u001b[32mINF\u001b[0m  \u001b[97mExtracting figure table: Fig. 4 Tunnel test mortality (%) of susceptible and resistant strains of Anopheles gambiae s.l. exposed to Olyset Plus vs. Olyset Net\u001b[0m\n",
      "/Users/jonnytr/micromamba/lib/python3.10/site-packages/llama_index/core/readers/file/base.py:535: ResourceWarning: unclosed file <_io.BufferedReader name='/Users/jonnytr/Projects/ITN-recal-data-extraction/data/preprocessing/pdffigure2/ngufor2022comparative/Comparative_efficacy_of_two_pyrethroid_piperonyl_butoxide_nets_Olyset_Plus_and_-Figure4-1.png'>\n",
      "  docs = reader.load_data(input_file, **kwargs)\n",
      "ResourceWarning: Enable tracemalloc to get the object allocation traceback\n",
      "\u001b[32m[0621 00:06.01 @segment.py:251]\u001b[0m  \u001b[32mINF\u001b[0m  \u001b[97mExtracting figure table: Fig. 4 Tunnel test mortality (%) of susceptible and resistant strains of Anopheles gambiae s.l. exposed to Olyset Plus vs. Olyset Net\u001b[0m\n",
      "/Users/jonnytr/micromamba/lib/python3.10/site-packages/llama_index/core/readers/file/base.py:535: ResourceWarning: unclosed file <_io.BufferedReader name='/Users/jonnytr/Projects/ITN-recal-data-extraction/data/preprocessing/unstructured/ngufor2022comparative/figures/figure-10-11.jpg'>\n",
      "  docs = reader.load_data(input_file, **kwargs)\n",
      "ResourceWarning: Enable tracemalloc to get the object allocation traceback\n",
      "\u001b[32m[0621 00:06.08 @segment.py:251]\u001b[0m  \u001b[32mINF\u001b[0m  \u001b[97mExtracting figure table: Fig. 5 Blood-feeding inhibition (%) of susceptible and resistant strains of An. gambiae s.l. in tunnel tests with Olyset Plus and Olyset Net. Blood-feeding inhibition was calculated relative to the control tunnel. S\u001b[0m\n",
      "/Users/jonnytr/micromamba/lib/python3.10/site-packages/llama_index/core/readers/file/base.py:535: ResourceWarning: unclosed file <_io.BufferedReader name='/Users/jonnytr/Projects/ITN-recal-data-extraction/data/preprocessing/pdffigure2/ngufor2022comparative/Comparative_efficacy_of_two_pyrethroid_piperonyl_butoxide_nets_Olyset_Plus_and_-Figure5-1.png'>\n",
      "  docs = reader.load_data(input_file, **kwargs)\n",
      "ResourceWarning: Enable tracemalloc to get the object allocation traceback\n",
      "\u001b[32m[0621 00:06.16 @segment.py:251]\u001b[0m  \u001b[32mINF\u001b[0m  \u001b[97mExtracting figure table: Fig. 5 Blood-feeding inhibition (%) of susceptible and resistant strains of An. gambiae s.l. in tunnel tests with Olyset Plus and Olyset Net. Blood-feeding inhibition was calculated relative to the control tunnel. S = susceptible, R = Resistant\u001b[0m\n"
     ]
    },
    {
     "name": "stdout",
     "output_type": "stream",
     "text": [
      "ngufor2022comparative 9 tables 5 figures\n"
     ]
    },
    {
     "name": "stderr",
     "output_type": "stream",
     "text": [
      "/Users/jonnytr/micromamba/lib/python3.10/site-packages/llama_index/core/readers/file/base.py:535: ResourceWarning: unclosed file <_io.BufferedReader name='/Users/jonnytr/Projects/ITN-recal-data-extraction/data/preprocessing/pdffigure2/gleave2021piperonyl/CD012776-Figure1-1.png'>\n",
      "  docs = reader.load_data(input_file, **kwargs)\n",
      "ResourceWarning: Enable tracemalloc to get the object allocation traceback\n",
      "\u001b[32m[0621 00:06.27 @segment.py:251]\u001b[0m  \u001b[32mINF\u001b[0m  \u001b[97mExtracting figure table: Figure 1.   Study flow diagram.\u001b[0m\n",
      "/Users/jonnytr/micromamba/lib/python3.10/site-packages/pydantic/main.py:1311: PydanticDeprecatedSince20: The `schema` method is deprecated; use `model_json_schema` instead. Deprecated in Pydantic V2.0 to be removed in V3.0. See Pydantic V2 Migration Guide at https://errors.pydantic.dev/2.7/migration/\n",
      "  warnings.warn(\n",
      "/Users/jonnytr/micromamba/lib/python3.10/site-packages/pydantic/main.py:1135: PydanticDeprecatedSince20: The `parse_raw` method is deprecated; if your data is JSON use `model_validate_json`, otherwise load the data then use `model_validate` instead. Deprecated in Pydantic V2.0 to be removed in V3.0. See Pydantic V2 Migration Guide at https://errors.pydantic.dev/2.7/migration/\n",
      "  warnings.warn(\n",
      "/Users/jonnytr/micromamba/lib/python3.10/site-packages/pydantic/main.py:1143: PydanticDeprecatedSince20: `load_str_bytes` is deprecated. Deprecated in Pydantic V2.0 to be removed in V3.0. See Pydantic V2 Migration Guide at https://errors.pydantic.dev/2.7/migration/\n",
      "  obj = parse.load_str_bytes(\n",
      "/Users/jonnytr/micromamba/lib/python3.10/site-packages/llama_index/core/readers/file/base.py:535: ResourceWarning: unclosed file <_io.BufferedReader name='/Users/jonnytr/Projects/ITN-recal-data-extraction/data/preprocessing/pdffigure2/gleave2021piperonyl/CD012776-Figure2-1.png'>\n",
      "  docs = reader.load_data(input_file, **kwargs)\n",
      "ResourceWarning: Enable tracemalloc to get the object allocation traceback\n",
      "\u001b[32m[0621 00:06.34 @segment.py:251]\u001b[0m  \u001b[32mINF\u001b[0m  \u001b[97mExtracting figure table: Figure 2.   ‘Risk of bias' summary: review authors' judgements about each risk of bias item for each included study.\u001b[0m\n"
     ]
    },
    {
     "name": "stdout",
     "output_type": "stream",
     "text": [
      "gleave2021piperonyl 133 tables 2 figures\n"
     ]
    },
    {
     "name": "stderr",
     "output_type": "stream",
     "text": [
      "/Users/jonnytr/micromamba/lib/python3.10/site-packages/llama_index/core/readers/file/base.py:535: ResourceWarning: unclosed file <_io.BufferedReader name='/Users/jonnytr/Projects/ITN-recal-data-extraction/data/preprocessing/unstructured/diouf2022evaluation/figures/figure-4-7.jpg'>\n",
      "  docs = reader.load_data(input_file, **kwargs)\n",
      "ResourceWarning: Enable tracemalloc to get the object allocation traceback\n",
      "\u001b[32m[0621 00:06.44 @segment.py:251]\u001b[0m  \u001b[32mINF\u001b[0m  \u001b[97mExtracting figure table: Fig. 1 Localities where LLINs were distributed and durability monitored\u001b[0m\n",
      "/Users/jonnytr/micromamba/lib/python3.10/site-packages/pydantic/main.py:1311: PydanticDeprecatedSince20: The `schema` method is deprecated; use `model_json_schema` instead. Deprecated in Pydantic V2.0 to be removed in V3.0. See Pydantic V2 Migration Guide at https://errors.pydantic.dev/2.7/migration/\n",
      "  warnings.warn(\n",
      "/Users/jonnytr/micromamba/lib/python3.10/site-packages/pydantic/main.py:1135: PydanticDeprecatedSince20: The `parse_raw` method is deprecated; if your data is JSON use `model_validate_json`, otherwise load the data then use `model_validate` instead. Deprecated in Pydantic V2.0 to be removed in V3.0. See Pydantic V2 Migration Guide at https://errors.pydantic.dev/2.7/migration/\n",
      "  warnings.warn(\n",
      "/Users/jonnytr/micromamba/lib/python3.10/site-packages/pydantic/main.py:1143: PydanticDeprecatedSince20: `load_str_bytes` is deprecated. Deprecated in Pydantic V2.0 to be removed in V3.0. See Pydantic V2 Migration Guide at https://errors.pydantic.dev/2.7/migration/\n",
      "  obj = parse.load_str_bytes(\n",
      "/Users/jonnytr/micromamba/lib/python3.10/site-packages/llama_index/core/readers/file/base.py:535: ResourceWarning: unclosed file <_io.BufferedReader name='/Users/jonnytr/Projects/ITN-recal-data-extraction/data/preprocessing/unstructured/diouf2022evaluation/figures/figure-8-8.jpg'>\n",
      "  docs = reader.load_data(input_file, **kwargs)\n",
      "ResourceWarning: Enable tracemalloc to get the object allocation traceback\n",
      "\u001b[32m[0621 00:06.47 @segment.py:251]\u001b[0m  \u001b[32mINF\u001b[0m  \u001b[97mExtracting figure table: Fig. 2 Retained proportions not removed (red), retention after sampling (blue) and cumulative number of nets removed by type and semester after 3 years\u001b[0m\n",
      "/Users/jonnytr/micromamba/lib/python3.10/site-packages/llama_index/core/readers/file/base.py:535: ResourceWarning: unclosed file <_io.BufferedReader name='/Users/jonnytr/Projects/ITN-recal-data-extraction/data/preprocessing/pdffigure2/diouf2022evaluation/Evaluation_of_the_residual_efficacy_and_physical_durability_of_five_long_lasting-Figure2-1.png'>\n",
      "  docs = reader.load_data(input_file, **kwargs)\n",
      "ResourceWarning: Enable tracemalloc to get the object allocation traceback\n",
      "\u001b[32m[0621 00:07.06 @segment.py:251]\u001b[0m  \u001b[32mINF\u001b[0m  \u001b[97mExtracting figure table: Fig. 2 Retained proportions not removed (red), retention after sampling (blue) and cumulative number of nets removed by type and semester after 3 years\u001b[0m\n",
      "/Users/jonnytr/micromamba/lib/python3.10/site-packages/llama_index/core/readers/file/base.py:535: ResourceWarning: unclosed file <_io.BufferedReader name='/Users/jonnytr/Projects/ITN-recal-data-extraction/data/preprocessing/unstructured/diouf2022evaluation/figures/figure-10-9.jpg'>\n",
      "  docs = reader.load_data(input_file, **kwargs)\n",
      "ResourceWarning: Enable tracemalloc to get the object allocation traceback\n",
      "\u001b[32m[0621 00:07.11 @segment.py:251]\u001b[0m  \u001b[32mINF\u001b[0m  \u001b[97mExtracting figure table: Fig. 3 Categories of holes by type and semester after 3 years. Size 1, size 2, size 3\u001b[0m\n",
      "/Users/jonnytr/micromamba/lib/python3.10/site-packages/llama_index/core/readers/file/base.py:535: ResourceWarning: unclosed file <_io.BufferedReader name='/Users/jonnytr/Projects/ITN-recal-data-extraction/data/preprocessing/pdffigure2/diouf2022evaluation/Evaluation_of_the_residual_efficacy_and_physical_durability_of_five_long_lasting-Figure3-1.png'>\n",
      "  docs = reader.load_data(input_file, **kwargs)\n",
      "ResourceWarning: Enable tracemalloc to get the object allocation traceback\n",
      "\u001b[32m[0621 00:07.17 @segment.py:251]\u001b[0m  \u001b[32mINF\u001b[0m  \u001b[97mExtracting figure table: Fig. 3 Categories of holes by type and semester after 3 years. Size 1, size 2, size 3\u001b[0m\n",
      "/Users/jonnytr/micromamba/lib/python3.10/site-packages/llama_index/core/readers/file/base.py:535: ResourceWarning: unclosed file <_io.BufferedReader name='/Users/jonnytr/Projects/ITN-recal-data-extraction/data/preprocessing/pdffigure2/diouf2022evaluation/Evaluation_of_the_residual_efficacy_and_physical_durability_of_five_long_lasting-Figure4-1.png'>\n",
      "  docs = reader.load_data(input_file, **kwargs)\n",
      "ResourceWarning: Enable tracemalloc to get the object allocation traceback\n",
      "\u001b[32m[0621 00:07.25 @segment.py:251]\u001b[0m  \u001b[32mINF\u001b[0m  \u001b[97mExtracting figure table: Fig. 4 Insecticide concentration in mg/m2 according to the type LLINs and semester\u001b[0m\n",
      "/Users/jonnytr/micromamba/lib/python3.10/site-packages/llama_index/core/readers/file/base.py:535: ResourceWarning: unclosed file <_io.BufferedReader name='/Users/jonnytr/Projects/ITN-recal-data-extraction/data/preprocessing/pdffigure2/diouf2022evaluation/Evaluation_of_the_residual_efficacy_and_physical_durability_of_five_long_lasting-Figure5-1.png'>\n",
      "  docs = reader.load_data(input_file, **kwargs)\n",
      "ResourceWarning: Enable tracemalloc to get the object allocation traceback\n",
      "\u001b[32m[0621 00:07.32 @segment.py:251]\u001b[0m  \u001b[32mINF\u001b[0m  \u001b[97mExtracting figure table: Fig. 5 Correlation of chemical and bioassay results by type of LLIN and semester\u001b[0m\n"
     ]
    },
    {
     "name": "stdout",
     "output_type": "stream",
     "text": [
      "diouf2022evaluation 8 tables 5 figures\n"
     ]
    },
    {
     "name": "stderr",
     "output_type": "stream",
     "text": [
      "/Users/jonnytr/micromamba/lib/python3.10/site-packages/llama_index/core/readers/file/base.py:535: ResourceWarning: unclosed file <_io.BufferedReader name='/Users/jonnytr/Projects/ITN-recal-data-extraction/data/preprocessing/unstructured/syme2021which/figures/figure-9-2.jpg'>\n",
      "  docs = reader.load_data(input_file, **kwargs)\n",
      "ResourceWarning: Enable tracemalloc to get the object allocation traceback\n",
      "\u001b[32m[0621 00:07.41 @segment.py:251]\u001b[0m  \u001b[32mINF\u001b[0m  \u001b[97mExtracting figure table: Fig 1. Monthly mortality rates of wild, free-flying pyrethroid-resistant Anopheles gambiae sensu lato entering experimental huts with pirimiphos-methyl CS IRS applied alone and in combination with DuraNet1 in Covè, southern Benin. Mortality was cumulated over successive months. Error bars represent 95% CI.\u001b[0m\n",
      "/Users/jonnytr/micromamba/lib/python3.10/site-packages/pydantic/main.py:1311: PydanticDeprecatedSince20: The `schema` method is deprecated; use `model_json_schema` instead. Deprecated in Pydantic V2.0 to be removed in V3.0. See Pydantic V2 Migration Guide at https://errors.pydantic.dev/2.7/migration/\n",
      "  warnings.warn(\n",
      "/Users/jonnytr/micromamba/lib/python3.10/site-packages/pydantic/main.py:1135: PydanticDeprecatedSince20: The `parse_raw` method is deprecated; if your data is JSON use `model_validate_json`, otherwise load the data then use `model_validate` instead. Deprecated in Pydantic V2.0 to be removed in V3.0. See Pydantic V2 Migration Guide at https://errors.pydantic.dev/2.7/migration/\n",
      "  warnings.warn(\n",
      "/Users/jonnytr/micromamba/lib/python3.10/site-packages/pydantic/main.py:1143: PydanticDeprecatedSince20: `load_str_bytes` is deprecated. Deprecated in Pydantic V2.0 to be removed in V3.0. See Pydantic V2 Migration Guide at https://errors.pydantic.dev/2.7/migration/\n",
      "  obj = parse.load_str_bytes(\n",
      "/Users/jonnytr/micromamba/lib/python3.10/site-packages/llama_index/core/readers/file/base.py:535: ResourceWarning: unclosed file <_io.BufferedReader name='/Users/jonnytr/Projects/ITN-recal-data-extraction/data/preprocessing/pdffigure2/syme2021which/pone_0245804_pdf-Figure1-1.png'>\n",
      "  docs = reader.load_data(input_file, **kwargs)\n",
      "ResourceWarning: Enable tracemalloc to get the object allocation traceback\n",
      "\u001b[32m[0621 00:07.47 @segment.py:251]\u001b[0m  \u001b[32mINF\u001b[0m  \u001b[97mExtracting figure table: Fig 1. Monthly mortality rates of wild, free-flying pyrethroid-resistant Anopheles gambiae sensu lato entering experimental huts with pirimiphos-methyl CS IRS applied alone and in combination with DuraNet1 in Covè, southern Benin. Mortality was cumulated over successive months. Error bars represent 95% CI.\u001b[0m\n",
      "/Users/jonnytr/micromamba/lib/python3.10/site-packages/llama_index/core/readers/file/base.py:535: ResourceWarning: unclosed file <_io.BufferedReader name='/Users/jonnytr/Projects/ITN-recal-data-extraction/data/preprocessing/pdffigure2/syme2021which/pone_0245804_pdf-Figure2-1.png'>\n",
      "  docs = reader.load_data(input_file, **kwargs)\n",
      "ResourceWarning: Enable tracemalloc to get the object allocation traceback\n",
      "\u001b[32m[0621 00:07.58 @segment.py:251]\u001b[0m  \u001b[32mINF\u001b[0m  \u001b[97mExtracting figure table: Fig 2. Monthly mortality rates of wild, free-flying pyrethroid-resistant Anopheles gambiae sensu lato entering experimental huts with chlorfenapyr IRS applied alone and in combination with DuraNet1 in Covè, southern Benin. Mortality was cumulated over successive months. Error bars represent 95% CI.\u001b[0m\n",
      "/Users/jonnytr/micromamba/lib/python3.10/site-packages/llama_index/core/readers/file/base.py:535: ResourceWarning: unclosed file <_io.BufferedReader name='/Users/jonnytr/Projects/ITN-recal-data-extraction/data/preprocessing/unstructured/syme2021which/figures/figure-10-4.jpg'>\n",
      "  docs = reader.load_data(input_file, **kwargs)\n",
      "ResourceWarning: Enable tracemalloc to get the object allocation traceback\n",
      "\u001b[32m[0621 00:08.03 @segment.py:251]\u001b[0m  \u001b[32mINF\u001b[0m  \u001b[97mExtracting figure table: Fig 3. Monthly mortality rates of wild, free-flying pyrethroid-resistant Anopheles gambiae sensu lato entering experimental huts with bendiocarb IRS applied alone and in combination with DuraNet1 in Covè, southern Benin. Mortality was cumulated over successive months. Error bars represent 95% CI.\u001b[0m\n",
      "/Users/jonnytr/micromamba/lib/python3.10/site-packages/llama_index/core/readers/file/base.py:535: ResourceWarning: unclosed file <_io.BufferedReader name='/Users/jonnytr/Projects/ITN-recal-data-extraction/data/preprocessing/pdffigure2/syme2021which/pone_0245804_pdf-Figure3-1.png'>\n",
      "  docs = reader.load_data(input_file, **kwargs)\n",
      "ResourceWarning: Enable tracemalloc to get the object allocation traceback\n",
      "\u001b[32m[0621 00:08.09 @segment.py:251]\u001b[0m  \u001b[32mINF\u001b[0m  \u001b[97mExtracting figure table: Fig 3. Monthly mortality rates of wild, free-flying pyrethroid-resistant Anopheles gambiae sensu lato entering experimental huts with bendiocarb IRS applied alone and in combination with DuraNet1 in Covè, southern Benin. Mortality was cumulated over successive months. Error bars represent 95% CI.\u001b[0m\n",
      "/Users/jonnytr/micromamba/lib/python3.10/site-packages/llama_index/core/readers/file/base.py:535: ResourceWarning: unclosed file <_io.BufferedReader name='/Users/jonnytr/Projects/ITN-recal-data-extraction/data/preprocessing/pdffigure2/syme2021which/pone_0245804_pdf-Figure4-1.png'>\n",
      "  docs = reader.load_data(input_file, **kwargs)\n",
      "ResourceWarning: Enable tracemalloc to get the object allocation traceback\n",
      "\u001b[32m[0621 00:08.14 @segment.py:251]\u001b[0m  \u001b[32mINF\u001b[0m  \u001b[97mExtracting figure table: Fig 4. Mortality (72 h) of laboratory maintained, insecticide-susceptible Anopheles gambiae sensu stricto Kisumu colony exposed to IRS-treated hut walls in monthly, 30 mins wall cone bioassays in experimental huts in Covè, southern Benin. Error bars represent 95% CI. Approximately fifty (50) 2–3 days old mosquitoes were exposed for 30 mins to each IRS treated hut in batches of 10 per cone and mortality recorded after 72 h.\u001b[0m\n"
     ]
    },
    {
     "name": "stdout",
     "output_type": "stream",
     "text": [
      "syme2021which 5 tables 4 figures\n"
     ]
    },
    {
     "name": "stderr",
     "output_type": "stream",
     "text": [
      "/Users/jonnytr/micromamba/lib/python3.10/site-packages/llama_index/core/readers/file/base.py:535: ResourceWarning: unclosed file <_io.BufferedReader name='/Users/jonnytr/Projects/ITN-recal-data-extraction/data/preprocessing/unstructured/meiwald2022association/figures/figure-4-3.jpg'>\n",
      "  docs = reader.load_data(input_file, **kwargs)\n",
      "ResourceWarning: Enable tracemalloc to get the object allocation traceback\n",
      "\u001b[32m[0621 00:08.19 @segment.py:251]\u001b[0m  \u001b[32mINF\u001b[0m  \u001b[97mExtracting figure table: Figure 2. A, Resistance intensity of field-caught Anopheles gambiae sensu lato (s.l.) after exposure to 1, 2, 5, or 10 times the diagnostic dose of pyrethroid insecticides. Mean knockdown/acute toxicity rates after 30-minute exposure are shown with 95% confidence intervals (CIs). Knockdown or mortality rates at the same dose per insecticide sharing a letter do not differ significantly (P > .05). Mortality rates <90% (lower red line) represent confirmed resistance at the diagnostic dose (1×), and rates <98% (upper red line) indicate moderate to high-intensity resistance or high-intensity resistance at 5× and 10×, respectively, as defined by the World Health Organization [24]. B, Restoration of deltamethrin susceptibility of field-caught A. gambiae s.l. after preexposure to piperonyl butoxide (PBO). Mean knockdown/acute toxicity after 30-minute exposure to 1 or 2 times the diagnostic dose of deltamethrin with 95% CIs. Knockdown/mortality rates do not differ significantly between pyrethroid only and synergist plus pyrethroid sharing a letter (P > .05). Red line at 98% mortality rate represents metabolic resistance mechanisms partially involved [24].\u001b[0m\n",
      "/Users/jonnytr/micromamba/lib/python3.10/site-packages/pydantic/main.py:1311: PydanticDeprecatedSince20: The `schema` method is deprecated; use `model_json_schema` instead. Deprecated in Pydantic V2.0 to be removed in V3.0. See Pydantic V2 Migration Guide at https://errors.pydantic.dev/2.7/migration/\n",
      "  warnings.warn(\n",
      "/Users/jonnytr/micromamba/lib/python3.10/site-packages/pydantic/main.py:1135: PydanticDeprecatedSince20: The `parse_raw` method is deprecated; if your data is JSON use `model_validate_json`, otherwise load the data then use `model_validate` instead. Deprecated in Pydantic V2.0 to be removed in V3.0. See Pydantic V2 Migration Guide at https://errors.pydantic.dev/2.7/migration/\n",
      "  warnings.warn(\n",
      "/Users/jonnytr/micromamba/lib/python3.10/site-packages/pydantic/main.py:1143: PydanticDeprecatedSince20: `load_str_bytes` is deprecated. Deprecated in Pydantic V2.0 to be removed in V3.0. See Pydantic V2 Migration Guide at https://errors.pydantic.dev/2.7/migration/\n",
      "  obj = parse.load_str_bytes(\n",
      "/Users/jonnytr/micromamba/lib/python3.10/site-packages/llama_index/core/readers/file/base.py:535: ResourceWarning: unclosed file <_io.BufferedReader name='/Users/jonnytr/Projects/ITN-recal-data-extraction/data/preprocessing/unstructured/meiwald2022association/figures/figure-6-20.jpg'>\n",
      "  docs = reader.load_data(input_file, **kwargs)\n",
      "ResourceWarning: Enable tracemalloc to get the object allocation traceback\n",
      "\u001b[32m[0621 00:08.25 @segment.py:251]\u001b[0m  \u001b[32mINF\u001b[0m  \u001b[97mExtracting figure table: Figure 3. The longevity of field-caught Anopheles gambiae sensu lato after exposure to long-lasting insecticidal nets (LLINs) in World Health Organization cone assays (A) and 1× (B), 5× (C), and 10× (D) the diagnostic dose of pyrethroid insecticides in Centers for Disease Control and Prevention resistance intensity assays. Kaplan-Meier sur- vival curves indicate the proportion alive each day after exposure. Immediate mortality rates after LLIN (60 minutes and 24 hours) or insecticidal exposure (30 or 60 minutes, depending on insecticide) were excluded.\u001b[0m\n",
      "/Users/jonnytr/micromamba/lib/python3.10/site-packages/llama_index/core/readers/file/base.py:535: ResourceWarning: unclosed file <_io.BufferedReader name='/Users/jonnytr/Projects/ITN-recal-data-extraction/data/preprocessing/pdffigure2/meiwald2022association/jiaa699-Figure3-1.png'>\n",
      "  docs = reader.load_data(input_file, **kwargs)\n",
      "ResourceWarning: Enable tracemalloc to get the object allocation traceback\n",
      "\u001b[32m[0621 00:08.32 @segment.py:251]\u001b[0m  \u001b[32mINF\u001b[0m  \u001b[97mExtracting figure table: Figure 3. The longevity of field-caught Anopheles gambiae sensu lato after exposure to long-lasting insecticidal nets (LLINs) in World Health Organization cone assays (A) and 1× (B), 5× (C), and 10× (D) the diagnostic dose of pyrethroid insecticides in Centers for Disease Control and Prevention resistance intensity assays. Kaplan-Meier survival curves indicate the proportion alive each day after exposure. Immediate mortality rates after LLIN (60 minutes and 24 hours) or insecticidal exposure (30 or 60 minutes, depending on insecticide) were excluded.\u001b[0m\n",
      "/Users/jonnytr/micromamba/lib/python3.10/site-packages/llama_index/core/readers/file/base.py:535: ResourceWarning: unclosed file <_io.BufferedReader name='/Users/jonnytr/Projects/ITN-recal-data-extraction/data/preprocessing/unstructured/gichuki2021bioefficacy/figures/figure-4-9.jpg'>\n",
      "  docs = reader.load_data(input_file, **kwargs)\n",
      "ResourceWarning: Enable tracemalloc to get the object allocation traceback\n",
      "\u001b[32m[0621 00:08.46 @segment.py:251]\u001b[0m  \u001b[32mINF\u001b[0m  \u001b[97mExtracting figure table: Fig. 1 A rectangular net and its individual panels showing positions for cutting netting pieces (positions 1–9 for bioassays; HP1–HP5 for chemical assays)\u001b[0m\n"
     ]
    },
    {
     "name": "stdout",
     "output_type": "stream",
     "text": [
      "meiwald2022association 3 tables 2 figures\n"
     ]
    },
    {
     "name": "stderr",
     "output_type": "stream",
     "text": [
      "/Users/jonnytr/micromamba/lib/python3.10/site-packages/pydantic/main.py:1311: PydanticDeprecatedSince20: The `schema` method is deprecated; use `model_json_schema` instead. Deprecated in Pydantic V2.0 to be removed in V3.0. See Pydantic V2 Migration Guide at https://errors.pydantic.dev/2.7/migration/\n",
      "  warnings.warn(\n",
      "/Users/jonnytr/micromamba/lib/python3.10/site-packages/pydantic/main.py:1135: PydanticDeprecatedSince20: The `parse_raw` method is deprecated; if your data is JSON use `model_validate_json`, otherwise load the data then use `model_validate` instead. Deprecated in Pydantic V2.0 to be removed in V3.0. See Pydantic V2 Migration Guide at https://errors.pydantic.dev/2.7/migration/\n",
      "  warnings.warn(\n",
      "/Users/jonnytr/micromamba/lib/python3.10/site-packages/pydantic/main.py:1143: PydanticDeprecatedSince20: `load_str_bytes` is deprecated. Deprecated in Pydantic V2.0 to be removed in V3.0. See Pydantic V2 Migration Guide at https://errors.pydantic.dev/2.7/migration/\n",
      "  obj = parse.load_str_bytes(\n"
     ]
    },
    {
     "name": "stdout",
     "output_type": "stream",
     "text": [
      "gichuki2021bioefficacy 7 tables 1 figures\n"
     ]
    },
    {
     "name": "stderr",
     "output_type": "stream",
     "text": [
      "/Users/jonnytr/micromamba/lib/python3.10/site-packages/llama_index/core/readers/file/base.py:535: ResourceWarning: unclosed file <_io.BufferedReader name='/Users/jonnytr/Projects/ITN-recal-data-extraction/data/preprocessing/unstructured/kibondo2022influence/figures/figure-7-6.jpg'>\n",
      "  docs = reader.load_data(input_file, **kwargs)\n",
      "ResourceWarning: Enable tracemalloc to get the object allocation traceback\n",
      "\u001b[32m[0621 00:09.00 @segment.py:251]\u001b[0m  \u001b[32mINF\u001b[0m  \u001b[97mExtracting figure table: Fig. 2 Mosquito mortality after exposure to Interceptor® and Interceptor® G2 ITNs in Ifakara ambient chamber test (IACT), WHO tunnel test, cone and experimental hut. a An. arabiensis, b Cx. quinquefasciatus, c An. gambiae s.s., d Ae. aegypti\u001b[0m\n",
      "/Users/jonnytr/micromamba/lib/python3.10/site-packages/pydantic/main.py:1311: PydanticDeprecatedSince20: The `schema` method is deprecated; use `model_json_schema` instead. Deprecated in Pydantic V2.0 to be removed in V3.0. See Pydantic V2 Migration Guide at https://errors.pydantic.dev/2.7/migration/\n",
      "  warnings.warn(\n",
      "/Users/jonnytr/micromamba/lib/python3.10/site-packages/pydantic/main.py:1135: PydanticDeprecatedSince20: The `parse_raw` method is deprecated; if your data is JSON use `model_validate_json`, otherwise load the data then use `model_validate` instead. Deprecated in Pydantic V2.0 to be removed in V3.0. See Pydantic V2 Migration Guide at https://errors.pydantic.dev/2.7/migration/\n",
      "  warnings.warn(\n",
      "/Users/jonnytr/micromamba/lib/python3.10/site-packages/pydantic/main.py:1143: PydanticDeprecatedSince20: `load_str_bytes` is deprecated. Deprecated in Pydantic V2.0 to be removed in V3.0. See Pydantic V2 Migration Guide at https://errors.pydantic.dev/2.7/migration/\n",
      "  obj = parse.load_str_bytes(\n",
      "/Users/jonnytr/micromamba/lib/python3.10/site-packages/llama_index/core/readers/file/base.py:535: ResourceWarning: unclosed file <_io.BufferedReader name='/Users/jonnytr/Projects/ITN-recal-data-extraction/data/preprocessing/pdffigure2/kibondo2022influence/Influence_of_testing_modality_on_bioefficacy_for_the_evaluation_of_Interceptor-Figure2-1.png'>\n",
      "  docs = reader.load_data(input_file, **kwargs)\n",
      "ResourceWarning: Enable tracemalloc to get the object allocation traceback\n",
      "\u001b[32m[0621 00:09.09 @segment.py:251]\u001b[0m  \u001b[32mINF\u001b[0m  \u001b[97mExtracting figure table: Fig. 2 Mosquito mortality after exposure to Interceptor® and Interceptor® G2 ITNs in Ifakara ambient chamber test (IACT), WHO tunnel test, cone and experimental hut. a An. arabiensis, b Cx. quinquefasciatus, c An. gambiae s.s., d Ae. aegypti\u001b[0m\n",
      "/Users/jonnytr/micromamba/lib/python3.10/site-packages/llama_index/core/readers/file/base.py:535: ResourceWarning: unclosed file <_io.BufferedReader name='/Users/jonnytr/Projects/ITN-recal-data-extraction/data/preprocessing/unstructured/kibondo2022influence/figures/figure-10-7.jpg'>\n",
      "  docs = reader.load_data(input_file, **kwargs)\n",
      "ResourceWarning: Enable tracemalloc to get the object allocation traceback\n",
      "\u001b[32m[0621 00:09.16 @segment.py:251]\u001b[0m  \u001b[32mINF\u001b[0m  \u001b[97mExtracting figure table: Fig. 3 Mosquito blood-feeding inhibition after exposure to Interceptor and Interceptor® G2 ITNs in Ifakara ambient chamber test (IACT), WHO tunnel test and experimental hut. a An. arabiensis, b Cx. quinquefasciatus, c An. gambiae s.s., d Ae. aegypti\u001b[0m\n",
      "/Users/jonnytr/micromamba/lib/python3.10/site-packages/llama_index/core/readers/file/base.py:535: ResourceWarning: unclosed file <_io.BufferedReader name='/Users/jonnytr/Projects/ITN-recal-data-extraction/data/preprocessing/pdffigure2/kibondo2022influence/Influence_of_testing_modality_on_bioefficacy_for_the_evaluation_of_Interceptor-Figure3-1.png'>\n",
      "  docs = reader.load_data(input_file, **kwargs)\n",
      "ResourceWarning: Enable tracemalloc to get the object allocation traceback\n",
      "\u001b[32m[0621 00:09.21 @segment.py:251]\u001b[0m  \u001b[32mINF\u001b[0m  \u001b[97mExtracting figure table: Fig. 3 Mosquito blood-feeding inhibition after exposure to Interceptor and Interceptor® G2 ITNs in Ifakara ambient chamber test (IACT), WHO tunnel test and experimental hut. a An. arabiensis, b Cx. quinquefasciatus, c An. gambiae s.s., d Ae. aegypti\u001b[0m\n",
      "/Users/jonnytr/micromamba/lib/python3.10/site-packages/llama_index/core/readers/file/base.py:535: ResourceWarning: unclosed file <_io.BufferedReader name='/Users/jonnytr/Projects/ITN-recal-data-extraction/data/preprocessing/unstructured/kibondo2022influence/figures/figure-12-8.jpg'>\n",
      "  docs = reader.load_data(input_file, **kwargs)\n",
      "ResourceWarning: Enable tracemalloc to get the object allocation traceback\n",
      "\u001b[32m[0621 00:09.26 @segment.py:251]\u001b[0m  \u001b[32mINF\u001b[0m  \u001b[97mExtracting figure table: Fig. 4 Comparison of mosquito mortality and blood-feeding inhibition of An. arabiensis in four different experimental hut designs in Ifakara, Tanzania\u001b[0m\n",
      "/Users/jonnytr/micromamba/lib/python3.10/site-packages/llama_index/core/readers/file/base.py:535: ResourceWarning: unclosed file <_io.BufferedReader name='/Users/jonnytr/Projects/ITN-recal-data-extraction/data/preprocessing/pdffigure2/kibondo2022influence/Influence_of_testing_modality_on_bioefficacy_for_the_evaluation_of_Interceptor-Figure4-1.png'>\n",
      "  docs = reader.load_data(input_file, **kwargs)\n",
      "ResourceWarning: Enable tracemalloc to get the object allocation traceback\n",
      "\u001b[32m[0621 00:09.32 @segment.py:251]\u001b[0m  \u001b[32mINF\u001b[0m  \u001b[97mExtracting figure table: Fig. 4 Comparison of mosquito mortality and blood-feeding inhibition of An. arabiensis in four different experimental hut designs in Ifakara, Tanzania\u001b[0m\n",
      "/Users/jonnytr/micromamba/lib/python3.10/site-packages/llama_index/core/readers/file/base.py:535: ResourceWarning: unclosed file <_io.BufferedReader name='/Users/jonnytr/Projects/ITN-recal-data-extraction/data/preprocessing/pdffigure2/kibondo2022influence/Influence_of_testing_modality_on_bioefficacy_for_the_evaluation_of_Interceptor-Figure5-1.png'>\n",
      "  docs = reader.load_data(input_file, **kwargs)\n",
      "ResourceWarning: Enable tracemalloc to get the object allocation traceback\n",
      "\u001b[32m[0621 00:09.39 @segment.py:251]\u001b[0m  \u001b[32mINF\u001b[0m  \u001b[97mExtracting figure table: Fig. 5 Factors determining bioassay results beyond product characteristics\u001b[0m\n",
      "/Users/jonnytr/micromamba/lib/python3.10/site-packages/llama_index/core/readers/file/base.py:535: ResourceWarning: unclosed file <_io.BufferedReader name='/Users/jonnytr/Projects/ITN-recal-data-extraction/data/preprocessing/pdffigure2/zahouli2023small/Small_scale_field_evaluation_of_PermaNet_Dual_a_long_lasting_net_coated_with-Figure1-1.png'>\n",
      "  docs = reader.load_data(input_file, **kwargs)\n",
      "ResourceWarning: Enable tracemalloc to get the object allocation traceback\n",
      "\u001b[32m[0621 00:09.50 @segment.py:251]\u001b[0m  \u001b[32mINF\u001b[0m  \u001b[97mExtracting figure table: Fig. 1 Effects of treatments on blood-feeding (A) and immediate and extended mortality (B) rates in multiple insecticide-resistant Anopheles gambiae from experimental huts in Tiassalé, Côte d’Ivoire. Error bars show the standard error of the mean. Letters indicate the results of the\u001b[0m\n"
     ]
    },
    {
     "name": "stdout",
     "output_type": "stream",
     "text": [
      "kibondo2022influence 5 tables 4 figures\n"
     ]
    },
    {
     "name": "stderr",
     "output_type": "stream",
     "text": [
      "/Users/jonnytr/micromamba/lib/python3.10/site-packages/pydantic/main.py:1311: PydanticDeprecatedSince20: The `schema` method is deprecated; use `model_json_schema` instead. Deprecated in Pydantic V2.0 to be removed in V3.0. See Pydantic V2 Migration Guide at https://errors.pydantic.dev/2.7/migration/\n",
      "  warnings.warn(\n",
      "/Users/jonnytr/micromamba/lib/python3.10/site-packages/pydantic/main.py:1135: PydanticDeprecatedSince20: The `parse_raw` method is deprecated; if your data is JSON use `model_validate_json`, otherwise load the data then use `model_validate` instead. Deprecated in Pydantic V2.0 to be removed in V3.0. See Pydantic V2 Migration Guide at https://errors.pydantic.dev/2.7/migration/\n",
      "  warnings.warn(\n",
      "/Users/jonnytr/micromamba/lib/python3.10/site-packages/pydantic/main.py:1143: PydanticDeprecatedSince20: `load_str_bytes` is deprecated. Deprecated in Pydantic V2.0 to be removed in V3.0. See Pydantic V2 Migration Guide at https://errors.pydantic.dev/2.7/migration/\n",
      "  obj = parse.load_str_bytes(\n",
      "/Users/jonnytr/micromamba/lib/python3.10/site-packages/llama_index/core/readers/file/base.py:535: ResourceWarning: unclosed file <_io.BufferedReader name='/Users/jonnytr/Projects/ITN-recal-data-extraction/data/preprocessing/pdffigure2/zahouli2023small/Small_scale_field_evaluation_of_PermaNet_Dual_a_long_lasting_net_coated_with-Figure2-1.png'>\n",
      "  docs = reader.load_data(input_file, **kwargs)\n",
      "ResourceWarning: Enable tracemalloc to get the object allocation traceback\n",
      "\u001b[32m[0621 00:09.58 @segment.py:251]\u001b[0m  \u001b[32mINF\u001b[0m  \u001b[97mExtracting figure table: Fig. 2 Mean knock-down (A) and corrected mortality (B) rates in the susceptible Anopheles gambiae s.s. Kisumu strain exposed to net samples using cone bioassays before and after the experimental hut trial in Tiassalé, Côte d’Ivoire. KD60: Knock-down at 60 min. Error bars show the standard error of the mean\u001b[0m\n",
      "/Users/jonnytr/micromamba/lib/python3.10/site-packages/llama_index/core/readers/file/base.py:535: ResourceWarning: unclosed file <_io.BufferedReader name='/Users/jonnytr/Projects/ITN-recal-data-extraction/data/preprocessing/unstructured/zahouli2023small/figures/figure-11-9.jpg'>\n",
      "  docs = reader.load_data(input_file, **kwargs)\n",
      "ResourceWarning: Enable tracemalloc to get the object allocation traceback\n",
      "\u001b[32m[0621 00:10.04 @segment.py:251]\u001b[0m  \u001b[32mINF\u001b[0m  \u001b[97mExtracting figure table: Fig. 3 Mean knock-down (A) and corrected mortality (B) rates in the pyrethroid-resistant Anopheles gambiae s.l. Tiassalé strain exposed to net samples using cone bioassays before and after the experimental hut trial in Tiassalé, Côte d’Ivoire. KD60: Knock-down at 60 min. Error bars show the standard error of the mean\u001b[0m\n",
      "/Users/jonnytr/micromamba/lib/python3.10/site-packages/llama_index/core/readers/file/base.py:535: ResourceWarning: unclosed file <_io.BufferedReader name='/Users/jonnytr/Projects/ITN-recal-data-extraction/data/preprocessing/pdffigure2/zahouli2023small/Small_scale_field_evaluation_of_PermaNet_Dual_a_long_lasting_net_coated_with-Figure3-1.png'>\n",
      "  docs = reader.load_data(input_file, **kwargs)\n",
      "ResourceWarning: Enable tracemalloc to get the object allocation traceback\n",
      "\u001b[32m[0621 00:10.14 @segment.py:251]\u001b[0m  \u001b[32mINF\u001b[0m  \u001b[97mExtracting figure table: Fig. 3 Mean knock-down (A) and corrected mortality (B) rates in the pyrethroid-resistant Anopheles gambiae s.l. Tiassalé strain exposed to net samples using cone bioassays before and after the experimental hut trial in Tiassalé, Côte d’Ivoire. KD60: Knock-down at 60 min. Error bars show the standard error of the mean\u001b[0m\n",
      "/Users/jonnytr/micromamba/lib/python3.10/site-packages/llama_index/core/readers/file/base.py:535: ResourceWarning: unclosed file <_io.BufferedReader name='/Users/jonnytr/Projects/ITN-recal-data-extraction/data/preprocessing/unstructured/zahouli2023small/figures/figure-13-10.jpg'>\n",
      "  docs = reader.load_data(input_file, **kwargs)\n",
      "ResourceWarning: Enable tracemalloc to get the object allocation traceback\n",
      "\u001b[32m[0621 00:10.27 @segment.py:251]\u001b[0m  \u001b[32mINF\u001b[0m  \u001b[97mExtracting figure table: Fig. 4 Mean blood-feeding inhibition (A) and corrected mortality (B) rates in the susceptible Anopheles gambiae s.s. Kisumu strain exposed to net samples using tunnel tests before and after experimental hut trial in Tiassalé, Côte d’Ivoire. Error bars show the standard error of the mean\u001b[0m\n",
      "/Users/jonnytr/micromamba/lib/python3.10/site-packages/llama_index/core/readers/file/base.py:535: ResourceWarning: unclosed file <_io.BufferedReader name='/Users/jonnytr/Projects/ITN-recal-data-extraction/data/preprocessing/pdffigure2/zahouli2023small/Small_scale_field_evaluation_of_PermaNet_Dual_a_long_lasting_net_coated_with-Figure4-1.png'>\n",
      "  docs = reader.load_data(input_file, **kwargs)\n",
      "ResourceWarning: Enable tracemalloc to get the object allocation traceback\n",
      "\u001b[32m[0621 00:10.33 @segment.py:251]\u001b[0m  \u001b[32mINF\u001b[0m  \u001b[97mExtracting figure table: Fig. 4 Mean blood-feeding inhibition (A) and corrected mortality (B) rates in the susceptible Anopheles gambiae s.s. Kisumu strain exposed to net samples using tunnel tests before and after experimental hut trial in Tiassalé, Côte d’Ivoire. Error bars show the standard error of the mean\u001b[0m\n",
      "/Users/jonnytr/micromamba/lib/python3.10/site-packages/llama_index/core/readers/file/base.py:535: ResourceWarning: unclosed file <_io.BufferedReader name='/Users/jonnytr/Projects/ITN-recal-data-extraction/data/preprocessing/unstructured/zahouli2023small/figures/figure-14-11.jpg'>\n",
      "  docs = reader.load_data(input_file, **kwargs)\n",
      "ResourceWarning: Enable tracemalloc to get the object allocation traceback\n",
      "\u001b[32m[0621 00:10.42 @segment.py:251]\u001b[0m  \u001b[32mINF\u001b[0m  \u001b[97mExtracting figure table: Fig. 5 Mean of blood-feeding inhibition (A) and corrected mortality (B) rates in the pyrethroid-resistant Anopheles gambiae s.l. Tiassalé strain exposed to net samples using tunnel tests before and after experimental hut trial in Tiassalé, Côte d’Ivoire. Error bars show the standard error of the mean\u001b[0m\n",
      "/Users/jonnytr/micromamba/lib/python3.10/site-packages/llama_index/core/readers/file/base.py:535: ResourceWarning: unclosed file <_io.BufferedReader name='/Users/jonnytr/Projects/ITN-recal-data-extraction/data/preprocessing/pdffigure2/zahouli2023small/Small_scale_field_evaluation_of_PermaNet_Dual_a_long_lasting_net_coated_with-Figure5-1.png'>\n",
      "  docs = reader.load_data(input_file, **kwargs)\n",
      "ResourceWarning: Enable tracemalloc to get the object allocation traceback\n",
      "\u001b[32m[0621 00:10.49 @segment.py:251]\u001b[0m  \u001b[32mINF\u001b[0m  \u001b[97mExtracting figure table: Fig. 5 Mean of blood-feeding inhibition (A) and corrected mortality (B) rates in the pyrethroid-resistant Anopheles gambiae s.l. Tiassalé strain exposed to net samples using tunnel tests before and after experimental hut trial in Tiassalé, Côte d’Ivoire. Error bars show the standard error of the mean\u001b[0m\n",
      "/Users/jonnytr/micromamba/lib/python3.10/site-packages/llama_index/core/readers/file/base.py:535: ResourceWarning: unclosed file <_io.BufferedReader name='/Users/jonnytr/Projects/ITN-recal-data-extraction/data/preprocessing/unstructured/toe2018do/figures/figure-4-2.jpg'>\n",
      "  docs = reader.load_data(input_file, **kwargs)\n",
      "ResourceWarning: Enable tracemalloc to get the object allocation traceback\n",
      "\u001b[32m[0621 00:10.58 @segment.py:251]\u001b[0m  \u001b[32mINF\u001b[0m  \u001b[97mExtracting figure table: Fig. 1. Mortality rates (with binomial confidence intervals) after exposure to deltamethrin and permethrin in World Health Organization discriminating dose assays with or without pre-exposure to piperonyl butoxide (PBO) in (A) Vallée du Kou 5 and (B) Tengrela (October 2014). *Significant differences in mortality: P < 0.0001. Numbers in brackets are the total numbers of mosquitoes tested. [Colour figure can be viewed at wileyonlinelibrary.com].\u001b[0m\n"
     ]
    },
    {
     "name": "stdout",
     "output_type": "stream",
     "text": [
      "zahouli2023small 4 tables 5 figures\n"
     ]
    },
    {
     "name": "stderr",
     "output_type": "stream",
     "text": [
      "/Users/jonnytr/micromamba/lib/python3.10/site-packages/pydantic/main.py:1311: PydanticDeprecatedSince20: The `schema` method is deprecated; use `model_json_schema` instead. Deprecated in Pydantic V2.0 to be removed in V3.0. See Pydantic V2 Migration Guide at https://errors.pydantic.dev/2.7/migration/\n",
      "  warnings.warn(\n",
      "/Users/jonnytr/micromamba/lib/python3.10/site-packages/pydantic/main.py:1135: PydanticDeprecatedSince20: The `parse_raw` method is deprecated; if your data is JSON use `model_validate_json`, otherwise load the data then use `model_validate` instead. Deprecated in Pydantic V2.0 to be removed in V3.0. See Pydantic V2 Migration Guide at https://errors.pydantic.dev/2.7/migration/\n",
      "  warnings.warn(\n",
      "/Users/jonnytr/micromamba/lib/python3.10/site-packages/pydantic/main.py:1143: PydanticDeprecatedSince20: `load_str_bytes` is deprecated. Deprecated in Pydantic V2.0 to be removed in V3.0. See Pydantic V2 Migration Guide at https://errors.pydantic.dev/2.7/migration/\n",
      "  obj = parse.load_str_bytes(\n",
      "/Users/jonnytr/micromamba/lib/python3.10/site-packages/llama_index/core/readers/file/base.py:535: ResourceWarning: unclosed file <_io.BufferedReader name='/Users/jonnytr/Projects/ITN-recal-data-extraction/data/preprocessing/pdffigure2/toe2018do/Toe_et_al_2018_Medical_and_Veterinary_Entomology-Figure1-1.png'>\n",
      "  docs = reader.load_data(input_file, **kwargs)\n",
      "ResourceWarning: Enable tracemalloc to get the object allocation traceback\n",
      "\u001b[32m[0621 00:11.02 @segment.py:251]\u001b[0m  \u001b[32mINF\u001b[0m  \u001b[97mExtracting figure table: Fig. 1. Mortality rates (with binomial confidence intervals) after exposure to deltamethrin and permethrin in World Health Organization discriminating dose assays with or without pre-exposure to piperonyl butoxide (PBO) in (A) Vallée du Kou 5 and (B) Tengrela (October 2014). *Significant differences in mortality: P < 0.0001. Numbers in brackets are the total numbers of mosquitoes tested. [Colour figure can be viewed at wileyonlinelibrary.com].\u001b[0m\n",
      "/Users/jonnytr/micromamba/lib/python3.10/site-packages/llama_index/core/readers/file/base.py:535: ResourceWarning: unclosed file <_io.BufferedReader name='/Users/jonnytr/Projects/ITN-recal-data-extraction/data/preprocessing/pdffigure2/toe2018do/Toe_et_al_2018_Medical_and_Veterinary_Entomology-Figure2-1.png'>\n",
      "  docs = reader.load_data(input_file, **kwargs)\n",
      "ResourceWarning: Enable tracemalloc to get the object allocation traceback\n",
      "\u001b[32m[0621 00:11.07 @segment.py:251]\u001b[0m  \u001b[32mINF\u001b[0m  \u001b[97mExtracting figure table: Fig. 2. Expression levels of candidate genes previously associated with pyrethroid resistance in Tengrela and Vallée du Kou 5. The analysis was performed using the 2-ΔΔCt method with data normalized against three control genes and presented as a ratio of expression levels in the Ngousso susceptible laboratory strain. Relative gene expressions were transformed to log scale before plotting to minimize large differences in gene expression. [Colour figure can be viewed at wileyonlinelibrary.com].\u001b[0m\n",
      "/Users/jonnytr/micromamba/lib/python3.10/site-packages/llama_index/core/readers/file/base.py:535: ResourceWarning: unclosed file <_io.BufferedReader name='/Users/jonnytr/Projects/ITN-recal-data-extraction/data/preprocessing/unstructured/toe2018do/figures/figure-6-6.jpg'>\n",
      "  docs = reader.load_data(input_file, **kwargs)\n",
      "ResourceWarning: Enable tracemalloc to get the object allocation traceback\n",
      "\u001b[32m[0621 00:11.13 @segment.py:251]\u001b[0m  \u001b[32mINF\u001b[0m  \u001b[97mExtracting figure table: Fig. 3. Mean mortality rates with binomial confidence intervals for mosquitoes collected from (A) Tengrela and (B) Vallée du Kou 5 after exposure to longlasting insecticidal nets (LLINs) for 3 min. Significant differences in mortality between pyrethroid-only and pyrethroid plus piperonyl butoxide-treated LLINs are indicated by * (P < 0.001), † (P < 0.0001), n.s. (non-significant), ‡ (P < 0.0001) for the comparison between the sides and top of the PermaNet 3.0. Numbers in brackets are the total numbers of mosquitoes tested. [Colour figure can be viewed at wileyonlinelibrary.com].\u001b[0m\n",
      "/Users/jonnytr/micromamba/lib/python3.10/site-packages/llama_index/core/readers/file/base.py:535: ResourceWarning: unclosed file <_io.BufferedReader name='/Users/jonnytr/Projects/ITN-recal-data-extraction/data/preprocessing/pdffigure2/toe2018do/Toe_et_al_2018_Medical_and_Veterinary_Entomology-Figure3-1.png'>\n",
      "  docs = reader.load_data(input_file, **kwargs)\n",
      "ResourceWarning: Enable tracemalloc to get the object allocation traceback\n",
      "\u001b[32m[0621 00:11.19 @segment.py:251]\u001b[0m  \u001b[32mINF\u001b[0m  \u001b[97mExtracting figure table: Fig. 3. Mean mortality rates with binomial confidence intervals for mosquitoes collected from (A) Tengrela and (B) Vallée du Kou 5 after exposure to longlasting insecticidal nets (LLINs) for 3 min. Significant differences in mortality between pyrethroid-only and pyrethroid plus piperonyl butoxide-treated LLINs are indicated by * (P < 0.001), † (P < 0.0001), n.s. (non-significant), ‡ (P < 0.0001) for the comparison between the sides and top of the PermaNet 3.0. Numbers in brackets are the total numbers of mosquitoes tested. [Colour figure can be viewed at wileyonlinelibrary.com].\u001b[0m\n",
      "/Users/jonnytr/micromamba/lib/python3.10/site-packages/llama_index/core/readers/file/base.py:535: ResourceWarning: unclosed file <_io.BufferedReader name='/Users/jonnytr/Projects/ITN-recal-data-extraction/data/preprocessing/unstructured/toe2018do/figures/figure-7-9.jpg'>\n",
      "  docs = reader.load_data(input_file, **kwargs)\n",
      "ResourceWarning: Enable tracemalloc to get the object allocation traceback\n",
      "\u001b[32m[0621 00:11.23 @segment.py:251]\u001b[0m  \u001b[32mINF\u001b[0m  \u001b[97mExtracting figure table: Fig. 4. Primary outcomes measured in the experimental hut trials in Tengrela and Vallée du Kou 5 (VK5). (A–D) Crude data for the measured outcomes. (A) Entry, number of mosquitoes per night entering a hut. (B) Exit, proportion of mosquitoes collected from the veranda trap. (C) Blood feeding, proportion of mosquitoes found blood-fed. (D) Mortality, proportion of mosquitoes dead at 24 h post-collection. (E–H) These outcomes measured relative to the control (i.e. untreated mosquito net) for both sites combined. (E) Deterrence, the ratio of mosquitoes entering a hut relative to the control hut. (F) Exophily, the odds ratio (OR) for a mosquito being found in the veranda trap. (G) Blood feeding inhibition, the OR for a mosquito being blood-fed. (H) Mortality, the OR for a mosquito being dead in the morning (immediate mortality) or after being caught alive and held for 24 h (delayed mortality). Symbols show the average and whiskers show the limits of the 95% confidence intervals around the average. The dashed line shows the ratio or OR of 1, indicating no association of the outcome with the treatment. The data used to produce the plot together with the P-values are provided in Table S3. [Colour figure can be viewed at wileyonlinelibrary.com].\u001b[0m\n",
      "/Users/jonnytr/micromamba/lib/python3.10/site-packages/llama_index/core/readers/file/base.py:535: ResourceWarning: unclosed file <_io.BufferedReader name='/Users/jonnytr/Projects/ITN-recal-data-extraction/data/preprocessing/pdffigure2/toe2018do/Toe_et_al_2018_Medical_and_Veterinary_Entomology-Figure4-1.png'>\n",
      "  docs = reader.load_data(input_file, **kwargs)\n",
      "ResourceWarning: Enable tracemalloc to get the object allocation traceback\n",
      "\u001b[32m[0621 00:11.30 @segment.py:251]\u001b[0m  \u001b[32mINF\u001b[0m  \u001b[97mExtracting figure table: Fig. 4. Primary outcomes measured in the experimental hut trials in Tengrela and Vallée du Kou 5 (VK5). (A–D) Crude data for the measured outcomes. (A) Entry, number of mosquitoes per night entering a hut. (B) Exit, proportion of mosquitoes collected from the veranda trap. (C) Blood feeding, proportion of mosquitoes found blood-fed. (D) Mortality, proportion of mosquitoes dead at 24 h post-collection. (E–H) These outcomes measured relative to the control (i.e. untreated mosquito net) for both sites combined. (E) Deterrence, the ratio of mosquitoes entering a hut relative to the control hut. (F) Exophily, the odds ratio (OR) for a mosquito being found in the veranda trap. (G) Blood feeding inhibition, the OR for a mosquito being blood-fed. (H) Mortality, the OR for a mosquito being dead in the morning (immediate mortality) or after being caught alive and held for 24 h (delayed mortality). Symbols show the average and whiskers show the limits of the 95% confidence intervals around the average. The dashed line shows the ratio or OR of 1, indicating no association of the outcome with the treatment. The data used to produce the plot together with the P-values are provided in Table S3. [Colour figure can be viewed at wileyonlinelibrary.com].\u001b[0m\n",
      "/Users/jonnytr/micromamba/lib/python3.10/site-packages/llama_index/core/readers/file/base.py:535: ResourceWarning: unclosed file <_io.BufferedReader name='/Users/jonnytr/Projects/ITN-recal-data-extraction/data/preprocessing/unstructured/toe2018do/figures/figure-8-10.jpg'>\n",
      "  docs = reader.load_data(input_file, **kwargs)\n",
      "ResourceWarning: Enable tracemalloc to get the object allocation traceback\n",
      "\u001b[32m[0621 00:11.36 @segment.py:251]\u001b[0m  \u001b[32mINF\u001b[0m  \u001b[97mExtracting figure table: Fig. 5. Outcome measures comparing piperonyl butoxide (PBO)-treated and non-PBO-treated nets from the same manufacturers. Deterrence, the ratio of mosquitoes entering a hut relative to the control hut. Exophily, the odds ratio (OR) for a mosquito being found in the veranda trap. Blood feeding inhibition, the OR for a mosquito being blood-fed. Mortality, the OR for a mosquito being dead in the morning (immediate mortality) or after being caught alive and held for 24 h (delayed mortality). [Colour figure can be viewed at wileyonlinelibrary.com].\u001b[0m\n",
      "/Users/jonnytr/micromamba/lib/python3.10/site-packages/llama_index/core/readers/file/base.py:535: ResourceWarning: unclosed file <_io.BufferedReader name='/Users/jonnytr/Projects/ITN-recal-data-extraction/data/preprocessing/pdffigure2/toe2018do/Toe_et_al_2018_Medical_and_Veterinary_Entomology-Figure5-1.png'>\n",
      "  docs = reader.load_data(input_file, **kwargs)\n",
      "ResourceWarning: Enable tracemalloc to get the object allocation traceback\n",
      "\u001b[32m[0621 00:11.41 @segment.py:251]\u001b[0m  \u001b[32mINF\u001b[0m  \u001b[97mExtracting figure table: Fig. 5. Outcome measures comparing piperonyl butoxide (PBO)-treated and non-PBO-treated nets from the same manufacturers. Deterrence, the ratio of mosquitoes entering a hut relative to the control hut. Exophily, the odds ratio (OR) for a mosquito being found in the veranda trap. Blood feeding inhibition, the OR for a mosquito being blood-fed. Mortality, the OR for a mosquito being dead in the morning (immediate mortality) or after being caught alive and held for 24 h (delayed mortality). [Colour figure can be viewed at wileyonlinelibrary.com].\u001b[0m\n",
      "/Users/jonnytr/micromamba/lib/python3.10/site-packages/llama_index/core/readers/file/base.py:535: ResourceWarning: unclosed file <_io.BufferedReader name='/Users/jonnytr/Projects/ITN-recal-data-extraction/data/preprocessing/unstructured/nash2021systematic/figures/figure-4-4.jpg'>\n",
      "  docs = reader.load_data(input_file, **kwargs)\n",
      "ResourceWarning: Enable tracemalloc to get the object allocation traceback\n",
      "\u001b[32m[0621 00:11.47 @segment.py:251]\u001b[0m  \u001b[32mINF\u001b[0m  \u001b[97mExtracting figure table: Fig. 1. Maps of EHT sites where ITNs and/or IRS have been investigated. Panels show sites across sub-Saharan Africa (A); Eastern Africa (54 trials), including Ethiopia, Tanzania and Madagascar (B); West (80 trials) and Central Africa (1 trial), including The Gambia, Mali, Ivory Coast, Burkina Faso, Togo, Benin, Nigeria and Cameroon (C). Point size indicates the number of studies at each site, whilst point colour denotes the design of hut used, be it East African (red), Ifakara (green) or West African (blue).\u001b[0m\n"
     ]
    },
    {
     "name": "stdout",
     "output_type": "stream",
     "text": [
      "toe2018do 4 tables 5 figures\n"
     ]
    },
    {
     "name": "stderr",
     "output_type": "stream",
     "text": [
      "/Users/jonnytr/micromamba/lib/python3.10/site-packages/pydantic/main.py:1311: PydanticDeprecatedSince20: The `schema` method is deprecated; use `model_json_schema` instead. Deprecated in Pydantic V2.0 to be removed in V3.0. See Pydantic V2 Migration Guide at https://errors.pydantic.dev/2.7/migration/\n",
      "  warnings.warn(\n",
      "/Users/jonnytr/micromamba/lib/python3.10/site-packages/pydantic/main.py:1135: PydanticDeprecatedSince20: The `parse_raw` method is deprecated; if your data is JSON use `model_validate_json`, otherwise load the data then use `model_validate` instead. Deprecated in Pydantic V2.0 to be removed in V3.0. See Pydantic V2 Migration Guide at https://errors.pydantic.dev/2.7/migration/\n",
      "  warnings.warn(\n",
      "/Users/jonnytr/micromamba/lib/python3.10/site-packages/pydantic/main.py:1143: PydanticDeprecatedSince20: `load_str_bytes` is deprecated. Deprecated in Pydantic V2.0 to be removed in V3.0. See Pydantic V2 Migration Guide at https://errors.pydantic.dev/2.7/migration/\n",
      "  obj = parse.load_str_bytes(\n",
      "/Users/jonnytr/micromamba/lib/python3.10/site-packages/llama_index/core/readers/file/base.py:535: ResourceWarning: unclosed file <_io.BufferedReader name='/Users/jonnytr/Projects/ITN-recal-data-extraction/data/preprocessing/unstructured/nash2021systematic/figures/figure-6-5.jpg'>\n",
      "  docs = reader.load_data(input_file, **kwargs)\n",
      "ResourceWarning: Enable tracemalloc to get the object allocation traceback\n",
      "\u001b[32m[0621 00:11.52 @segment.py:251]\u001b[0m  \u001b[32mINF\u001b[0m  \u001b[97mExtracting figure table: Fig. 2. Characteristics of EHT data. A The number of EHTs investigating IRS or ITNs that collected data on each hut design and mosquito species (as reported in the study). Bar colours indicate the design of the hut used in the trial as shown in the legend, be it East African (red), West African (blue) or Ifakara (green). B Summary of the reported mortality observed in hut trials evaluating unwashed pyrethroid-only ITNs and how these change over time. Points are coloured according to the hut design (see A). C Histograms showing the average number of mosquitoes collected per night in the control huts of EHTs. The dotted line represents the mean number collected in trials of each hut design. Note: Some trials collected multiple mosquito species, therefore single trials may be counted more than once in this ﬁgure.\u001b[0m\n",
      "/Users/jonnytr/micromamba/lib/python3.10/site-packages/llama_index/core/readers/file/base.py:535: ResourceWarning: unclosed file <_io.BufferedReader name='/Users/jonnytr/Projects/ITN-recal-data-extraction/data/preprocessing/pdffigure2/nash2021systematic/1_s20_S2667114X21000418_main-Figure2-1.png'>\n",
      "  docs = reader.load_data(input_file, **kwargs)\n",
      "ResourceWarning: Enable tracemalloc to get the object allocation traceback\n",
      "\u001b[32m[0621 00:12.01 @segment.py:251]\u001b[0m  \u001b[32mINF\u001b[0m  \u001b[97mExtracting figure table: Fig. 2. Characteristics of EHT data. A The number of EHTs investigating IRS or ITNs that collected data on each hut design and mosquito species (as reported in the study). Bar colours indicate the design of the hut used in the trial as shown in the legend, be it East African (red), West African (blue) or Ifakara (green). B Summary of the reported mortality observed in hut trials evaluating unwashed pyrethroid-only ITNs and how these change over time. Points are coloured according to the hut design (see A). C Histograms showing the average number of mosquitoes collected per night in the control huts of EHTs. The dotted line represents the mean number collected in trials of each hut design. Note: Some trials collected multiple mosquito species, therefore single trials may be counted more than once in this figure.\u001b[0m\n",
      "/Users/jonnytr/micromamba/lib/python3.10/site-packages/llama_index/core/readers/file/base.py:535: ResourceWarning: unclosed file <_io.BufferedReader name='/Users/jonnytr/Projects/ITN-recal-data-extraction/data/preprocessing/unstructured/nash2021systematic/figures/figure-7-6.jpg'>\n",
      "  docs = reader.load_data(input_file, **kwargs)\n",
      "ResourceWarning: Enable tracemalloc to get the object allocation traceback\n",
      "\u001b[32m[0621 00:12.07 @segment.py:251]\u001b[0m  \u001b[32mINF\u001b[0m  \u001b[97mExtracting figure table: Fig. 3. Entomological outcomes as predicted by bioassay survival. A Comparison of the level of pyrethroid resistance as measured using a discriminating dose bioassay and the percentage of mosquitoes which enter a hut with a pyrethroid-only ITN and survive 24 h after being collected. Solid lines show the ﬁtted relationship using either the logistic (green) or log-logistic (yellow) models. Vertical and horizontal lines show 95% conﬁdence interval estimates for each data point. B-C The rela- tionship between EHT survival (24 h post-collection, unless the ITN incorporated the insecticide chlorfenapyr, in which case 72-h survival was used) and the probability of being caught inside a control hut relative to a hut with any type of ITN (where anywhere above the grey dashed-line indicates more mosquitoes were caught in the control hut) (B), mosquitoes successfully feeding and surviving (C), or exiting the hut without feeding (D). The point size in B-D is proportional to the total number of mosquitoes collected in the trial and coloured according to hut design: East (red) or West (blue). Solid lines in A-D show the best-ﬁt relationship whilst the lighter shaded area indicates 95% credible intervals for the best-ﬁt curves. E-F The models from A-D were combined to summarise how the average probability that blood-feeding mosquitoes will be killed, exit without feeding, deterred from entering or successfully blood-feed, varies with bioassay survival. The relationship be- tween bioassay and EHT survival is highly uncertain, so both the logistic model (E) and the log-logistic model (F) are presented.\u001b[0m\n",
      "/Users/jonnytr/micromamba/lib/python3.10/site-packages/llama_index/core/readers/file/base.py:535: ResourceWarning: unclosed file <_io.BufferedReader name='/Users/jonnytr/Projects/ITN-recal-data-extraction/data/preprocessing/pdffigure2/nash2021systematic/1_s20_S2667114X21000418_main-Figure3-1.png'>\n",
      "  docs = reader.load_data(input_file, **kwargs)\n",
      "ResourceWarning: Enable tracemalloc to get the object allocation traceback\n",
      "\u001b[32m[0621 00:12.17 @segment.py:251]\u001b[0m  \u001b[32mINF\u001b[0m  \u001b[97mExtracting figure table: Fig. 3. Entomological outcomes as predicted by bioassay survival. A Comparison of the level of pyrethroid resistance as measured using a discriminating dose bioassay and the percentage of mosquitoes which enter a hut with a pyrethroid-only ITN and survive 24 h after being collected. Solid lines show the fitted relationship using either the logistic (green) or log-logistic (yellow) models. Vertical and horizontal lines show 95% confidence interval estimates for each data point. B-C The relationship between EHT survival (24 h post-collection, unless the ITN incorporated the insecticide chlorfenapyr, in which case 72-h survival was used) and the probability of being caught inside a control hut relative to a hut with any type of ITN (where anywhere above the grey dashed-line indicates more mosquitoes were caught in the control hut) (B), mosquitoes successfully feeding and surviving (C), or exiting the hut without feeding (D). The point size in B-D is proportional to the total number of mosquitoes collected in the trial and coloured according to hut design: East (red) or West (blue). Solid lines in A-D show the best-fit relationship whilst the lighter shaded area indicates 95% credible intervals for the best-fit curves. E-F The models from A-D were combined to summarise how the average probability that blood-feeding mosquitoes will be killed, exit without feeding, deterred from entering or successfully blood-feed, varies with bioassay survival. The relationship between bioassay and EHT survival is highly uncertain, so both the logistic model (E) and the log-logistic model (F) are presented.\u001b[0m\n",
      "/Users/jonnytr/micromamba/lib/python3.10/site-packages/llama_index/core/readers/file/base.py:535: ResourceWarning: unclosed file <_io.BufferedReader name='/Users/jonnytr/Projects/ITN-recal-data-extraction/data/preprocessing/unstructured/nash2021systematic/figures/figure-8-7.jpg'>\n",
      "  docs = reader.load_data(input_file, **kwargs)\n",
      "ResourceWarning: Enable tracemalloc to get the object allocation traceback\n",
      "\u001b[32m[0621 00:12.31 @segment.py:251]\u001b[0m  \u001b[32mINF\u001b[0m  \u001b[97mExtracting figure table: Fig. 4. Entomological outcomes as predicted by bioassay survival according to East and West African hut designs. A Comparison of the level of pyrethroid resistance as measured using a discriminating dose bioassay and the percentage of mosquitoes which enter a hut and survive 24 h. Solid lines show the ﬁtted relationship for the East (red) and West (blue) African hut design assuming the log-logistic function. Comparable plots showing the logistic function are provided in Supplementary ﬁle 1: Fig. S7A. B-C The relationship between EHT survival (24 h post-collection, unless the ITN incorporated the insecticide chlorfenapyr, in which case 72-h survival was used) and the probability of being caught inside a control hut relative to a hut with any type of ITN (where anywhere above the grey dashed-line indicates more mosquitoes were caught in the control hut) (B), mosquitoes successfully feeding and surviving (C), or exiting the hut without feeding (D). The point size in B-D is proportional to the total number of mosquitoes collected in the trial and coloured according to hut design. Solid lines in A-D show the best-ﬁt relationship whilst the lighter shaded area indicates 95% credible intervals for the best-ﬁt curves. E-F The models from A-D were combined to summarise how the average probability that blood-feeding mosquitoes will be killed, exit without feeding, deterred from entering or successfully blood-feed, varies with bioassay survival for either East (E) or West (F) African hut design. Both (E-F) show the log-logistic model, see Supplementary ﬁle 1: Figs. S7B–C for models using the logistic function.\u001b[0m\n",
      "/Users/jonnytr/micromamba/lib/python3.10/site-packages/llama_index/core/readers/file/base.py:535: ResourceWarning: unclosed file <_io.BufferedReader name='/Users/jonnytr/Projects/ITN-recal-data-extraction/data/preprocessing/pdffigure2/nash2021systematic/1_s20_S2667114X21000418_main-Figure4-1.png'>\n",
      "  docs = reader.load_data(input_file, **kwargs)\n",
      "ResourceWarning: Enable tracemalloc to get the object allocation traceback\n",
      "\u001b[32m[0621 00:12.41 @segment.py:251]\u001b[0m  \u001b[32mINF\u001b[0m  \u001b[97mExtracting figure table: Fig. 4. Entomological outcomes as predicted by bioassay survival according to East and West African hut designs. A Comparison of the level of pyrethroid resistance as measured using a discriminating dose bioassay and the percentage of mosquitoes which enter a hut and survive 24 h. Solid lines show the fitted relationship for the East (red) and West (blue) African hut design assuming the log-logistic function. Comparable plots showing the logistic function are provided in Supplementary file 1: Fig. S7A. B-C The relationship between EHT survival (24 h post-collection, unless the ITN incorporated the insecticide chlorfenapyr, in which case 72-h survival was used) and the probability of being caught inside a control hut relative to a hut with any type of ITN (where anywhere above the grey dashed-line indicates more mosquitoes were caught in the control hut) (B), mosquitoes successfully feeding and surviving (C), or exiting the hut without feeding (D). The point size in B-D is proportional to the total number of mosquitoes collected in the trial and coloured according to hut design. Solid lines in A-D show the best-fit relationship whilst the lighter shaded area indicates 95% credible intervals for the best-fit curves. E-F The models from A-D were combined to summarise how the average probability that blood-feeding mosquitoes will be killed, exit without feeding, deterred from entering or successfully blood-feed, varies with bioassay survival for either East (E) or West (F) African hut design. Both (E-F) show the log-logistic model, see Supplementary file 1: Figs. S7B–C for models using the logistic function.\u001b[0m\n"
     ]
    },
    {
     "name": "stdout",
     "output_type": "stream",
     "text": [
      "nash2021systematic 6 tables 4 figures\n"
     ]
    },
    {
     "name": "stderr",
     "output_type": "stream",
     "text": [
      "/Users/jonnytr/micromamba/lib/python3.10/site-packages/llama_index/core/readers/file/base.py:535: ResourceWarning: unclosed file <_io.BufferedReader name='/Users/jonnytr/Projects/ITN-recal-data-extraction/data/preprocessing/unstructured/menze2022experimental/figures/figure-4-5.jpg'>\n",
      "  docs = reader.load_data(input_file, **kwargs)\n",
      "ResourceWarning: Enable tracemalloc to get the object allocation traceback\n",
      "\u001b[32m[0621 00:12.53 @segment.py:251]\u001b[0m  \u001b[32mINF\u001b[0m  \u001b[97mExtracting figure table: Figure 2. Association between the CYP6P9a/b and the ability to survive exposure to Olyset nets after WHO tubes cone assays. (A) Tube assay CYP6P9a and mortality. Role of CYP6P9a in pyrethroid resistance with samples from the WHO tube. Distribution of the CYP6P9a genotypes according to resistance phenotypes. (B) Tube assay CYP6P9b and mortality. Role of CYP6P9b in pyrethroid resistance with samples from the WHO tube. Distribution of the CYP6P9b genotypes according to resistance phenotypes. (C) Cone assay CYP6P9a and mortality. Genotype distribution of CYP6P9a between alive and dead mosquitoes after exposure to Olyset with the cone test, showing the signiﬁcant ability of mosquitoes carrying the RR genotype in order to survive compared to SS (RR vs. SS: p < 0.001). (D) Cone assay CYP6P9a and mortality allele. Allelic frequency of CYP6P9a between alive and dead mosquitoes after exposure to Olyset with the cone test, showing the signiﬁcant ability of the CYP6P9a_R_-resistant mosquitoes to survive compared to their susceptible counterparts CYP6P9a_S. (E) Cone assay CYP6P9b and mortality. Genotype distribution of CYP6P9b between alive and dead mosquitoes after exposure to Olyset using the cone test, showing strong association (RR vs. SS: p < 0.001).\u001b[0m\n"
     ]
    },
    {
     "name": "stdout",
     "output_type": "stream",
     "text": [
      "accrombessi2023efficacy 8 tables 0 figures\n",
      "syme2022pyrethroid 8 tables 0 figures\n"
     ]
    },
    {
     "name": "stderr",
     "output_type": "stream",
     "text": [
      "/Users/jonnytr/micromamba/lib/python3.10/site-packages/pydantic/main.py:1311: PydanticDeprecatedSince20: The `schema` method is deprecated; use `model_json_schema` instead. Deprecated in Pydantic V2.0 to be removed in V3.0. See Pydantic V2 Migration Guide at https://errors.pydantic.dev/2.7/migration/\n",
      "  warnings.warn(\n",
      "/Users/jonnytr/micromamba/lib/python3.10/site-packages/pydantic/main.py:1135: PydanticDeprecatedSince20: The `parse_raw` method is deprecated; if your data is JSON use `model_validate_json`, otherwise load the data then use `model_validate` instead. Deprecated in Pydantic V2.0 to be removed in V3.0. See Pydantic V2 Migration Guide at https://errors.pydantic.dev/2.7/migration/\n",
      "  warnings.warn(\n",
      "/Users/jonnytr/micromamba/lib/python3.10/site-packages/pydantic/main.py:1143: PydanticDeprecatedSince20: `load_str_bytes` is deprecated. Deprecated in Pydantic V2.0 to be removed in V3.0. See Pydantic V2 Migration Guide at https://errors.pydantic.dev/2.7/migration/\n",
      "  obj = parse.load_str_bytes(\n",
      "/Users/jonnytr/micromamba/lib/python3.10/site-packages/llama_index/core/readers/file/base.py:535: ResourceWarning: unclosed file <_io.BufferedReader name='/Users/jonnytr/Projects/ITN-recal-data-extraction/data/preprocessing/pdffigure2/menze2022experimental/pathogens_11_00638_v2-Figure2-1.png'>\n",
      "  docs = reader.load_data(input_file, **kwargs)\n",
      "ResourceWarning: Enable tracemalloc to get the object allocation traceback\n",
      "\u001b[32m[0621 00:13.04 @segment.py:251]\u001b[0m  \u001b[32mINF\u001b[0m  \u001b[97mExtracting figure table: Figure 2. Association between the CYP6P9a/b and the ability to survive exposure to Olyset nets after WHO tubes cone assays. (A) Tube assay CYP6P9a and mortality. Role of CYP6P9a in pyrethroid resistance with samples from the WHO tube. Distribution of the CYP6P9a genotypes according to resistance phenotypes. (B) Tube assay CYP6P9b and mortality. Role of CYP6P9b in pyrethroid resistance with samples from the WHO tube. Distribution of the CYP6P9b genotypes according to resistance phenotypes. (C) Cone assay CYP6P9a and mortality. Genotype distribution of CYP6P9a between alive and dead mosquitoes after exposure to Olyset with the cone test, showing the significant ability of mosquitoes carrying the RR genotype in order to survive compared to SS (RR vs. SS: p < 0.001). (D) Cone assay CYP6P9a and mortality allele. Allelic frequency of CYP6P9a between alive and dead mosquitoes after exposure to Olyset with the cone test, showing the significant ability of the CYP6P9a_R_-resistant mosquitoes to survive compared to their susceptible counterparts CYP6P9a_S. (E) Cone assay CYP6P9b and mortality. Genotype distribution of CYP6P9b between\u001b[0m\n",
      "/Users/jonnytr/micromamba/lib/python3.10/site-packages/llama_index/core/readers/file/base.py:535: ResourceWarning: unclosed file <_io.BufferedReader name='/Users/jonnytr/Projects/ITN-recal-data-extraction/data/preprocessing/unstructured/menze2022experimental/figures/figure-5-6.jpg'>\n",
      "  docs = reader.load_data(input_file, **kwargs)\n",
      "ResourceWarning: Enable tracemalloc to get the object allocation traceback\n",
      "\u001b[32m[0621 00:13.09 @segment.py:251]\u001b[0m  \u001b[32mINF\u001b[0m  \u001b[97mExtracting figure table: Figure 3. Association between the CYP6P9a/b and the ability to survive exposure to Olyset Plus nets after cone assays. (A) Genotype distribution of CYP6P9a between alive and dead mosquitoes after exposure to Olyset Plus with the cone test, showing the signiﬁcant ability of the mosquitoes to carry the RR genotype to survive compared to SS (p < 0.001). (B) Allelic frequency of CYP6P9a between alive and dead mosquitoes after exposure to Olyset Plus with the cone test, showing the signiﬁcant ability of the CYP6P9a_R_-resistant mosquitoes to survive compared to their susceptible counterparts CYP6P9a_S. (C) Genotype distribution of CYP6P9b between alive and dead mosquitoes after exposure to Olyset Plus using the cone test, showing the signiﬁcant ability of the mosquitoes carrying the RR genotype to survive compared to SS (p < 0.001).\u001b[0m\n",
      "/Users/jonnytr/micromamba/lib/python3.10/site-packages/llama_index/core/readers/file/base.py:535: ResourceWarning: unclosed file <_io.BufferedReader name='/Users/jonnytr/Projects/ITN-recal-data-extraction/data/preprocessing/pdffigure2/menze2022experimental/pathogens_11_00638_v2-Figure3-1.png'>\n",
      "  docs = reader.load_data(input_file, **kwargs)\n",
      "ResourceWarning: Enable tracemalloc to get the object allocation traceback\n",
      "\u001b[32m[0621 00:13.13 @segment.py:251]\u001b[0m  \u001b[32mINF\u001b[0m  \u001b[97mExtracting figure table: Figure 3. Association between the CYP6P9a/b and the ability to survive exposure to Olyset Plus nets after cone assays. (A) Genotype distribution of CYP6P9a between alive and dead mosquitoes after exposure to Olyset Plus with the cone test, showing the significant ability of the mosquitoes to carry the RR genotype to survive compared to SS (p < 0.001). (B) Allelic frequency of CYP6P9a between alive and dead mosquitoes after exposure to Olyset Plus with the cone test, showing the significant ability of the CYP6P9a_R_-resistant mosquitoes to survive compared to their susceptible counterparts CYP6P9a_S. (C) Genotype distribution of CYP6P9b between alive and dead mosquitoes after\u001b[0m\n",
      "/Users/jonnytr/micromamba/lib/python3.10/site-packages/llama_index/core/readers/file/base.py:535: ResourceWarning: unclosed file <_io.BufferedReader name='/Users/jonnytr/Projects/ITN-recal-data-extraction/data/preprocessing/pdffigure2/menze2022experimental/pathogens_11_00638_v2-Figure4-1.png'>\n",
      "  docs = reader.load_data(input_file, **kwargs)\n",
      "ResourceWarning: Enable tracemalloc to get the object allocation traceback\n",
      "\u001b[32m[0621 00:13.23 @segment.py:251]\u001b[0m  \u001b[32mINF\u001b[0m  \u001b[97mExtracting figure table: Figure 4. Association between 6.5 kb SV and the ability to survive against exposure to Olyset and Olyset Plus nets using cone assays. (A) Distribution of 6.5 kb SV genotypes between dead and alive mosquitoes after exposure to Olyset, showing that 6.5 kb SV_R allows mosquitoes to survive significantly better against exposure to this net. (B) Allelic frequency of 6.5 kb SV between alive and dead mosquitoes after exposure to Olyset with the cone test, showing the significant ability of the 6.5 kb SV _R_-resistant mosquitoes to survive compared to their susceptible counterparts 6.5 kb SV _S. (C) Distribution of 6.5 kb SV genotypes between dead and alive mosquitoes after exposure to the Olyset Plus net. (D) Allelic frequency of 6.5 kb SV between alive and dead mosquitoes after exposure to Olyset Plus with the cone test, showing the significant ability of the 6.5 kb SV _R_-resistant mosquitoes to survive compared to their susceptible counterparts 6.5 kb SV _S.\u001b[0m\n",
      "/Users/jonnytr/micromamba/lib/python3.10/site-packages/llama_index/core/readers/file/base.py:535: ResourceWarning: unclosed file <_io.BufferedReader name='/Users/jonnytr/Projects/ITN-recal-data-extraction/data/preprocessing/unstructured/menze2022experimental/figures/figure-7-8.jpg'>\n",
      "  docs = reader.load_data(input_file, **kwargs)\n",
      "ResourceWarning: Enable tracemalloc to get the object allocation traceback\n",
      "\u001b[32m[0621 00:13.30 @segment.py:251]\u001b[0m  \u001b[32mINF\u001b[0m  \u001b[97mExtracting figure table: Figure 5. Impact of both CYP6P9a and CYP6P9b on the efﬁcacy of bed nets in the experimental hut trial. (A) Genotype distribution of CYP6P9a between alive and dead mosquitoes after exposure to Olyset, showing strong association (RR vs. SS: p < 0.001). (B) Allelic frequency of CYP6P9a between alive and dead mosquitoes after exposure to Olyset with experimental hut trial, showing the signiﬁcant ability of the CYP6P9a_R_-resistant mosquitoes to survive compared to their susceptible counterparts CYP6P9a_S. (C) Association between CYP6P9a and ability to blood-feed when exposed to Olyset. The CYP6P9a-R allele increases the strength of resistant mosquitoes by taking a blood meal in contrast to the susceptible ones when exposed to Olyset net. (D) Association between CYP6P9b and ability to survive exposure to Olyset in the experimental hut trial. (E) Allelic frequency of CYP6P9b between alive and dead mosquitoes after exposure to Olyset with the experimental hut trial, showing the signiﬁcant ability of the CYP6P9b_R_-resistant mosquitoes to survive compared to their susceptible counterparts CYP6P9b_S. (F) Association between duplicated CYP6P9b gene and ability to blood-feed when exposed to Olyset in the experimental hut trial. The CYP6P9b-R allele increases the strength of resistant mosquitoes by taking a blood meal in contrast to the susceptible ones when exposed to Olyset.\u001b[0m\n",
      "/Users/jonnytr/micromamba/lib/python3.10/site-packages/llama_index/core/readers/file/base.py:535: ResourceWarning: unclosed file <_io.BufferedReader name='/Users/jonnytr/Projects/ITN-recal-data-extraction/data/preprocessing/pdffigure2/menze2022experimental/pathogens_11_00638_v2-Figure5-1.png'>\n",
      "  docs = reader.load_data(input_file, **kwargs)\n",
      "ResourceWarning: Enable tracemalloc to get the object allocation traceback\n",
      "\u001b[32m[0621 00:13.36 @segment.py:251]\u001b[0m  \u001b[32mINF\u001b[0m  \u001b[97mExtracting figure table: Figure 5. Impact of both CYP6P9a and CYP6P9b on the efficacy of bed nets in the experimental hut trial. (A) Genotype distribution of CYP6P9a between alive and dead mosquitoes after exposure to Olyset, showing strong association (RR vs. SS: p < 0.001). (B) Allelic frequency of CYP6P9a between alive and dead mosquitoes after exposure to Olyset with experimental hut trial, showing the significant ability of the CYP6P9a_R_-resistant mosquitoes to survive compared to their susceptible counterparts CYP6P9a_S. (C) Association between CYP6P9a and ability to blood-feed when exposed to Olyset. The CYP6P9a-R allele increases the strength of resistant mosquitoes by taking a blood meal in contrast to the susceptible ones when exposed to Olyset net. (D) Association between CYP6P9b and ability to survive exposure to Olyset in the experimental hut trial. (E) Allelic frequency of CYP6P9b between alive and dead mosquitoes after exposure to Olyset with the experimental hut trial, showing the significant ability of the CYP6P9b_R_-resistant mosquitoes to survive compared to their susceptible counterparts CYP6P9b_S. (F) Association between duplicated CYP6P9b gene and ability to blood-feed when exposed to Olyset in the experimental hut trial. The CYP6P9b-R allele increases the strength of resistant mosquitoes by taking a blood meal in contrast to the susceptible ones when exposed to Olyset.\u001b[0m\n",
      "/Users/jonnytr/micromamba/lib/python3.10/site-packages/llama_index/core/readers/file/base.py:535: ResourceWarning: unclosed file <_io.BufferedReader name='/Users/jonnytr/Projects/ITN-recal-data-extraction/data/preprocessing/unstructured/menze2022experimental/figures/figure-9-9.jpg'>\n",
      "  docs = reader.load_data(input_file, **kwargs)\n",
      "ResourceWarning: Enable tracemalloc to get the object allocation traceback\n",
      "\u001b[32m[0621 00:13.44 @segment.py:251]\u001b[0m  \u001b[32mINF\u001b[0m  \u001b[97mExtracting figure table: Figure 6. Impact of the 6.5 kb SV-based metabolic resistance on bed nets’ efficacy in experimental hut trials. (A) Distribution of 6.5 kb SV genotypes between dead and alive mosquitoes after expo- sure to Olyset net, showing that 6.5 kb SV _R allows mosquitoes to survive significant better after exposure to this insecticide-treated net. (B) Allelic frequency of 6.5 kb SV between alive and dead mosquitoes after exposure to Olyset with experimental hut trial, showing the significant ability of the 6.5 kb SV _R_-resistant mosquitoes to survive compared to their susceptible counterparts 6.5 kb SV _S. (C) Distribution of 6.5 kb SV genotypes between the blood fed (BF) and unfed (UF) mosquitoes after exposure to Olyset (OL), showing that 6.5 kb SV_R significantly allows mosquitoes to blood-feed in the presence of this insecticide-treated net. (D) Allelic frequency of 6.5 kb SV between alive and dead mosquitoes after exposure to Olyset with the experimental hut trial, showing the ability of the 6.5 kb SV _R_-resistant mosquitoes to blood-feed significantly better compared to their susceptible counterparts\u001b[0m\n",
      "/Users/jonnytr/micromamba/lib/python3.10/site-packages/llama_index/core/readers/file/base.py:535: ResourceWarning: unclosed file <_io.BufferedReader name='/Users/jonnytr/Projects/ITN-recal-data-extraction/data/preprocessing/pdffigure2/menze2022experimental/pathogens_11_00638_v2-Figure6-1.png'>\n",
      "  docs = reader.load_data(input_file, **kwargs)\n",
      "ResourceWarning: Enable tracemalloc to get the object allocation traceback\n",
      "\u001b[32m[0621 00:13.50 @segment.py:251]\u001b[0m  \u001b[32mINF\u001b[0m  \u001b[97mExtracting figure table: Figure 6. Impact of the 6.5 kb SV-based metabolic resistance on bed nets’ efficacy in experimental hut trials. (A) Distribution of 6.5 kb SV genotypes between dead and alive mosquitoes after exposure to Olyset net, showing that 6.5 kb SV _R allows mosquitoes to survive significant better after exposure to this insecticide-treated net. (B) Allelic frequency of 6.5 kb SV between alive and dead mosquitoes after exposure to Olyset with experimental hut trial, showing the significant ability of the 6.5 kb SV _R_-resistant mosquitoes to survive compared to their susceptible counterparts 6.5 kb SV _S. (C) Distribution of 6.5 kb SV genotypes between the blood fed (BF) and unfed (UF) mosquitoes after exposure to Olyset (OL), showing that 6.5 kb SV_R significantly allows mosquitoes to bloodfeed in the presence of this insecticide-treated net. (D) Allelic frequency of 6.5 kb SV between alive and dead mosquitoes after exposure to Olyset with the experimental hut trial, showing the ability of the 6.5 kb SV _R_-resistant mosquitoes to blood-feed significantly better compared to their susceptible counterparts 6.5 kb SV _S. (E) Distribution of 6.5 kb SV genotypes between blood-fed (BF) and unfed (UF) mosquitoes after exposure to Olyset Plus, showing that 6.5 kb SV_R significantly allows mosquitoes to blood-feed in the presence of this insecticide-treated net. (F) Allelic frequency\u001b[0m\n",
      "/Users/jonnytr/micromamba/lib/python3.10/site-packages/llama_index/core/readers/file/base.py:535: ResourceWarning: unclosed file <_io.BufferedReader name='/Users/jonnytr/Projects/ITN-recal-data-extraction/data/preprocessing/unstructured/gebremariam2021evaluation/figures/figure-3-3.jpg'>\n",
      "  docs = reader.load_data(input_file, **kwargs)\n",
      "ResourceWarning: Enable tracemalloc to get the object allocation traceback\n",
      "\u001b[32m[0621 00:14.00 @segment.py:251]\u001b[0m  \u001b[32mINF\u001b[0m  \u001b[97mExtracting figure table: Figure 1. Experimental hut design of the study.\u001b[0m\n"
     ]
    },
    {
     "name": "stdout",
     "output_type": "stream",
     "text": [
      "menze2022experimental 1 tables 5 figures\n"
     ]
    },
    {
     "name": "stderr",
     "output_type": "stream",
     "text": [
      "/Users/jonnytr/micromamba/lib/python3.10/site-packages/pydantic/main.py:1311: PydanticDeprecatedSince20: The `schema` method is deprecated; use `model_json_schema` instead. Deprecated in Pydantic V2.0 to be removed in V3.0. See Pydantic V2 Migration Guide at https://errors.pydantic.dev/2.7/migration/\n",
      "  warnings.warn(\n",
      "/Users/jonnytr/micromamba/lib/python3.10/site-packages/pydantic/main.py:1135: PydanticDeprecatedSince20: The `parse_raw` method is deprecated; if your data is JSON use `model_validate_json`, otherwise load the data then use `model_validate` instead. Deprecated in Pydantic V2.0 to be removed in V3.0. See Pydantic V2 Migration Guide at https://errors.pydantic.dev/2.7/migration/\n",
      "  warnings.warn(\n",
      "/Users/jonnytr/micromamba/lib/python3.10/site-packages/pydantic/main.py:1143: PydanticDeprecatedSince20: `load_str_bytes` is deprecated. Deprecated in Pydantic V2.0 to be removed in V3.0. See Pydantic V2 Migration Guide at https://errors.pydantic.dev/2.7/migration/\n",
      "  obj = parse.load_str_bytes(\n",
      "/Users/jonnytr/micromamba/lib/python3.10/site-packages/llama_index/core/readers/file/base.py:535: ResourceWarning: unclosed file <_io.BufferedReader name='/Users/jonnytr/Projects/ITN-recal-data-extraction/data/preprocessing/pdffigure2/gebremariam2021evaluation/gebremariam_et_al_2021_evaluation_of_long_lasting_insecticidal_nets_duranetr_under_laboratory_and_semi_field-Figure1-1.png'>\n",
      "  docs = reader.load_data(input_file, **kwargs)\n",
      "ResourceWarning: Enable tracemalloc to get the object allocation traceback\n",
      "\u001b[32m[0621 00:14.03 @segment.py:251]\u001b[0m  \u001b[32mINF\u001b[0m  \u001b[97mExtracting figure table: Figure 1. Experimental hut design of the study.\u001b[0m\n",
      "/Users/jonnytr/micromamba/lib/python3.10/site-packages/llama_index/core/readers/file/base.py:535: ResourceWarning: unclosed file <_io.BufferedReader name='/Users/jonnytr/Projects/ITN-recal-data-extraction/data/preprocessing/unstructured/gebremariam2021evaluation/figures/figure-4-4.jpg'>\n",
      "  docs = reader.load_data(input_file, **kwargs)\n",
      "ResourceWarning: Enable tracemalloc to get the object allocation traceback\n",
      "\u001b[32m[0621 00:14.06 @segment.py:251]\u001b[0m  \u001b[32mINF\u001b[0m  \u001b[97mExtracting figure table: Figure 2. Mean percent knockdown and mortality of An. arabiensis exposed in 3 minutes cone bioassay to DuraNet®, Jimma, and southwestern Ethiopia.\u001b[0m\n",
      "/Users/jonnytr/micromamba/lib/python3.10/site-packages/llama_index/core/readers/file/base.py:535: ResourceWarning: unclosed file <_io.BufferedReader name='/Users/jonnytr/Projects/ITN-recal-data-extraction/data/preprocessing/pdffigure2/gebremariam2021evaluation/gebremariam_et_al_2021_evaluation_of_long_lasting_insecticidal_nets_duranetr_under_laboratory_and_semi_field-Figure2-1.png'>\n",
      "  docs = reader.load_data(input_file, **kwargs)\n",
      "ResourceWarning: Enable tracemalloc to get the object allocation traceback\n",
      "\u001b[32m[0621 00:14.17 @segment.py:251]\u001b[0m  \u001b[32mINF\u001b[0m  \u001b[97mExtracting figure table: Figure 2. Mean percent knockdown and mortality of An. arabiensis exposed in 3 minutes cone bioassay to DuraNet®, Jimma, and\u001b[0m\n"
     ]
    },
    {
     "name": "stdout",
     "output_type": "stream",
     "text": [
      "gebremariam2021evaluation 3 tables 2 figures\n"
     ]
    },
    {
     "name": "stderr",
     "output_type": "stream",
     "text": [
      "/Users/jonnytr/micromamba/lib/python3.10/site-packages/llama_index/core/readers/file/base.py:535: ResourceWarning: unclosed file <_io.BufferedReader name='/Users/jonnytr/Projects/ITN-recal-data-extraction/data/preprocessing/unstructured/briet2020physical/figures/figure-5-7.jpg'>\n",
      "  docs = reader.load_data(input_file, **kwargs)\n",
      "ResourceWarning: Enable tracemalloc to get the object allocation traceback\n",
      "\u001b[32m[0621 00:14.22 @segment.py:251]\u001b[0m  \u001b[32mINF\u001b[0m  \u001b[97mExtracting figure table: Fig. 1 Causal diagram for factors determining the effects of LLINs on malaria transmission. Solid lines indicate the main causal relationships between the measured quantities; dashed lines indicate which factors impact malaria transmission (via relationships estimated from experimental hut data and captured in the mathematical model)\u001b[0m\n",
      "/Users/jonnytr/micromamba/lib/python3.10/site-packages/pydantic/main.py:1311: PydanticDeprecatedSince20: The `schema` method is deprecated; use `model_json_schema` instead. Deprecated in Pydantic V2.0 to be removed in V3.0. See Pydantic V2 Migration Guide at https://errors.pydantic.dev/2.7/migration/\n",
      "  warnings.warn(\n",
      "/Users/jonnytr/micromamba/lib/python3.10/site-packages/pydantic/main.py:1135: PydanticDeprecatedSince20: The `parse_raw` method is deprecated; if your data is JSON use `model_validate_json`, otherwise load the data then use `model_validate` instead. Deprecated in Pydantic V2.0 to be removed in V3.0. See Pydantic V2 Migration Guide at https://errors.pydantic.dev/2.7/migration/\n",
      "  warnings.warn(\n",
      "/Users/jonnytr/micromamba/lib/python3.10/site-packages/pydantic/main.py:1143: PydanticDeprecatedSince20: `load_str_bytes` is deprecated. Deprecated in Pydantic V2.0 to be removed in V3.0. See Pydantic V2 Migration Guide at https://errors.pydantic.dev/2.7/migration/\n",
      "  obj = parse.load_str_bytes(\n",
      "/Users/jonnytr/micromamba/lib/python3.10/site-packages/llama_index/core/readers/file/base.py:535: ResourceWarning: unclosed file <_io.BufferedReader name='/Users/jonnytr/Projects/ITN-recal-data-extraction/data/preprocessing/unstructured/briet2020physical/figures/figure-7-8.jpg'>\n",
      "  docs = reader.load_data(input_file, **kwargs)\n",
      "ResourceWarning: Enable tracemalloc to get the object allocation traceback\n",
      "\u001b[32m[0621 00:14.27 @segment.py:251]\u001b[0m  \u001b[32mINF\u001b[0m  \u001b[97mExtracting figure table: Fig. 2 Survival (1‑attrition) (a), use of nets currently in the household (b), proportion of original cohort of nets in use (c), mean of the natural log of estimated hole area (d), reduction in vectorial capacity of pyrethroid susceptible mosquitoes (e), and reduction in vectorial capacity of pyrethroid resistant mosquitoes (f), by country\u001b[0m\n",
      "/Users/jonnytr/micromamba/lib/python3.10/site-packages/llama_index/core/readers/file/base.py:535: ResourceWarning: unclosed file <_io.BufferedReader name='/Users/jonnytr/Projects/ITN-recal-data-extraction/data/preprocessing/pdffigure2/briet2020physical/Attrition_physical_integrity_and_insecticidal_activity_of_long_lasting__insecti-Figure2-1.png'>\n",
      "  docs = reader.load_data(input_file, **kwargs)\n",
      "ResourceWarning: Enable tracemalloc to get the object allocation traceback\n",
      "\u001b[32m[0621 00:14.40 @segment.py:251]\u001b[0m  \u001b[32mINF\u001b[0m  \u001b[97mExtracting figure table: Fig. 2 Survival (1‑attrition) (a), use of nets currently in the household (b), proportion of original cohort of nets in use (c), mean of the natural log of estimated hole area (d), reduction in vectorial capacity of pyrethroid susceptible mosquitoes (e), and reduction in vectorial capacity of pyrethroid resistant mosquitoes (f), by country\u001b[0m\n",
      "/Users/jonnytr/micromamba/lib/python3.10/site-packages/llama_index/core/readers/file/base.py:535: ResourceWarning: unclosed file <_io.BufferedReader name='/Users/jonnytr/Projects/ITN-recal-data-extraction/data/preprocessing/unstructured/briet2020physical/figures/figure-8-9.jpg'>\n",
      "  docs = reader.load_data(input_file, **kwargs)\n",
      "ResourceWarning: Enable tracemalloc to get the object allocation traceback\n",
      "\u001b[32m[0621 00:14.51 @segment.py:251]\u001b[0m  \u001b[32mINF\u001b[0m  \u001b[97mExtracting figure table: Fig. 3 Persistence of active ingredients by LLIN brand\u001b[0m\n",
      "/Users/jonnytr/micromamba/lib/python3.10/site-packages/llama_index/core/readers/file/base.py:535: ResourceWarning: unclosed file <_io.BufferedReader name='/Users/jonnytr/Projects/ITN-recal-data-extraction/data/preprocessing/pdffigure2/briet2020physical/Attrition_physical_integrity_and_insecticidal_activity_of_long_lasting__insecti-Figure4-1.png'>\n",
      "  docs = reader.load_data(input_file, **kwargs)\n",
      "ResourceWarning: Enable tracemalloc to get the object allocation traceback\n",
      "\u001b[32m[0621 00:15.00 @segment.py:251]\u001b[0m  \u001b[32mINF\u001b[0m  \u001b[97mExtracting figure table: Fig. 4 Lethality in cone tests and calibration of active ingredient content. The lethality and calibration curves are shown only for four specific LLIN brands. The lines for the other LLIN brands are very close to that for PermaNet 2.0\u001b[0m\n",
      "/Users/jonnytr/micromamba/lib/python3.10/site-packages/llama_index/core/readers/file/base.py:535: ResourceWarning: unclosed file <_io.BufferedReader name='/Users/jonnytr/Projects/ITN-recal-data-extraction/data/preprocessing/unstructured/briet2020physical/figures/figure-11-11.jpg'>\n",
      "  docs = reader.load_data(input_file, **kwargs)\n",
      "ResourceWarning: Enable tracemalloc to get the object allocation traceback\n",
      "\u001b[32m[0621 00:15.05 @segment.py:251]\u001b[0m  \u001b[32mINF\u001b[0m  \u001b[97mExtracting figure table: Fig. 5 Predicted entomological effects of holed and intact LLINs. a Pyrethroid resistant mosquitoes. b Pyrethroid sensitive mosquitoes. The vertical black line corresponds to the target active agent content for PermaNet 2.0. The continuous lines correspond to intact LLINs and the dashed lines to LLINs with a holed area of 50 cm2. The effect size, on the vertical axis is the proportion by which availability of humans to mosquitoes is reduced, or killing of mosquitoes increased, when the LLIN is in use\u001b[0m\n",
      "/Users/jonnytr/micromamba/lib/python3.10/site-packages/llama_index/core/readers/file/base.py:535: ResourceWarning: unclosed file <_io.BufferedReader name='/Users/jonnytr/Projects/ITN-recal-data-extraction/data/preprocessing/unstructured/ibrahim2020exploring/figures/figure-3-3.jpg'>\n",
      "  docs = reader.load_data(input_file, **kwargs)\n",
      "ResourceWarning: Enable tracemalloc to get the object allocation traceback\n",
      "\u001b[32m[0621 00:15.10 @segment.py:251]\u001b[0m  \u001b[32mINF\u001b[0m  \u001b[97mExtracting figure table: Figure 1. A map showing the sampling locality (Gajerar Giwa) in the Sahel of northern Nigeria.\u001b[0m\n"
     ]
    },
    {
     "name": "stdout",
     "output_type": "stream",
     "text": [
      "briet2020physical 10 tables 5 figures\n"
     ]
    },
    {
     "name": "stderr",
     "output_type": "stream",
     "text": [
      "/Users/jonnytr/micromamba/lib/python3.10/site-packages/pydantic/main.py:1311: PydanticDeprecatedSince20: The `schema` method is deprecated; use `model_json_schema` instead. Deprecated in Pydantic V2.0 to be removed in V3.0. See Pydantic V2 Migration Guide at https://errors.pydantic.dev/2.7/migration/\n",
      "  warnings.warn(\n",
      "/Users/jonnytr/micromamba/lib/python3.10/site-packages/pydantic/main.py:1135: PydanticDeprecatedSince20: The `parse_raw` method is deprecated; if your data is JSON use `model_validate_json`, otherwise load the data then use `model_validate` instead. Deprecated in Pydantic V2.0 to be removed in V3.0. See Pydantic V2 Migration Guide at https://errors.pydantic.dev/2.7/migration/\n",
      "  warnings.warn(\n",
      "/Users/jonnytr/micromamba/lib/python3.10/site-packages/pydantic/main.py:1143: PydanticDeprecatedSince20: `load_str_bytes` is deprecated. Deprecated in Pydantic V2.0 to be removed in V3.0. See Pydantic V2 Migration Guide at https://errors.pydantic.dev/2.7/migration/\n",
      "  obj = parse.load_str_bytes(\n",
      "/Users/jonnytr/micromamba/lib/python3.10/site-packages/llama_index/core/readers/file/base.py:535: ResourceWarning: unclosed file <_io.BufferedReader name='/Users/jonnytr/Projects/ITN-recal-data-extraction/data/preprocessing/pdffigure2/ibrahim2020exploring/genes_11_00454_pdf-Figure1-1.png'>\n",
      "  docs = reader.load_data(input_file, **kwargs)\n",
      "ResourceWarning: Enable tracemalloc to get the object allocation traceback\n",
      "\u001b[32m[0621 00:15.12 @segment.py:251]\u001b[0m  \u001b[32mINF\u001b[0m  \u001b[97mExtracting figure table: Figure 1. ap sho ing the sa pling locality ( ajerar i a) in the Sahel of northern igeria.\u001b[0m\n",
      "\u001b[32m[0621 00:15.17 @segment.py:251]\u001b[0m  \u001b[32mINF\u001b[0m  \u001b[97mExtracting figure table: Figure 1. A map showing the sampling locality (Gajerar Giwa) in the Sahel of northern Nigeria.\u001b[0m\n",
      "/Users/jonnytr/micromamba/lib/python3.10/site-packages/llama_index/core/readers/file/base.py:535: ResourceWarning: unclosed file <_io.BufferedReader name='/Users/jonnytr/Projects/ITN-recal-data-extraction/data/preprocessing/unstructured/ibrahim2020exploring/figures/figure-8-4.jpg'>\n",
      "  docs = reader.load_data(input_file, **kwargs)\n",
      "ResourceWarning: Enable tracemalloc to get the object allocation traceback\n",
      "\u001b[32m[0621 00:15.20 @segment.py:251]\u001b[0m  \u001b[32mINF\u001b[0m  \u001b[97mExtracting figure table: Figure 2. Resistance proﬁles of F1 An. funestus females. (a). Results of WHO susceptibility bioassays with various insecticides. Results are the average of percentage mortalities from four replicates each ± standard error of mean (SEM); (b). Results of the cone bioassays with PermaNet 3.0 (side and roof), PermaNet Net. Results are the average of percentage Plus and Olyset mortalities ± SEM of ﬁve replicates; (c). Eﬀect of pre-exposure of synergist piperonylbutoxide (PBO) against permethrin and diethyl maleate (DEM) against DDT (dichlorodiphenyltrichloroethane). Results are the average of percentage mortalities from four replicates each ± SEM. **** = statistically signiﬁcant at P < 0.0001, in a two-tailed Chi-square test between results from synergised bioassay and conventional bioassays; (d). Time-course bioassay for LT50 estimation/test for strength of permethrin resistance.\u001b[0m\n",
      "/Users/jonnytr/micromamba/lib/python3.10/site-packages/llama_index/core/readers/file/base.py:535: ResourceWarning: unclosed file <_io.BufferedReader name='/Users/jonnytr/Projects/ITN-recal-data-extraction/data/preprocessing/pdffigure2/ibrahim2020exploring/genes_11_00454_pdf-Figure2-1.png'>\n",
      "  docs = reader.load_data(input_file, **kwargs)\n",
      "ResourceWarning: Enable tracemalloc to get the object allocation traceback\n",
      "\u001b[32m[0621 00:15.27 @segment.py:251]\u001b[0m  \u001b[32mINF\u001b[0m  \u001b[97mExtracting figure table: Figure 2. Resistance profiles of F1 An. funestus females. (a). Results of WHO susceptibility bioassays with various insecticides. Results are the average of percentage mortalities from four replicates each ± standard error of mean (SEM); (b). Results of the cone bioassays with PermaNet®3.0 (side and roof), PermaNet®2.0, Olyset®Plus and Olyset®Net. Results are the average of percentage mortalities ± SEM of five replicates; (c). Effect of pre-exposure of synergist piperonylbutoxide (PBO) against permethrin and diethyl aleate (DEM) against DDT (dichlorodiphenyltrichloroethane). Results are the verage of percent g mortaliti s from four replicate each ± SEM. **** = statistically significant at P < 0 0001, in a two-tailed Chi-square test between results fr m syn rgised b o ssay and conventional bioassays; (d). Time-course bioassay for LT50 estimation/test for strength of permethrin resistance.\u001b[0m\n",
      "\u001b[32m[0621 00:15.33 @segment.py:251]\u001b[0m  \u001b[32mINF\u001b[0m  \u001b[97mExtracting figure table: Figure 2. Resistance profiles of F1 An. funestus females. (a). Results of WHO susceptibility bioassays with various insecticides. Results are the average of percentage mortalities from four replicates each ± standard error of mean (SEM); (b). Results of the cone bioassays with PermaNet® 3.0 (side and roof), PermaNet® 2.0, Olyset® Plus and Olyset® Net. Results are the average of percentage mortalities ± SEM of five replicates; (c). Effect of pre-exposure of synergist piperonylbutoxide (PBO) against permethrin and diethyl maleate (DEM) against DDT (dichlorodiphenyltrichloroethane). Results are the average of percentage mortalities from four replicates each ± SEM. **** = statistically significant at P < 0.0001, in a two-tailed Chi-square test between results from synergised bioassay and conventional bioassays; (d). Time-course bioassay for LT50 estimation/test for strength of permethrin resistance.\u001b[0m\n",
      "/Users/jonnytr/micromamba/lib/python3.10/site-packages/llama_index/core/readers/file/base.py:535: ResourceWarning: unclosed file <_io.BufferedReader name='/Users/jonnytr/Projects/ITN-recal-data-extraction/data/preprocessing/pdffigure2/ibrahim2020exploring/genes_11_00454_pdf-Figure3-1.png'>\n",
      "  docs = reader.load_data(input_file, **kwargs)\n",
      "ResourceWarning: Enable tracemalloc to get the object allocation traceback\n",
      "\u001b[32m[0621 00:15.40 @segment.py:251]\u001b[0m  \u001b[32mINF\u001b[0m  \u001b[97mExtracting figure table: Figure 3. enotyping of L119F STe2 utation. (a): distribution of the 119F utation a ong the 44 rando ly selected F0 fe ales; (b): the 119F utation genotype for 12 each of T-alive and -dead F1 fe ales, o ozygote resistant, RS = heterozygote resistant, and SS = susceptible; (c): agarose-gel s i t e 119 e t e istri ti fr allele-s ecific ( - ), t a el: 12 -ali e 1 f l s ( , , 6, and 8–12 are R , 1, 4, 5 and 7 are RS), bott m panel: 12 DDT-dea F1 females (13, 4, 5, 7, 9, 21– 4 are RS, 16 and 18 are SS, and 20 failed).\u001b[0m\n",
      "\u001b[32m[0621 00:15.46 @segment.py:251]\u001b[0m  \u001b[32mINF\u001b[0m  \u001b[97mExtracting figure table: Figure 3. Genotyping of L119F GSTe2 mutation. (a): distribution of the 119F mutation among the 44 randomly selected F0 females; (b): the 119F mutation genotype for 12 each of DDT-alive and -dead F1 females, RR = homozygote resistant, RS = heterozygote resistant, and SS = susceptible; c: agarose-gel showing the L119F genotype distribution from allele-specific PCR (AS-PCR), top panel: 12 DDT-alive F1 females (2, 3, 6, and 8–12 are RR, 1, 4, 5 and 7 are RS), bottom panel: 12 DDT-dead F1 females (13, 14, 15, 17, 19, 21–24 are RS, 16 and 18 are SS, and 20 failed).\u001b[0m\n"
     ]
    },
    {
     "name": "stdout",
     "output_type": "stream",
     "text": [
      "ibrahim2020exploring 0 tables 6 figures\n"
     ]
    },
    {
     "name": "stderr",
     "output_type": "stream",
     "text": [
      "/Users/jonnytr/micromamba/lib/python3.10/site-packages/llama_index/core/readers/file/base.py:535: ResourceWarning: unclosed file <_io.BufferedReader name='/Users/jonnytr/Projects/ITN-recal-data-extraction/data/preprocessing/unstructured/mieguim2021insights/figures/figure-4-7.jpg'>\n",
      "  docs = reader.load_data(input_file, **kwargs)\n",
      "ResourceWarning: Enable tracemalloc to get the object allocation traceback\n",
      "\u001b[32m[0621 00:15.52 @segment.py:251]\u001b[0m  \u001b[32mINF\u001b[0m  \u001b[97mExtracting figure table: Fig. 1. Seasonal relative abundance of Anopheles mosquito species in Mvoua. S1 short dry season, S2 long rainy season, S3 long dry season, S4 short rainy season\u001b[0m\n",
      "/Users/jonnytr/micromamba/lib/python3.10/site-packages/pydantic/main.py:1311: PydanticDeprecatedSince20: The `schema` method is deprecated; use `model_json_schema` instead. Deprecated in Pydantic V2.0 to be removed in V3.0. See Pydantic V2 Migration Guide at https://errors.pydantic.dev/2.7/migration/\n",
      "  warnings.warn(\n",
      "/Users/jonnytr/micromamba/lib/python3.10/site-packages/pydantic/main.py:1135: PydanticDeprecatedSince20: The `parse_raw` method is deprecated; if your data is JSON use `model_validate_json`, otherwise load the data then use `model_validate` instead. Deprecated in Pydantic V2.0 to be removed in V3.0. See Pydantic V2 Migration Guide at https://errors.pydantic.dev/2.7/migration/\n",
      "  warnings.warn(\n",
      "/Users/jonnytr/micromamba/lib/python3.10/site-packages/pydantic/main.py:1143: PydanticDeprecatedSince20: `load_str_bytes` is deprecated. Deprecated in Pydantic V2.0 to be removed in V3.0. See Pydantic V2 Migration Guide at https://errors.pydantic.dev/2.7/migration/\n",
      "  obj = parse.load_str_bytes(\n",
      "/Users/jonnytr/micromamba/lib/python3.10/site-packages/llama_index/core/readers/file/base.py:535: ResourceWarning: unclosed file <_io.BufferedReader name='/Users/jonnytr/Projects/ITN-recal-data-extraction/data/preprocessing/unstructured/mieguim2021insights/figures/figure-5-8.jpg'>\n",
      "  docs = reader.load_data(input_file, **kwargs)\n",
      "ResourceWarning: Enable tracemalloc to get the object allocation traceback\n",
      "\u001b[32m[0621 00:15.57 @segment.py:251]\u001b[0m  \u001b[32mINF\u001b[0m  \u001b[97mExtracting figure table: Fig. 2 Seasonal variation in human biting behavior of malaria vectors in Mvoua from August 2018 to April 2019. In Inside (homes), Out outside, S1–S4 as defined in Fig. 1\u001b[0m\n",
      "/Users/jonnytr/micromamba/lib/python3.10/site-packages/llama_index/core/readers/file/base.py:535: ResourceWarning: unclosed file <_io.BufferedReader name='/Users/jonnytr/Projects/ITN-recal-data-extraction/data/preprocessing/pdffigure2/mieguim2021insights/Insights_into_factors_sustaining_persistence_of_high_malaria_transmission_in__fo-Figure2-1.png'>\n",
      "  docs = reader.load_data(input_file, **kwargs)\n",
      "ResourceWarning: Enable tracemalloc to get the object allocation traceback\n",
      "\u001b[32m[0621 00:16.05 @segment.py:251]\u001b[0m  \u001b[32mINF\u001b[0m  \u001b[97mExtracting figure table: Fig. 2 Seasonal variation in human biting behavior of malaria vectors in Mvoua from August 2018 to April 2019. In Inside (homes), Out outside, S1–S4 as defined in Fig. 1\u001b[0m\n",
      "/Users/jonnytr/micromamba/lib/python3.10/site-packages/llama_index/core/readers/file/base.py:535: ResourceWarning: unclosed file <_io.BufferedReader name='/Users/jonnytr/Projects/ITN-recal-data-extraction/data/preprocessing/unstructured/mieguim2021insights/figures/figure-6-9.jpg'>\n",
      "  docs = reader.load_data(input_file, **kwargs)\n",
      "ResourceWarning: Enable tracemalloc to get the object allocation traceback\n",
      "\u001b[32m[0621 00:16.12 @segment.py:251]\u001b[0m  \u001b[32mINF\u001b[0m  \u001b[97mExtracting figure table: Fig. 3 Anopheles funestus and An. gambiae (s.l.) night‑biting cycle in Mvoua from August 2018 to April 2019\u001b[0m\n"
     ]
    },
    {
     "name": "stdout",
     "output_type": "stream",
     "text": [
      "mieguim2021insights 4 tables 3 figures\n"
     ]
    },
    {
     "data": {
      "text/plain": [
       "285"
      ]
     },
     "execution_count": 26,
     "metadata": {},
     "output_type": "execute_result"
    }
   ],
   "source": [
    "from llama_index.core import global_handler\n",
    "records = []\n",
    "\n",
    "for ref, paper in tqdm(papers_subset.iterrows()):\n",
    "    doc = remote_dataset.add_document(rg.Document.from_file(\n",
    "        paper.file_path, reference=ref, pmid=paper.pmid, doi=paper.doi, id=paper.get('id')))\n",
    "    \n",
    "    metadata = {\"reference\": paper.name}\n",
    "    if isinstance(doc.pmid, (str, int)) and doc.pmid != 'nan':\n",
    "        metadata['pmid'] = doc.pmid\n",
    "    elif doc.id:\n",
    "        metadata['doc_id'] = str(doc.id)\n",
    "\n",
    "    # Table segments\n",
    "    table_alignments = merge_extractions(\n",
    "        deepdoctection=tables[ref]['deepdoctection'],\n",
    "        unstructured=tables[ref]['unstructured'],\n",
    "        llmsherpa=tables[ref]['llmsherpa'],\n",
    "        nougat=tables[ref]['nougat'],\n",
    "        pdffigures2=tables[ref]['pdffigures2'],\n",
    "    )\n",
    "    table_records = table_alignments.to_records(dataset=remote_dataset, metadata=metadata)\n",
    "    records.extend(table_records)\n",
    "\n",
    "    # Figure segments\n",
    "    ### comment out langfuse code \n",
    "    # global_handler.set_trace_params(\n",
    "    #     name=f\"preprocess-{ref}\",\n",
    "    #     session_id=ref,\n",
    "    #     user_id='jonnytr',\n",
    "    # )\n",
    "    figure_segments = merge_extractions(\n",
    "        unstructured=figures[ref]['unstructured'],\n",
    "        pdffigures2=figures[ref]['pdffigures2'],\n",
    "    )\n",
    "    for alignment in figure_segments.items:\n",
    "        for source, segment in alignment.extractions.items():\n",
    "            if os.path.exists(segment.image) and segment.header:\n",
    "                _figure_extraction_response = segment.extract_html_table()\n",
    "        \n",
    "    figure_records = figure_segments.to_records(dataset=remote_dataset, metadata=metadata)\n",
    "    records.extend(figure_records)\n",
    "\n",
    "    print(paper.name, len(table_records), 'tables', len(figure_records), 'figures')\n",
    "\n",
    "records = [r for r in records if r is not None]\n",
    "len(records)"
   ]
  },
  {
   "cell_type": "code",
   "execution_count": 29,
   "id": "638c5a8a-8815-4d2d-aed7-1056ea1a284d",
   "metadata": {
    "scrolled": true
   },
   "outputs": [
    {
     "data": {
      "text/html": [
       "<pre style=\"white-space:pre;overflow-x:auto;line-height:normal;font-family:Menlo,'DejaVu Sans Mono',consolas,'Courier New',monospace\">Pushing records to Argilla... <span style=\"color: #f92672; text-decoration-color: #f92672\">━━━━━━━━━━━━━━━━━━━━━━━━━━━━━━━━━━━╸</span><span style=\"color: #3a3a3a; text-decoration-color: #3a3a3a\">━━━━</span> <span style=\"color: #800080; text-decoration-color: #800080\"> 90%</span> <span style=\"color: #008080; text-decoration-color: #008080\">0:00:04</span>\n",
       "</pre>\n"
      ],
      "text/plain": [
       "Pushing records to Argilla... \u001b[38;2;249;38;114m━━━━━━━━━━━━━━━━━━━━━━━━━━━━━━━━━━━\u001b[0m\u001b[38;2;249;38;114m╸\u001b[0m\u001b[38;5;237m━━━━\u001b[0m \u001b[35m 90%\u001b[0m \u001b[36m0:00:04\u001b[0m\n"
      ]
     },
     "metadata": {},
     "output_type": "display_data"
    },
    {
     "data": {
      "text/html": [
       "<pre style=\"white-space:pre;overflow-x:auto;line-height:normal;font-family:Menlo,'DejaVu Sans Mono',consolas,'Courier New',monospace\"></pre>\n"
      ],
      "text/plain": []
     },
     "metadata": {},
     "output_type": "display_data"
    },
    {
     "data": {
      "text/html": [
       "<pre style=\"white-space:pre;overflow-x:auto;line-height:normal;font-family:Menlo,'DejaVu Sans Mono',consolas,'Courier New',monospace\">\n",
       "</pre>\n"
      ],
      "text/plain": [
       "\n"
      ]
     },
     "metadata": {},
     "output_type": "display_data"
    }
   ],
   "source": [
    "remote_dataset.add_records(records)"
   ]
  },
  {
   "cell_type": "markdown",
   "id": "f922936f-3ac0-4111-9049-d7c57945964b",
   "metadata": {},
   "source": [
    "## Update Records"
   ]
  },
  {
   "cell_type": "code",
   "execution_count": 121,
   "id": "43444fd9-a88c-40ec-8c2d-8fe2abd21bf2",
   "metadata": {
    "editable": true,
    "scrolled": true,
    "slideshow": {
     "slide_type": ""
    },
    "tags": []
   },
   "outputs": [
    {
     "data": {
      "application/vnd.jupyter.widget-view+json": {
       "model_id": "24b6e0660e2842d0982fcf84bc77a4f8",
       "version_major": 2,
       "version_minor": 0
      },
      "text/plain": [
       "  0%|          | 0/840 [00:00<?, ?it/s]"
      ]
     },
     "metadata": {},
     "output_type": "display_data"
    },
    {
     "name": "stdout",
     "output_type": "stream",
     "text": [
      "record.external_id False 1 Table 1 Characteristics of monitoring sentinel sites\n",
      "record.external_id False 1 Table 2 Resistance intensity of An. gambiae s.l. 30 min after exposure to deltamethrin\n",
      "\n",
      "record.external_id False 1 Table 3 Resistance intensity of An. gambiae s.l. 30 min after exposure to permethrin\n",
      "\n",
      "\n",
      "record.external_id False 1 Table 4 Resistance intensity of An. gambiae s.l. 30 min after exposure to alphacypermethrin\n",
      "\n",
      "\n",
      "\n",
      "record.external_id False 1 \n",
      "Table 5 Allelic frequencies of kdr L1014F and L1014S in the An. gambiae complex\n",
      "\n",
      "record.external_id False 1 Table 1: Characteristics for study LLINs\n",
      "record.external_id False 1 Table 2: The experimental hut trial treatment arms\n",
      "record.external_id False 1 Table 3 Risk assessment for the study\n",
      "record.external_id False 1 Table 4 Deterrence, exophily, blood feeding and mortality in the 7 treatment groups\n",
      "\n",
      "\n",
      "\n",
      "record.external_id False 1 Table 5 The mean knockdown and 24 h mortality induced by net pieces, cut from nets ‘held back’\n",
      "\n",
      "\n",
      "\n",
      "record.external_id False 1 Table 6 The mean knockdown and 24 h mortality by hut-used and held back LLINs\n",
      "record.external_id False 1 Table 7 Results for the test systems’ species and Kdr identification\n",
      "record.external_id False 1 Table 1: Mortality rate of Anopheles gambiae s.l. from Yaoundé exposed to certain insecticides.\n",
      "\n",
      "\n",
      "record.external_id False 1 Table 2. Gene expression analysis of field collected Anopheles coluzzii from Yaoundé compared to the susceptible Ngousso (NG) and Kisumu (KIS) strains.\n",
      "\n",
      "\n",
      "record.external_id False 1 Table 3. Knockdown and mortality of different Anopheles gambiae s.l. colonies used for cone bioassays.\n",
      "\n",
      "\n",
      "\n",
      "record.external_id False 1 Table 4. Evaluation of behavioural response of resistant Anopheles gambiae s.|. population exposed to PermaNet® 2.0 nets.\n",
      "\n",
      "\n",
      "\n",
      "record.external_id False 1 Table 5. Personal and community protection confered by Perma- Net® 2.0 nets when exposed to a resistant Anopheles coluzzii population.\n",
      "\n",
      "record.external_id False 1 Table 1 Summary results obtained against wild An. gambiae s.l. in experimental huts\n",
      "\n",
      "\n",
      "record.external_id False 1 Table 2: Results of non-inferiority statistical analysis of the performance of Panda® Net and Yahe® LN nets versus standard reference PermaNet® 2.0\n",
      "\n",
      "\n",
      "record.external_id False 1 Table 3: Results of chemical analysis of LLINs used in the experimental trial\n",
      "\n",
      "record.external_id False 1 Table 1 Reduction of entry rate of Anopheles gambiae s.l. obs Adjohoun, Dangbo, Misserete and Seme\n",
      "\n",
      "\n",
      "record.external_id False 1 Table 2: Endophily rate of Anopheles gambiae s.l. observed before and after two interventions in districts of Adjohoun, Dangbo, Misserete and Seme\n",
      "record.external_id False 1 \n",
      "\n",
      "record.external_id False 1 Table 4 Mortality rate of Anopheles gambiae s.l. observed before and after IRS and LLITN interventions in districts of Adjohoun, Dangbo, Misserete and Seme\n",
      "\n",
      "record.external_id False 1 Table 1: Numbers of the principal mosquito species caught and dissected during the 3 years of the study\n",
      "\n",
      "\n",
      "\n",
      "record.external_id False 1 Table 2: Daily biting rate (ma), parity rate (PR), sporozolte rate (s), daily Inoculation rate (dh), yearly Inoculation rate (yh), and percent modification relative to the first year of the study in the northern and southern halves of the village\n",
      "\n",
      "\n",
      "\n",
      "record.external_id False 2 Table 1. Data on four spraying or insecticide-treated net projects in lowland areas of the United Republic of Tanzania\n",
      "\n",
      "\n",
      "\n",
      "record.external_id False 2 Table 2. Effects of insecticide-treated materials and house spraying in Kenya and West Africa\n",
      "\n",
      "\n",
      "\n",
      "record.external_id False 1 Table 3. Comparison of treatment efficacies in areas outside tropical Africa\n",
      "\n",
      "\n",
      "\n",
      "record.external_id False 1 Table 1 Percentage mortality of An. gambiae (s.l.) from Opeibea using WHO insecticide susceptibility intensity assays in 2017\n",
      "\n",
      "record.external_id False 1 Table 2 Percentage mortality of An. gambiae (s.l.) from Opeibea recorded using CDC bottle intensity assays in 2017\n",
      "\n",
      "\n",
      "\n",
      "record.external_id False 1 Table 1: Evaluation of fipronil in the house spraying of experimental huts and of bednets impregnated with lambda-cyhalothrin at the experimental station of M’bé (Côted’Ivoire) against the natural populations ofAnopheles gambiae.\n",
      "record.external_id False 1 Table 1: Mortality rates on wild populations of Anopheles: coluzzi at VK1 using EMCs. Averages taken for each configuration, 2 houses per configuration. \n",
      "\n",
      "record.external_id False 1 Table 2 Residual efficacy tests on (A) Anopheles gambiae “Kisumu” and (B) Anopheles coluzzii VK1 using WHO test cones. Averages taken for each configuration, 2 houses per configuration. \n",
      "\n",
      "\n",
      "record.external_id False 1 Table 3 Distribution of the frequency of L1014F and L1014S kdr mutations in Anopheles coluzzii in VK1. \n",
      "\n",
      "record.external_id False 1 Table 4: Allelic frequency and genotype of the Ace–1R mutation in Anopheles coluzzi at VKI. \n",
      "\n",
      "\n",
      "record.external_id False 1 Table 5: Analysis of the blood source of bloodford Anopheles coluzzi collected using EMCs at VKI. \n",
      "\n",
      "\n",
      "record.external_id False 1 Table 1. Knockdown (60 min) and mortality (24 hours) of wild adult An. gambiae s.l. mosquitoes of Kolokopé using WHO tube test.\n",
      "\n",
      "record.external_id False 1 Table 2.: Characterization of the An. gambiae s.l. mosquito populations from Kolokopé.\n",
      "\n",
      "\n",
      "\n",
      "record.external_id False 1 Table 3: WHO cone bioassay against susceptible An. gambiae s.s. Kissum of nets before and after washing, and after the hut trial.\n",
      "\n",
      "\n",
      "record.external_id False 1 Table 4. WHO cone bioassay against wild resistant An. gambiae s.l. Kolokope of all treatment arms before and after the hut trial.\n",
      "\n",
      "\n",
      "\n",
      "record.external_id False 1 Table 5. Summary of trial results obtained for free flying An. gambiae s.l. in experimental huts (98 nights) in Kolokope, Togo.\n",
      "\n",
      "\n",
      "\n",
      "record.external_id False 1 Table 6. Active ingredient and synergist contents of each net sample before and after the experimental hut trial.\n",
      "\n",
      "\n",
      "\n",
      "record.external_id False 1 Table 1. Efficacy on tunnel test of mosquito nets impregnated with bifenthrin and chlorpyrifos-methyl, alone and in mixture, against a pyrethroid-resistant strain of Anopheles gambiae (VKPR)\n",
      "record.external_id False 1 Table 1. Comparison of the sporozoite rate (in % with No. tested in parentheses) as determined by dissection and by ELISA, in An. gambiae and An. funestus and in villages with or without vector control. Presence of permethrin impregnated nets is indicated by solid boxes, lambdacyhalothrin nets by boxes with broken lines and DDT spraying by a double box.\n",
      "record.external_id False 1 \n",
      "record.external_id False 1 Table 2. In the six months before introduction of impregnated nets into Mng'aza the inoculation rate was as high as 7 infective bites per person per night, which gives some idea of the scale of the problem which has to be overcome in such villages if malaria is to be controlled.Estimated numbers of bites by the two vector species per person Per night based on the light trap catches and their relationship to human biting catches. The sporozoite rates are based on the results of dissections and ELISA tests weighted for the numbers biting at the season concerned. Boxes indicate vector control methods as in Table 1.\n",
      "\n",
      "\n",
      "\n",
      "record.external_id False 1 Table 3: Blood meal identification on anopheles caught in pit traps before or after introduction of vector control with impregnated nets in Mlingano and Mng’aza and DDT spraying in Mindu. The blood meals were identified as from human (H), bovine (B) or goat (G) or were unidentifiable (-ve). Data for An. funestus and the closely related An. rivulorum are pooled as, on some occasions, these may not have been correctly separated.\n",
      "\n",
      "\n",
      "record.external_id False 1 Table 4. Numbers of An. gambiae caught in human biting catches over the four quarters of the night inside houses, and in the first quarter outside. Data are derived from pooling several complete nights' collections before or after net introduction in Mng'aza and Mlingano; for each village the second line of data is from collections terminated at 21.30 h. N indicates the number of collections on which the data are based; n indicates the numbers caught. The percentages are based on the total inside collection. The mean biting times are derived from hour-by-hour data before pooling into the four quarters shown in the table. (The standard errors of the mean biting times are shown in minutes.)\n",
      "record.external_id False 1 Table 1: Numbers of female Anopheles gambiae s.l. collected in human-landing collections and number per room resting indoors obtained using pyrethrum spray catches in pairs of villages with insecticide-treated or untreated bed nets\n",
      "\n",
      "record.external_id False 1 Table 2. Indoor resting collections of female Anopheles gumbiae s.1. classified by gonotrophic stage in pairs of villages with insecticide-treated or untreated bed nets.\n",
      "record.external_id False 1 Table 3. Parous rates of Anopheles gambiae s.1. from human-landing collections in pairs of villages with insecticide-treated or untreated bed nets\n",
      "record.external_id False 1 Table 4. Parous rates of Anopheles gambiae s.l. from exit trap collections in pairs of villages with insecticide-treated or untreated bed nets\n",
      "\n",
      "record.external_id False 1 Table. 5. Sporozoite rates ofAnopheles gambiae s.1. in the cross-over study, October 1993\n",
      "record.external_id False 1 Table 1 Information on the houses used for all-night trapping collection bottle rotator in May to June 2011\n",
      "\n",
      "\n",
      "\n",
      "record.external_id False 1 Table 2 Information on the houses used for all-night trapping of An. arabiensis and An. funestus s.s. by CDC traps equipped with a collection bottle rotator\n",
      "\n",
      "\n",
      "\n",
      "record.external_id False 1 Table 1: Washing of study nets\n",
      "\n",
      "record.external_id False 1 Table 2 Physical condition of nets during net surveys\n",
      "record.external_id False 1 Table 3 Alpha-cypermethrin content at baseline (10 nets for each type, 3 samples per net), RSD = Relative Standard Deviation; IQR = Inter-Quartile RangeTable 4 Alpha-cypermethrin content during follow-up; IQR = Inter-Quartile Range (single sample per net)\n",
      "\n",
      "\n",
      "\n",
      "record.external_id False 1 Table 4 Alpha-cypermethrin content during follow-up; IQR = Inter-Quartile Range (single sample per net)\n",
      "\n",
      "\n",
      "\n",
      "record.external_id False 1 Table 5 Bio assay results for Anopheles gambiae s.s. expressed as geometric mean Net type Time of follow-up\n",
      "\n",
      "\n",
      "\n",
      "record.external_id False 1 Table 6: Optimal and minimal effectiveness of tested nets based on bio-assay results\n",
      "\n",
      "\n",
      "\n",
      "record.external_id False 1 Table 1 Experiment arms tested for each mosquito species\n",
      "\n",
      "\n",
      "\n",
      "record.external_id False 1 Table 2 Results for Anopheles gambiae KISUMU\n",
      "\n",
      "\n",
      "\n",
      "record.external_id False 1 Table 4 Results for Culex quinquefasciatus\n",
      "\n",
      "\n",
      "\n",
      "record.external_id False 1 Table 5 Results from regression analysis\n",
      "\n",
      "\n",
      "\n",
      "record.external_id False 1 Table 6 Extrapolated holed surface area in cm2 at  which the proportion feeding is equal to the feeding in the no-net experiment arm\n",
      "\n",
      "\n",
      "record.external_id False 1 Table 1: Description of the long-lasting insecticidal nets used.\n",
      "\n",
      "record.external_id False 1 Table 2: Results of the performance of the five brands of LLINs against wild An. funestus females in experimental huts.\n",
      "\n",
      "\n",
      "\n",
      "record.external_id False 1 Table 3. Results of the performance of the four brands of LLINs against wild Mansonia spp. in experimental huts.\n",
      "\n",
      "\n",
      "\n",
      "record.external_id False 1 Table 4: Impact of L119F-GSTe2 mutation on the ability of various insecticide-treated nets to kill mosquitoes.\n",
      "\n",
      "\n",
      "\n",
      "record.external_id False 1 Table 5. Impact of L119F-GSTe2 mutation on the efficacy of various bed nets to prevent blood feeding.\n",
      "\n",
      "\n",
      "\n",
      "record.external_id False 1 Table 6: Impact of L119F-GSTe2 mutation on the efficacy of various bed nets in repellency.\n",
      "\n",
      "\n",
      "\n",
      "record.external_id False 1 Table 7. Impact of GSTe2 on the ability of field populationAn. funestusto survive using samples fromcone assays.\n",
      "record.external_id False 1 Table 1. Mortality of mosquitoes freely entering into the huts.\n",
      "\n",
      "\n",
      "\n",
      "record.external_id False 1 Table 2. Cone bioassay tests on treated nets using insectaryreared mosquitoes.\n",
      "\n",
      "record.external_id False 1 Table 3. Blood feeding rates and insecticide-induced feeding inhibition of free flying Anopheline mosquitoes.\n",
      "\n",
      "record.external_id False 1 Table 4. Exophily and insecticide-induced exiting of free flying Anopheline mosquitoes\n",
      "record.external_id False 1 Table 1: Washes of net samples. PN1 = Permanet 1st generation, PN2 = Permanet 2nd generation, conv = conventionally treated.\n",
      "\n",
      "record.external_id False 1 Table 2: Results from chemical residue analysis. A: Average net chemical residue in mg/m2 at different times of follow-up\n",
      "\n",
      "record.external_id False 1 Table 2: Results from chemical residue analysis. B: Proportion of nets with deltamethrin ≥ 4 mg/m2 at different times of follow-up\n",
      "record.external_id False 1 Table 3: Bioassay data with Anopheles gambiae s.s (Kisum strain). Three minute exposure using the cone test. A: Average net functional mortality in % at different times of follow-up\n",
      "\n",
      "\n",
      "\n",
      "record.external_id False 1 Table 3: Bioassay data with Anopheles gambiae s.s (Kisum strain). Three minute exposure using the cone test. B: Average net knockdown rate within 60 minutes in % at different times of follow-up\n",
      "\n",
      "\n",
      "\n",
      "record.external_id False 1 Table 4: Net effectiveness based on WHO recommended criteria. Optimal effectiveness: KD60 ≥ 95% or mortality ≥ 80%, minimal effectiveness: KD60 ≥ 75% or mortality ≥ 50%.\n",
      "A. Proportion of nets with optimal effectiveness at different times of follow-up\n",
      "\n",
      "record.external_id False 1 Table 4: Net effectiveness based on WHO recommended criteria. Optimal effectiveness: KD60 ≥ 95% or mortality ≥ 80%, minimal effectiveness: KD60 ≥ 75% or mortality ≥ 50%.\n",
      "B. Proportion of nets with minimal effectiveness at different times of follow-up\n",
      "\n",
      "record.external_id False 1 Table 5: Performance of stored nets: Chemical residue for PermaNet 1st generation baseline samples unused, unwashed but exposed to air and light.Correlation between results from two analytical protocols for the determination of deltamethrin based on either gas chromatography (GC-ECD) or HPLC (CIPAC). The dotted (black) line represents equality between results and the continuous (red) line the linear regression.\n",
      "record.external_id False 1 Table I. Colour and shape preferences for bednets in communities of Ingwavuma magisterial district, KwaZulu-Natal\n",
      "\n",
      "\n",
      "\n",
      "record.external_id False 1 Table IV. Difference in malaria incidence (cases per 1 000 person- years) in seven pairs of blocks between 1996 and 1998\n",
      "\n",
      "\n",
      "\n",
      "record.external_id False 1 Table ll. Number of mosquitoes collected in window traps (February - May 1997) and their physiological status\n",
      "\n",
      "\n",
      "\n",
      "record.external_id False 1 Table 3. Bioassay tests (% mortality) on walls and nets between March and August 1997, and in February 1998\n",
      "record.external_id False 1 Table V. Malaria incidence rate ratios (within pair) in the seven pairs of blocks and overall in 1997 and 1998\n",
      "\n",
      "\n",
      "\n"
     ]
    },
    {
     "data": {
      "text/html": [
       "<pre style=\"white-space:pre;overflow-x:auto;line-height:normal;font-family:Menlo,'DejaVu Sans Mono',consolas,'Courier New',monospace\"><span style=\"color: #800000; text-decoration-color: #800000\">╭─────────────────────────────── </span><span style=\"color: #800000; text-decoration-color: #800000; font-weight: bold\">Traceback </span><span style=\"color: #bf7f7f; text-decoration-color: #bf7f7f; font-weight: bold\">(most recent call last)</span><span style=\"color: #800000; text-decoration-color: #800000\"> ────────────────────────────────╮</span>\n",
       "<span style=\"color: #800000; text-decoration-color: #800000\">│</span> in <span style=\"color: #00ff00; text-decoration-color: #00ff00\">&lt;module&gt;</span>:<span style=\"color: #0000ff; text-decoration-color: #0000ff\">30</span>                                                                                   <span style=\"color: #800000; text-decoration-color: #800000\">│</span>\n",
       "<span style=\"color: #800000; text-decoration-color: #800000\">│</span>                                                                                                  <span style=\"color: #800000; text-decoration-color: #800000\">│</span>\n",
       "<span style=\"color: #800000; text-decoration-color: #800000\">│</span>   <span style=\"color: #7f7f7f; text-decoration-color: #7f7f7f\">27 </span><span style=\"color: #7f7f7f; text-decoration-color: #7f7f7f\">│   │   │   </span>]                                                                               <span style=\"color: #800000; text-decoration-color: #800000\">│</span>\n",
       "<span style=\"color: #800000; text-decoration-color: #800000\">│</span>   <span style=\"color: #7f7f7f; text-decoration-color: #7f7f7f\">28 </span><span style=\"color: #7f7f7f; text-decoration-color: #7f7f7f\">│   │   </span>)                                                                                   <span style=\"color: #800000; text-decoration-color: #800000\">│</span>\n",
       "<span style=\"color: #800000; text-decoration-color: #800000\">│</span>   <span style=\"color: #7f7f7f; text-decoration-color: #7f7f7f\">29 </span><span style=\"color: #7f7f7f; text-decoration-color: #7f7f7f\">│   │   </span>                                                                                    <span style=\"color: #800000; text-decoration-color: #800000\">│</span>\n",
       "<span style=\"color: #800000; text-decoration-color: #800000\">│</span> <span style=\"color: #800000; text-decoration-color: #800000\">❱ </span>30 <span style=\"color: #7f7f7f; text-decoration-color: #7f7f7f\">│   │   </span>nodes = vector_store.get_nodes(filters=filters)                                     <span style=\"color: #800000; text-decoration-color: #800000\">│</span>\n",
       "<span style=\"color: #800000; text-decoration-color: #800000\">│</span>   <span style=\"color: #7f7f7f; text-decoration-color: #7f7f7f\">31 </span><span style=\"color: #7f7f7f; text-decoration-color: #7f7f7f\">│   │   </span><span style=\"color: #0000ff; text-decoration-color: #0000ff\">if</span> nodes:                                                                           <span style=\"color: #800000; text-decoration-color: #800000\">│</span>\n",
       "<span style=\"color: #800000; text-decoration-color: #800000\">│</span>   <span style=\"color: #7f7f7f; text-decoration-color: #7f7f7f\">32 </span><span style=\"color: #7f7f7f; text-decoration-color: #7f7f7f\">│   │   │   </span><span style=\"color: #7f7f7f; text-decoration-color: #7f7f7f\"># record.external_id = nodes[0].id_</span>                                             <span style=\"color: #800000; text-decoration-color: #800000\">│</span>\n",
       "<span style=\"color: #800000; text-decoration-color: #800000\">│</span>   <span style=\"color: #7f7f7f; text-decoration-color: #7f7f7f\">33 </span><span style=\"color: #7f7f7f; text-decoration-color: #7f7f7f\">│   │   │   </span><span style=\"color: #00ffff; text-decoration-color: #00ffff\">print</span>(<span style=\"color: #808000; text-decoration-color: #808000\">'record.external_id'</span>, nodes[<span style=\"color: #0000ff; text-decoration-color: #0000ff\">0</span>].id_ == record.id, <span style=\"color: #00ffff; text-decoration-color: #00ffff\">len</span>(nodes), header)      <span style=\"color: #800000; text-decoration-color: #800000\">│</span>\n",
       "<span style=\"color: #800000; text-decoration-color: #800000\">│</span>                                                                                                  <span style=\"color: #800000; text-decoration-color: #800000\">│</span>\n",
       "<span style=\"color: #800000; text-decoration-color: #800000\">│</span> <span style=\"color: #bfbf7f; text-decoration-color: #bfbf7f\">/Users/jonnytr/Projects/extralit/src/extralit/extraction/</span><span style=\"color: #808000; text-decoration-color: #808000; font-weight: bold\">vector_store.py</span>:<span style=\"color: #0000ff; text-decoration-color: #0000ff\">107</span> in <span style=\"color: #00ff00; text-decoration-color: #00ff00\">get_nodes</span>        <span style=\"color: #800000; text-decoration-color: #800000\">│</span>\n",
       "<span style=\"color: #800000; text-decoration-color: #800000\">│</span>                                                                                                  <span style=\"color: #800000; text-decoration-color: #800000\">│</span>\n",
       "<span style=\"color: #800000; text-decoration-color: #800000\">│</span>   <span style=\"color: #7f7f7f; text-decoration-color: #7f7f7f\">104 </span><span style=\"color: #7f7f7f; text-decoration-color: #7f7f7f\">│   </span><span style=\"color: #0000ff; text-decoration-color: #0000ff\">def</span> <span style=\"color: #00ff00; text-decoration-color: #00ff00\">get_nodes</span>(<span style=\"color: #00ffff; text-decoration-color: #00ffff\">self</span>, node_ids: Optional[List[<span style=\"color: #00ffff; text-decoration-color: #00ffff\">str</span>]] = <span style=\"color: #0000ff; text-decoration-color: #0000ff\">None</span>, filters: Optional[Metadata   <span style=\"color: #800000; text-decoration-color: #800000\">│</span>\n",
       "<span style=\"color: #800000; text-decoration-color: #800000\">│</span>   <span style=\"color: #7f7f7f; text-decoration-color: #7f7f7f\">105 </span><span style=\"color: #7f7f7f; text-decoration-color: #7f7f7f\">│   │   │   </span>-&gt; List[BaseNode]:                                                             <span style=\"color: #800000; text-decoration-color: #800000\">│</span>\n",
       "<span style=\"color: #800000; text-decoration-color: #800000\">│</span>   <span style=\"color: #7f7f7f; text-decoration-color: #7f7f7f\">106 </span><span style=\"color: #7f7f7f; text-decoration-color: #7f7f7f\">│   │   </span>collection = <span style=\"color: #00ffff; text-decoration-color: #00ffff\">self</span>._client.collections.get(<span style=\"color: #00ffff; text-decoration-color: #00ffff\">self</span>.index_name)                         <span style=\"color: #800000; text-decoration-color: #800000\">│</span>\n",
       "<span style=\"color: #800000; text-decoration-color: #800000\">│</span> <span style=\"color: #800000; text-decoration-color: #800000\">❱ </span>107 <span style=\"color: #7f7f7f; text-decoration-color: #7f7f7f\">│   │   </span>all_properties = get_all_properties(<span style=\"color: #00ffff; text-decoration-color: #00ffff\">self</span>._client, <span style=\"color: #00ffff; text-decoration-color: #00ffff\">self</span>.index_name)                 <span style=\"color: #800000; text-decoration-color: #800000\">│</span>\n",
       "<span style=\"color: #800000; text-decoration-color: #800000\">│</span>   <span style=\"color: #7f7f7f; text-decoration-color: #7f7f7f\">108 </span><span style=\"color: #7f7f7f; text-decoration-color: #7f7f7f\">│   │   </span>                                                                                   <span style=\"color: #800000; text-decoration-color: #800000\">│</span>\n",
       "<span style=\"color: #800000; text-decoration-color: #800000\">│</span>   <span style=\"color: #7f7f7f; text-decoration-color: #7f7f7f\">109 </span><span style=\"color: #7f7f7f; text-decoration-color: #7f7f7f\">│   │   </span><span style=\"color: #0000ff; text-decoration-color: #0000ff\">if</span> filters <span style=\"color: #ff00ff; text-decoration-color: #ff00ff\">is</span> <span style=\"color: #ff00ff; text-decoration-color: #ff00ff\">not</span> <span style=\"color: #0000ff; text-decoration-color: #0000ff\">None</span>:                                                            <span style=\"color: #800000; text-decoration-color: #800000\">│</span>\n",
       "<span style=\"color: #800000; text-decoration-color: #800000\">│</span>   <span style=\"color: #7f7f7f; text-decoration-color: #7f7f7f\">110 </span><span style=\"color: #7f7f7f; text-decoration-color: #7f7f7f\">│   │   │   </span>filters = _to_weaviate_filter(filters)                                         <span style=\"color: #800000; text-decoration-color: #800000\">│</span>\n",
       "<span style=\"color: #800000; text-decoration-color: #800000\">│</span>                                                                                                  <span style=\"color: #800000; text-decoration-color: #800000\">│</span>\n",
       "<span style=\"color: #800000; text-decoration-color: #800000\">│</span> <span style=\"color: #bfbf7f; text-decoration-color: #bfbf7f\">/Users/jonnytr/micromamba/lib/python3.10/site-packages/llama_index/vector_stores/weaviate/</span><span style=\"color: #808000; text-decoration-color: #808000; font-weight: bold\">utils.</span> <span style=\"color: #800000; text-decoration-color: #800000\">│</span>\n",
       "<span style=\"color: #800000; text-decoration-color: #800000\">│</span> <span style=\"color: #808000; text-decoration-color: #808000; font-weight: bold\">py</span>:<span style=\"color: #0000ff; text-decoration-color: #0000ff\">96</span> in <span style=\"color: #00ff00; text-decoration-color: #00ff00\">get_all_properties</span>                                                                      <span style=\"color: #800000; text-decoration-color: #800000\">│</span>\n",
       "<span style=\"color: #800000; text-decoration-color: #800000\">│</span>                                                                                                  <span style=\"color: #800000; text-decoration-color: #800000\">│</span>\n",
       "<span style=\"color: #800000; text-decoration-color: #800000\">│</span>   <span style=\"color: #7f7f7f; text-decoration-color: #7f7f7f\"> 93 </span><span style=\"color: #7f7f7f; text-decoration-color: #7f7f7f\">│   </span><span style=\"color: #0000ff; text-decoration-color: #0000ff\">if</span> <span style=\"color: #ff00ff; text-decoration-color: #ff00ff\">not</span> client.collections.exists(class_name):                                          <span style=\"color: #800000; text-decoration-color: #800000\">│</span>\n",
       "<span style=\"color: #800000; text-decoration-color: #800000\">│</span>   <span style=\"color: #7f7f7f; text-decoration-color: #7f7f7f\"> 94 </span><span style=\"color: #7f7f7f; text-decoration-color: #7f7f7f\">│   │   </span><span style=\"color: #0000ff; text-decoration-color: #0000ff\">raise</span> <span style=\"color: #00ffff; text-decoration-color: #00ffff\">ValueError</span>(<span style=\"color: #808000; text-decoration-color: #808000\">f\"{</span>class_name<span style=\"color: #808000; text-decoration-color: #808000\">} schema does not exist.\"</span>)                           <span style=\"color: #800000; text-decoration-color: #800000\">│</span>\n",
       "<span style=\"color: #800000; text-decoration-color: #800000\">│</span>   <span style=\"color: #7f7f7f; text-decoration-color: #7f7f7f\"> 95 </span><span style=\"color: #7f7f7f; text-decoration-color: #7f7f7f\">│   </span>                                                                                       <span style=\"color: #800000; text-decoration-color: #800000\">│</span>\n",
       "<span style=\"color: #800000; text-decoration-color: #800000\">│</span> <span style=\"color: #800000; text-decoration-color: #800000\">❱ </span> 96 <span style=\"color: #7f7f7f; text-decoration-color: #7f7f7f\">│   </span>properties = client.collections.get(class_name).config.get().properties                <span style=\"color: #800000; text-decoration-color: #800000\">│</span>\n",
       "<span style=\"color: #800000; text-decoration-color: #800000\">│</span>   <span style=\"color: #7f7f7f; text-decoration-color: #7f7f7f\"> 97 </span><span style=\"color: #7f7f7f; text-decoration-color: #7f7f7f\">│   </span><span style=\"color: #0000ff; text-decoration-color: #0000ff\">return</span> [p.name <span style=\"color: #0000ff; text-decoration-color: #0000ff\">for</span> p <span style=\"color: #ff00ff; text-decoration-color: #ff00ff\">in</span> properties]                                                    <span style=\"color: #800000; text-decoration-color: #800000\">│</span>\n",
       "<span style=\"color: #800000; text-decoration-color: #800000\">│</span>   <span style=\"color: #7f7f7f; text-decoration-color: #7f7f7f\"> 98 </span>                                                                                           <span style=\"color: #800000; text-decoration-color: #800000\">│</span>\n",
       "<span style=\"color: #800000; text-decoration-color: #800000\">│</span>   <span style=\"color: #7f7f7f; text-decoration-color: #7f7f7f\"> 99 </span>                                                                                           <span style=\"color: #800000; text-decoration-color: #800000\">│</span>\n",
       "<span style=\"color: #800000; text-decoration-color: #800000\">│</span>                                                                                                  <span style=\"color: #800000; text-decoration-color: #800000\">│</span>\n",
       "<span style=\"color: #800000; text-decoration-color: #800000\">│</span> <span style=\"color: #bfbf7f; text-decoration-color: #bfbf7f\">/Users/jonnytr/micromamba/lib/python3.10/site-packages/weaviate/collections/</span><span style=\"color: #808000; text-decoration-color: #808000; font-weight: bold\">config.py</span>:<span style=\"color: #0000ff; text-decoration-color: #0000ff\">81</span> in <span style=\"color: #00ff00; text-decoration-color: #00ff00\">get</span>  <span style=\"color: #800000; text-decoration-color: #800000\">│</span>\n",
       "<span style=\"color: #800000; text-decoration-color: #800000\">│</span>                                                                                                  <span style=\"color: #800000; text-decoration-color: #800000\">│</span>\n",
       "<span style=\"color: #800000; text-decoration-color: #800000\">│</span>   <span style=\"color: #7f7f7f; text-decoration-color: #7f7f7f\"> 78 </span><span style=\"color: #bfbf7f; text-decoration-color: #bfbf7f\">│   │   │   │   </span><span style=\"color: #808000; text-decoration-color: #808000\">If Weaviate reports a non-OK status.</span>                                       <span style=\"color: #800000; text-decoration-color: #800000\">│</span>\n",
       "<span style=\"color: #800000; text-decoration-color: #800000\">│</span>   <span style=\"color: #7f7f7f; text-decoration-color: #7f7f7f\"> 79 </span><span style=\"color: #bfbf7f; text-decoration-color: #bfbf7f\">│   │   </span><span style=\"color: #808000; text-decoration-color: #808000\">\"\"\"</span>                                                                                <span style=\"color: #800000; text-decoration-color: #800000\">│</span>\n",
       "<span style=\"color: #800000; text-decoration-color: #800000\">│</span>   <span style=\"color: #7f7f7f; text-decoration-color: #7f7f7f\"> 80 </span><span style=\"color: #7f7f7f; text-decoration-color: #7f7f7f\">│   │   </span>_validate_input([_ValidateArgument(expected=[<span style=\"color: #00ffff; text-decoration-color: #00ffff\">bool</span>], name=<span style=\"color: #808000; text-decoration-color: #808000\">\"simple\"</span>, value=simple)   <span style=\"color: #800000; text-decoration-color: #800000\">│</span>\n",
       "<span style=\"color: #800000; text-decoration-color: #800000\">│</span> <span style=\"color: #800000; text-decoration-color: #800000\">❱ </span> 81 <span style=\"color: #7f7f7f; text-decoration-color: #7f7f7f\">│   │   </span>schema = <span style=\"color: #00ffff; text-decoration-color: #00ffff\">self</span>.__get()                                                              <span style=\"color: #800000; text-decoration-color: #800000\">│</span>\n",
       "<span style=\"color: #800000; text-decoration-color: #800000\">│</span>   <span style=\"color: #7f7f7f; text-decoration-color: #7f7f7f\"> 82 </span><span style=\"color: #7f7f7f; text-decoration-color: #7f7f7f\">│   │   </span><span style=\"color: #0000ff; text-decoration-color: #0000ff\">if</span> simple:                                                                         <span style=\"color: #800000; text-decoration-color: #800000\">│</span>\n",
       "<span style=\"color: #800000; text-decoration-color: #800000\">│</span>   <span style=\"color: #7f7f7f; text-decoration-color: #7f7f7f\"> 83 </span><span style=\"color: #7f7f7f; text-decoration-color: #7f7f7f\">│   │   │   </span><span style=\"color: #0000ff; text-decoration-color: #0000ff\">return</span> _collection_config_simple_from_json(schema)                             <span style=\"color: #800000; text-decoration-color: #800000\">│</span>\n",
       "<span style=\"color: #800000; text-decoration-color: #800000\">│</span>   <span style=\"color: #7f7f7f; text-decoration-color: #7f7f7f\"> 84 </span><span style=\"color: #7f7f7f; text-decoration-color: #7f7f7f\">│   │   </span><span style=\"color: #0000ff; text-decoration-color: #0000ff\">return</span> _collection_config_from_json(schema)                                        <span style=\"color: #800000; text-decoration-color: #800000\">│</span>\n",
       "<span style=\"color: #800000; text-decoration-color: #800000\">│</span>                                                                                                  <span style=\"color: #800000; text-decoration-color: #800000\">│</span>\n",
       "<span style=\"color: #800000; text-decoration-color: #800000\">│</span> <span style=\"color: #bfbf7f; text-decoration-color: #bfbf7f\">/Users/jonnytr/micromamba/lib/python3.10/site-packages/weaviate/collections/</span><span style=\"color: #808000; text-decoration-color: #808000; font-weight: bold\">config.py</span>:<span style=\"color: #0000ff; text-decoration-color: #0000ff\">49</span> in      <span style=\"color: #800000; text-decoration-color: #800000\">│</span>\n",
       "<span style=\"color: #800000; text-decoration-color: #800000\">│</span> <span style=\"color: #00ff00; text-decoration-color: #00ff00\">__get</span>                                                                                            <span style=\"color: #800000; text-decoration-color: #800000\">│</span>\n",
       "<span style=\"color: #800000; text-decoration-color: #800000\">│</span>                                                                                                  <span style=\"color: #800000; text-decoration-color: #800000\">│</span>\n",
       "<span style=\"color: #800000; text-decoration-color: #800000\">│</span>   <span style=\"color: #7f7f7f; text-decoration-color: #7f7f7f\"> 46 </span><span style=\"color: #7f7f7f; text-decoration-color: #7f7f7f\">│   │   </span><span style=\"color: #00ffff; text-decoration-color: #00ffff\">self</span>.__tenant = tenant                                                             <span style=\"color: #800000; text-decoration-color: #800000\">│</span>\n",
       "<span style=\"color: #800000; text-decoration-color: #800000\">│</span>   <span style=\"color: #7f7f7f; text-decoration-color: #7f7f7f\"> 47 </span><span style=\"color: #7f7f7f; text-decoration-color: #7f7f7f\">│   </span>                                                                                       <span style=\"color: #800000; text-decoration-color: #800000\">│</span>\n",
       "<span style=\"color: #800000; text-decoration-color: #800000\">│</span>   <span style=\"color: #7f7f7f; text-decoration-color: #7f7f7f\"> 48 </span><span style=\"color: #7f7f7f; text-decoration-color: #7f7f7f\">│   </span><span style=\"color: #0000ff; text-decoration-color: #0000ff\">def</span> <span style=\"color: #00ff00; text-decoration-color: #00ff00\">__get</span>(<span style=\"color: #00ffff; text-decoration-color: #00ffff\">self</span>) -&gt; Dict[<span style=\"color: #00ffff; text-decoration-color: #00ffff\">str</span>, Any]:                                                     <span style=\"color: #800000; text-decoration-color: #800000\">│</span>\n",
       "<span style=\"color: #800000; text-decoration-color: #800000\">│</span> <span style=\"color: #800000; text-decoration-color: #800000\">❱ </span> 49 <span style=\"color: #7f7f7f; text-decoration-color: #7f7f7f\">│   │   </span>response = <span style=\"color: #00ffff; text-decoration-color: #00ffff\">self</span>.__connection.get(                                                  <span style=\"color: #800000; text-decoration-color: #800000\">│</span>\n",
       "<span style=\"color: #800000; text-decoration-color: #800000\">│</span>   <span style=\"color: #7f7f7f; text-decoration-color: #7f7f7f\"> 50 </span><span style=\"color: #7f7f7f; text-decoration-color: #7f7f7f\">│   │   │   </span>path=<span style=\"color: #808000; text-decoration-color: #808000\">f\"/schema/{</span><span style=\"color: #00ffff; text-decoration-color: #00ffff\">self</span>._name<span style=\"color: #808000; text-decoration-color: #808000\">}\"</span>,                                                  <span style=\"color: #800000; text-decoration-color: #800000\">│</span>\n",
       "<span style=\"color: #800000; text-decoration-color: #800000\">│</span>   <span style=\"color: #7f7f7f; text-decoration-color: #7f7f7f\"> 51 </span><span style=\"color: #7f7f7f; text-decoration-color: #7f7f7f\">│   │   │   </span>error_msg=<span style=\"color: #808000; text-decoration-color: #808000\">\"Collection configuration could not be retrieved.\"</span>,                  <span style=\"color: #800000; text-decoration-color: #800000\">│</span>\n",
       "<span style=\"color: #800000; text-decoration-color: #800000\">│</span>   <span style=\"color: #7f7f7f; text-decoration-color: #7f7f7f\"> 52 </span><span style=\"color: #7f7f7f; text-decoration-color: #7f7f7f\">│   │   │   </span>status_codes=_ExpectedStatusCodes(ok_in=<span style=\"color: #0000ff; text-decoration-color: #0000ff\">200</span>, error=<span style=\"color: #808000; text-decoration-color: #808000\">\"Get collection configura</span>   <span style=\"color: #800000; text-decoration-color: #800000\">│</span>\n",
       "<span style=\"color: #800000; text-decoration-color: #800000\">│</span>                                                                                                  <span style=\"color: #800000; text-decoration-color: #800000\">│</span>\n",
       "<span style=\"color: #800000; text-decoration-color: #800000\">│</span> <span style=\"color: #bfbf7f; text-decoration-color: #bfbf7f\">/Users/jonnytr/micromamba/lib/python3.10/site-packages/weaviate/connect/</span><span style=\"color: #808000; text-decoration-color: #808000; font-weight: bold\">v4.py</span>:<span style=\"color: #0000ff; text-decoration-color: #0000ff\">561</span> in <span style=\"color: #00ff00; text-decoration-color: #00ff00\">get</span>         <span style=\"color: #800000; text-decoration-color: #800000\">│</span>\n",
       "<span style=\"color: #800000; text-decoration-color: #800000\">│</span>                                                                                                  <span style=\"color: #800000; text-decoration-color: #800000\">│</span>\n",
       "<span style=\"color: #800000; text-decoration-color: #800000\">│</span>   <span style=\"color: #7f7f7f; text-decoration-color: #7f7f7f\">558 </span><span style=\"color: #7f7f7f; text-decoration-color: #7f7f7f\">│   │   </span>                                                                                   <span style=\"color: #800000; text-decoration-color: #800000\">│</span>\n",
       "<span style=\"color: #800000; text-decoration-color: #800000\">│</span>   <span style=\"color: #7f7f7f; text-decoration-color: #7f7f7f\">559 </span><span style=\"color: #7f7f7f; text-decoration-color: #7f7f7f\">│   │   </span>request_url = <span style=\"color: #00ffff; text-decoration-color: #00ffff\">self</span>.url + <span style=\"color: #00ffff; text-decoration-color: #00ffff\">self</span>._api_version_path + path                             <span style=\"color: #800000; text-decoration-color: #800000\">│</span>\n",
       "<span style=\"color: #800000; text-decoration-color: #800000\">│</span>   <span style=\"color: #7f7f7f; text-decoration-color: #7f7f7f\">560 </span><span style=\"color: #7f7f7f; text-decoration-color: #7f7f7f\">│   │   </span>                                                                                   <span style=\"color: #800000; text-decoration-color: #800000\">│</span>\n",
       "<span style=\"color: #800000; text-decoration-color: #800000\">│</span> <span style=\"color: #800000; text-decoration-color: #800000\">❱ </span>561 <span style=\"color: #7f7f7f; text-decoration-color: #7f7f7f\">│   │   </span><span style=\"color: #0000ff; text-decoration-color: #0000ff\">return</span> <span style=\"color: #00ffff; text-decoration-color: #00ffff\">self</span>.__send(                                                                <span style=\"color: #800000; text-decoration-color: #800000\">│</span>\n",
       "<span style=\"color: #800000; text-decoration-color: #800000\">│</span>   <span style=\"color: #7f7f7f; text-decoration-color: #7f7f7f\">562 </span><span style=\"color: #7f7f7f; text-decoration-color: #7f7f7f\">│   │   │   </span><span style=\"color: #808000; text-decoration-color: #808000\">\"GET\"</span>, url=request_url, params=params, error_msg=error_msg, status_codes=sta   <span style=\"color: #800000; text-decoration-color: #800000\">│</span>\n",
       "<span style=\"color: #800000; text-decoration-color: #800000\">│</span>   <span style=\"color: #7f7f7f; text-decoration-color: #7f7f7f\">563 </span><span style=\"color: #7f7f7f; text-decoration-color: #7f7f7f\">│   │   </span>)                                                                                  <span style=\"color: #800000; text-decoration-color: #800000\">│</span>\n",
       "<span style=\"color: #800000; text-decoration-color: #800000\">│</span>   <span style=\"color: #7f7f7f; text-decoration-color: #7f7f7f\">564 </span>                                                                                           <span style=\"color: #800000; text-decoration-color: #800000\">│</span>\n",
       "<span style=\"color: #800000; text-decoration-color: #800000\">│</span>                                                                                                  <span style=\"color: #800000; text-decoration-color: #800000\">│</span>\n",
       "<span style=\"color: #800000; text-decoration-color: #800000\">│</span> <span style=\"color: #bfbf7f; text-decoration-color: #bfbf7f\">/Users/jonnytr/micromamba/lib/python3.10/site-packages/weaviate/connect/</span><span style=\"color: #808000; text-decoration-color: #808000; font-weight: bold\">v4.py</span>:<span style=\"color: #0000ff; text-decoration-color: #0000ff\">449</span> in <span style=\"color: #00ff00; text-decoration-color: #00ff00\">__send</span>      <span style=\"color: #800000; text-decoration-color: #800000\">│</span>\n",
       "<span style=\"color: #800000; text-decoration-color: #800000\">│</span>                                                                                                  <span style=\"color: #800000; text-decoration-color: #800000\">│</span>\n",
       "<span style=\"color: #800000; text-decoration-color: #800000\">│</span>   <span style=\"color: #7f7f7f; text-decoration-color: #7f7f7f\">446 </span><span style=\"color: #7f7f7f; text-decoration-color: #7f7f7f\">│   │   │   │   </span>params=params,                                                             <span style=\"color: #800000; text-decoration-color: #800000\">│</span>\n",
       "<span style=\"color: #800000; text-decoration-color: #800000\">│</span>   <span style=\"color: #7f7f7f; text-decoration-color: #7f7f7f\">447 </span><span style=\"color: #7f7f7f; text-decoration-color: #7f7f7f\">│   │   │   │   </span>headers=<span style=\"color: #00ffff; text-decoration-color: #00ffff\">self</span>.__get_latest_headers(),                                       <span style=\"color: #800000; text-decoration-color: #800000\">│</span>\n",
       "<span style=\"color: #800000; text-decoration-color: #800000\">│</span>   <span style=\"color: #7f7f7f; text-decoration-color: #7f7f7f\">448 </span><span style=\"color: #7f7f7f; text-decoration-color: #7f7f7f\">│   │   │   </span>)                                                                              <span style=\"color: #800000; text-decoration-color: #800000\">│</span>\n",
       "<span style=\"color: #800000; text-decoration-color: #800000\">│</span> <span style=\"color: #800000; text-decoration-color: #800000\">❱ </span>449 <span style=\"color: #7f7f7f; text-decoration-color: #7f7f7f\">│   │   │   </span>res = <span style=\"color: #00ffff; text-decoration-color: #00ffff\">self</span>._client.send(req)                                                   <span style=\"color: #800000; text-decoration-color: #800000\">│</span>\n",
       "<span style=\"color: #800000; text-decoration-color: #800000\">│</span>   <span style=\"color: #7f7f7f; text-decoration-color: #7f7f7f\">450 </span><span style=\"color: #7f7f7f; text-decoration-color: #7f7f7f\">│   │   │   </span><span style=\"color: #0000ff; text-decoration-color: #0000ff\">if</span> status_codes <span style=\"color: #ff00ff; text-decoration-color: #ff00ff\">is</span> <span style=\"color: #ff00ff; text-decoration-color: #ff00ff\">not</span> <span style=\"color: #0000ff; text-decoration-color: #0000ff\">None</span> <span style=\"color: #ff00ff; text-decoration-color: #ff00ff\">and</span> res.status_code <span style=\"color: #ff00ff; text-decoration-color: #ff00ff\">not</span> <span style=\"color: #ff00ff; text-decoration-color: #ff00ff\">in</span> status_codes.ok:        <span style=\"color: #800000; text-decoration-color: #800000\">│</span>\n",
       "<span style=\"color: #800000; text-decoration-color: #800000\">│</span>   <span style=\"color: #7f7f7f; text-decoration-color: #7f7f7f\">451 </span><span style=\"color: #7f7f7f; text-decoration-color: #7f7f7f\">│   │   │   │   </span><span style=\"color: #0000ff; text-decoration-color: #0000ff\">raise</span> UnexpectedStatusCodeError(error_msg, response=res)                   <span style=\"color: #800000; text-decoration-color: #800000\">│</span>\n",
       "<span style=\"color: #800000; text-decoration-color: #800000\">│</span>   <span style=\"color: #7f7f7f; text-decoration-color: #7f7f7f\">452 </span><span style=\"color: #7f7f7f; text-decoration-color: #7f7f7f\">│   │   │   </span><span style=\"color: #0000ff; text-decoration-color: #0000ff\">return</span> cast(Response, res)                                                     <span style=\"color: #800000; text-decoration-color: #800000\">│</span>\n",
       "<span style=\"color: #800000; text-decoration-color: #800000\">│</span>                                                                                                  <span style=\"color: #800000; text-decoration-color: #800000\">│</span>\n",
       "<span style=\"color: #800000; text-decoration-color: #800000\">│</span> <span style=\"color: #bfbf7f; text-decoration-color: #bfbf7f\">/Users/jonnytr/micromamba/lib/python3.10/site-packages/httpx/</span><span style=\"color: #808000; text-decoration-color: #808000; font-weight: bold\">_client.py</span>:<span style=\"color: #0000ff; text-decoration-color: #0000ff\">914</span> in <span style=\"color: #00ff00; text-decoration-color: #00ff00\">send</span>              <span style=\"color: #800000; text-decoration-color: #800000\">│</span>\n",
       "<span style=\"color: #800000; text-decoration-color: #800000\">│</span>                                                                                                  <span style=\"color: #800000; text-decoration-color: #800000\">│</span>\n",
       "<span style=\"color: #800000; text-decoration-color: #800000\">│</span>   <span style=\"color: #7f7f7f; text-decoration-color: #7f7f7f\"> 911 </span><span style=\"color: #7f7f7f; text-decoration-color: #7f7f7f\">│   │   </span>                                                                                  <span style=\"color: #800000; text-decoration-color: #800000\">│</span>\n",
       "<span style=\"color: #800000; text-decoration-color: #800000\">│</span>   <span style=\"color: #7f7f7f; text-decoration-color: #7f7f7f\"> 912 </span><span style=\"color: #7f7f7f; text-decoration-color: #7f7f7f\">│   │   </span>auth = <span style=\"color: #00ffff; text-decoration-color: #00ffff\">self</span>._build_request_auth(request, auth)                                    <span style=\"color: #800000; text-decoration-color: #800000\">│</span>\n",
       "<span style=\"color: #800000; text-decoration-color: #800000\">│</span>   <span style=\"color: #7f7f7f; text-decoration-color: #7f7f7f\"> 913 </span><span style=\"color: #7f7f7f; text-decoration-color: #7f7f7f\">│   │   </span>                                                                                  <span style=\"color: #800000; text-decoration-color: #800000\">│</span>\n",
       "<span style=\"color: #800000; text-decoration-color: #800000\">│</span> <span style=\"color: #800000; text-decoration-color: #800000\">❱ </span> 914 <span style=\"color: #7f7f7f; text-decoration-color: #7f7f7f\">│   │   </span>response = <span style=\"color: #00ffff; text-decoration-color: #00ffff\">self</span>._send_handling_auth(                                              <span style=\"color: #800000; text-decoration-color: #800000\">│</span>\n",
       "<span style=\"color: #800000; text-decoration-color: #800000\">│</span>   <span style=\"color: #7f7f7f; text-decoration-color: #7f7f7f\"> 915 </span><span style=\"color: #7f7f7f; text-decoration-color: #7f7f7f\">│   │   │   </span>request,                                                                      <span style=\"color: #800000; text-decoration-color: #800000\">│</span>\n",
       "<span style=\"color: #800000; text-decoration-color: #800000\">│</span>   <span style=\"color: #7f7f7f; text-decoration-color: #7f7f7f\"> 916 </span><span style=\"color: #7f7f7f; text-decoration-color: #7f7f7f\">│   │   │   </span>auth=auth,                                                                    <span style=\"color: #800000; text-decoration-color: #800000\">│</span>\n",
       "<span style=\"color: #800000; text-decoration-color: #800000\">│</span>   <span style=\"color: #7f7f7f; text-decoration-color: #7f7f7f\"> 917 </span><span style=\"color: #7f7f7f; text-decoration-color: #7f7f7f\">│   │   │   </span>follow_redirects=follow_redirects,                                            <span style=\"color: #800000; text-decoration-color: #800000\">│</span>\n",
       "<span style=\"color: #800000; text-decoration-color: #800000\">│</span>                                                                                                  <span style=\"color: #800000; text-decoration-color: #800000\">│</span>\n",
       "<span style=\"color: #800000; text-decoration-color: #800000\">│</span> <span style=\"color: #bfbf7f; text-decoration-color: #bfbf7f\">/Users/jonnytr/micromamba/lib/python3.10/site-packages/httpx/</span><span style=\"color: #808000; text-decoration-color: #808000; font-weight: bold\">_client.py</span>:<span style=\"color: #0000ff; text-decoration-color: #0000ff\">942</span> in                   <span style=\"color: #800000; text-decoration-color: #800000\">│</span>\n",
       "<span style=\"color: #800000; text-decoration-color: #800000\">│</span> <span style=\"color: #00ff00; text-decoration-color: #00ff00\">_send_handling_auth</span>                                                                              <span style=\"color: #800000; text-decoration-color: #800000\">│</span>\n",
       "<span style=\"color: #800000; text-decoration-color: #800000\">│</span>                                                                                                  <span style=\"color: #800000; text-decoration-color: #800000\">│</span>\n",
       "<span style=\"color: #800000; text-decoration-color: #800000\">│</span>   <span style=\"color: #7f7f7f; text-decoration-color: #7f7f7f\"> 939 </span><span style=\"color: #7f7f7f; text-decoration-color: #7f7f7f\">│   │   │   </span>request = <span style=\"color: #00ffff; text-decoration-color: #00ffff\">next</span>(auth_flow)                                                     <span style=\"color: #800000; text-decoration-color: #800000\">│</span>\n",
       "<span style=\"color: #800000; text-decoration-color: #800000\">│</span>   <span style=\"color: #7f7f7f; text-decoration-color: #7f7f7f\"> 940 </span><span style=\"color: #7f7f7f; text-decoration-color: #7f7f7f\">│   │   │   </span>                                                                              <span style=\"color: #800000; text-decoration-color: #800000\">│</span>\n",
       "<span style=\"color: #800000; text-decoration-color: #800000\">│</span>   <span style=\"color: #7f7f7f; text-decoration-color: #7f7f7f\"> 941 </span><span style=\"color: #7f7f7f; text-decoration-color: #7f7f7f\">│   │   │   </span><span style=\"color: #0000ff; text-decoration-color: #0000ff\">while</span> <span style=\"color: #0000ff; text-decoration-color: #0000ff\">True</span>:                                                                   <span style=\"color: #800000; text-decoration-color: #800000\">│</span>\n",
       "<span style=\"color: #800000; text-decoration-color: #800000\">│</span> <span style=\"color: #800000; text-decoration-color: #800000\">❱ </span> 942 <span style=\"color: #7f7f7f; text-decoration-color: #7f7f7f\">│   │   │   │   </span>response = <span style=\"color: #00ffff; text-decoration-color: #00ffff\">self</span>._send_handling_redirects(                                 <span style=\"color: #800000; text-decoration-color: #800000\">│</span>\n",
       "<span style=\"color: #800000; text-decoration-color: #800000\">│</span>   <span style=\"color: #7f7f7f; text-decoration-color: #7f7f7f\"> 943 </span><span style=\"color: #7f7f7f; text-decoration-color: #7f7f7f\">│   │   │   │   │   </span>request,                                                              <span style=\"color: #800000; text-decoration-color: #800000\">│</span>\n",
       "<span style=\"color: #800000; text-decoration-color: #800000\">│</span>   <span style=\"color: #7f7f7f; text-decoration-color: #7f7f7f\"> 944 </span><span style=\"color: #7f7f7f; text-decoration-color: #7f7f7f\">│   │   │   │   │   </span>follow_redirects=follow_redirects,                                    <span style=\"color: #800000; text-decoration-color: #800000\">│</span>\n",
       "<span style=\"color: #800000; text-decoration-color: #800000\">│</span>   <span style=\"color: #7f7f7f; text-decoration-color: #7f7f7f\"> 945 </span><span style=\"color: #7f7f7f; text-decoration-color: #7f7f7f\">│   │   │   │   │   </span>history=history,                                                      <span style=\"color: #800000; text-decoration-color: #800000\">│</span>\n",
       "<span style=\"color: #800000; text-decoration-color: #800000\">│</span>                                                                                                  <span style=\"color: #800000; text-decoration-color: #800000\">│</span>\n",
       "<span style=\"color: #800000; text-decoration-color: #800000\">│</span> <span style=\"color: #bfbf7f; text-decoration-color: #bfbf7f\">/Users/jonnytr/micromamba/lib/python3.10/site-packages/httpx/</span><span style=\"color: #808000; text-decoration-color: #808000; font-weight: bold\">_client.py</span>:<span style=\"color: #0000ff; text-decoration-color: #0000ff\">979</span> in                   <span style=\"color: #800000; text-decoration-color: #800000\">│</span>\n",
       "<span style=\"color: #800000; text-decoration-color: #800000\">│</span> <span style=\"color: #00ff00; text-decoration-color: #00ff00\">_send_handling_redirects</span>                                                                         <span style=\"color: #800000; text-decoration-color: #800000\">│</span>\n",
       "<span style=\"color: #800000; text-decoration-color: #800000\">│</span>                                                                                                  <span style=\"color: #800000; text-decoration-color: #800000\">│</span>\n",
       "<span style=\"color: #800000; text-decoration-color: #800000\">│</span>   <span style=\"color: #7f7f7f; text-decoration-color: #7f7f7f\"> 976 </span><span style=\"color: #7f7f7f; text-decoration-color: #7f7f7f\">│   │   │   </span><span style=\"color: #0000ff; text-decoration-color: #0000ff\">for</span> hook <span style=\"color: #ff00ff; text-decoration-color: #ff00ff\">in</span> <span style=\"color: #00ffff; text-decoration-color: #00ffff\">self</span>._event_hooks[<span style=\"color: #808000; text-decoration-color: #808000\">\"request\"</span>]:                                     <span style=\"color: #800000; text-decoration-color: #800000\">│</span>\n",
       "<span style=\"color: #800000; text-decoration-color: #800000\">│</span>   <span style=\"color: #7f7f7f; text-decoration-color: #7f7f7f\"> 977 </span><span style=\"color: #7f7f7f; text-decoration-color: #7f7f7f\">│   │   │   │   </span>hook(request)                                                             <span style=\"color: #800000; text-decoration-color: #800000\">│</span>\n",
       "<span style=\"color: #800000; text-decoration-color: #800000\">│</span>   <span style=\"color: #7f7f7f; text-decoration-color: #7f7f7f\"> 978 </span><span style=\"color: #7f7f7f; text-decoration-color: #7f7f7f\">│   │   │   </span>                                                                              <span style=\"color: #800000; text-decoration-color: #800000\">│</span>\n",
       "<span style=\"color: #800000; text-decoration-color: #800000\">│</span> <span style=\"color: #800000; text-decoration-color: #800000\">❱ </span> 979 <span style=\"color: #7f7f7f; text-decoration-color: #7f7f7f\">│   │   │   </span>response = <span style=\"color: #00ffff; text-decoration-color: #00ffff\">self</span>._send_single_request(request)                                 <span style=\"color: #800000; text-decoration-color: #800000\">│</span>\n",
       "<span style=\"color: #800000; text-decoration-color: #800000\">│</span>   <span style=\"color: #7f7f7f; text-decoration-color: #7f7f7f\"> 980 </span><span style=\"color: #7f7f7f; text-decoration-color: #7f7f7f\">│   │   │   </span><span style=\"color: #0000ff; text-decoration-color: #0000ff\">try</span>:                                                                          <span style=\"color: #800000; text-decoration-color: #800000\">│</span>\n",
       "<span style=\"color: #800000; text-decoration-color: #800000\">│</span>   <span style=\"color: #7f7f7f; text-decoration-color: #7f7f7f\"> 981 </span><span style=\"color: #7f7f7f; text-decoration-color: #7f7f7f\">│   │   │   │   </span><span style=\"color: #0000ff; text-decoration-color: #0000ff\">for</span> hook <span style=\"color: #ff00ff; text-decoration-color: #ff00ff\">in</span> <span style=\"color: #00ffff; text-decoration-color: #00ffff\">self</span>._event_hooks[<span style=\"color: #808000; text-decoration-color: #808000\">\"response\"</span>]:                                <span style=\"color: #800000; text-decoration-color: #800000\">│</span>\n",
       "<span style=\"color: #800000; text-decoration-color: #800000\">│</span>   <span style=\"color: #7f7f7f; text-decoration-color: #7f7f7f\"> 982 </span><span style=\"color: #7f7f7f; text-decoration-color: #7f7f7f\">│   │   │   │   │   </span>hook(response)                                                        <span style=\"color: #800000; text-decoration-color: #800000\">│</span>\n",
       "<span style=\"color: #800000; text-decoration-color: #800000\">│</span>                                                                                                  <span style=\"color: #800000; text-decoration-color: #800000\">│</span>\n",
       "<span style=\"color: #800000; text-decoration-color: #800000\">│</span> <span style=\"color: #bfbf7f; text-decoration-color: #bfbf7f\">/Users/jonnytr/micromamba/lib/python3.10/site-packages/httpx/</span><span style=\"color: #808000; text-decoration-color: #808000; font-weight: bold\">_client.py</span>:<span style=\"color: #0000ff; text-decoration-color: #0000ff\">1015</span> in                  <span style=\"color: #800000; text-decoration-color: #800000\">│</span>\n",
       "<span style=\"color: #800000; text-decoration-color: #800000\">│</span> <span style=\"color: #00ff00; text-decoration-color: #00ff00\">_send_single_request</span>                                                                             <span style=\"color: #800000; text-decoration-color: #800000\">│</span>\n",
       "<span style=\"color: #800000; text-decoration-color: #800000\">│</span>                                                                                                  <span style=\"color: #800000; text-decoration-color: #800000\">│</span>\n",
       "<span style=\"color: #800000; text-decoration-color: #800000\">│</span>   <span style=\"color: #7f7f7f; text-decoration-color: #7f7f7f\">1012 </span><span style=\"color: #7f7f7f; text-decoration-color: #7f7f7f\">│   │   │   </span>)                                                                             <span style=\"color: #800000; text-decoration-color: #800000\">│</span>\n",
       "<span style=\"color: #800000; text-decoration-color: #800000\">│</span>   <span style=\"color: #7f7f7f; text-decoration-color: #7f7f7f\">1013 </span><span style=\"color: #7f7f7f; text-decoration-color: #7f7f7f\">│   │   </span>                                                                                  <span style=\"color: #800000; text-decoration-color: #800000\">│</span>\n",
       "<span style=\"color: #800000; text-decoration-color: #800000\">│</span>   <span style=\"color: #7f7f7f; text-decoration-color: #7f7f7f\">1014 </span><span style=\"color: #7f7f7f; text-decoration-color: #7f7f7f\">│   │   </span><span style=\"color: #0000ff; text-decoration-color: #0000ff\">with</span> request_context(request=request):                                            <span style=\"color: #800000; text-decoration-color: #800000\">│</span>\n",
       "<span style=\"color: #800000; text-decoration-color: #800000\">│</span> <span style=\"color: #800000; text-decoration-color: #800000\">❱ </span>1015 <span style=\"color: #7f7f7f; text-decoration-color: #7f7f7f\">│   │   │   </span>response = transport.handle_request(request)                                  <span style=\"color: #800000; text-decoration-color: #800000\">│</span>\n",
       "<span style=\"color: #800000; text-decoration-color: #800000\">│</span>   <span style=\"color: #7f7f7f; text-decoration-color: #7f7f7f\">1016 </span><span style=\"color: #7f7f7f; text-decoration-color: #7f7f7f\">│   │   </span>                                                                                  <span style=\"color: #800000; text-decoration-color: #800000\">│</span>\n",
       "<span style=\"color: #800000; text-decoration-color: #800000\">│</span>   <span style=\"color: #7f7f7f; text-decoration-color: #7f7f7f\">1017 </span><span style=\"color: #7f7f7f; text-decoration-color: #7f7f7f\">│   │   </span><span style=\"color: #0000ff; text-decoration-color: #0000ff\">assert</span> <span style=\"color: #00ffff; text-decoration-color: #00ffff\">isinstance</span>(response.stream, SyncByteStream)                                <span style=\"color: #800000; text-decoration-color: #800000\">│</span>\n",
       "<span style=\"color: #800000; text-decoration-color: #800000\">│</span>   <span style=\"color: #7f7f7f; text-decoration-color: #7f7f7f\">1018 </span>                                                                                          <span style=\"color: #800000; text-decoration-color: #800000\">│</span>\n",
       "<span style=\"color: #800000; text-decoration-color: #800000\">│</span>                                                                                                  <span style=\"color: #800000; text-decoration-color: #800000\">│</span>\n",
       "<span style=\"color: #800000; text-decoration-color: #800000\">│</span> <span style=\"color: #bfbf7f; text-decoration-color: #bfbf7f\">/Users/jonnytr/micromamba/lib/python3.10/site-packages/httpx/_transports/</span><span style=\"color: #808000; text-decoration-color: #808000; font-weight: bold\">default.py</span>:<span style=\"color: #0000ff; text-decoration-color: #0000ff\">233</span> in       <span style=\"color: #800000; text-decoration-color: #800000\">│</span>\n",
       "<span style=\"color: #800000; text-decoration-color: #800000\">│</span> <span style=\"color: #00ff00; text-decoration-color: #00ff00\">handle_request</span>                                                                                   <span style=\"color: #800000; text-decoration-color: #800000\">│</span>\n",
       "<span style=\"color: #800000; text-decoration-color: #800000\">│</span>                                                                                                  <span style=\"color: #800000; text-decoration-color: #800000\">│</span>\n",
       "<span style=\"color: #800000; text-decoration-color: #800000\">│</span>   <span style=\"color: #7f7f7f; text-decoration-color: #7f7f7f\">230 </span><span style=\"color: #7f7f7f; text-decoration-color: #7f7f7f\">│   │   │   </span>extensions=request.extensions,                                                 <span style=\"color: #800000; text-decoration-color: #800000\">│</span>\n",
       "<span style=\"color: #800000; text-decoration-color: #800000\">│</span>   <span style=\"color: #7f7f7f; text-decoration-color: #7f7f7f\">231 </span><span style=\"color: #7f7f7f; text-decoration-color: #7f7f7f\">│   │   </span>)                                                                                  <span style=\"color: #800000; text-decoration-color: #800000\">│</span>\n",
       "<span style=\"color: #800000; text-decoration-color: #800000\">│</span>   <span style=\"color: #7f7f7f; text-decoration-color: #7f7f7f\">232 </span><span style=\"color: #7f7f7f; text-decoration-color: #7f7f7f\">│   │   </span><span style=\"color: #0000ff; text-decoration-color: #0000ff\">with</span> map_httpcore_exceptions():                                                    <span style=\"color: #800000; text-decoration-color: #800000\">│</span>\n",
       "<span style=\"color: #800000; text-decoration-color: #800000\">│</span> <span style=\"color: #800000; text-decoration-color: #800000\">❱ </span>233 <span style=\"color: #7f7f7f; text-decoration-color: #7f7f7f\">│   │   │   </span>resp = <span style=\"color: #00ffff; text-decoration-color: #00ffff\">self</span>._pool.handle_request(req)                                          <span style=\"color: #800000; text-decoration-color: #800000\">│</span>\n",
       "<span style=\"color: #800000; text-decoration-color: #800000\">│</span>   <span style=\"color: #7f7f7f; text-decoration-color: #7f7f7f\">234 </span><span style=\"color: #7f7f7f; text-decoration-color: #7f7f7f\">│   │   </span>                                                                                   <span style=\"color: #800000; text-decoration-color: #800000\">│</span>\n",
       "<span style=\"color: #800000; text-decoration-color: #800000\">│</span>   <span style=\"color: #7f7f7f; text-decoration-color: #7f7f7f\">235 </span><span style=\"color: #7f7f7f; text-decoration-color: #7f7f7f\">│   │   </span><span style=\"color: #0000ff; text-decoration-color: #0000ff\">assert</span> <span style=\"color: #00ffff; text-decoration-color: #00ffff\">isinstance</span>(resp.stream, typing.Iterable)                                    <span style=\"color: #800000; text-decoration-color: #800000\">│</span>\n",
       "<span style=\"color: #800000; text-decoration-color: #800000\">│</span>   <span style=\"color: #7f7f7f; text-decoration-color: #7f7f7f\">236 </span>                                                                                           <span style=\"color: #800000; text-decoration-color: #800000\">│</span>\n",
       "<span style=\"color: #800000; text-decoration-color: #800000\">│</span>                                                                                                  <span style=\"color: #800000; text-decoration-color: #800000\">│</span>\n",
       "<span style=\"color: #800000; text-decoration-color: #800000\">│</span> <span style=\"color: #bfbf7f; text-decoration-color: #bfbf7f\">/Users/jonnytr/micromamba/lib/python3.10/site-packages/httpcore/_sync/</span><span style=\"color: #808000; text-decoration-color: #808000; font-weight: bold\">connection_pool.py</span>:<span style=\"color: #0000ff; text-decoration-color: #0000ff\">216</span> in  <span style=\"color: #800000; text-decoration-color: #800000\">│</span>\n",
       "<span style=\"color: #800000; text-decoration-color: #800000\">│</span> <span style=\"color: #00ff00; text-decoration-color: #00ff00\">handle_request</span>                                                                                   <span style=\"color: #800000; text-decoration-color: #800000\">│</span>\n",
       "<span style=\"color: #800000; text-decoration-color: #800000\">│</span>                                                                                                  <span style=\"color: #800000; text-decoration-color: #800000\">│</span>\n",
       "<span style=\"color: #800000; text-decoration-color: #800000\">│</span>   <span style=\"color: #7f7f7f; text-decoration-color: #7f7f7f\">213 </span><span style=\"color: #7f7f7f; text-decoration-color: #7f7f7f\">│   │   │   │   </span>closing = <span style=\"color: #00ffff; text-decoration-color: #00ffff\">self</span>._assign_requests_to_connections()                           <span style=\"color: #800000; text-decoration-color: #800000\">│</span>\n",
       "<span style=\"color: #800000; text-decoration-color: #800000\">│</span>   <span style=\"color: #7f7f7f; text-decoration-color: #7f7f7f\">214 </span><span style=\"color: #7f7f7f; text-decoration-color: #7f7f7f\">│   │   │   </span>                                                                               <span style=\"color: #800000; text-decoration-color: #800000\">│</span>\n",
       "<span style=\"color: #800000; text-decoration-color: #800000\">│</span>   <span style=\"color: #7f7f7f; text-decoration-color: #7f7f7f\">215 </span><span style=\"color: #7f7f7f; text-decoration-color: #7f7f7f\">│   │   │   </span><span style=\"color: #00ffff; text-decoration-color: #00ffff\">self</span>._close_connections(closing)                                               <span style=\"color: #800000; text-decoration-color: #800000\">│</span>\n",
       "<span style=\"color: #800000; text-decoration-color: #800000\">│</span> <span style=\"color: #800000; text-decoration-color: #800000\">❱ </span>216 <span style=\"color: #7f7f7f; text-decoration-color: #7f7f7f\">│   │   │   </span><span style=\"color: #0000ff; text-decoration-color: #0000ff\">raise</span> exc <span style=\"color: #0000ff; text-decoration-color: #0000ff\">from</span> <span style=\"color: #0000ff; text-decoration-color: #0000ff\">None</span>                                                            <span style=\"color: #800000; text-decoration-color: #800000\">│</span>\n",
       "<span style=\"color: #800000; text-decoration-color: #800000\">│</span>   <span style=\"color: #7f7f7f; text-decoration-color: #7f7f7f\">217 </span><span style=\"color: #7f7f7f; text-decoration-color: #7f7f7f\">│   │   </span>                                                                                   <span style=\"color: #800000; text-decoration-color: #800000\">│</span>\n",
       "<span style=\"color: #800000; text-decoration-color: #800000\">│</span>   <span style=\"color: #7f7f7f; text-decoration-color: #7f7f7f\">218 </span><span style=\"color: #7f7f7f; text-decoration-color: #7f7f7f\">│   │   </span><span style=\"color: #7f7f7f; text-decoration-color: #7f7f7f\"># Return the response. Note that in this case we still have to manage</span>              <span style=\"color: #800000; text-decoration-color: #800000\">│</span>\n",
       "<span style=\"color: #800000; text-decoration-color: #800000\">│</span>   <span style=\"color: #7f7f7f; text-decoration-color: #7f7f7f\">219 </span><span style=\"color: #7f7f7f; text-decoration-color: #7f7f7f\">│   │   </span><span style=\"color: #7f7f7f; text-decoration-color: #7f7f7f\"># the point at which the response is closed.</span>                                       <span style=\"color: #800000; text-decoration-color: #800000\">│</span>\n",
       "<span style=\"color: #800000; text-decoration-color: #800000\">│</span>                                                                                                  <span style=\"color: #800000; text-decoration-color: #800000\">│</span>\n",
       "<span style=\"color: #800000; text-decoration-color: #800000\">│</span> <span style=\"color: #bfbf7f; text-decoration-color: #bfbf7f\">/Users/jonnytr/micromamba/lib/python3.10/site-packages/httpcore/_sync/</span><span style=\"color: #808000; text-decoration-color: #808000; font-weight: bold\">connection_pool.py</span>:<span style=\"color: #0000ff; text-decoration-color: #0000ff\">196</span> in  <span style=\"color: #800000; text-decoration-color: #800000\">│</span>\n",
       "<span style=\"color: #800000; text-decoration-color: #800000\">│</span> <span style=\"color: #00ff00; text-decoration-color: #00ff00\">handle_request</span>                                                                                   <span style=\"color: #800000; text-decoration-color: #800000\">│</span>\n",
       "<span style=\"color: #800000; text-decoration-color: #800000\">│</span>                                                                                                  <span style=\"color: #800000; text-decoration-color: #800000\">│</span>\n",
       "<span style=\"color: #800000; text-decoration-color: #800000\">│</span>   <span style=\"color: #7f7f7f; text-decoration-color: #7f7f7f\">193 </span><span style=\"color: #7f7f7f; text-decoration-color: #7f7f7f\">│   │   │   │   </span>                                                                           <span style=\"color: #800000; text-decoration-color: #800000\">│</span>\n",
       "<span style=\"color: #800000; text-decoration-color: #800000\">│</span>   <span style=\"color: #7f7f7f; text-decoration-color: #7f7f7f\">194 </span><span style=\"color: #7f7f7f; text-decoration-color: #7f7f7f\">│   │   │   │   </span><span style=\"color: #0000ff; text-decoration-color: #0000ff\">try</span>:                                                                       <span style=\"color: #800000; text-decoration-color: #800000\">│</span>\n",
       "<span style=\"color: #800000; text-decoration-color: #800000\">│</span>   <span style=\"color: #7f7f7f; text-decoration-color: #7f7f7f\">195 </span><span style=\"color: #7f7f7f; text-decoration-color: #7f7f7f\">│   │   │   │   │   </span><span style=\"color: #7f7f7f; text-decoration-color: #7f7f7f\"># Send the request on the assigned connection.</span>                         <span style=\"color: #800000; text-decoration-color: #800000\">│</span>\n",
       "<span style=\"color: #800000; text-decoration-color: #800000\">│</span> <span style=\"color: #800000; text-decoration-color: #800000\">❱ </span>196 <span style=\"color: #7f7f7f; text-decoration-color: #7f7f7f\">│   │   │   │   │   </span>response = connection.handle_request(                                  <span style=\"color: #800000; text-decoration-color: #800000\">│</span>\n",
       "<span style=\"color: #800000; text-decoration-color: #800000\">│</span>   <span style=\"color: #7f7f7f; text-decoration-color: #7f7f7f\">197 </span><span style=\"color: #7f7f7f; text-decoration-color: #7f7f7f\">│   │   │   │   │   │   </span>pool_request.request                                               <span style=\"color: #800000; text-decoration-color: #800000\">│</span>\n",
       "<span style=\"color: #800000; text-decoration-color: #800000\">│</span>   <span style=\"color: #7f7f7f; text-decoration-color: #7f7f7f\">198 </span><span style=\"color: #7f7f7f; text-decoration-color: #7f7f7f\">│   │   │   │   │   </span>)                                                                      <span style=\"color: #800000; text-decoration-color: #800000\">│</span>\n",
       "<span style=\"color: #800000; text-decoration-color: #800000\">│</span>   <span style=\"color: #7f7f7f; text-decoration-color: #7f7f7f\">199 </span><span style=\"color: #7f7f7f; text-decoration-color: #7f7f7f\">│   │   │   │   </span><span style=\"color: #0000ff; text-decoration-color: #0000ff\">except</span> ConnectionNotAvailable:                                             <span style=\"color: #800000; text-decoration-color: #800000\">│</span>\n",
       "<span style=\"color: #800000; text-decoration-color: #800000\">│</span>                                                                                                  <span style=\"color: #800000; text-decoration-color: #800000\">│</span>\n",
       "<span style=\"color: #800000; text-decoration-color: #800000\">│</span> <span style=\"color: #bfbf7f; text-decoration-color: #bfbf7f\">/Users/jonnytr/micromamba/lib/python3.10/site-packages/httpcore/_sync/</span><span style=\"color: #808000; text-decoration-color: #808000; font-weight: bold\">connection.py</span>:<span style=\"color: #0000ff; text-decoration-color: #0000ff\">101</span> in       <span style=\"color: #800000; text-decoration-color: #800000\">│</span>\n",
       "<span style=\"color: #800000; text-decoration-color: #800000\">│</span> <span style=\"color: #00ff00; text-decoration-color: #00ff00\">handle_request</span>                                                                                   <span style=\"color: #800000; text-decoration-color: #800000\">│</span>\n",
       "<span style=\"color: #800000; text-decoration-color: #800000\">│</span>                                                                                                  <span style=\"color: #800000; text-decoration-color: #800000\">│</span>\n",
       "<span style=\"color: #800000; text-decoration-color: #800000\">│</span>   <span style=\"color: #7f7f7f; text-decoration-color: #7f7f7f\"> 98 </span><span style=\"color: #7f7f7f; text-decoration-color: #7f7f7f\">│   │   │   </span><span style=\"color: #00ffff; text-decoration-color: #00ffff\">self</span>._connect_failed = <span style=\"color: #0000ff; text-decoration-color: #0000ff\">True</span>                                                    <span style=\"color: #800000; text-decoration-color: #800000\">│</span>\n",
       "<span style=\"color: #800000; text-decoration-color: #800000\">│</span>   <span style=\"color: #7f7f7f; text-decoration-color: #7f7f7f\"> 99 </span><span style=\"color: #7f7f7f; text-decoration-color: #7f7f7f\">│   │   │   </span><span style=\"color: #0000ff; text-decoration-color: #0000ff\">raise</span> exc                                                                      <span style=\"color: #800000; text-decoration-color: #800000\">│</span>\n",
       "<span style=\"color: #800000; text-decoration-color: #800000\">│</span>   <span style=\"color: #7f7f7f; text-decoration-color: #7f7f7f\">100 </span><span style=\"color: #7f7f7f; text-decoration-color: #7f7f7f\">│   │   </span>                                                                                   <span style=\"color: #800000; text-decoration-color: #800000\">│</span>\n",
       "<span style=\"color: #800000; text-decoration-color: #800000\">│</span> <span style=\"color: #800000; text-decoration-color: #800000\">❱ </span>101 <span style=\"color: #7f7f7f; text-decoration-color: #7f7f7f\">│   │   </span><span style=\"color: #0000ff; text-decoration-color: #0000ff\">return</span> <span style=\"color: #00ffff; text-decoration-color: #00ffff\">self</span>._connection.handle_request(request)                                    <span style=\"color: #800000; text-decoration-color: #800000\">│</span>\n",
       "<span style=\"color: #800000; text-decoration-color: #800000\">│</span>   <span style=\"color: #7f7f7f; text-decoration-color: #7f7f7f\">102 </span><span style=\"color: #7f7f7f; text-decoration-color: #7f7f7f\">│   </span>                                                                                       <span style=\"color: #800000; text-decoration-color: #800000\">│</span>\n",
       "<span style=\"color: #800000; text-decoration-color: #800000\">│</span>   <span style=\"color: #7f7f7f; text-decoration-color: #7f7f7f\">103 </span><span style=\"color: #7f7f7f; text-decoration-color: #7f7f7f\">│   </span><span style=\"color: #0000ff; text-decoration-color: #0000ff\">def</span> <span style=\"color: #00ff00; text-decoration-color: #00ff00\">_connect</span>(<span style=\"color: #00ffff; text-decoration-color: #00ffff\">self</span>, request: Request) -&gt; NetworkStream:                                 <span style=\"color: #800000; text-decoration-color: #800000\">│</span>\n",
       "<span style=\"color: #800000; text-decoration-color: #800000\">│</span>   <span style=\"color: #7f7f7f; text-decoration-color: #7f7f7f\">104 </span><span style=\"color: #7f7f7f; text-decoration-color: #7f7f7f\">│   │   </span>timeouts = request.extensions.get(<span style=\"color: #808000; text-decoration-color: #808000\">\"timeout\"</span>, {})                                   <span style=\"color: #800000; text-decoration-color: #800000\">│</span>\n",
       "<span style=\"color: #800000; text-decoration-color: #800000\">│</span>                                                                                                  <span style=\"color: #800000; text-decoration-color: #800000\">│</span>\n",
       "<span style=\"color: #800000; text-decoration-color: #800000\">│</span> <span style=\"color: #bfbf7f; text-decoration-color: #bfbf7f\">/Users/jonnytr/micromamba/lib/python3.10/site-packages/httpcore/_sync/</span><span style=\"color: #808000; text-decoration-color: #808000; font-weight: bold\">http11.py</span>:<span style=\"color: #0000ff; text-decoration-color: #0000ff\">143</span> in           <span style=\"color: #800000; text-decoration-color: #800000\">│</span>\n",
       "<span style=\"color: #800000; text-decoration-color: #800000\">│</span> <span style=\"color: #00ff00; text-decoration-color: #00ff00\">handle_request</span>                                                                                   <span style=\"color: #800000; text-decoration-color: #800000\">│</span>\n",
       "<span style=\"color: #800000; text-decoration-color: #800000\">│</span>                                                                                                  <span style=\"color: #800000; text-decoration-color: #800000\">│</span>\n",
       "<span style=\"color: #800000; text-decoration-color: #800000\">│</span>   <span style=\"color: #7f7f7f; text-decoration-color: #7f7f7f\">140 </span><span style=\"color: #7f7f7f; text-decoration-color: #7f7f7f\">│   │   │   </span><span style=\"color: #0000ff; text-decoration-color: #0000ff\">with</span> ShieldCancellation():                                                     <span style=\"color: #800000; text-decoration-color: #800000\">│</span>\n",
       "<span style=\"color: #800000; text-decoration-color: #800000\">│</span>   <span style=\"color: #7f7f7f; text-decoration-color: #7f7f7f\">141 </span><span style=\"color: #7f7f7f; text-decoration-color: #7f7f7f\">│   │   │   │   </span><span style=\"color: #0000ff; text-decoration-color: #0000ff\">with</span> Trace(<span style=\"color: #808000; text-decoration-color: #808000\">\"response_closed\"</span>, logger, request) <span style=\"color: #0000ff; text-decoration-color: #0000ff\">as</span> trace:                   <span style=\"color: #800000; text-decoration-color: #800000\">│</span>\n",
       "<span style=\"color: #800000; text-decoration-color: #800000\">│</span>   <span style=\"color: #7f7f7f; text-decoration-color: #7f7f7f\">142 </span><span style=\"color: #7f7f7f; text-decoration-color: #7f7f7f\">│   │   │   │   │   </span><span style=\"color: #00ffff; text-decoration-color: #00ffff\">self</span>._response_closed()                                                <span style=\"color: #800000; text-decoration-color: #800000\">│</span>\n",
       "<span style=\"color: #800000; text-decoration-color: #800000\">│</span> <span style=\"color: #800000; text-decoration-color: #800000\">❱ </span>143 <span style=\"color: #7f7f7f; text-decoration-color: #7f7f7f\">│   │   │   </span><span style=\"color: #0000ff; text-decoration-color: #0000ff\">raise</span> exc                                                                      <span style=\"color: #800000; text-decoration-color: #800000\">│</span>\n",
       "<span style=\"color: #800000; text-decoration-color: #800000\">│</span>   <span style=\"color: #7f7f7f; text-decoration-color: #7f7f7f\">144 </span><span style=\"color: #7f7f7f; text-decoration-color: #7f7f7f\">│   </span>                                                                                       <span style=\"color: #800000; text-decoration-color: #800000\">│</span>\n",
       "<span style=\"color: #800000; text-decoration-color: #800000\">│</span>   <span style=\"color: #7f7f7f; text-decoration-color: #7f7f7f\">145 </span><span style=\"color: #7f7f7f; text-decoration-color: #7f7f7f\">│   </span><span style=\"color: #7f7f7f; text-decoration-color: #7f7f7f\"># Sending the request...</span>                                                               <span style=\"color: #800000; text-decoration-color: #800000\">│</span>\n",
       "<span style=\"color: #800000; text-decoration-color: #800000\">│</span>   <span style=\"color: #7f7f7f; text-decoration-color: #7f7f7f\">146 </span>                                                                                           <span style=\"color: #800000; text-decoration-color: #800000\">│</span>\n",
       "<span style=\"color: #800000; text-decoration-color: #800000\">│</span>                                                                                                  <span style=\"color: #800000; text-decoration-color: #800000\">│</span>\n",
       "<span style=\"color: #800000; text-decoration-color: #800000\">│</span> <span style=\"color: #bfbf7f; text-decoration-color: #bfbf7f\">/Users/jonnytr/micromamba/lib/python3.10/site-packages/httpcore/_sync/</span><span style=\"color: #808000; text-decoration-color: #808000; font-weight: bold\">http11.py</span>:<span style=\"color: #0000ff; text-decoration-color: #0000ff\">113</span> in           <span style=\"color: #800000; text-decoration-color: #800000\">│</span>\n",
       "<span style=\"color: #800000; text-decoration-color: #800000\">│</span> <span style=\"color: #00ff00; text-decoration-color: #00ff00\">handle_request</span>                                                                                   <span style=\"color: #800000; text-decoration-color: #800000\">│</span>\n",
       "<span style=\"color: #800000; text-decoration-color: #800000\">│</span>                                                                                                  <span style=\"color: #800000; text-decoration-color: #800000\">│</span>\n",
       "<span style=\"color: #800000; text-decoration-color: #800000\">│</span>   <span style=\"color: #7f7f7f; text-decoration-color: #7f7f7f\">110 </span><span style=\"color: #7f7f7f; text-decoration-color: #7f7f7f\">│   │   │   │   │   </span>reason_phrase,                                                         <span style=\"color: #800000; text-decoration-color: #800000\">│</span>\n",
       "<span style=\"color: #800000; text-decoration-color: #800000\">│</span>   <span style=\"color: #7f7f7f; text-decoration-color: #7f7f7f\">111 </span><span style=\"color: #7f7f7f; text-decoration-color: #7f7f7f\">│   │   │   │   │   </span>headers,                                                               <span style=\"color: #800000; text-decoration-color: #800000\">│</span>\n",
       "<span style=\"color: #800000; text-decoration-color: #800000\">│</span>   <span style=\"color: #7f7f7f; text-decoration-color: #7f7f7f\">112 </span><span style=\"color: #7f7f7f; text-decoration-color: #7f7f7f\">│   │   │   │   │   </span>trailing_data,                                                         <span style=\"color: #800000; text-decoration-color: #800000\">│</span>\n",
       "<span style=\"color: #800000; text-decoration-color: #800000\">│</span> <span style=\"color: #800000; text-decoration-color: #800000\">❱ </span>113 <span style=\"color: #7f7f7f; text-decoration-color: #7f7f7f\">│   │   │   │   </span>) = <span style=\"color: #00ffff; text-decoration-color: #00ffff\">self</span>._receive_response_headers(**kwargs)                               <span style=\"color: #800000; text-decoration-color: #800000\">│</span>\n",
       "<span style=\"color: #800000; text-decoration-color: #800000\">│</span>   <span style=\"color: #7f7f7f; text-decoration-color: #7f7f7f\">114 </span><span style=\"color: #7f7f7f; text-decoration-color: #7f7f7f\">│   │   │   │   </span>trace.return_value = (                                                     <span style=\"color: #800000; text-decoration-color: #800000\">│</span>\n",
       "<span style=\"color: #800000; text-decoration-color: #800000\">│</span>   <span style=\"color: #7f7f7f; text-decoration-color: #7f7f7f\">115 </span><span style=\"color: #7f7f7f; text-decoration-color: #7f7f7f\">│   │   │   │   │   </span>http_version,                                                          <span style=\"color: #800000; text-decoration-color: #800000\">│</span>\n",
       "<span style=\"color: #800000; text-decoration-color: #800000\">│</span>   <span style=\"color: #7f7f7f; text-decoration-color: #7f7f7f\">116 </span><span style=\"color: #7f7f7f; text-decoration-color: #7f7f7f\">│   │   │   │   │   </span>status,                                                                <span style=\"color: #800000; text-decoration-color: #800000\">│</span>\n",
       "<span style=\"color: #800000; text-decoration-color: #800000\">│</span>                                                                                                  <span style=\"color: #800000; text-decoration-color: #800000\">│</span>\n",
       "<span style=\"color: #800000; text-decoration-color: #800000\">│</span> <span style=\"color: #bfbf7f; text-decoration-color: #bfbf7f\">/Users/jonnytr/micromamba/lib/python3.10/site-packages/httpcore/_sync/</span><span style=\"color: #808000; text-decoration-color: #808000; font-weight: bold\">http11.py</span>:<span style=\"color: #0000ff; text-decoration-color: #0000ff\">186</span> in           <span style=\"color: #800000; text-decoration-color: #800000\">│</span>\n",
       "<span style=\"color: #800000; text-decoration-color: #800000\">│</span> <span style=\"color: #00ff00; text-decoration-color: #00ff00\">_receive_response_headers</span>                                                                        <span style=\"color: #800000; text-decoration-color: #800000\">│</span>\n",
       "<span style=\"color: #800000; text-decoration-color: #800000\">│</span>                                                                                                  <span style=\"color: #800000; text-decoration-color: #800000\">│</span>\n",
       "<span style=\"color: #800000; text-decoration-color: #800000\">│</span>   <span style=\"color: #7f7f7f; text-decoration-color: #7f7f7f\">183 </span><span style=\"color: #7f7f7f; text-decoration-color: #7f7f7f\">│   │   </span>timeout = timeouts.get(<span style=\"color: #808000; text-decoration-color: #808000\">\"read\"</span>, <span style=\"color: #0000ff; text-decoration-color: #0000ff\">None</span>)                                               <span style=\"color: #800000; text-decoration-color: #800000\">│</span>\n",
       "<span style=\"color: #800000; text-decoration-color: #800000\">│</span>   <span style=\"color: #7f7f7f; text-decoration-color: #7f7f7f\">184 </span><span style=\"color: #7f7f7f; text-decoration-color: #7f7f7f\">│   │   </span>                                                                                   <span style=\"color: #800000; text-decoration-color: #800000\">│</span>\n",
       "<span style=\"color: #800000; text-decoration-color: #800000\">│</span>   <span style=\"color: #7f7f7f; text-decoration-color: #7f7f7f\">185 </span><span style=\"color: #7f7f7f; text-decoration-color: #7f7f7f\">│   │   </span><span style=\"color: #0000ff; text-decoration-color: #0000ff\">while</span> <span style=\"color: #0000ff; text-decoration-color: #0000ff\">True</span>:                                                                        <span style=\"color: #800000; text-decoration-color: #800000\">│</span>\n",
       "<span style=\"color: #800000; text-decoration-color: #800000\">│</span> <span style=\"color: #800000; text-decoration-color: #800000\">❱ </span>186 <span style=\"color: #7f7f7f; text-decoration-color: #7f7f7f\">│   │   │   </span>event = <span style=\"color: #00ffff; text-decoration-color: #00ffff\">self</span>._receive_event(timeout=timeout)                                   <span style=\"color: #800000; text-decoration-color: #800000\">│</span>\n",
       "<span style=\"color: #800000; text-decoration-color: #800000\">│</span>   <span style=\"color: #7f7f7f; text-decoration-color: #7f7f7f\">187 </span><span style=\"color: #7f7f7f; text-decoration-color: #7f7f7f\">│   │   │   </span><span style=\"color: #0000ff; text-decoration-color: #0000ff\">if</span> <span style=\"color: #00ffff; text-decoration-color: #00ffff\">isinstance</span>(event, h11.Response):                                            <span style=\"color: #800000; text-decoration-color: #800000\">│</span>\n",
       "<span style=\"color: #800000; text-decoration-color: #800000\">│</span>   <span style=\"color: #7f7f7f; text-decoration-color: #7f7f7f\">188 </span><span style=\"color: #7f7f7f; text-decoration-color: #7f7f7f\">│   │   │   │   </span><span style=\"color: #0000ff; text-decoration-color: #0000ff\">break</span>                                                                      <span style=\"color: #800000; text-decoration-color: #800000\">│</span>\n",
       "<span style=\"color: #800000; text-decoration-color: #800000\">│</span>   <span style=\"color: #7f7f7f; text-decoration-color: #7f7f7f\">189 </span><span style=\"color: #7f7f7f; text-decoration-color: #7f7f7f\">│   │   │   </span><span style=\"color: #0000ff; text-decoration-color: #0000ff\">if</span> (                                                                           <span style=\"color: #800000; text-decoration-color: #800000\">│</span>\n",
       "<span style=\"color: #800000; text-decoration-color: #800000\">│</span>                                                                                                  <span style=\"color: #800000; text-decoration-color: #800000\">│</span>\n",
       "<span style=\"color: #800000; text-decoration-color: #800000\">│</span> <span style=\"color: #bfbf7f; text-decoration-color: #bfbf7f\">/Users/jonnytr/micromamba/lib/python3.10/site-packages/httpcore/_sync/</span><span style=\"color: #808000; text-decoration-color: #808000; font-weight: bold\">http11.py</span>:<span style=\"color: #0000ff; text-decoration-color: #0000ff\">224</span> in           <span style=\"color: #800000; text-decoration-color: #800000\">│</span>\n",
       "<span style=\"color: #800000; text-decoration-color: #800000\">│</span> <span style=\"color: #00ff00; text-decoration-color: #00ff00\">_receive_event</span>                                                                                   <span style=\"color: #800000; text-decoration-color: #800000\">│</span>\n",
       "<span style=\"color: #800000; text-decoration-color: #800000\">│</span>                                                                                                  <span style=\"color: #800000; text-decoration-color: #800000\">│</span>\n",
       "<span style=\"color: #800000; text-decoration-color: #800000\">│</span>   <span style=\"color: #7f7f7f; text-decoration-color: #7f7f7f\">221 </span><span style=\"color: #7f7f7f; text-decoration-color: #7f7f7f\">│   │   │   │   </span>event = <span style=\"color: #00ffff; text-decoration-color: #00ffff\">self</span>._h11_state.next_event()                                       <span style=\"color: #800000; text-decoration-color: #800000\">│</span>\n",
       "<span style=\"color: #800000; text-decoration-color: #800000\">│</span>   <span style=\"color: #7f7f7f; text-decoration-color: #7f7f7f\">222 </span><span style=\"color: #7f7f7f; text-decoration-color: #7f7f7f\">│   │   │   </span>                                                                               <span style=\"color: #800000; text-decoration-color: #800000\">│</span>\n",
       "<span style=\"color: #800000; text-decoration-color: #800000\">│</span>   <span style=\"color: #7f7f7f; text-decoration-color: #7f7f7f\">223 </span><span style=\"color: #7f7f7f; text-decoration-color: #7f7f7f\">│   │   │   </span><span style=\"color: #0000ff; text-decoration-color: #0000ff\">if</span> event <span style=\"color: #ff00ff; text-decoration-color: #ff00ff\">is</span> h11.NEED_DATA:                                                     <span style=\"color: #800000; text-decoration-color: #800000\">│</span>\n",
       "<span style=\"color: #800000; text-decoration-color: #800000\">│</span> <span style=\"color: #800000; text-decoration-color: #800000\">❱ </span>224 <span style=\"color: #7f7f7f; text-decoration-color: #7f7f7f\">│   │   │   │   </span>data = <span style=\"color: #00ffff; text-decoration-color: #00ffff\">self</span>._network_stream.read(                                          <span style=\"color: #800000; text-decoration-color: #800000\">│</span>\n",
       "<span style=\"color: #800000; text-decoration-color: #800000\">│</span>   <span style=\"color: #7f7f7f; text-decoration-color: #7f7f7f\">225 </span><span style=\"color: #7f7f7f; text-decoration-color: #7f7f7f\">│   │   │   │   │   </span><span style=\"color: #00ffff; text-decoration-color: #00ffff\">self</span>.READ_NUM_BYTES, timeout=timeout                                   <span style=\"color: #800000; text-decoration-color: #800000\">│</span>\n",
       "<span style=\"color: #800000; text-decoration-color: #800000\">│</span>   <span style=\"color: #7f7f7f; text-decoration-color: #7f7f7f\">226 </span><span style=\"color: #7f7f7f; text-decoration-color: #7f7f7f\">│   │   │   │   </span>)                                                                          <span style=\"color: #800000; text-decoration-color: #800000\">│</span>\n",
       "<span style=\"color: #800000; text-decoration-color: #800000\">│</span>   <span style=\"color: #7f7f7f; text-decoration-color: #7f7f7f\">227 </span>                                                                                           <span style=\"color: #800000; text-decoration-color: #800000\">│</span>\n",
       "<span style=\"color: #800000; text-decoration-color: #800000\">│</span>                                                                                                  <span style=\"color: #800000; text-decoration-color: #800000\">│</span>\n",
       "<span style=\"color: #800000; text-decoration-color: #800000\">│</span> <span style=\"color: #bfbf7f; text-decoration-color: #bfbf7f\">/Users/jonnytr/micromamba/lib/python3.10/site-packages/httpcore/_backends/</span><span style=\"color: #808000; text-decoration-color: #808000; font-weight: bold\">sync.py</span>:<span style=\"color: #0000ff; text-decoration-color: #0000ff\">126</span> in <span style=\"color: #00ff00; text-decoration-color: #00ff00\">read</span>    <span style=\"color: #800000; text-decoration-color: #800000\">│</span>\n",
       "<span style=\"color: #800000; text-decoration-color: #800000\">│</span>                                                                                                  <span style=\"color: #800000; text-decoration-color: #800000\">│</span>\n",
       "<span style=\"color: #800000; text-decoration-color: #800000\">│</span>   <span style=\"color: #7f7f7f; text-decoration-color: #7f7f7f\">123 </span><span style=\"color: #7f7f7f; text-decoration-color: #7f7f7f\">│   │   </span>exc_map: ExceptionMapping = {socket.timeout: ReadTimeout, <span style=\"color: #00ffff; text-decoration-color: #00ffff\">OSError</span>: ReadError}      <span style=\"color: #800000; text-decoration-color: #800000\">│</span>\n",
       "<span style=\"color: #800000; text-decoration-color: #800000\">│</span>   <span style=\"color: #7f7f7f; text-decoration-color: #7f7f7f\">124 </span><span style=\"color: #7f7f7f; text-decoration-color: #7f7f7f\">│   │   </span><span style=\"color: #0000ff; text-decoration-color: #0000ff\">with</span> map_exceptions(exc_map):                                                      <span style=\"color: #800000; text-decoration-color: #800000\">│</span>\n",
       "<span style=\"color: #800000; text-decoration-color: #800000\">│</span>   <span style=\"color: #7f7f7f; text-decoration-color: #7f7f7f\">125 </span><span style=\"color: #7f7f7f; text-decoration-color: #7f7f7f\">│   │   │   </span><span style=\"color: #00ffff; text-decoration-color: #00ffff\">self</span>._sock.settimeout(timeout)                                                 <span style=\"color: #800000; text-decoration-color: #800000\">│</span>\n",
       "<span style=\"color: #800000; text-decoration-color: #800000\">│</span> <span style=\"color: #800000; text-decoration-color: #800000\">❱ </span>126 <span style=\"color: #7f7f7f; text-decoration-color: #7f7f7f\">│   │   │   </span><span style=\"color: #0000ff; text-decoration-color: #0000ff\">return</span> <span style=\"color: #00ffff; text-decoration-color: #00ffff\">self</span>._sock.recv(max_bytes)                                              <span style=\"color: #800000; text-decoration-color: #800000\">│</span>\n",
       "<span style=\"color: #800000; text-decoration-color: #800000\">│</span>   <span style=\"color: #7f7f7f; text-decoration-color: #7f7f7f\">127 </span><span style=\"color: #7f7f7f; text-decoration-color: #7f7f7f\">│   </span>                                                                                       <span style=\"color: #800000; text-decoration-color: #800000\">│</span>\n",
       "<span style=\"color: #800000; text-decoration-color: #800000\">│</span>   <span style=\"color: #7f7f7f; text-decoration-color: #7f7f7f\">128 </span><span style=\"color: #7f7f7f; text-decoration-color: #7f7f7f\">│   </span><span style=\"color: #0000ff; text-decoration-color: #0000ff\">def</span> <span style=\"color: #00ff00; text-decoration-color: #00ff00\">write</span>(<span style=\"color: #00ffff; text-decoration-color: #00ffff\">self</span>, buffer: <span style=\"color: #00ffff; text-decoration-color: #00ffff\">bytes</span>, timeout: typing.Optional[<span style=\"color: #00ffff; text-decoration-color: #00ffff\">float</span>] = <span style=\"color: #0000ff; text-decoration-color: #0000ff\">None</span>) -&gt; <span style=\"color: #0000ff; text-decoration-color: #0000ff\">None</span>:        <span style=\"color: #800000; text-decoration-color: #800000\">│</span>\n",
       "<span style=\"color: #800000; text-decoration-color: #800000\">│</span>   <span style=\"color: #7f7f7f; text-decoration-color: #7f7f7f\">129 </span><span style=\"color: #7f7f7f; text-decoration-color: #7f7f7f\">│   │   </span><span style=\"color: #0000ff; text-decoration-color: #0000ff\">if</span> <span style=\"color: #ff00ff; text-decoration-color: #ff00ff\">not</span> buffer:                                                                     <span style=\"color: #800000; text-decoration-color: #800000\">│</span>\n",
       "<span style=\"color: #800000; text-decoration-color: #800000\">╰──────────────────────────────────────────────────────────────────────────────────────────────────╯</span>\n",
       "<span style=\"color: #ff0000; text-decoration-color: #ff0000; font-weight: bold\">KeyboardInterrupt</span>\n",
       "</pre>\n"
      ],
      "text/plain": [
       "\u001b[31m╭─\u001b[0m\u001b[31m──────────────────────────────\u001b[0m\u001b[31m \u001b[0m\u001b[1;31mTraceback \u001b[0m\u001b[1;2;31m(most recent call last)\u001b[0m\u001b[31m \u001b[0m\u001b[31m───────────────────────────────\u001b[0m\u001b[31m─╮\u001b[0m\n",
       "\u001b[31m│\u001b[0m in \u001b[92m<module>\u001b[0m:\u001b[94m30\u001b[0m                                                                                   \u001b[31m│\u001b[0m\n",
       "\u001b[31m│\u001b[0m                                                                                                  \u001b[31m│\u001b[0m\n",
       "\u001b[31m│\u001b[0m   \u001b[2m27 \u001b[0m\u001b[2m│   │   │   \u001b[0m]                                                                               \u001b[31m│\u001b[0m\n",
       "\u001b[31m│\u001b[0m   \u001b[2m28 \u001b[0m\u001b[2m│   │   \u001b[0m)                                                                                   \u001b[31m│\u001b[0m\n",
       "\u001b[31m│\u001b[0m   \u001b[2m29 \u001b[0m\u001b[2m│   │   \u001b[0m                                                                                    \u001b[31m│\u001b[0m\n",
       "\u001b[31m│\u001b[0m \u001b[31m❱ \u001b[0m30 \u001b[2m│   │   \u001b[0mnodes = vector_store.get_nodes(filters=filters)                                     \u001b[31m│\u001b[0m\n",
       "\u001b[31m│\u001b[0m   \u001b[2m31 \u001b[0m\u001b[2m│   │   \u001b[0m\u001b[94mif\u001b[0m nodes:                                                                           \u001b[31m│\u001b[0m\n",
       "\u001b[31m│\u001b[0m   \u001b[2m32 \u001b[0m\u001b[2m│   │   │   \u001b[0m\u001b[2m# record.external_id = nodes[0].id_\u001b[0m                                             \u001b[31m│\u001b[0m\n",
       "\u001b[31m│\u001b[0m   \u001b[2m33 \u001b[0m\u001b[2m│   │   │   \u001b[0m\u001b[96mprint\u001b[0m(\u001b[33m'\u001b[0m\u001b[33mrecord.external_id\u001b[0m\u001b[33m'\u001b[0m, nodes[\u001b[94m0\u001b[0m].id_ == record.id, \u001b[96mlen\u001b[0m(nodes), header)      \u001b[31m│\u001b[0m\n",
       "\u001b[31m│\u001b[0m                                                                                                  \u001b[31m│\u001b[0m\n",
       "\u001b[31m│\u001b[0m \u001b[2;33m/Users/jonnytr/Projects/extralit/src/extralit/extraction/\u001b[0m\u001b[1;33mvector_store.py\u001b[0m:\u001b[94m107\u001b[0m in \u001b[92mget_nodes\u001b[0m        \u001b[31m│\u001b[0m\n",
       "\u001b[31m│\u001b[0m                                                                                                  \u001b[31m│\u001b[0m\n",
       "\u001b[31m│\u001b[0m   \u001b[2m104 \u001b[0m\u001b[2m│   \u001b[0m\u001b[94mdef\u001b[0m \u001b[92mget_nodes\u001b[0m(\u001b[96mself\u001b[0m, node_ids: Optional[List[\u001b[96mstr\u001b[0m]] = \u001b[94mNone\u001b[0m, filters: Optional[Metadata   \u001b[31m│\u001b[0m\n",
       "\u001b[31m│\u001b[0m   \u001b[2m105 \u001b[0m\u001b[2m│   │   │   \u001b[0m-> List[BaseNode]:                                                             \u001b[31m│\u001b[0m\n",
       "\u001b[31m│\u001b[0m   \u001b[2m106 \u001b[0m\u001b[2m│   │   \u001b[0mcollection = \u001b[96mself\u001b[0m._client.collections.get(\u001b[96mself\u001b[0m.index_name)                         \u001b[31m│\u001b[0m\n",
       "\u001b[31m│\u001b[0m \u001b[31m❱ \u001b[0m107 \u001b[2m│   │   \u001b[0mall_properties = get_all_properties(\u001b[96mself\u001b[0m._client, \u001b[96mself\u001b[0m.index_name)                 \u001b[31m│\u001b[0m\n",
       "\u001b[31m│\u001b[0m   \u001b[2m108 \u001b[0m\u001b[2m│   │   \u001b[0m                                                                                   \u001b[31m│\u001b[0m\n",
       "\u001b[31m│\u001b[0m   \u001b[2m109 \u001b[0m\u001b[2m│   │   \u001b[0m\u001b[94mif\u001b[0m filters \u001b[95mis\u001b[0m \u001b[95mnot\u001b[0m \u001b[94mNone\u001b[0m:                                                            \u001b[31m│\u001b[0m\n",
       "\u001b[31m│\u001b[0m   \u001b[2m110 \u001b[0m\u001b[2m│   │   │   \u001b[0mfilters = _to_weaviate_filter(filters)                                         \u001b[31m│\u001b[0m\n",
       "\u001b[31m│\u001b[0m                                                                                                  \u001b[31m│\u001b[0m\n",
       "\u001b[31m│\u001b[0m \u001b[2;33m/Users/jonnytr/micromamba/lib/python3.10/site-packages/llama_index/vector_stores/weaviate/\u001b[0m\u001b[1;33mutils.\u001b[0m \u001b[31m│\u001b[0m\n",
       "\u001b[31m│\u001b[0m \u001b[1;33mpy\u001b[0m:\u001b[94m96\u001b[0m in \u001b[92mget_all_properties\u001b[0m                                                                      \u001b[31m│\u001b[0m\n",
       "\u001b[31m│\u001b[0m                                                                                                  \u001b[31m│\u001b[0m\n",
       "\u001b[31m│\u001b[0m   \u001b[2m 93 \u001b[0m\u001b[2m│   \u001b[0m\u001b[94mif\u001b[0m \u001b[95mnot\u001b[0m client.collections.exists(class_name):                                          \u001b[31m│\u001b[0m\n",
       "\u001b[31m│\u001b[0m   \u001b[2m 94 \u001b[0m\u001b[2m│   │   \u001b[0m\u001b[94mraise\u001b[0m \u001b[96mValueError\u001b[0m(\u001b[33mf\u001b[0m\u001b[33m\"\u001b[0m\u001b[33m{\u001b[0mclass_name\u001b[33m}\u001b[0m\u001b[33m schema does not exist.\u001b[0m\u001b[33m\"\u001b[0m)                           \u001b[31m│\u001b[0m\n",
       "\u001b[31m│\u001b[0m   \u001b[2m 95 \u001b[0m\u001b[2m│   \u001b[0m                                                                                       \u001b[31m│\u001b[0m\n",
       "\u001b[31m│\u001b[0m \u001b[31m❱ \u001b[0m 96 \u001b[2m│   \u001b[0mproperties = client.collections.get(class_name).config.get().properties                \u001b[31m│\u001b[0m\n",
       "\u001b[31m│\u001b[0m   \u001b[2m 97 \u001b[0m\u001b[2m│   \u001b[0m\u001b[94mreturn\u001b[0m [p.name \u001b[94mfor\u001b[0m p \u001b[95min\u001b[0m properties]                                                    \u001b[31m│\u001b[0m\n",
       "\u001b[31m│\u001b[0m   \u001b[2m 98 \u001b[0m                                                                                           \u001b[31m│\u001b[0m\n",
       "\u001b[31m│\u001b[0m   \u001b[2m 99 \u001b[0m                                                                                           \u001b[31m│\u001b[0m\n",
       "\u001b[31m│\u001b[0m                                                                                                  \u001b[31m│\u001b[0m\n",
       "\u001b[31m│\u001b[0m \u001b[2;33m/Users/jonnytr/micromamba/lib/python3.10/site-packages/weaviate/collections/\u001b[0m\u001b[1;33mconfig.py\u001b[0m:\u001b[94m81\u001b[0m in \u001b[92mget\u001b[0m  \u001b[31m│\u001b[0m\n",
       "\u001b[31m│\u001b[0m                                                                                                  \u001b[31m│\u001b[0m\n",
       "\u001b[31m│\u001b[0m   \u001b[2m 78 \u001b[0m\u001b[2;33m│   │   │   │   \u001b[0m\u001b[33mIf Weaviate reports a non-OK status.\u001b[0m                                       \u001b[31m│\u001b[0m\n",
       "\u001b[31m│\u001b[0m   \u001b[2m 79 \u001b[0m\u001b[2;33m│   │   \u001b[0m\u001b[33m\"\"\"\u001b[0m                                                                                \u001b[31m│\u001b[0m\n",
       "\u001b[31m│\u001b[0m   \u001b[2m 80 \u001b[0m\u001b[2m│   │   \u001b[0m_validate_input([_ValidateArgument(expected=[\u001b[96mbool\u001b[0m], name=\u001b[33m\"\u001b[0m\u001b[33msimple\u001b[0m\u001b[33m\"\u001b[0m, value=simple)   \u001b[31m│\u001b[0m\n",
       "\u001b[31m│\u001b[0m \u001b[31m❱ \u001b[0m 81 \u001b[2m│   │   \u001b[0mschema = \u001b[96mself\u001b[0m.__get()                                                              \u001b[31m│\u001b[0m\n",
       "\u001b[31m│\u001b[0m   \u001b[2m 82 \u001b[0m\u001b[2m│   │   \u001b[0m\u001b[94mif\u001b[0m simple:                                                                         \u001b[31m│\u001b[0m\n",
       "\u001b[31m│\u001b[0m   \u001b[2m 83 \u001b[0m\u001b[2m│   │   │   \u001b[0m\u001b[94mreturn\u001b[0m _collection_config_simple_from_json(schema)                             \u001b[31m│\u001b[0m\n",
       "\u001b[31m│\u001b[0m   \u001b[2m 84 \u001b[0m\u001b[2m│   │   \u001b[0m\u001b[94mreturn\u001b[0m _collection_config_from_json(schema)                                        \u001b[31m│\u001b[0m\n",
       "\u001b[31m│\u001b[0m                                                                                                  \u001b[31m│\u001b[0m\n",
       "\u001b[31m│\u001b[0m \u001b[2;33m/Users/jonnytr/micromamba/lib/python3.10/site-packages/weaviate/collections/\u001b[0m\u001b[1;33mconfig.py\u001b[0m:\u001b[94m49\u001b[0m in      \u001b[31m│\u001b[0m\n",
       "\u001b[31m│\u001b[0m \u001b[92m__get\u001b[0m                                                                                            \u001b[31m│\u001b[0m\n",
       "\u001b[31m│\u001b[0m                                                                                                  \u001b[31m│\u001b[0m\n",
       "\u001b[31m│\u001b[0m   \u001b[2m 46 \u001b[0m\u001b[2m│   │   \u001b[0m\u001b[96mself\u001b[0m.__tenant = tenant                                                             \u001b[31m│\u001b[0m\n",
       "\u001b[31m│\u001b[0m   \u001b[2m 47 \u001b[0m\u001b[2m│   \u001b[0m                                                                                       \u001b[31m│\u001b[0m\n",
       "\u001b[31m│\u001b[0m   \u001b[2m 48 \u001b[0m\u001b[2m│   \u001b[0m\u001b[94mdef\u001b[0m \u001b[92m__get\u001b[0m(\u001b[96mself\u001b[0m) -> Dict[\u001b[96mstr\u001b[0m, Any]:                                                     \u001b[31m│\u001b[0m\n",
       "\u001b[31m│\u001b[0m \u001b[31m❱ \u001b[0m 49 \u001b[2m│   │   \u001b[0mresponse = \u001b[96mself\u001b[0m.__connection.get(                                                  \u001b[31m│\u001b[0m\n",
       "\u001b[31m│\u001b[0m   \u001b[2m 50 \u001b[0m\u001b[2m│   │   │   \u001b[0mpath=\u001b[33mf\u001b[0m\u001b[33m\"\u001b[0m\u001b[33m/schema/\u001b[0m\u001b[33m{\u001b[0m\u001b[96mself\u001b[0m._name\u001b[33m}\u001b[0m\u001b[33m\"\u001b[0m,                                                  \u001b[31m│\u001b[0m\n",
       "\u001b[31m│\u001b[0m   \u001b[2m 51 \u001b[0m\u001b[2m│   │   │   \u001b[0merror_msg=\u001b[33m\"\u001b[0m\u001b[33mCollection configuration could not be retrieved.\u001b[0m\u001b[33m\"\u001b[0m,                  \u001b[31m│\u001b[0m\n",
       "\u001b[31m│\u001b[0m   \u001b[2m 52 \u001b[0m\u001b[2m│   │   │   \u001b[0mstatus_codes=_ExpectedStatusCodes(ok_in=\u001b[94m200\u001b[0m, error=\u001b[33m\"\u001b[0m\u001b[33mGet collection configura\u001b[0m   \u001b[31m│\u001b[0m\n",
       "\u001b[31m│\u001b[0m                                                                                                  \u001b[31m│\u001b[0m\n",
       "\u001b[31m│\u001b[0m \u001b[2;33m/Users/jonnytr/micromamba/lib/python3.10/site-packages/weaviate/connect/\u001b[0m\u001b[1;33mv4.py\u001b[0m:\u001b[94m561\u001b[0m in \u001b[92mget\u001b[0m         \u001b[31m│\u001b[0m\n",
       "\u001b[31m│\u001b[0m                                                                                                  \u001b[31m│\u001b[0m\n",
       "\u001b[31m│\u001b[0m   \u001b[2m558 \u001b[0m\u001b[2m│   │   \u001b[0m                                                                                   \u001b[31m│\u001b[0m\n",
       "\u001b[31m│\u001b[0m   \u001b[2m559 \u001b[0m\u001b[2m│   │   \u001b[0mrequest_url = \u001b[96mself\u001b[0m.url + \u001b[96mself\u001b[0m._api_version_path + path                             \u001b[31m│\u001b[0m\n",
       "\u001b[31m│\u001b[0m   \u001b[2m560 \u001b[0m\u001b[2m│   │   \u001b[0m                                                                                   \u001b[31m│\u001b[0m\n",
       "\u001b[31m│\u001b[0m \u001b[31m❱ \u001b[0m561 \u001b[2m│   │   \u001b[0m\u001b[94mreturn\u001b[0m \u001b[96mself\u001b[0m.__send(                                                                \u001b[31m│\u001b[0m\n",
       "\u001b[31m│\u001b[0m   \u001b[2m562 \u001b[0m\u001b[2m│   │   │   \u001b[0m\u001b[33m\"\u001b[0m\u001b[33mGET\u001b[0m\u001b[33m\"\u001b[0m, url=request_url, params=params, error_msg=error_msg, status_codes=sta   \u001b[31m│\u001b[0m\n",
       "\u001b[31m│\u001b[0m   \u001b[2m563 \u001b[0m\u001b[2m│   │   \u001b[0m)                                                                                  \u001b[31m│\u001b[0m\n",
       "\u001b[31m│\u001b[0m   \u001b[2m564 \u001b[0m                                                                                           \u001b[31m│\u001b[0m\n",
       "\u001b[31m│\u001b[0m                                                                                                  \u001b[31m│\u001b[0m\n",
       "\u001b[31m│\u001b[0m \u001b[2;33m/Users/jonnytr/micromamba/lib/python3.10/site-packages/weaviate/connect/\u001b[0m\u001b[1;33mv4.py\u001b[0m:\u001b[94m449\u001b[0m in \u001b[92m__send\u001b[0m      \u001b[31m│\u001b[0m\n",
       "\u001b[31m│\u001b[0m                                                                                                  \u001b[31m│\u001b[0m\n",
       "\u001b[31m│\u001b[0m   \u001b[2m446 \u001b[0m\u001b[2m│   │   │   │   \u001b[0mparams=params,                                                             \u001b[31m│\u001b[0m\n",
       "\u001b[31m│\u001b[0m   \u001b[2m447 \u001b[0m\u001b[2m│   │   │   │   \u001b[0mheaders=\u001b[96mself\u001b[0m.__get_latest_headers(),                                       \u001b[31m│\u001b[0m\n",
       "\u001b[31m│\u001b[0m   \u001b[2m448 \u001b[0m\u001b[2m│   │   │   \u001b[0m)                                                                              \u001b[31m│\u001b[0m\n",
       "\u001b[31m│\u001b[0m \u001b[31m❱ \u001b[0m449 \u001b[2m│   │   │   \u001b[0mres = \u001b[96mself\u001b[0m._client.send(req)                                                   \u001b[31m│\u001b[0m\n",
       "\u001b[31m│\u001b[0m   \u001b[2m450 \u001b[0m\u001b[2m│   │   │   \u001b[0m\u001b[94mif\u001b[0m status_codes \u001b[95mis\u001b[0m \u001b[95mnot\u001b[0m \u001b[94mNone\u001b[0m \u001b[95mand\u001b[0m res.status_code \u001b[95mnot\u001b[0m \u001b[95min\u001b[0m status_codes.ok:        \u001b[31m│\u001b[0m\n",
       "\u001b[31m│\u001b[0m   \u001b[2m451 \u001b[0m\u001b[2m│   │   │   │   \u001b[0m\u001b[94mraise\u001b[0m UnexpectedStatusCodeError(error_msg, response=res)                   \u001b[31m│\u001b[0m\n",
       "\u001b[31m│\u001b[0m   \u001b[2m452 \u001b[0m\u001b[2m│   │   │   \u001b[0m\u001b[94mreturn\u001b[0m cast(Response, res)                                                     \u001b[31m│\u001b[0m\n",
       "\u001b[31m│\u001b[0m                                                                                                  \u001b[31m│\u001b[0m\n",
       "\u001b[31m│\u001b[0m \u001b[2;33m/Users/jonnytr/micromamba/lib/python3.10/site-packages/httpx/\u001b[0m\u001b[1;33m_client.py\u001b[0m:\u001b[94m914\u001b[0m in \u001b[92msend\u001b[0m              \u001b[31m│\u001b[0m\n",
       "\u001b[31m│\u001b[0m                                                                                                  \u001b[31m│\u001b[0m\n",
       "\u001b[31m│\u001b[0m   \u001b[2m 911 \u001b[0m\u001b[2m│   │   \u001b[0m                                                                                  \u001b[31m│\u001b[0m\n",
       "\u001b[31m│\u001b[0m   \u001b[2m 912 \u001b[0m\u001b[2m│   │   \u001b[0mauth = \u001b[96mself\u001b[0m._build_request_auth(request, auth)                                    \u001b[31m│\u001b[0m\n",
       "\u001b[31m│\u001b[0m   \u001b[2m 913 \u001b[0m\u001b[2m│   │   \u001b[0m                                                                                  \u001b[31m│\u001b[0m\n",
       "\u001b[31m│\u001b[0m \u001b[31m❱ \u001b[0m 914 \u001b[2m│   │   \u001b[0mresponse = \u001b[96mself\u001b[0m._send_handling_auth(                                              \u001b[31m│\u001b[0m\n",
       "\u001b[31m│\u001b[0m   \u001b[2m 915 \u001b[0m\u001b[2m│   │   │   \u001b[0mrequest,                                                                      \u001b[31m│\u001b[0m\n",
       "\u001b[31m│\u001b[0m   \u001b[2m 916 \u001b[0m\u001b[2m│   │   │   \u001b[0mauth=auth,                                                                    \u001b[31m│\u001b[0m\n",
       "\u001b[31m│\u001b[0m   \u001b[2m 917 \u001b[0m\u001b[2m│   │   │   \u001b[0mfollow_redirects=follow_redirects,                                            \u001b[31m│\u001b[0m\n",
       "\u001b[31m│\u001b[0m                                                                                                  \u001b[31m│\u001b[0m\n",
       "\u001b[31m│\u001b[0m \u001b[2;33m/Users/jonnytr/micromamba/lib/python3.10/site-packages/httpx/\u001b[0m\u001b[1;33m_client.py\u001b[0m:\u001b[94m942\u001b[0m in                   \u001b[31m│\u001b[0m\n",
       "\u001b[31m│\u001b[0m \u001b[92m_send_handling_auth\u001b[0m                                                                              \u001b[31m│\u001b[0m\n",
       "\u001b[31m│\u001b[0m                                                                                                  \u001b[31m│\u001b[0m\n",
       "\u001b[31m│\u001b[0m   \u001b[2m 939 \u001b[0m\u001b[2m│   │   │   \u001b[0mrequest = \u001b[96mnext\u001b[0m(auth_flow)                                                     \u001b[31m│\u001b[0m\n",
       "\u001b[31m│\u001b[0m   \u001b[2m 940 \u001b[0m\u001b[2m│   │   │   \u001b[0m                                                                              \u001b[31m│\u001b[0m\n",
       "\u001b[31m│\u001b[0m   \u001b[2m 941 \u001b[0m\u001b[2m│   │   │   \u001b[0m\u001b[94mwhile\u001b[0m \u001b[94mTrue\u001b[0m:                                                                   \u001b[31m│\u001b[0m\n",
       "\u001b[31m│\u001b[0m \u001b[31m❱ \u001b[0m 942 \u001b[2m│   │   │   │   \u001b[0mresponse = \u001b[96mself\u001b[0m._send_handling_redirects(                                 \u001b[31m│\u001b[0m\n",
       "\u001b[31m│\u001b[0m   \u001b[2m 943 \u001b[0m\u001b[2m│   │   │   │   │   \u001b[0mrequest,                                                              \u001b[31m│\u001b[0m\n",
       "\u001b[31m│\u001b[0m   \u001b[2m 944 \u001b[0m\u001b[2m│   │   │   │   │   \u001b[0mfollow_redirects=follow_redirects,                                    \u001b[31m│\u001b[0m\n",
       "\u001b[31m│\u001b[0m   \u001b[2m 945 \u001b[0m\u001b[2m│   │   │   │   │   \u001b[0mhistory=history,                                                      \u001b[31m│\u001b[0m\n",
       "\u001b[31m│\u001b[0m                                                                                                  \u001b[31m│\u001b[0m\n",
       "\u001b[31m│\u001b[0m \u001b[2;33m/Users/jonnytr/micromamba/lib/python3.10/site-packages/httpx/\u001b[0m\u001b[1;33m_client.py\u001b[0m:\u001b[94m979\u001b[0m in                   \u001b[31m│\u001b[0m\n",
       "\u001b[31m│\u001b[0m \u001b[92m_send_handling_redirects\u001b[0m                                                                         \u001b[31m│\u001b[0m\n",
       "\u001b[31m│\u001b[0m                                                                                                  \u001b[31m│\u001b[0m\n",
       "\u001b[31m│\u001b[0m   \u001b[2m 976 \u001b[0m\u001b[2m│   │   │   \u001b[0m\u001b[94mfor\u001b[0m hook \u001b[95min\u001b[0m \u001b[96mself\u001b[0m._event_hooks[\u001b[33m\"\u001b[0m\u001b[33mrequest\u001b[0m\u001b[33m\"\u001b[0m]:                                     \u001b[31m│\u001b[0m\n",
       "\u001b[31m│\u001b[0m   \u001b[2m 977 \u001b[0m\u001b[2m│   │   │   │   \u001b[0mhook(request)                                                             \u001b[31m│\u001b[0m\n",
       "\u001b[31m│\u001b[0m   \u001b[2m 978 \u001b[0m\u001b[2m│   │   │   \u001b[0m                                                                              \u001b[31m│\u001b[0m\n",
       "\u001b[31m│\u001b[0m \u001b[31m❱ \u001b[0m 979 \u001b[2m│   │   │   \u001b[0mresponse = \u001b[96mself\u001b[0m._send_single_request(request)                                 \u001b[31m│\u001b[0m\n",
       "\u001b[31m│\u001b[0m   \u001b[2m 980 \u001b[0m\u001b[2m│   │   │   \u001b[0m\u001b[94mtry\u001b[0m:                                                                          \u001b[31m│\u001b[0m\n",
       "\u001b[31m│\u001b[0m   \u001b[2m 981 \u001b[0m\u001b[2m│   │   │   │   \u001b[0m\u001b[94mfor\u001b[0m hook \u001b[95min\u001b[0m \u001b[96mself\u001b[0m._event_hooks[\u001b[33m\"\u001b[0m\u001b[33mresponse\u001b[0m\u001b[33m\"\u001b[0m]:                                \u001b[31m│\u001b[0m\n",
       "\u001b[31m│\u001b[0m   \u001b[2m 982 \u001b[0m\u001b[2m│   │   │   │   │   \u001b[0mhook(response)                                                        \u001b[31m│\u001b[0m\n",
       "\u001b[31m│\u001b[0m                                                                                                  \u001b[31m│\u001b[0m\n",
       "\u001b[31m│\u001b[0m \u001b[2;33m/Users/jonnytr/micromamba/lib/python3.10/site-packages/httpx/\u001b[0m\u001b[1;33m_client.py\u001b[0m:\u001b[94m1015\u001b[0m in                  \u001b[31m│\u001b[0m\n",
       "\u001b[31m│\u001b[0m \u001b[92m_send_single_request\u001b[0m                                                                             \u001b[31m│\u001b[0m\n",
       "\u001b[31m│\u001b[0m                                                                                                  \u001b[31m│\u001b[0m\n",
       "\u001b[31m│\u001b[0m   \u001b[2m1012 \u001b[0m\u001b[2m│   │   │   \u001b[0m)                                                                             \u001b[31m│\u001b[0m\n",
       "\u001b[31m│\u001b[0m   \u001b[2m1013 \u001b[0m\u001b[2m│   │   \u001b[0m                                                                                  \u001b[31m│\u001b[0m\n",
       "\u001b[31m│\u001b[0m   \u001b[2m1014 \u001b[0m\u001b[2m│   │   \u001b[0m\u001b[94mwith\u001b[0m request_context(request=request):                                            \u001b[31m│\u001b[0m\n",
       "\u001b[31m│\u001b[0m \u001b[31m❱ \u001b[0m1015 \u001b[2m│   │   │   \u001b[0mresponse = transport.handle_request(request)                                  \u001b[31m│\u001b[0m\n",
       "\u001b[31m│\u001b[0m   \u001b[2m1016 \u001b[0m\u001b[2m│   │   \u001b[0m                                                                                  \u001b[31m│\u001b[0m\n",
       "\u001b[31m│\u001b[0m   \u001b[2m1017 \u001b[0m\u001b[2m│   │   \u001b[0m\u001b[94massert\u001b[0m \u001b[96misinstance\u001b[0m(response.stream, SyncByteStream)                                \u001b[31m│\u001b[0m\n",
       "\u001b[31m│\u001b[0m   \u001b[2m1018 \u001b[0m                                                                                          \u001b[31m│\u001b[0m\n",
       "\u001b[31m│\u001b[0m                                                                                                  \u001b[31m│\u001b[0m\n",
       "\u001b[31m│\u001b[0m \u001b[2;33m/Users/jonnytr/micromamba/lib/python3.10/site-packages/httpx/_transports/\u001b[0m\u001b[1;33mdefault.py\u001b[0m:\u001b[94m233\u001b[0m in       \u001b[31m│\u001b[0m\n",
       "\u001b[31m│\u001b[0m \u001b[92mhandle_request\u001b[0m                                                                                   \u001b[31m│\u001b[0m\n",
       "\u001b[31m│\u001b[0m                                                                                                  \u001b[31m│\u001b[0m\n",
       "\u001b[31m│\u001b[0m   \u001b[2m230 \u001b[0m\u001b[2m│   │   │   \u001b[0mextensions=request.extensions,                                                 \u001b[31m│\u001b[0m\n",
       "\u001b[31m│\u001b[0m   \u001b[2m231 \u001b[0m\u001b[2m│   │   \u001b[0m)                                                                                  \u001b[31m│\u001b[0m\n",
       "\u001b[31m│\u001b[0m   \u001b[2m232 \u001b[0m\u001b[2m│   │   \u001b[0m\u001b[94mwith\u001b[0m map_httpcore_exceptions():                                                    \u001b[31m│\u001b[0m\n",
       "\u001b[31m│\u001b[0m \u001b[31m❱ \u001b[0m233 \u001b[2m│   │   │   \u001b[0mresp = \u001b[96mself\u001b[0m._pool.handle_request(req)                                          \u001b[31m│\u001b[0m\n",
       "\u001b[31m│\u001b[0m   \u001b[2m234 \u001b[0m\u001b[2m│   │   \u001b[0m                                                                                   \u001b[31m│\u001b[0m\n",
       "\u001b[31m│\u001b[0m   \u001b[2m235 \u001b[0m\u001b[2m│   │   \u001b[0m\u001b[94massert\u001b[0m \u001b[96misinstance\u001b[0m(resp.stream, typing.Iterable)                                    \u001b[31m│\u001b[0m\n",
       "\u001b[31m│\u001b[0m   \u001b[2m236 \u001b[0m                                                                                           \u001b[31m│\u001b[0m\n",
       "\u001b[31m│\u001b[0m                                                                                                  \u001b[31m│\u001b[0m\n",
       "\u001b[31m│\u001b[0m \u001b[2;33m/Users/jonnytr/micromamba/lib/python3.10/site-packages/httpcore/_sync/\u001b[0m\u001b[1;33mconnection_pool.py\u001b[0m:\u001b[94m216\u001b[0m in  \u001b[31m│\u001b[0m\n",
       "\u001b[31m│\u001b[0m \u001b[92mhandle_request\u001b[0m                                                                                   \u001b[31m│\u001b[0m\n",
       "\u001b[31m│\u001b[0m                                                                                                  \u001b[31m│\u001b[0m\n",
       "\u001b[31m│\u001b[0m   \u001b[2m213 \u001b[0m\u001b[2m│   │   │   │   \u001b[0mclosing = \u001b[96mself\u001b[0m._assign_requests_to_connections()                           \u001b[31m│\u001b[0m\n",
       "\u001b[31m│\u001b[0m   \u001b[2m214 \u001b[0m\u001b[2m│   │   │   \u001b[0m                                                                               \u001b[31m│\u001b[0m\n",
       "\u001b[31m│\u001b[0m   \u001b[2m215 \u001b[0m\u001b[2m│   │   │   \u001b[0m\u001b[96mself\u001b[0m._close_connections(closing)                                               \u001b[31m│\u001b[0m\n",
       "\u001b[31m│\u001b[0m \u001b[31m❱ \u001b[0m216 \u001b[2m│   │   │   \u001b[0m\u001b[94mraise\u001b[0m exc \u001b[94mfrom\u001b[0m \u001b[94mNone\u001b[0m                                                            \u001b[31m│\u001b[0m\n",
       "\u001b[31m│\u001b[0m   \u001b[2m217 \u001b[0m\u001b[2m│   │   \u001b[0m                                                                                   \u001b[31m│\u001b[0m\n",
       "\u001b[31m│\u001b[0m   \u001b[2m218 \u001b[0m\u001b[2m│   │   \u001b[0m\u001b[2m# Return the response. Note that in this case we still have to manage\u001b[0m              \u001b[31m│\u001b[0m\n",
       "\u001b[31m│\u001b[0m   \u001b[2m219 \u001b[0m\u001b[2m│   │   \u001b[0m\u001b[2m# the point at which the response is closed.\u001b[0m                                       \u001b[31m│\u001b[0m\n",
       "\u001b[31m│\u001b[0m                                                                                                  \u001b[31m│\u001b[0m\n",
       "\u001b[31m│\u001b[0m \u001b[2;33m/Users/jonnytr/micromamba/lib/python3.10/site-packages/httpcore/_sync/\u001b[0m\u001b[1;33mconnection_pool.py\u001b[0m:\u001b[94m196\u001b[0m in  \u001b[31m│\u001b[0m\n",
       "\u001b[31m│\u001b[0m \u001b[92mhandle_request\u001b[0m                                                                                   \u001b[31m│\u001b[0m\n",
       "\u001b[31m│\u001b[0m                                                                                                  \u001b[31m│\u001b[0m\n",
       "\u001b[31m│\u001b[0m   \u001b[2m193 \u001b[0m\u001b[2m│   │   │   │   \u001b[0m                                                                           \u001b[31m│\u001b[0m\n",
       "\u001b[31m│\u001b[0m   \u001b[2m194 \u001b[0m\u001b[2m│   │   │   │   \u001b[0m\u001b[94mtry\u001b[0m:                                                                       \u001b[31m│\u001b[0m\n",
       "\u001b[31m│\u001b[0m   \u001b[2m195 \u001b[0m\u001b[2m│   │   │   │   │   \u001b[0m\u001b[2m# Send the request on the assigned connection.\u001b[0m                         \u001b[31m│\u001b[0m\n",
       "\u001b[31m│\u001b[0m \u001b[31m❱ \u001b[0m196 \u001b[2m│   │   │   │   │   \u001b[0mresponse = connection.handle_request(                                  \u001b[31m│\u001b[0m\n",
       "\u001b[31m│\u001b[0m   \u001b[2m197 \u001b[0m\u001b[2m│   │   │   │   │   │   \u001b[0mpool_request.request                                               \u001b[31m│\u001b[0m\n",
       "\u001b[31m│\u001b[0m   \u001b[2m198 \u001b[0m\u001b[2m│   │   │   │   │   \u001b[0m)                                                                      \u001b[31m│\u001b[0m\n",
       "\u001b[31m│\u001b[0m   \u001b[2m199 \u001b[0m\u001b[2m│   │   │   │   \u001b[0m\u001b[94mexcept\u001b[0m ConnectionNotAvailable:                                             \u001b[31m│\u001b[0m\n",
       "\u001b[31m│\u001b[0m                                                                                                  \u001b[31m│\u001b[0m\n",
       "\u001b[31m│\u001b[0m \u001b[2;33m/Users/jonnytr/micromamba/lib/python3.10/site-packages/httpcore/_sync/\u001b[0m\u001b[1;33mconnection.py\u001b[0m:\u001b[94m101\u001b[0m in       \u001b[31m│\u001b[0m\n",
       "\u001b[31m│\u001b[0m \u001b[92mhandle_request\u001b[0m                                                                                   \u001b[31m│\u001b[0m\n",
       "\u001b[31m│\u001b[0m                                                                                                  \u001b[31m│\u001b[0m\n",
       "\u001b[31m│\u001b[0m   \u001b[2m 98 \u001b[0m\u001b[2m│   │   │   \u001b[0m\u001b[96mself\u001b[0m._connect_failed = \u001b[94mTrue\u001b[0m                                                    \u001b[31m│\u001b[0m\n",
       "\u001b[31m│\u001b[0m   \u001b[2m 99 \u001b[0m\u001b[2m│   │   │   \u001b[0m\u001b[94mraise\u001b[0m exc                                                                      \u001b[31m│\u001b[0m\n",
       "\u001b[31m│\u001b[0m   \u001b[2m100 \u001b[0m\u001b[2m│   │   \u001b[0m                                                                                   \u001b[31m│\u001b[0m\n",
       "\u001b[31m│\u001b[0m \u001b[31m❱ \u001b[0m101 \u001b[2m│   │   \u001b[0m\u001b[94mreturn\u001b[0m \u001b[96mself\u001b[0m._connection.handle_request(request)                                    \u001b[31m│\u001b[0m\n",
       "\u001b[31m│\u001b[0m   \u001b[2m102 \u001b[0m\u001b[2m│   \u001b[0m                                                                                       \u001b[31m│\u001b[0m\n",
       "\u001b[31m│\u001b[0m   \u001b[2m103 \u001b[0m\u001b[2m│   \u001b[0m\u001b[94mdef\u001b[0m \u001b[92m_connect\u001b[0m(\u001b[96mself\u001b[0m, request: Request) -> NetworkStream:                                 \u001b[31m│\u001b[0m\n",
       "\u001b[31m│\u001b[0m   \u001b[2m104 \u001b[0m\u001b[2m│   │   \u001b[0mtimeouts = request.extensions.get(\u001b[33m\"\u001b[0m\u001b[33mtimeout\u001b[0m\u001b[33m\"\u001b[0m, {})                                   \u001b[31m│\u001b[0m\n",
       "\u001b[31m│\u001b[0m                                                                                                  \u001b[31m│\u001b[0m\n",
       "\u001b[31m│\u001b[0m \u001b[2;33m/Users/jonnytr/micromamba/lib/python3.10/site-packages/httpcore/_sync/\u001b[0m\u001b[1;33mhttp11.py\u001b[0m:\u001b[94m143\u001b[0m in           \u001b[31m│\u001b[0m\n",
       "\u001b[31m│\u001b[0m \u001b[92mhandle_request\u001b[0m                                                                                   \u001b[31m│\u001b[0m\n",
       "\u001b[31m│\u001b[0m                                                                                                  \u001b[31m│\u001b[0m\n",
       "\u001b[31m│\u001b[0m   \u001b[2m140 \u001b[0m\u001b[2m│   │   │   \u001b[0m\u001b[94mwith\u001b[0m ShieldCancellation():                                                     \u001b[31m│\u001b[0m\n",
       "\u001b[31m│\u001b[0m   \u001b[2m141 \u001b[0m\u001b[2m│   │   │   │   \u001b[0m\u001b[94mwith\u001b[0m Trace(\u001b[33m\"\u001b[0m\u001b[33mresponse_closed\u001b[0m\u001b[33m\"\u001b[0m, logger, request) \u001b[94mas\u001b[0m trace:                   \u001b[31m│\u001b[0m\n",
       "\u001b[31m│\u001b[0m   \u001b[2m142 \u001b[0m\u001b[2m│   │   │   │   │   \u001b[0m\u001b[96mself\u001b[0m._response_closed()                                                \u001b[31m│\u001b[0m\n",
       "\u001b[31m│\u001b[0m \u001b[31m❱ \u001b[0m143 \u001b[2m│   │   │   \u001b[0m\u001b[94mraise\u001b[0m exc                                                                      \u001b[31m│\u001b[0m\n",
       "\u001b[31m│\u001b[0m   \u001b[2m144 \u001b[0m\u001b[2m│   \u001b[0m                                                                                       \u001b[31m│\u001b[0m\n",
       "\u001b[31m│\u001b[0m   \u001b[2m145 \u001b[0m\u001b[2m│   \u001b[0m\u001b[2m# Sending the request...\u001b[0m                                                               \u001b[31m│\u001b[0m\n",
       "\u001b[31m│\u001b[0m   \u001b[2m146 \u001b[0m                                                                                           \u001b[31m│\u001b[0m\n",
       "\u001b[31m│\u001b[0m                                                                                                  \u001b[31m│\u001b[0m\n",
       "\u001b[31m│\u001b[0m \u001b[2;33m/Users/jonnytr/micromamba/lib/python3.10/site-packages/httpcore/_sync/\u001b[0m\u001b[1;33mhttp11.py\u001b[0m:\u001b[94m113\u001b[0m in           \u001b[31m│\u001b[0m\n",
       "\u001b[31m│\u001b[0m \u001b[92mhandle_request\u001b[0m                                                                                   \u001b[31m│\u001b[0m\n",
       "\u001b[31m│\u001b[0m                                                                                                  \u001b[31m│\u001b[0m\n",
       "\u001b[31m│\u001b[0m   \u001b[2m110 \u001b[0m\u001b[2m│   │   │   │   │   \u001b[0mreason_phrase,                                                         \u001b[31m│\u001b[0m\n",
       "\u001b[31m│\u001b[0m   \u001b[2m111 \u001b[0m\u001b[2m│   │   │   │   │   \u001b[0mheaders,                                                               \u001b[31m│\u001b[0m\n",
       "\u001b[31m│\u001b[0m   \u001b[2m112 \u001b[0m\u001b[2m│   │   │   │   │   \u001b[0mtrailing_data,                                                         \u001b[31m│\u001b[0m\n",
       "\u001b[31m│\u001b[0m \u001b[31m❱ \u001b[0m113 \u001b[2m│   │   │   │   \u001b[0m) = \u001b[96mself\u001b[0m._receive_response_headers(**kwargs)                               \u001b[31m│\u001b[0m\n",
       "\u001b[31m│\u001b[0m   \u001b[2m114 \u001b[0m\u001b[2m│   │   │   │   \u001b[0mtrace.return_value = (                                                     \u001b[31m│\u001b[0m\n",
       "\u001b[31m│\u001b[0m   \u001b[2m115 \u001b[0m\u001b[2m│   │   │   │   │   \u001b[0mhttp_version,                                                          \u001b[31m│\u001b[0m\n",
       "\u001b[31m│\u001b[0m   \u001b[2m116 \u001b[0m\u001b[2m│   │   │   │   │   \u001b[0mstatus,                                                                \u001b[31m│\u001b[0m\n",
       "\u001b[31m│\u001b[0m                                                                                                  \u001b[31m│\u001b[0m\n",
       "\u001b[31m│\u001b[0m \u001b[2;33m/Users/jonnytr/micromamba/lib/python3.10/site-packages/httpcore/_sync/\u001b[0m\u001b[1;33mhttp11.py\u001b[0m:\u001b[94m186\u001b[0m in           \u001b[31m│\u001b[0m\n",
       "\u001b[31m│\u001b[0m \u001b[92m_receive_response_headers\u001b[0m                                                                        \u001b[31m│\u001b[0m\n",
       "\u001b[31m│\u001b[0m                                                                                                  \u001b[31m│\u001b[0m\n",
       "\u001b[31m│\u001b[0m   \u001b[2m183 \u001b[0m\u001b[2m│   │   \u001b[0mtimeout = timeouts.get(\u001b[33m\"\u001b[0m\u001b[33mread\u001b[0m\u001b[33m\"\u001b[0m, \u001b[94mNone\u001b[0m)                                               \u001b[31m│\u001b[0m\n",
       "\u001b[31m│\u001b[0m   \u001b[2m184 \u001b[0m\u001b[2m│   │   \u001b[0m                                                                                   \u001b[31m│\u001b[0m\n",
       "\u001b[31m│\u001b[0m   \u001b[2m185 \u001b[0m\u001b[2m│   │   \u001b[0m\u001b[94mwhile\u001b[0m \u001b[94mTrue\u001b[0m:                                                                        \u001b[31m│\u001b[0m\n",
       "\u001b[31m│\u001b[0m \u001b[31m❱ \u001b[0m186 \u001b[2m│   │   │   \u001b[0mevent = \u001b[96mself\u001b[0m._receive_event(timeout=timeout)                                   \u001b[31m│\u001b[0m\n",
       "\u001b[31m│\u001b[0m   \u001b[2m187 \u001b[0m\u001b[2m│   │   │   \u001b[0m\u001b[94mif\u001b[0m \u001b[96misinstance\u001b[0m(event, h11.Response):                                            \u001b[31m│\u001b[0m\n",
       "\u001b[31m│\u001b[0m   \u001b[2m188 \u001b[0m\u001b[2m│   │   │   │   \u001b[0m\u001b[94mbreak\u001b[0m                                                                      \u001b[31m│\u001b[0m\n",
       "\u001b[31m│\u001b[0m   \u001b[2m189 \u001b[0m\u001b[2m│   │   │   \u001b[0m\u001b[94mif\u001b[0m (                                                                           \u001b[31m│\u001b[0m\n",
       "\u001b[31m│\u001b[0m                                                                                                  \u001b[31m│\u001b[0m\n",
       "\u001b[31m│\u001b[0m \u001b[2;33m/Users/jonnytr/micromamba/lib/python3.10/site-packages/httpcore/_sync/\u001b[0m\u001b[1;33mhttp11.py\u001b[0m:\u001b[94m224\u001b[0m in           \u001b[31m│\u001b[0m\n",
       "\u001b[31m│\u001b[0m \u001b[92m_receive_event\u001b[0m                                                                                   \u001b[31m│\u001b[0m\n",
       "\u001b[31m│\u001b[0m                                                                                                  \u001b[31m│\u001b[0m\n",
       "\u001b[31m│\u001b[0m   \u001b[2m221 \u001b[0m\u001b[2m│   │   │   │   \u001b[0mevent = \u001b[96mself\u001b[0m._h11_state.next_event()                                       \u001b[31m│\u001b[0m\n",
       "\u001b[31m│\u001b[0m   \u001b[2m222 \u001b[0m\u001b[2m│   │   │   \u001b[0m                                                                               \u001b[31m│\u001b[0m\n",
       "\u001b[31m│\u001b[0m   \u001b[2m223 \u001b[0m\u001b[2m│   │   │   \u001b[0m\u001b[94mif\u001b[0m event \u001b[95mis\u001b[0m h11.NEED_DATA:                                                     \u001b[31m│\u001b[0m\n",
       "\u001b[31m│\u001b[0m \u001b[31m❱ \u001b[0m224 \u001b[2m│   │   │   │   \u001b[0mdata = \u001b[96mself\u001b[0m._network_stream.read(                                          \u001b[31m│\u001b[0m\n",
       "\u001b[31m│\u001b[0m   \u001b[2m225 \u001b[0m\u001b[2m│   │   │   │   │   \u001b[0m\u001b[96mself\u001b[0m.READ_NUM_BYTES, timeout=timeout                                   \u001b[31m│\u001b[0m\n",
       "\u001b[31m│\u001b[0m   \u001b[2m226 \u001b[0m\u001b[2m│   │   │   │   \u001b[0m)                                                                          \u001b[31m│\u001b[0m\n",
       "\u001b[31m│\u001b[0m   \u001b[2m227 \u001b[0m                                                                                           \u001b[31m│\u001b[0m\n",
       "\u001b[31m│\u001b[0m                                                                                                  \u001b[31m│\u001b[0m\n",
       "\u001b[31m│\u001b[0m \u001b[2;33m/Users/jonnytr/micromamba/lib/python3.10/site-packages/httpcore/_backends/\u001b[0m\u001b[1;33msync.py\u001b[0m:\u001b[94m126\u001b[0m in \u001b[92mread\u001b[0m    \u001b[31m│\u001b[0m\n",
       "\u001b[31m│\u001b[0m                                                                                                  \u001b[31m│\u001b[0m\n",
       "\u001b[31m│\u001b[0m   \u001b[2m123 \u001b[0m\u001b[2m│   │   \u001b[0mexc_map: ExceptionMapping = {socket.timeout: ReadTimeout, \u001b[96mOSError\u001b[0m: ReadError}      \u001b[31m│\u001b[0m\n",
       "\u001b[31m│\u001b[0m   \u001b[2m124 \u001b[0m\u001b[2m│   │   \u001b[0m\u001b[94mwith\u001b[0m map_exceptions(exc_map):                                                      \u001b[31m│\u001b[0m\n",
       "\u001b[31m│\u001b[0m   \u001b[2m125 \u001b[0m\u001b[2m│   │   │   \u001b[0m\u001b[96mself\u001b[0m._sock.settimeout(timeout)                                                 \u001b[31m│\u001b[0m\n",
       "\u001b[31m│\u001b[0m \u001b[31m❱ \u001b[0m126 \u001b[2m│   │   │   \u001b[0m\u001b[94mreturn\u001b[0m \u001b[96mself\u001b[0m._sock.recv(max_bytes)                                              \u001b[31m│\u001b[0m\n",
       "\u001b[31m│\u001b[0m   \u001b[2m127 \u001b[0m\u001b[2m│   \u001b[0m                                                                                       \u001b[31m│\u001b[0m\n",
       "\u001b[31m│\u001b[0m   \u001b[2m128 \u001b[0m\u001b[2m│   \u001b[0m\u001b[94mdef\u001b[0m \u001b[92mwrite\u001b[0m(\u001b[96mself\u001b[0m, buffer: \u001b[96mbytes\u001b[0m, timeout: typing.Optional[\u001b[96mfloat\u001b[0m] = \u001b[94mNone\u001b[0m) -> \u001b[94mNone\u001b[0m:        \u001b[31m│\u001b[0m\n",
       "\u001b[31m│\u001b[0m   \u001b[2m129 \u001b[0m\u001b[2m│   │   \u001b[0m\u001b[94mif\u001b[0m \u001b[95mnot\u001b[0m buffer:                                                                     \u001b[31m│\u001b[0m\n",
       "\u001b[31m╰──────────────────────────────────────────────────────────────────────────────────────────────────╯\u001b[0m\n",
       "\u001b[1;91mKeyboardInterrupt\u001b[0m\n"
      ]
     },
     "metadata": {},
     "output_type": "display_data"
    }
   ],
   "source": [
    "record_updates = []\n",
    "\n",
    "for record in tqdm(remote_dataset.records):\n",
    "    metadata = record.metadata\n",
    "    data = get_record_data(record, fields='header', answers='header-correction')\n",
    "    header = data.get('header-correction', data.get('header'))\n",
    "    \n",
    "    if 'number' in metadata:\n",
    "        metadata['number'] = metadata['number'].replace('FigureSegment', 'Figure').replace('TableSegment', 'Table')\n",
    "        \n",
    "    if 'type' in metadata:\n",
    "        metadata['type'] = metadata['type'].replace('FigureSegment', 'figure').replace('TableSegment', 'table').lower()\n",
    "    elif 'table' in metadata.get('number', '').lower() or 'figure' in metadata.get('number', '').lower():\n",
    "        metadata['type'] = metadata['number'].split(' ')[0].lower()\n",
    "    else:\n",
    "        metadata['type'] = 'table'\n",
    "    \n",
    "    record.metadata = metadata            \n",
    "    \n",
    "    record_updates.append(record)\n",
    "len(record_updates)"
   ]
  },
  {
   "cell_type": "code",
   "execution_count": 117,
   "id": "fa69261e-9783-4070-a2bc-67025b5b9596",
   "metadata": {},
   "outputs": [
    {
     "data": {
      "application/vnd.jupyter.widget-view+json": {
       "model_id": "d075cf03ad3d4af39a473665d5ef9bd1",
       "version_major": 2,
       "version_minor": 0
      },
      "text/plain": [
       "Output()"
      ]
     },
     "metadata": {},
     "output_type": "display_data"
    },
    {
     "data": {
      "text/html": [
       "<pre style=\"white-space:pre;overflow-x:auto;line-height:normal;font-family:Menlo,'DejaVu Sans Mono',consolas,'Courier New',monospace\"></pre>\n"
      ],
      "text/plain": []
     },
     "metadata": {},
     "output_type": "display_data"
    },
    {
     "data": {
      "text/html": [
       "<pre style=\"white-space:pre;overflow-x:auto;line-height:normal;font-family:Menlo,'DejaVu Sans Mono',consolas,'Courier New',monospace\">\n",
       "</pre>\n"
      ],
      "text/plain": [
       "\n"
      ]
     },
     "metadata": {},
     "output_type": "display_data"
    }
   ],
   "source": [
    "remote_dataset.records.update(record_updates)"
   ]
  },
  {
   "cell_type": "markdown",
   "id": "03b51eb4-cf6f-41ba-a623-a4190728ed69",
   "metadata": {
    "jp-MarkdownHeadingCollapsed": true
   },
   "source": [
    "# Evaluate OCR Accuracy"
   ]
  },
  {
   "cell_type": "code",
   "execution_count": null,
   "id": "0af04a2f-91a0-4ee1-855e-454cf9b3a666",
   "metadata": {
    "editable": true,
    "scrolled": true,
    "slideshow": {
     "slide_type": ""
    },
    "tags": []
   },
   "outputs": [],
   "source": [
    "results = {}\n",
    "count = 0\n",
    "for reference in tqdm(papers_uploaded):\n",
    "    pred_tables = get_paper_tables(papers.loc[reference], remote_dataset, select='ranking')\n",
    "    true_tables = get_paper_tables(papers.loc[reference], remote_dataset, select='text-correction')\n",
    "    count += len(pred_tables)\n",
    "\n",
    "    if len(pred_tables) != len(true_tables): \n",
    "        print(len(pred_tables), len(true_tables))\n",
    "\n",
    "    pred_tables = [seg.html for seg in pred_tables.items]\n",
    "    true_tables = [seg.html for seg in true_tables.items]\n",
    "    results[reference] = grits_multi_tables(true_tables, pred_tables).mean().to_frame().T\n",
    "\n",
    "results = pd.concat(results).droplevel(level=1, axis=0)\n",
    "metrics.mean(0).to_frame().T.map('{:.1%}'.format)"
   ]
  },
  {
   "cell_type": "code",
   "execution_count": null,
   "id": "991f60a8-2b46-49cd-a04b-ac59a1eb613b",
   "metadata": {},
   "outputs": [],
   "source": [
    "pred_tables"
   ]
  },
  {
   "cell_type": "code",
   "execution_count": null,
   "id": "8a74cf1d-92d7-426c-96b2-aec678811bd6",
   "metadata": {},
   "outputs": [],
   "source": [
    "count/sum(table_counts.values()), count, sum(table_counts.values())"
   ]
  },
  {
   "cell_type": "code",
   "execution_count": null,
   "id": "0fc26c0e-7a9b-4757-b480-4db5ab2d025f",
   "metadata": {
    "scrolled": true
   },
   "outputs": [],
   "source": [
    "table_counts = {}\n",
    "figure_counts = {}\n",
    "for reference in papers_uploaded:\n",
    "    tables = get_paper_tables(papers.loc[reference], remote_dataset, select='text-correction', skip_status=None)\n",
    "    if not tables: continue\n",
    "    table_counts[reference] = max([table.number for table in tables.items if table.number and 'table' in table.header.lower()], default=0)\n",
    "    figure_counts[reference] = max([table.number for table in tables.items if table.number and table.header.lower().strip().startswith('fig')], default=0)\n",
    "\n",
    "sum(figure_counts.values()), sum(table_counts.values())"
   ]
  },
  {
   "cell_type": "code",
   "execution_count": null,
   "id": "7d96f35f-0496-4feb-b1a2-9a49745efe40",
   "metadata": {},
   "outputs": [],
   "source": [
    "figure_counts"
   ]
  },
  {
   "cell_type": "code",
   "execution_count": null,
   "id": "1f485ca6-d8cf-4cee-9388-2ff398a851b6",
   "metadata": {},
   "outputs": [],
   "source": [
    "results = {}\n",
    "durations = {}\n",
    "count = 0\n",
    "for reference in tqdm(papers_uploaded):\n",
    "    pred_tables = get_paper_tables(papers.loc[reference], remote_dataset, select='ranking')\n",
    "    true_tables = get_paper_tables(papers.loc[reference], remote_dataset, select='text-correction')\n",
    "    count += len(pred_tables)\n",
    "\n",
    "    if len(pred_tables) != len(true_tables): \n",
    "        print(len(pred_tables), len(true_tables))\n",
    "\n",
    "    for i, (pred_table, true_table) in enumerate(zip(pred_tables.items, true_tables.items)):\n",
    "        results[(reference, i)] = grits_multi_tables([true_table.html], [pred_table.html])\n",
    "        durations[(reference, i)] = pred_table.duration\n",
    "\n"
   ]
  },
  {
   "cell_type": "code",
   "execution_count": null,
   "id": "66e63bc4-10dc-42e9-9ad5-ac18afa93b1f",
   "metadata": {
    "scrolled": true
   },
   "outputs": [],
   "source": [
    "metrics = pd.concat(results).droplevel(level=-1, axis=0)\n",
    "durations = pd.Series(durations, name='duration')\n",
    "metrics.loc[durations.index, 'duration (s)'] = durations.values\n",
    "metrics.columns = metrics.columns.map(lambda x: '_'.join(x).strip('_'))\n",
    "metrics"
   ]
  },
  {
   "cell_type": "code",
   "execution_count": null,
   "id": "7fdf6c68-0694-426d-905e-740212962f9c",
   "metadata": {},
   "outputs": [],
   "source": [
    "durations_m = durations.groupby(level=0).sum() / 60\n",
    "px.box(durations_m, orientation='h', width=500, height=220, \n",
    "       title='Manual table correction time per paper')\\\n",
    "    .update_xaxes(title='duration (minutes)', dtick=5)\\\n",
    "    .update_yaxes(title='')"
   ]
  },
  {
   "cell_type": "code",
   "execution_count": null,
   "id": "00f379d8-bc18-4673-88f2-856cdcbc9ec3",
   "metadata": {},
   "outputs": [],
   "source": [
    "px.scatter(metrics.assign(grits_top_f1=metrics['grits_top_f1']*100,\n",
    "                          grits_con_f1=metrics['grits_con_f1']*100),\n",
    "           title='Manual correction time per table depends <br>on OCR quality',\n",
    "           x='grits_top_f1',\n",
    "           y='duration (s)',\n",
    "           trendline='ols',\n",
    "           range_x=[100, 60],\n",
    "           range_y=[0, 800],\n",
    "           width=500,\n",
    "           height=400)"
   ]
  }
 ],
 "metadata": {
  "kernelspec": {
   "display_name": "Python 3",
   "language": "python",
   "name": "python3"
  },
  "language_info": {
   "codemirror_mode": {
    "name": "ipython",
    "version": 3
   },
   "file_extension": ".py",
   "mimetype": "text/x-python",
   "name": "python",
   "nbconvert_exporter": "python",
   "pygments_lexer": "ipython3",
   "version": "3.9.19"
  }
 },
 "nbformat": 4,
 "nbformat_minor": 5
}
